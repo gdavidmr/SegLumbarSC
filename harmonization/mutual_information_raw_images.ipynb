{
 "cells": [
  {
   "cell_type": "code",
   "execution_count": 1,
   "metadata": {},
   "outputs": [],
   "source": [
    "from torch.utils.data import DataLoader, Dataset\n",
    "from torchvision import models\n",
    "import torch\n",
    "import os\n",
    "import numpy as np\n",
    "import matplotlib.pyplot as plt\n",
    "from tqdm.notebook import tqdm, trange\n",
    "from resnet50_get_relu_outputs import resnet_output\n",
    "from joblib import Parallel, delayed\n",
    "from scipy.io import savemat, loadmat\n",
    "from PIL import Image\n",
    "from scipy.stats import entropy\n",
    "import seaborn as sns"
   ]
  },
  {
   "cell_type": "code",
   "execution_count": 2,
   "metadata": {},
   "outputs": [],
   "source": [
    "input_folder = \"/media/sarvagya-pc/2TB HDD/Balgrist/full_MPM_images/wp1\"\n"
   ]
  },
  {
   "cell_type": "code",
   "execution_count": 3,
   "metadata": {},
   "outputs": [],
   "source": [
    "def entropy(p):\n",
    "    \"\"\"Calculate entropy for given probability distribution.\"\"\"\n",
    "    p = p[p > 0]  # Filter zero probabilities to avoid log(0)\n",
    "    return -np.sum(p * np.log(p))\n",
    "\n",
    "def mutual_information(x, y, bins=120):\n",
    "    \"\"\"Estimate mutual information for continuous variables.\"\"\"\n",
    "    # Flatten the 2D image arrays to 1D\n",
    "    x = x.flatten()\n",
    "    y = y.flatten()\n",
    "\n",
    "    # Calculate the 2D histogram\n",
    "    c_xy = np.histogram2d(x, y, bins)[0]\n",
    "    p_xy = c_xy / np.sum(c_xy)  # Joint probability distribution\n",
    "    p_x = np.sum(p_xy, axis=1)  # Marginal for x\n",
    "    p_y = np.sum(p_xy, axis=0)  # Marginal for y\n",
    "    \n",
    "    # Calculate entropies\n",
    "    h_x = entropy(p_x)\n",
    "    h_y = entropy(p_y)\n",
    "    h_xy = entropy(p_xy.flatten())\n",
    "    \n",
    "    # Mutual information\n",
    "    mi = h_x + h_y - h_xy\n",
    "    return mi\n",
    "\n"
   ]
  },
  {
   "cell_type": "code",
   "execution_count": 6,
   "metadata": {},
   "outputs": [],
   "source": [
    "subject_folders = sorted(os.listdir(input_folder))"
   ]
  },
  {
   "cell_type": "code",
   "execution_count": 10,
   "metadata": {},
   "outputs": [
    {
     "data": {
      "application/vnd.jupyter.widget-view+json": {
       "model_id": "f6bf34ef2f714b428c11ca8dd0db76a6",
       "version_major": 2,
       "version_minor": 0
      },
      "text/plain": [
       "  0%|          | 0/151 [00:00<?, ?it/s]"
      ]
     },
     "metadata": {},
     "output_type": "display_data"
    },
    {
     "name": "stdout",
     "output_type": "stream",
     "text": [
      "Mutual Information Matrix for All Sessions and Subjects:\n",
      "[[[0.46872496 0.46003574 0.46148326 ... 0.97153397 0.         0.        ]\n",
      "  [0.4665181  0.454023   0.46089431 ... 0.93958544 0.         0.        ]\n",
      "  [0.04823727 0.05185392 0.0505216  ... 0.24290169 0.         0.        ]\n",
      "  ...\n",
      "  [0.04960552 0.07387784 0.12716375 ... 0.41673221 0.         0.        ]\n",
      "  [0.04975924 0.07407435 0.12675445 ... 0.41681762 0.         0.        ]\n",
      "  [0.05104923 0.07306438 0.12663543 ... 0.41662824 0.         0.        ]]\n",
      "\n",
      " [[0.4665181  0.454023   0.46089431 ... 0.93958544 0.         0.        ]\n",
      "  [0.46895036 0.45995181 0.46160114 ... 0.96596205 0.         0.        ]\n",
      "  [0.04833868 0.05169981 0.05066692 ... 0.24094957 0.         0.        ]\n",
      "  ...\n",
      "  [0.04953135 0.07379291 0.1271109  ... 0.41395051 0.         0.        ]\n",
      "  [0.04968464 0.07399102 0.12669152 ... 0.41403812 0.         0.        ]\n",
      "  [0.05097384 0.07298597 0.12658225 ... 0.41379855 0.         0.        ]]\n",
      "\n",
      " [[0.04823727 0.05185392 0.0505216  ... 0.24290169 0.         0.        ]\n",
      "  [0.04833868 0.05169981 0.05066692 ... 0.24094957 0.         0.        ]\n",
      "  [0.11376445 0.13513062 0.11266074 ... 1.05089896 0.         0.        ]\n",
      "  ...\n",
      "  [0.06039244 0.08338317 0.06327762 ... 0.229454   0.         0.        ]\n",
      "  [0.06046407 0.08345981 0.06312616 ... 0.22948171 0.         0.        ]\n",
      "  [0.06047584 0.08296135 0.06329236 ... 0.22968765 0.         0.        ]]\n",
      "\n",
      " ...\n",
      "\n",
      " [[0.04960552 0.07387784 0.12716375 ... 0.41673221 0.         0.        ]\n",
      "  [0.04953135 0.07379291 0.1271109  ... 0.41395051 0.         0.        ]\n",
      "  [0.06039244 0.08338317 0.06327762 ... 0.229454   0.         0.        ]\n",
      "  ...\n",
      "  [0.48731474 0.25859984 0.29924966 ... 0.94014931 0.         0.        ]\n",
      "  [0.47745374 0.25523712 0.29563883 ... 0.93562583 0.         0.        ]\n",
      "  [0.42835449 0.24383382 0.2949538  ... 0.92698307 0.         0.        ]]\n",
      "\n",
      " [[0.04975924 0.07407435 0.12675445 ... 0.41681762 0.         0.        ]\n",
      "  [0.04968464 0.07399102 0.12669152 ... 0.41403812 0.         0.        ]\n",
      "  [0.06046407 0.08345981 0.06312616 ... 0.22948171 0.         0.        ]\n",
      "  ...\n",
      "  [0.47745374 0.25523712 0.29563883 ... 0.93562583 0.         0.        ]\n",
      "  [0.49054969 0.25835627 0.29910436 ... 0.94048401 0.         0.        ]\n",
      "  [0.43490752 0.24289953 0.29379063 ... 0.9273865  0.         0.        ]]\n",
      "\n",
      " [[0.05104923 0.07306438 0.12663543 ... 0.41662824 0.         0.        ]\n",
      "  [0.05097384 0.07298597 0.12658225 ... 0.41379855 0.         0.        ]\n",
      "  [0.06047584 0.08296135 0.06329236 ... 0.22968765 0.         0.        ]\n",
      "  ...\n",
      "  [0.42835449 0.24383382 0.2949538  ... 0.92698307 0.         0.        ]\n",
      "  [0.43490752 0.24289953 0.29379063 ... 0.9273865  0.         0.        ]\n",
      "  [0.51829978 0.27437038 0.29846672 ... 0.94125124 0.         0.        ]]]\n"
     ]
    }
   ],
   "source": [
    "# matrix_sub = list(matrices.keys())\n",
    "# num_matrices = len(matrix_sub)\n",
    "# mi_matrix = np.zeros((num_matrices, num_matrices, 13))\n",
    "# print(matrix_sub)\n",
    "num_images = 151\n",
    "\n",
    "# Collect all sessions for all subjects\n",
    "all_sessions = []\n",
    "for subject in subject_folders:\n",
    "    subject_path = os.path.join(input_folder, subject)\n",
    "    sessions = sorted([s for s in os.listdir(subject_path) if os.path.isdir(os.path.join(subject_path, s))])\n",
    "    for session in sessions:\n",
    "        all_sessions.append((subject, session))\n",
    "\n",
    "num_sessions = len(all_sessions)\n",
    "\n",
    "# Initialize a matrix to store mutual information values\n",
    "# Shape: (num_sessions, num_sessions, num_images)\n",
    "mi_matrix = np.zeros((num_sessions, num_sessions, num_images))\n",
    "\n",
    "# Iterate through each image index (i)\n",
    "for i in tqdm(range(num_images)):\n",
    "    # Iterate through each session of each subject\n",
    "    for idx_1, (subject_1, session_1) in enumerate(all_sessions):\n",
    "        img_path_1 = os.path.join(input_folder, subject_1, session_1, 'PCA', 'axial', f'img_{i:03}_normalized.npy')\n",
    "        try:\n",
    "            # img_1 = Image.open(img_path_1).convert('L')\n",
    "            # img_1 = np.array(img_1)\n",
    "            img_1 = np.load(img_path_1, allow_pickle=True)\n",
    "        except FileNotFoundError:\n",
    "            # print(f\"Error: Image {img_path_1} not found.\")\n",
    "            continue\n",
    "\n",
    "        # Iterate through each other session for mutual information calculation\n",
    "        for idx_2, (subject_2, session_2) in enumerate(all_sessions):\n",
    "            img_path_2 = os.path.join(input_folder, subject_2, session_2, 'PCA', 'axial', f'img_{i:03}_normalized.npy')\n",
    "            try:\n",
    "                # img_2 = Image.open(img_path_2).convert('L')\n",
    "                # img_2 = np.array(img_2)\n",
    "                img_2 = np.load(img_path_2, allow_pickle=True)\n",
    "            except FileNotFoundError:\n",
    "                # print(f\"Error: Image {img_path_2} not found.\")\n",
    "                continue\n",
    "\n",
    "            # Calculate mutual information between the ith image of the current session and other sessions\n",
    "            mi_value = mutual_information(img_1, img_2)\n",
    "            mi_matrix[idx_1, idx_2, i] = mi_value\n",
    "\n",
    "# Print or save the MI matrix for all images across all sessions and subjects\n",
    "print(\"Mutual Information Matrix for All Sessions and Subjects:\")\n",
    "print(mi_matrix)\n",
    "\n"
   ]
  },
  {
   "cell_type": "code",
   "execution_count": 11,
   "metadata": {},
   "outputs": [
    {
     "data": {
      "text/plain": [
       "(165, 165)"
      ]
     },
     "execution_count": 11,
     "metadata": {},
     "output_type": "execute_result"
    }
   ],
   "source": [
    "np.save('mutual_information_matrix_all_PCA.npy', mi_matrix)\n",
    "mi_matrix[:,:,100].shape"
   ]
  },
  {
   "cell_type": "code",
   "execution_count": 17,
   "metadata": {},
   "outputs": [],
   "source": [
    "plt.figure(figsize=(10, 8))\n",
    "sns.heatmap(mi_matrix[:,:,120], annot=False, cmap='viridis', xticklabels=subject_folders, yticklabels=[f'Image_{i:03}' for i in range(num_images)])\n",
    "# plt.title(f'Mutual Information Confusion Matrix for {session_key}')\n",
    "# plt.xlabel('Subjects')\n",
    "# plt.ylabel('Images')\n",
    "plt.tight_layout()\n",
    "# plt.savefig(f'mutual_information_confusion_matrix_{session_key}.png')\n",
    "plt.close()"
   ]
  },
  {
   "cell_type": "code",
   "execution_count": 35,
   "metadata": {},
   "outputs": [
    {
     "name": "stdout",
     "output_type": "stream",
     "text": [
      "BCA-001 ses-01\n",
      "BCA-001 ses-03\n",
      "BCA-002 ses-02\n",
      "BCA-002 ses-03\n",
      "BSL-001 ses-02\n",
      "BSL-001 ses-03\n",
      "BSL-002 ses-01\n",
      "BSL-002 ses-02\n",
      "BSL-002 ses-03\n",
      "BSL-003 ses-01\n",
      "BSL-003 ses-02\n",
      "BSL-003 ses-03\n",
      "BSL-004 ses-01\n",
      "BSL-004 ses-02\n",
      "BSL-005 ses-01\n",
      "BSL-005 ses-02\n",
      "BSL-005 ses-03\n",
      "BSL-006 ses-01\n",
      "BSL-006 ses-03\n",
      "HDG-002 ses-01\n",
      "HDG-002 ses-02\n",
      "HDG-004 ses-01\n",
      "HDG-004 ses-02\n",
      "HDG-004 ses-03\n",
      "HDG-006 ses-01\n",
      "HDG-006 ses-02\n",
      "HDG-006 ses-03\n",
      "HDG-007 ses-02\n",
      "HDG-007 ses-03\n",
      "HDG-008 ses-01\n",
      "HDG-008 ses-02\n",
      "HDG-008 ses-03\n",
      "HDG-009 ses-02\n",
      "HDG-009 ses-03\n",
      "HDG-011 ses-01\n",
      "HDG-011 ses-02\n",
      "HDG-012 ses-01\n",
      "HDG-012 ses-02\n",
      "HDG-012 ses-03\n",
      "HDG-014 ses-01\n",
      "HDG-014 ses-02\n",
      "HDG-014 ses-03\n",
      "HDG-015 ses-01\n",
      "HDG-015 ses-02\n",
      "HDG-018 ses-01\n",
      "HDG-018 ses-02\n",
      "HLE-003 ses-01\n",
      "HLE-003 ses-02\n",
      "HLE-003 ses-03\n",
      "HLE-004 ses-01\n",
      "HLE-004 ses-02\n",
      "HLE-004 ses-03\n",
      "HLE-005 ses-01\n",
      "HLE-005 ses-02\n",
      "HLE-005 ses-03\n",
      "HLE-006 ses-01\n",
      "HLE-006 ses-03\n",
      "HLE-007 ses-01\n",
      "HLE-007 ses-02\n",
      "HLE-008 ses-01\n",
      "HLE-008 ses-03\n",
      "HLE-011 ses-01\n",
      "HLE-011 ses-02\n",
      "HLE-011 ses-03\n",
      "HLE-012 ses-01\n",
      "HLE-012 ses-02\n",
      "HLE-012 ses-03\n",
      "HLE-014 ses-01\n",
      "HLE-014 ses-03\n",
      "HLE-015 ses-01\n",
      "HLE-015 ses-02\n",
      "HLE-015 ses-03\n",
      "HLE-016 ses-01\n",
      "HLE-016 ses-02\n",
      "HLE-016 ses-03\n",
      "MNU-001 ses-01\n",
      "MNU-001 ses-02\n",
      "MNU-001 ses-03\n",
      "MNU-002 ses-01\n",
      "MNU-002 ses-02\n",
      "MNU-002 ses-03\n",
      "MNU-004 ses-01\n",
      "MNU-004 ses-02\n",
      "MNU-004 ses-03\n",
      "MNU-005 ses-01\n",
      "MNU-005 ses-02\n",
      "MNU-005 ses-03\n",
      "MNU-007 ses-01\n",
      "MNU-007 ses-02\n",
      "MNU-007 ses-03\n",
      "MNU-008 ses-02\n",
      "MNU-008 ses-03\n",
      "MNU-009 ses-02\n",
      "MNU-009 ses-03\n",
      "MNU-011 ses-01\n",
      "MNU-011 ses-02\n",
      "MNU-014 ses-01\n",
      "MNU-014 ses-02\n",
      "MNU-014 ses-03\n",
      "MNU-015 ses-02\n",
      "MNU-015 ses-03\n",
      "MNU-016 ses-02\n",
      "MNU-016 ses-03\n",
      "MNU-017 ses-02\n",
      "MNU-017 ses-03\n",
      "MNU-019 ses-01\n",
      "MNU-019 ses-02\n",
      "MNU-019 ses-03\n",
      "MNU-021 ses-01\n",
      "MNU-021 ses-02\n",
      "MNU-021 ses-03\n",
      "NTL-001 ses-01\n",
      "NTL-001 ses-02\n",
      "NTL-001 ses-03\n",
      "NTL-002 ses-01\n",
      "NTL-002 ses-03\n",
      "NTL-004 ses-01\n",
      "NTL-004 ses-02\n",
      "NTL-004 ses-03\n",
      "NTL-005 ses-01\n",
      "NTL-005 ses-02\n",
      "NTL-005 ses-03\n",
      "NTL-008 ses-01\n",
      "NTL-008 ses-02\n",
      "NTL-008 ses-03\n",
      "NTL-009 ses-01\n",
      "NTL-009 ses-02\n",
      "NTL-009 ses-03\n",
      "NTL-010 ses-01\n",
      "NTL-010 ses-02\n",
      "NTL-010 ses-03\n",
      "NTL-011 ses-01\n",
      "NTL-011 ses-02\n",
      "NTL-011 ses-03\n",
      "NTL-012 ses-01\n",
      "NTL-012 ses-02\n",
      "NTL-012 ses-03\n",
      "NTL-013 ses-01\n",
      "NTL-013 ses-02\n",
      "NTL-013 ses-03\n",
      "NTL-014 ses-01\n",
      "NTL-014 ses-02\n",
      "NTL-014 ses-03\n",
      "NTL-015 ses-01\n",
      "NTL-015 ses-02\n",
      "NTL-015 ses-03\n",
      "ZRH-001 ses-01\n",
      "ZRH-001 ses-03\n",
      "ZRH-003 ses-01\n",
      "ZRH-003 ses-03\n",
      "ZRH-004 ses-01\n",
      "ZRH-004 ses-02\n",
      "ZRH-004 ses-03\n",
      "ZRH-005 ses-01\n",
      "ZRH-005 ses-02\n",
      "ZRH-005 ses-03\n",
      "ZRH-006 ses-01\n",
      "ZRH-006 ses-02\n",
      "ZRH-006 ses-03\n",
      "ZRH-007 ses-01\n",
      "ZRH-007 ses-02\n",
      "ZRH-007 ses-03\n",
      "ZRH-008 ses-01\n",
      "ZRH-008 ses-02\n",
      "ZRH-008 ses-03\n",
      "165\n"
     ]
    }
   ],
   "source": [
    "count = 0\n",
    "for subject in subject_folders:\n",
    "    # print(subject)\n",
    "    sessions = sorted([ses for ses in os.listdir(input_folder+'/'+subject+'/') if \"ses-\" in ses])\n",
    "    for ses in sessions:\n",
    "        print(subject, ses)\n",
    "        count+=1\n",
    "print(count)"
   ]
  },
  {
   "cell_type": "code",
   "execution_count": 46,
   "metadata": {},
   "outputs": [
    {
     "data": {
      "text/plain": [
       "(165, 165, 149)"
      ]
     },
     "execution_count": 46,
     "metadata": {},
     "output_type": "execute_result"
    }
   ],
   "source": [
    "mi_matrix.shape"
   ]
  },
  {
   "cell_type": "code",
   "execution_count": 36,
   "metadata": {},
   "outputs": [
    {
     "ename": "ValueError",
     "evalue": "could not broadcast input array from shape (165,149) into shape (149,)",
     "output_type": "error",
     "traceback": [
      "\u001b[0;31m---------------------------------------------------------------------------\u001b[0m",
      "\u001b[0;31mValueError\u001b[0m                                Traceback (most recent call last)",
      "Cell \u001b[0;32mIn[36], line 5\u001b[0m\n\u001b[1;32m      2\u001b[0m \u001b[38;5;28;01mfor\u001b[39;00m i \u001b[38;5;129;01min\u001b[39;00m \u001b[38;5;28mrange\u001b[39m(mi_matrix\u001b[38;5;241m.\u001b[39mshape[\u001b[38;5;241m1\u001b[39m]):\n\u001b[1;32m      3\u001b[0m     \u001b[38;5;66;03m# print(matrix_sub[i])\u001b[39;00m\n\u001b[1;32m      4\u001b[0m     \u001b[38;5;28;01mfor\u001b[39;00m j \u001b[38;5;129;01min\u001b[39;00m \u001b[38;5;28mrange\u001b[39m(i, mi_matrix\u001b[38;5;241m.\u001b[39mshape[\u001b[38;5;241m1\u001b[39m]):\n\u001b[0;32m----> 5\u001b[0m         \u001b[43mconfusion_matrix_mi\u001b[49m\u001b[43m[\u001b[49m\u001b[43mi\u001b[49m\u001b[43m,\u001b[49m\u001b[43mj\u001b[49m\u001b[43m,\u001b[49m\u001b[43m:\u001b[49m\u001b[43m]\u001b[49m \u001b[38;5;241m=\u001b[39m mi_matrix[:,i]\n\u001b[1;32m      6\u001b[0m         confusion_matrix_mi[j,i,:] \u001b[38;5;241m=\u001b[39m mi_matrix[:,i]\n",
      "\u001b[0;31mValueError\u001b[0m: could not broadcast input array from shape (165,149) into shape (149,)"
     ]
    }
   ],
   "source": [
    "confusion_matrix_mi = mi_matrix = np.zeros((mi_matrix.shape[1], mi_matrix.shape[1], mi_matrix.shape[0]))\n",
    "for i in range(mi_matrix.shape[1]):\n",
    "    # print(matrix_sub[i])\n",
    "    for j in range(i, mi_matrix.shape[1]):\n",
    "        confusion_matrix_mi[i,j,:] = mi_matrix[:,i]\n",
    "        confusion_matrix_mi[j,i,:] = mi_matrix[:,i]"
   ]
  },
  {
   "cell_type": "code",
   "execution_count": 40,
   "metadata": {},
   "outputs": [
    {
     "data": {
      "text/plain": [
       "(165, 149)"
      ]
     },
     "execution_count": 40,
     "metadata": {},
     "output_type": "execute_result"
    }
   ],
   "source": [
    "mi_matrix[:,0].shape"
   ]
  },
  {
   "cell_type": "code",
   "execution_count": null,
   "metadata": {},
   "outputs": [],
   "source": []
  }
 ],
 "metadata": {
  "kernelspec": {
   "display_name": "sarvagya_env",
   "language": "python",
   "name": "python3"
  },
  "language_info": {
   "codemirror_mode": {
    "name": "ipython",
    "version": 3
   },
   "file_extension": ".py",
   "mimetype": "text/x-python",
   "name": "python",
   "nbconvert_exporter": "python",
   "pygments_lexer": "ipython3",
   "version": "3.10.15"
  }
 },
 "nbformat": 4,
 "nbformat_minor": 2
}
