{
 "cells": [
  {
   "cell_type": "code",
   "execution_count": 18,
   "metadata": {},
   "outputs": [],
   "source": [
    "import nibabel as nb\n",
    "import os\n",
    "import matplotlib.pyplot as plt\n",
    "import numpy as np\n",
    "import pylab\n",
    "import matplotlib.cm as cm\n",
    "import skimage\n",
    "from glob import glob\n",
    "from tqdm import tqdm\n",
    "from PIL import Image\n",
    "import plotly.express as px\n",
    "from scipy.ndimage import zoom\n",
    "import shutil\n"
   ]
  },
  {
   "cell_type": "markdown",
   "metadata": {},
   "source": [
    "This is for the first iteration when a few subjects were used to test the theory"
   ]
  },
  {
   "cell_type": "code",
   "execution_count": 19,
   "metadata": {},
   "outputs": [],
   "source": [
    "# folder = \"/home/neuroimaging/Desktop/Sarvagya_work/Harmonization/MPM/\"\n",
    "# subs = sorted(os.listdir(folder))\n",
    "# print(subs)\n",
    "# for sub in subs:\n",
    "#     sessions = sorted([ses for ses in os.listdir(folder+sub+'/') if \"ses-\" in ses])\n",
    "#     for ses in sessions:\n",
    "#         save_folder = \"/home/neuroimaging/Desktop/Sarvagya_work/Harmonization/images/\"+sub+\"/\"+ses+\"/axial\"\n",
    "#         if os.path.exists(save_folder):\n",
    "#             pass\n",
    "#         else:\n",
    "#             os.makedirs(save_folder)\n",
    "#             img = nb.load(folder+sub+'/'+ses+'/Results/wp1_sub_'+sub+'_'+ses+'_map_MTsat_masked_thresh.nii')\n",
    "#             img_data = img.get_fdata()\n",
    "#             ax_slices = img_data.shape[2]\n",
    "#             for i in range(ax_slices):\n",
    "#                 print(sub, ses)\n",
    "#                 print(i)\n",
    "#                 test_image = skimage.color.gray2rgb(np.rot90(img_data[:,:,i],k=1))\n",
    "#                 # print(test_image.shape)\n",
    "#                 test_image = (test_image-np.min(test_image))/(np.max(test_image)-np.min(test_image))\n",
    "#                 plt.imsave(save_folder+\"/img_\"+str(f\"{i:03}\")+\".png\", test_image)"
   ]
  },
  {
   "cell_type": "markdown",
   "metadata": {},
   "source": [
    "This is the 2nd iteration to run on all subjects to prove the hypothesis"
   ]
  },
  {
   "cell_type": "code",
   "execution_count": 21,
   "metadata": {},
   "outputs": [
    {
     "name": "stdout",
     "output_type": "stream",
     "text": [
      "['BCN', 'BSL', 'HD', 'ZH']\n",
      "BCN S01 M01\n",
      "(121, 145, 121)\n"
     ]
    },
    {
     "name": "stderr",
     "output_type": "stream",
     "text": [
      "100%|██████████| 110/110 [00:00<00:00, 232.30it/s]\n"
     ]
    },
    {
     "name": "stdout",
     "output_type": "stream",
     "text": [
      "BCN S01 M02\n",
      "(121, 145, 121)\n"
     ]
    },
    {
     "name": "stderr",
     "output_type": "stream",
     "text": [
      "100%|██████████| 110/110 [00:00<00:00, 253.65it/s]\n"
     ]
    },
    {
     "name": "stdout",
     "output_type": "stream",
     "text": [
      "BCN S02 M01\n",
      "(121, 145, 121)\n"
     ]
    },
    {
     "name": "stderr",
     "output_type": "stream",
     "text": [
      "100%|██████████| 110/110 [00:00<00:00, 250.63it/s]\n"
     ]
    },
    {
     "name": "stdout",
     "output_type": "stream",
     "text": [
      "BCN S02 M02\n",
      "(121, 145, 121)\n"
     ]
    },
    {
     "name": "stderr",
     "output_type": "stream",
     "text": [
      "100%|██████████| 110/110 [00:00<00:00, 251.76it/s]\n"
     ]
    },
    {
     "name": "stdout",
     "output_type": "stream",
     "text": [
      "BCN S03 M01\n",
      "(121, 145, 121)\n"
     ]
    },
    {
     "name": "stderr",
     "output_type": "stream",
     "text": [
      "100%|██████████| 110/110 [00:00<00:00, 247.35it/s]\n"
     ]
    },
    {
     "name": "stdout",
     "output_type": "stream",
     "text": [
      "BCN S03 M02\n",
      "(121, 145, 121)\n"
     ]
    },
    {
     "name": "stderr",
     "output_type": "stream",
     "text": [
      "100%|██████████| 110/110 [00:00<00:00, 239.44it/s]\n"
     ]
    },
    {
     "name": "stdout",
     "output_type": "stream",
     "text": [
      "BCN S04 M01\n",
      "(121, 145, 121)\n"
     ]
    },
    {
     "name": "stderr",
     "output_type": "stream",
     "text": [
      "100%|██████████| 110/110 [00:00<00:00, 249.56it/s]\n"
     ]
    },
    {
     "name": "stdout",
     "output_type": "stream",
     "text": [
      "BCN S04 M02\n",
      "(121, 145, 121)\n"
     ]
    },
    {
     "name": "stderr",
     "output_type": "stream",
     "text": [
      "100%|██████████| 110/110 [00:00<00:00, 246.70it/s]\n"
     ]
    },
    {
     "name": "stdout",
     "output_type": "stream",
     "text": [
      "BCN S05 M01\n",
      "(121, 145, 121)\n"
     ]
    },
    {
     "name": "stderr",
     "output_type": "stream",
     "text": [
      "100%|██████████| 110/110 [00:00<00:00, 258.11it/s]\n"
     ]
    },
    {
     "name": "stdout",
     "output_type": "stream",
     "text": [
      "BCN S05 M02\n",
      "(121, 145, 121)\n"
     ]
    },
    {
     "name": "stderr",
     "output_type": "stream",
     "text": [
      "100%|██████████| 110/110 [00:00<00:00, 266.27it/s]\n"
     ]
    },
    {
     "name": "stdout",
     "output_type": "stream",
     "text": [
      "BSL S01 M01\n",
      "(121, 145, 121)\n"
     ]
    },
    {
     "name": "stderr",
     "output_type": "stream",
     "text": [
      "100%|██████████| 110/110 [00:00<00:00, 312.20it/s]\n"
     ]
    },
    {
     "name": "stdout",
     "output_type": "stream",
     "text": [
      "BSL S01 M02\n",
      "(121, 145, 121)\n"
     ]
    },
    {
     "name": "stderr",
     "output_type": "stream",
     "text": [
      "100%|██████████| 110/110 [00:00<00:00, 303.44it/s]\n"
     ]
    },
    {
     "name": "stdout",
     "output_type": "stream",
     "text": [
      "BSL S02 M01\n",
      "(121, 145, 121)\n"
     ]
    },
    {
     "name": "stderr",
     "output_type": "stream",
     "text": [
      "100%|██████████| 110/110 [00:00<00:00, 305.77it/s]\n"
     ]
    },
    {
     "name": "stdout",
     "output_type": "stream",
     "text": [
      "BSL S02 M02\n",
      "(121, 145, 121)\n"
     ]
    },
    {
     "name": "stderr",
     "output_type": "stream",
     "text": [
      "100%|██████████| 110/110 [00:00<00:00, 305.61it/s]\n"
     ]
    },
    {
     "name": "stdout",
     "output_type": "stream",
     "text": [
      "BSL S03 M01\n",
      "(121, 145, 121)\n"
     ]
    },
    {
     "name": "stderr",
     "output_type": "stream",
     "text": [
      "100%|██████████| 110/110 [00:00<00:00, 292.55it/s]\n"
     ]
    },
    {
     "name": "stdout",
     "output_type": "stream",
     "text": [
      "BSL S03 M02\n",
      "(121, 145, 121)\n"
     ]
    },
    {
     "name": "stderr",
     "output_type": "stream",
     "text": [
      "100%|██████████| 110/110 [00:00<00:00, 292.31it/s]\n"
     ]
    },
    {
     "name": "stdout",
     "output_type": "stream",
     "text": [
      "BSL S04 M01\n",
      "(121, 145, 121)\n"
     ]
    },
    {
     "name": "stderr",
     "output_type": "stream",
     "text": [
      "100%|██████████| 110/110 [00:00<00:00, 299.85it/s]\n"
     ]
    },
    {
     "name": "stdout",
     "output_type": "stream",
     "text": [
      "BSL S04 M02\n",
      "(121, 145, 121)\n"
     ]
    },
    {
     "name": "stderr",
     "output_type": "stream",
     "text": [
      "100%|██████████| 110/110 [00:00<00:00, 293.53it/s]\n"
     ]
    },
    {
     "name": "stdout",
     "output_type": "stream",
     "text": [
      "BSL S05 M01\n",
      "(121, 145, 121)\n"
     ]
    },
    {
     "name": "stderr",
     "output_type": "stream",
     "text": [
      "100%|██████████| 110/110 [00:00<00:00, 298.19it/s]\n"
     ]
    },
    {
     "name": "stdout",
     "output_type": "stream",
     "text": [
      "BSL S05 M02\n",
      "(121, 145, 121)\n"
     ]
    },
    {
     "name": "stderr",
     "output_type": "stream",
     "text": [
      "100%|██████████| 110/110 [00:00<00:00, 295.92it/s]\n"
     ]
    },
    {
     "name": "stdout",
     "output_type": "stream",
     "text": [
      "HD S01 M01\n",
      "(121, 145, 121)\n"
     ]
    },
    {
     "name": "stderr",
     "output_type": "stream",
     "text": [
      "100%|██████████| 110/110 [00:00<00:00, 251.60it/s]\n"
     ]
    },
    {
     "name": "stdout",
     "output_type": "stream",
     "text": [
      "HD S01 M02\n",
      "(121, 145, 121)\n"
     ]
    },
    {
     "name": "stderr",
     "output_type": "stream",
     "text": [
      "100%|██████████| 110/110 [00:00<00:00, 256.55it/s]\n"
     ]
    },
    {
     "name": "stdout",
     "output_type": "stream",
     "text": [
      "HD S02 M01\n",
      "(121, 145, 121)\n"
     ]
    },
    {
     "name": "stderr",
     "output_type": "stream",
     "text": [
      "100%|██████████| 110/110 [00:00<00:00, 295.42it/s]\n"
     ]
    },
    {
     "name": "stdout",
     "output_type": "stream",
     "text": [
      "HD S02 M02\n",
      "(121, 145, 121)\n"
     ]
    },
    {
     "name": "stderr",
     "output_type": "stream",
     "text": [
      "100%|██████████| 110/110 [00:00<00:00, 303.50it/s]\n"
     ]
    },
    {
     "name": "stdout",
     "output_type": "stream",
     "text": [
      "HD S03 M01\n",
      "(121, 145, 121)\n"
     ]
    },
    {
     "name": "stderr",
     "output_type": "stream",
     "text": [
      "100%|██████████| 110/110 [00:00<00:00, 287.13it/s]\n"
     ]
    },
    {
     "name": "stdout",
     "output_type": "stream",
     "text": [
      "HD S03 M02\n",
      "(121, 145, 121)\n"
     ]
    },
    {
     "name": "stderr",
     "output_type": "stream",
     "text": [
      "100%|██████████| 110/110 [00:00<00:00, 311.57it/s]\n"
     ]
    },
    {
     "name": "stdout",
     "output_type": "stream",
     "text": [
      "HD S04 M01\n",
      "(121, 145, 121)\n"
     ]
    },
    {
     "name": "stderr",
     "output_type": "stream",
     "text": [
      "100%|██████████| 110/110 [00:00<00:00, 303.54it/s]\n"
     ]
    },
    {
     "name": "stdout",
     "output_type": "stream",
     "text": [
      "HD S04 M02\n",
      "(121, 145, 121)\n"
     ]
    },
    {
     "name": "stderr",
     "output_type": "stream",
     "text": [
      "100%|██████████| 110/110 [00:00<00:00, 295.00it/s]\n"
     ]
    },
    {
     "name": "stdout",
     "output_type": "stream",
     "text": [
      "HD S05 M01\n",
      "(121, 145, 121)\n"
     ]
    },
    {
     "name": "stderr",
     "output_type": "stream",
     "text": [
      "100%|██████████| 110/110 [00:00<00:00, 261.94it/s]\n"
     ]
    },
    {
     "name": "stdout",
     "output_type": "stream",
     "text": [
      "HD S05 M02\n",
      "(121, 145, 121)\n"
     ]
    },
    {
     "name": "stderr",
     "output_type": "stream",
     "text": [
      "100%|██████████| 110/110 [00:00<00:00, 259.35it/s]\n"
     ]
    },
    {
     "name": "stdout",
     "output_type": "stream",
     "text": [
      "ZH S01 M01\n",
      "(121, 145, 121)\n"
     ]
    },
    {
     "name": "stderr",
     "output_type": "stream",
     "text": [
      "100%|██████████| 110/110 [00:00<00:00, 307.72it/s]\n"
     ]
    },
    {
     "name": "stdout",
     "output_type": "stream",
     "text": [
      "ZH S01 M02\n",
      "(121, 145, 121)\n"
     ]
    },
    {
     "name": "stderr",
     "output_type": "stream",
     "text": [
      "100%|██████████| 110/110 [00:00<00:00, 285.33it/s]\n"
     ]
    },
    {
     "name": "stdout",
     "output_type": "stream",
     "text": [
      "ZH S02 M01\n",
      "(121, 145, 121)\n"
     ]
    },
    {
     "name": "stderr",
     "output_type": "stream",
     "text": [
      "100%|██████████| 110/110 [00:00<00:00, 278.17it/s]\n"
     ]
    },
    {
     "name": "stdout",
     "output_type": "stream",
     "text": [
      "ZH S02 M02\n",
      "(121, 145, 121)\n"
     ]
    },
    {
     "name": "stderr",
     "output_type": "stream",
     "text": [
      "100%|██████████| 110/110 [00:00<00:00, 276.58it/s]\n"
     ]
    },
    {
     "name": "stdout",
     "output_type": "stream",
     "text": [
      "ZH S03 M01\n",
      "(121, 145, 121)\n"
     ]
    },
    {
     "name": "stderr",
     "output_type": "stream",
     "text": [
      "100%|██████████| 110/110 [00:00<00:00, 272.26it/s]\n"
     ]
    },
    {
     "name": "stdout",
     "output_type": "stream",
     "text": [
      "ZH S03 M02\n",
      "(121, 145, 121)\n"
     ]
    },
    {
     "name": "stderr",
     "output_type": "stream",
     "text": [
      "100%|██████████| 110/110 [00:00<00:00, 250.07it/s]\n"
     ]
    },
    {
     "name": "stdout",
     "output_type": "stream",
     "text": [
      "ZH S04 M01\n",
      "(121, 145, 121)\n"
     ]
    },
    {
     "name": "stderr",
     "output_type": "stream",
     "text": [
      "100%|██████████| 110/110 [00:00<00:00, 266.87it/s]\n"
     ]
    },
    {
     "name": "stdout",
     "output_type": "stream",
     "text": [
      "ZH S04 M02\n",
      "(121, 145, 121)\n"
     ]
    },
    {
     "name": "stderr",
     "output_type": "stream",
     "text": [
      "100%|██████████| 110/110 [00:00<00:00, 263.67it/s]\n"
     ]
    },
    {
     "name": "stdout",
     "output_type": "stream",
     "text": [
      "ZH S05 M01\n",
      "(121, 145, 121)\n"
     ]
    },
    {
     "name": "stderr",
     "output_type": "stream",
     "text": [
      "100%|██████████| 110/110 [00:00<00:00, 277.19it/s]\n"
     ]
    },
    {
     "name": "stdout",
     "output_type": "stream",
     "text": [
      "ZH S05 M02\n",
      "(121, 145, 121)\n"
     ]
    },
    {
     "name": "stderr",
     "output_type": "stream",
     "text": [
      "100%|██████████| 110/110 [00:00<00:00, 270.73it/s]\n"
     ]
    }
   ],
   "source": [
    "folder = \"/media/sarvagya-pc/2TB HDD/Balgrist/THS/New_Pipeline/\"\n",
    "scanners = sorted(os.listdir(folder))\n",
    "to_remove = ['NOT', 'SNS']\n",
    "for item in to_remove:\n",
    "    if item in scanners:\n",
    "        scanners.remove(item)\n",
    "# print(scanners)\n",
    "# scanners.pop(0)\n",
    "print(scanners)\n",
    "for scanner in scanners:\n",
    "    subs = sorted([sub for sub in os.listdir(folder+scanner+'/') if \"S0\" in sub])\n",
    "    if len(subs)==0:\n",
    "        pass\n",
    "    else:\n",
    "        # print(subs)\n",
    "        for sub in subs:\n",
    "            # print(sub)\n",
    "\n",
    "            sessions = sorted([ses for ses in os.listdir(folder+scanner+'/'+sub) if \"M0\" in ses])\n",
    "            # print(sessions)\n",
    "            for ses in sessions:\n",
    "\n",
    "                print(scanner,sub,ses)\n",
    "\n",
    "                save_folder = \"/media/sarvagya-pc/2TB HDD/Balgrist/THS/images_combined_wp12s/\"+scanner+'/'+sub+\"/\"+ses+\"/axial\"\n",
    "                if os.path.exists(save_folder):\n",
    "                    pass  \n",
    "                    # shutil.rmtree(save_folder)\n",
    "                else:\n",
    "                    \n",
    "                    # print(img)\n",
    "                    os.makedirs(save_folder)\n",
    "                    img_1 = glob(folder+scanner+'/'+sub+\"/\"+ses+\"/Results/wp1*_MTsat.nii\")\n",
    "                    img_1 = nb.load(img_1[0])\n",
    "                    img_data_1 = img_1.get_fdata()\n",
    "                    img_2 = glob(folder+scanner+'/'+sub+\"/\"+ses+\"/Results/wp2*_MTsat.nii\")\n",
    "                    img_2 = nb.load(img_2[0])\n",
    "                    img_data_2 = img_2.get_fdata()\n",
    "                    img_3 = glob(folder+scanner+'/'+sub+\"/\"+ses+\"/Results/wp3*_MTsat.nii\")\n",
    "                    img_3 = nb.load(img_3[0])\n",
    "                    img_data_3 = img_3.get_fdata()\n",
    "                    img_4 = glob(folder+scanner+'/'+sub+\"/\"+ses+\"/Results/wps*_MTsat.nii\")\n",
    "                    img_4 = nb.load(img_4[0])\n",
    "                    img_data_4 = img_4.get_fdata()\n",
    "                    # img_data = img_data_1+ img_data_2 + img_data_3\n",
    "                    # img_data = img_data_4\n",
    "                    img_data = img_data_1 + img_data_2 + img_data_4\n",
    "                    print(img_data.shape)\n",
    "                    ax_slices = img_data.shape[2]\n",
    "                    for i in tqdm(range(0,110,1)):\n",
    "                    # for i in tqdm(range(ax_slices)):\n",
    "                    #     print(sub, ses)\n",
    "                        # print(i)\n",
    "                        if bool(img_data[:,:,i].sum()==0.0):\n",
    "                            pass\n",
    "                        else:\n",
    "                            # test_image = skimage.color.gray2rgb(np.rot90(img_data[:,:,i],k=1))\n",
    "                            test_image = np.rot90(img_data[:,:,i],k=1)\n",
    "                            # print(test_image.shape)\n",
    "                            test_image = (test_image-np.min(test_image))/(np.max(test_image)-np.min(test_image))\n",
    "                            plt.imsave(save_folder+\"/img_\"+str(f\"{i:03}\")+\".png\", test_image)"
   ]
  },
  {
   "cell_type": "markdown",
   "metadata": {},
   "source": [
    "This one is for the structural analysis of MPM and THS data without any preprocessing"
   ]
  },
  {
   "cell_type": "code",
   "execution_count": null,
   "metadata": {},
   "outputs": [
    {
     "name": "stdout",
     "output_type": "stream",
     "text": [
      "['/media/sarvagya-pc/2TB HDD/Balgrist/MPM_nonProcessed/sub_BSL-002_ses-03_map_MTsat_skullstripped.nii.gz', '/media/sarvagya-pc/2TB HDD/Balgrist/MPM_nonProcessed/sub_MNU-007_ses-02_map_MTsat_skullstripped.nii.gz', '/media/sarvagya-pc/2TB HDD/Balgrist/MPM_nonProcessed/sub_BSL-002_ses-01_map_MTsat_skullstripped.nii.gz', '/media/sarvagya-pc/2TB HDD/Balgrist/MPM_nonProcessed/sub_ZRH-004_ses-01_map_MTsat_skullstripped.nii.gz', '/media/sarvagya-pc/2TB HDD/Balgrist/MPM_nonProcessed/sub_MNU-007_ses-03_map_MTsat_skullstripped.nii.gz', '/media/sarvagya-pc/2TB HDD/Balgrist/MPM_nonProcessed/sub_ZRH-004_ses-02_map_MTsat_skullstripped.nii.gz', '/media/sarvagya-pc/2TB HDD/Balgrist/MPM_nonProcessed/sub_NTL-009_ses-01_map_MTsat_skullstripped.nii.gz', '/media/sarvagya-pc/2TB HDD/Balgrist/MPM_nonProcessed/sub_NTL-009_ses-02_map_MTsat_skullstripped.nii.gz', '/media/sarvagya-pc/2TB HDD/Balgrist/MPM_nonProcessed/sub_MNU-007_ses-01_map_MTsat_skullstripped.nii.gz', '/media/sarvagya-pc/2TB HDD/Balgrist/MPM_nonProcessed/sub_BSL-002_ses-02_map_MTsat_skullstripped.nii.gz', '/media/sarvagya-pc/2TB HDD/Balgrist/MPM_nonProcessed/sub_ZRH-004_ses-03_map_MTsat_skullstripped.nii.gz', '/media/sarvagya-pc/2TB HDD/Balgrist/MPM_nonProcessed/sub_NTL-009_ses-03_map_MTsat_skullstripped.nii.gz']\n",
      "(224, 256, 176)\n",
      "BSL-002_ses-03\n",
      "Saved resized NPY: /media/sarvagya-pc/2TB HDD/Balgrist/MPM_nonProcessed/axial_skullstripped/BSL-002_ses-03/img_133_normalized.npy\n",
      "Saved PNG: /media/sarvagya-pc/2TB HDD/Balgrist/MPM_nonProcessed/axial_skullstripped/BSL-002_ses-03/img_133.png and NPY: /media/sarvagya-pc/2TB HDD/Balgrist/MPM_nonProcessed/axial_skullstripped/BSL-002_ses-03/img_133_normalized.npy\n",
      "Saved resized NPY: /media/sarvagya-pc/2TB HDD/Balgrist/MPM_nonProcessed/axial_skullstripped/BSL-002_ses-03/img_134_normalized.npy\n",
      "Saved PNG: /media/sarvagya-pc/2TB HDD/Balgrist/MPM_nonProcessed/axial_skullstripped/BSL-002_ses-03/img_134.png and NPY: /media/sarvagya-pc/2TB HDD/Balgrist/MPM_nonProcessed/axial_skullstripped/BSL-002_ses-03/img_134_normalized.npy\n",
      "Saved resized NPY: /media/sarvagya-pc/2TB HDD/Balgrist/MPM_nonProcessed/axial_skullstripped/BSL-002_ses-03/img_135_normalized.npy\n",
      "Saved PNG: /media/sarvagya-pc/2TB HDD/Balgrist/MPM_nonProcessed/axial_skullstripped/BSL-002_ses-03/img_135.png and NPY: /media/sarvagya-pc/2TB HDD/Balgrist/MPM_nonProcessed/axial_skullstripped/BSL-002_ses-03/img_135_normalized.npy\n",
      "Saved resized NPY: /media/sarvagya-pc/2TB HDD/Balgrist/MPM_nonProcessed/axial_skullstripped/BSL-002_ses-03/img_136_normalized.npy\n",
      "Saved PNG: /media/sarvagya-pc/2TB HDD/Balgrist/MPM_nonProcessed/axial_skullstripped/BSL-002_ses-03/img_136.png and NPY: /media/sarvagya-pc/2TB HDD/Balgrist/MPM_nonProcessed/axial_skullstripped/BSL-002_ses-03/img_136_normalized.npy\n",
      "Saved resized NPY: /media/sarvagya-pc/2TB HDD/Balgrist/MPM_nonProcessed/axial_skullstripped/BSL-002_ses-03/img_137_normalized.npy\n",
      "Saved PNG: /media/sarvagya-pc/2TB HDD/Balgrist/MPM_nonProcessed/axial_skullstripped/BSL-002_ses-03/img_137.png and NPY: /media/sarvagya-pc/2TB HDD/Balgrist/MPM_nonProcessed/axial_skullstripped/BSL-002_ses-03/img_137_normalized.npy\n",
      "Saved resized NPY: /media/sarvagya-pc/2TB HDD/Balgrist/MPM_nonProcessed/axial_skullstripped/BSL-002_ses-03/img_138_normalized.npy\n",
      "Saved PNG: /media/sarvagya-pc/2TB HDD/Balgrist/MPM_nonProcessed/axial_skullstripped/BSL-002_ses-03/img_138.png and NPY: /media/sarvagya-pc/2TB HDD/Balgrist/MPM_nonProcessed/axial_skullstripped/BSL-002_ses-03/img_138_normalized.npy\n",
      "Saved resized NPY: /media/sarvagya-pc/2TB HDD/Balgrist/MPM_nonProcessed/axial_skullstripped/BSL-002_ses-03/img_139_normalized.npy\n",
      "Saved PNG: /media/sarvagya-pc/2TB HDD/Balgrist/MPM_nonProcessed/axial_skullstripped/BSL-002_ses-03/img_139.png and NPY: /media/sarvagya-pc/2TB HDD/Balgrist/MPM_nonProcessed/axial_skullstripped/BSL-002_ses-03/img_139_normalized.npy\n",
      "Saved resized NPY: /media/sarvagya-pc/2TB HDD/Balgrist/MPM_nonProcessed/axial_skullstripped/BSL-002_ses-03/img_140_normalized.npy\n",
      "Saved PNG: /media/sarvagya-pc/2TB HDD/Balgrist/MPM_nonProcessed/axial_skullstripped/BSL-002_ses-03/img_140.png and NPY: /media/sarvagya-pc/2TB HDD/Balgrist/MPM_nonProcessed/axial_skullstripped/BSL-002_ses-03/img_140_normalized.npy\n",
      "Saved resized NPY: /media/sarvagya-pc/2TB HDD/Balgrist/MPM_nonProcessed/axial_skullstripped/BSL-002_ses-03/img_141_normalized.npy\n",
      "Saved PNG: /media/sarvagya-pc/2TB HDD/Balgrist/MPM_nonProcessed/axial_skullstripped/BSL-002_ses-03/img_141.png and NPY: /media/sarvagya-pc/2TB HDD/Balgrist/MPM_nonProcessed/axial_skullstripped/BSL-002_ses-03/img_141_normalized.npy\n",
      "Saved resized NPY: /media/sarvagya-pc/2TB HDD/Balgrist/MPM_nonProcessed/axial_skullstripped/BSL-002_ses-03/img_142_normalized.npy\n",
      "Saved PNG: /media/sarvagya-pc/2TB HDD/Balgrist/MPM_nonProcessed/axial_skullstripped/BSL-002_ses-03/img_142.png and NPY: /media/sarvagya-pc/2TB HDD/Balgrist/MPM_nonProcessed/axial_skullstripped/BSL-002_ses-03/img_142_normalized.npy\n",
      "Saved resized NPY: /media/sarvagya-pc/2TB HDD/Balgrist/MPM_nonProcessed/axial_skullstripped/BSL-002_ses-03/img_143_normalized.npy\n",
      "Saved PNG: /media/sarvagya-pc/2TB HDD/Balgrist/MPM_nonProcessed/axial_skullstripped/BSL-002_ses-03/img_143.png and NPY: /media/sarvagya-pc/2TB HDD/Balgrist/MPM_nonProcessed/axial_skullstripped/BSL-002_ses-03/img_143_normalized.npy\n",
      "Saved resized NPY: /media/sarvagya-pc/2TB HDD/Balgrist/MPM_nonProcessed/axial_skullstripped/BSL-002_ses-03/img_144_normalized.npy\n",
      "Saved PNG: /media/sarvagya-pc/2TB HDD/Balgrist/MPM_nonProcessed/axial_skullstripped/BSL-002_ses-03/img_144.png and NPY: /media/sarvagya-pc/2TB HDD/Balgrist/MPM_nonProcessed/axial_skullstripped/BSL-002_ses-03/img_144_normalized.npy\n",
      "Saved resized NPY: /media/sarvagya-pc/2TB HDD/Balgrist/MPM_nonProcessed/axial_skullstripped/BSL-002_ses-03/img_145_normalized.npy\n",
      "Saved PNG: /media/sarvagya-pc/2TB HDD/Balgrist/MPM_nonProcessed/axial_skullstripped/BSL-002_ses-03/img_145.png and NPY: /media/sarvagya-pc/2TB HDD/Balgrist/MPM_nonProcessed/axial_skullstripped/BSL-002_ses-03/img_145_normalized.npy\n",
      "Saved resized NPY: /media/sarvagya-pc/2TB HDD/Balgrist/MPM_nonProcessed/axial_skullstripped/BSL-002_ses-03/img_146_normalized.npy\n",
      "Saved PNG: /media/sarvagya-pc/2TB HDD/Balgrist/MPM_nonProcessed/axial_skullstripped/BSL-002_ses-03/img_146.png and NPY: /media/sarvagya-pc/2TB HDD/Balgrist/MPM_nonProcessed/axial_skullstripped/BSL-002_ses-03/img_146_normalized.npy\n",
      "Saved resized NPY: /media/sarvagya-pc/2TB HDD/Balgrist/MPM_nonProcessed/axial_skullstripped/BSL-002_ses-03/img_147_normalized.npy\n",
      "Saved PNG: /media/sarvagya-pc/2TB HDD/Balgrist/MPM_nonProcessed/axial_skullstripped/BSL-002_ses-03/img_147.png and NPY: /media/sarvagya-pc/2TB HDD/Balgrist/MPM_nonProcessed/axial_skullstripped/BSL-002_ses-03/img_147_normalized.npy\n",
      "Saved resized NPY: /media/sarvagya-pc/2TB HDD/Balgrist/MPM_nonProcessed/axial_skullstripped/BSL-002_ses-03/img_148_normalized.npy\n",
      "Saved PNG: /media/sarvagya-pc/2TB HDD/Balgrist/MPM_nonProcessed/axial_skullstripped/BSL-002_ses-03/img_148.png and NPY: /media/sarvagya-pc/2TB HDD/Balgrist/MPM_nonProcessed/axial_skullstripped/BSL-002_ses-03/img_148_normalized.npy\n",
      "Saved resized NPY: /media/sarvagya-pc/2TB HDD/Balgrist/MPM_nonProcessed/axial_skullstripped/BSL-002_ses-03/img_149_normalized.npy\n",
      "Saved PNG: /media/sarvagya-pc/2TB HDD/Balgrist/MPM_nonProcessed/axial_skullstripped/BSL-002_ses-03/img_149.png and NPY: /media/sarvagya-pc/2TB HDD/Balgrist/MPM_nonProcessed/axial_skullstripped/BSL-002_ses-03/img_149_normalized.npy\n",
      "Saved resized NPY: /media/sarvagya-pc/2TB HDD/Balgrist/MPM_nonProcessed/axial_skullstripped/BSL-002_ses-03/img_150_normalized.npy\n",
      "Saved PNG: /media/sarvagya-pc/2TB HDD/Balgrist/MPM_nonProcessed/axial_skullstripped/BSL-002_ses-03/img_150.png and NPY: /media/sarvagya-pc/2TB HDD/Balgrist/MPM_nonProcessed/axial_skullstripped/BSL-002_ses-03/img_150_normalized.npy\n",
      "Saved resized NPY: /media/sarvagya-pc/2TB HDD/Balgrist/MPM_nonProcessed/axial_skullstripped/BSL-002_ses-03/img_151_normalized.npy\n",
      "Saved PNG: /media/sarvagya-pc/2TB HDD/Balgrist/MPM_nonProcessed/axial_skullstripped/BSL-002_ses-03/img_151.png and NPY: /media/sarvagya-pc/2TB HDD/Balgrist/MPM_nonProcessed/axial_skullstripped/BSL-002_ses-03/img_151_normalized.npy\n",
      "Saved resized NPY: /media/sarvagya-pc/2TB HDD/Balgrist/MPM_nonProcessed/axial_skullstripped/BSL-002_ses-03/img_152_normalized.npy\n",
      "Saved PNG: /media/sarvagya-pc/2TB HDD/Balgrist/MPM_nonProcessed/axial_skullstripped/BSL-002_ses-03/img_152.png and NPY: /media/sarvagya-pc/2TB HDD/Balgrist/MPM_nonProcessed/axial_skullstripped/BSL-002_ses-03/img_152_normalized.npy\n",
      "Saved resized NPY: /media/sarvagya-pc/2TB HDD/Balgrist/MPM_nonProcessed/axial_skullstripped/BSL-002_ses-03/img_153_normalized.npy\n",
      "Saved PNG: /media/sarvagya-pc/2TB HDD/Balgrist/MPM_nonProcessed/axial_skullstripped/BSL-002_ses-03/img_153.png and NPY: /media/sarvagya-pc/2TB HDD/Balgrist/MPM_nonProcessed/axial_skullstripped/BSL-002_ses-03/img_153_normalized.npy\n",
      "Saved resized NPY: /media/sarvagya-pc/2TB HDD/Balgrist/MPM_nonProcessed/axial_skullstripped/BSL-002_ses-03/img_154_normalized.npy\n",
      "Saved PNG: /media/sarvagya-pc/2TB HDD/Balgrist/MPM_nonProcessed/axial_skullstripped/BSL-002_ses-03/img_154.png and NPY: /media/sarvagya-pc/2TB HDD/Balgrist/MPM_nonProcessed/axial_skullstripped/BSL-002_ses-03/img_154_normalized.npy\n",
      "Saved resized NPY: /media/sarvagya-pc/2TB HDD/Balgrist/MPM_nonProcessed/axial_skullstripped/BSL-002_ses-03/img_155_normalized.npy\n",
      "Saved PNG: /media/sarvagya-pc/2TB HDD/Balgrist/MPM_nonProcessed/axial_skullstripped/BSL-002_ses-03/img_155.png and NPY: /media/sarvagya-pc/2TB HDD/Balgrist/MPM_nonProcessed/axial_skullstripped/BSL-002_ses-03/img_155_normalized.npy\n",
      "Saved resized NPY: /media/sarvagya-pc/2TB HDD/Balgrist/MPM_nonProcessed/axial_skullstripped/BSL-002_ses-03/img_156_normalized.npy\n",
      "Saved PNG: /media/sarvagya-pc/2TB HDD/Balgrist/MPM_nonProcessed/axial_skullstripped/BSL-002_ses-03/img_156.png and NPY: /media/sarvagya-pc/2TB HDD/Balgrist/MPM_nonProcessed/axial_skullstripped/BSL-002_ses-03/img_156_normalized.npy\n",
      "Saved resized NPY: /media/sarvagya-pc/2TB HDD/Balgrist/MPM_nonProcessed/axial_skullstripped/BSL-002_ses-03/img_157_normalized.npy\n",
      "Saved PNG: /media/sarvagya-pc/2TB HDD/Balgrist/MPM_nonProcessed/axial_skullstripped/BSL-002_ses-03/img_157.png and NPY: /media/sarvagya-pc/2TB HDD/Balgrist/MPM_nonProcessed/axial_skullstripped/BSL-002_ses-03/img_157_normalized.npy\n",
      "Saved resized NPY: /media/sarvagya-pc/2TB HDD/Balgrist/MPM_nonProcessed/axial_skullstripped/BSL-002_ses-03/img_158_normalized.npy\n",
      "Saved PNG: /media/sarvagya-pc/2TB HDD/Balgrist/MPM_nonProcessed/axial_skullstripped/BSL-002_ses-03/img_158.png and NPY: /media/sarvagya-pc/2TB HDD/Balgrist/MPM_nonProcessed/axial_skullstripped/BSL-002_ses-03/img_158_normalized.npy\n",
      "Saved resized NPY: /media/sarvagya-pc/2TB HDD/Balgrist/MPM_nonProcessed/axial_skullstripped/BSL-002_ses-03/img_159_normalized.npy\n",
      "Saved PNG: /media/sarvagya-pc/2TB HDD/Balgrist/MPM_nonProcessed/axial_skullstripped/BSL-002_ses-03/img_159.png and NPY: /media/sarvagya-pc/2TB HDD/Balgrist/MPM_nonProcessed/axial_skullstripped/BSL-002_ses-03/img_159_normalized.npy\n",
      "Saved resized NPY: /media/sarvagya-pc/2TB HDD/Balgrist/MPM_nonProcessed/axial_skullstripped/BSL-002_ses-03/img_160_normalized.npy\n",
      "Saved PNG: /media/sarvagya-pc/2TB HDD/Balgrist/MPM_nonProcessed/axial_skullstripped/BSL-002_ses-03/img_160.png and NPY: /media/sarvagya-pc/2TB HDD/Balgrist/MPM_nonProcessed/axial_skullstripped/BSL-002_ses-03/img_160_normalized.npy\n",
      "Saved resized NPY: /media/sarvagya-pc/2TB HDD/Balgrist/MPM_nonProcessed/axial_skullstripped/BSL-002_ses-03/img_161_normalized.npy\n",
      "Saved PNG: /media/sarvagya-pc/2TB HDD/Balgrist/MPM_nonProcessed/axial_skullstripped/BSL-002_ses-03/img_161.png and NPY: /media/sarvagya-pc/2TB HDD/Balgrist/MPM_nonProcessed/axial_skullstripped/BSL-002_ses-03/img_161_normalized.npy\n",
      "Saved resized NPY: /media/sarvagya-pc/2TB HDD/Balgrist/MPM_nonProcessed/axial_skullstripped/BSL-002_ses-03/img_162_normalized.npy\n",
      "Saved PNG: /media/sarvagya-pc/2TB HDD/Balgrist/MPM_nonProcessed/axial_skullstripped/BSL-002_ses-03/img_162.png and NPY: /media/sarvagya-pc/2TB HDD/Balgrist/MPM_nonProcessed/axial_skullstripped/BSL-002_ses-03/img_162_normalized.npy\n",
      "Saved resized NPY: /media/sarvagya-pc/2TB HDD/Balgrist/MPM_nonProcessed/axial_skullstripped/BSL-002_ses-03/img_163_normalized.npy\n",
      "Saved PNG: /media/sarvagya-pc/2TB HDD/Balgrist/MPM_nonProcessed/axial_skullstripped/BSL-002_ses-03/img_163.png and NPY: /media/sarvagya-pc/2TB HDD/Balgrist/MPM_nonProcessed/axial_skullstripped/BSL-002_ses-03/img_163_normalized.npy\n",
      "Saved resized NPY: /media/sarvagya-pc/2TB HDD/Balgrist/MPM_nonProcessed/axial_skullstripped/BSL-002_ses-03/img_164_normalized.npy\n",
      "Saved PNG: /media/sarvagya-pc/2TB HDD/Balgrist/MPM_nonProcessed/axial_skullstripped/BSL-002_ses-03/img_164.png and NPY: /media/sarvagya-pc/2TB HDD/Balgrist/MPM_nonProcessed/axial_skullstripped/BSL-002_ses-03/img_164_normalized.npy\n",
      "Saved resized NPY: /media/sarvagya-pc/2TB HDD/Balgrist/MPM_nonProcessed/axial_skullstripped/BSL-002_ses-03/img_165_normalized.npy\n",
      "Saved PNG: /media/sarvagya-pc/2TB HDD/Balgrist/MPM_nonProcessed/axial_skullstripped/BSL-002_ses-03/img_165.png and NPY: /media/sarvagya-pc/2TB HDD/Balgrist/MPM_nonProcessed/axial_skullstripped/BSL-002_ses-03/img_165_normalized.npy\n",
      "Saved resized NPY: /media/sarvagya-pc/2TB HDD/Balgrist/MPM_nonProcessed/axial_skullstripped/BSL-002_ses-03/img_166_normalized.npy\n",
      "Saved PNG: /media/sarvagya-pc/2TB HDD/Balgrist/MPM_nonProcessed/axial_skullstripped/BSL-002_ses-03/img_166.png and NPY: /media/sarvagya-pc/2TB HDD/Balgrist/MPM_nonProcessed/axial_skullstripped/BSL-002_ses-03/img_166_normalized.npy\n",
      "Saved resized NPY: /media/sarvagya-pc/2TB HDD/Balgrist/MPM_nonProcessed/axial_skullstripped/BSL-002_ses-03/img_167_normalized.npy\n",
      "Saved PNG: /media/sarvagya-pc/2TB HDD/Balgrist/MPM_nonProcessed/axial_skullstripped/BSL-002_ses-03/img_167.png and NPY: /media/sarvagya-pc/2TB HDD/Balgrist/MPM_nonProcessed/axial_skullstripped/BSL-002_ses-03/img_167_normalized.npy\n",
      "Saved resized NPY: /media/sarvagya-pc/2TB HDD/Balgrist/MPM_nonProcessed/axial_skullstripped/BSL-002_ses-03/img_168_normalized.npy\n",
      "Saved PNG: /media/sarvagya-pc/2TB HDD/Balgrist/MPM_nonProcessed/axial_skullstripped/BSL-002_ses-03/img_168.png and NPY: /media/sarvagya-pc/2TB HDD/Balgrist/MPM_nonProcessed/axial_skullstripped/BSL-002_ses-03/img_168_normalized.npy\n",
      "Saved resized NPY: /media/sarvagya-pc/2TB HDD/Balgrist/MPM_nonProcessed/axial_skullstripped/BSL-002_ses-03/img_169_normalized.npy\n",
      "Saved PNG: /media/sarvagya-pc/2TB HDD/Balgrist/MPM_nonProcessed/axial_skullstripped/BSL-002_ses-03/img_169.png and NPY: /media/sarvagya-pc/2TB HDD/Balgrist/MPM_nonProcessed/axial_skullstripped/BSL-002_ses-03/img_169_normalized.npy\n",
      "Saved resized NPY: /media/sarvagya-pc/2TB HDD/Balgrist/MPM_nonProcessed/axial_skullstripped/BSL-002_ses-03/img_170_normalized.npy\n",
      "Saved PNG: /media/sarvagya-pc/2TB HDD/Balgrist/MPM_nonProcessed/axial_skullstripped/BSL-002_ses-03/img_170.png and NPY: /media/sarvagya-pc/2TB HDD/Balgrist/MPM_nonProcessed/axial_skullstripped/BSL-002_ses-03/img_170_normalized.npy\n",
      "Saved resized NPY: /media/sarvagya-pc/2TB HDD/Balgrist/MPM_nonProcessed/axial_skullstripped/BSL-002_ses-03/img_171_normalized.npy\n",
      "Saved PNG: /media/sarvagya-pc/2TB HDD/Balgrist/MPM_nonProcessed/axial_skullstripped/BSL-002_ses-03/img_171.png and NPY: /media/sarvagya-pc/2TB HDD/Balgrist/MPM_nonProcessed/axial_skullstripped/BSL-002_ses-03/img_171_normalized.npy\n",
      "Saved resized NPY: /media/sarvagya-pc/2TB HDD/Balgrist/MPM_nonProcessed/axial_skullstripped/BSL-002_ses-03/img_172_normalized.npy\n",
      "Saved PNG: /media/sarvagya-pc/2TB HDD/Balgrist/MPM_nonProcessed/axial_skullstripped/BSL-002_ses-03/img_172.png and NPY: /media/sarvagya-pc/2TB HDD/Balgrist/MPM_nonProcessed/axial_skullstripped/BSL-002_ses-03/img_172_normalized.npy\n",
      "Saved resized NPY: /media/sarvagya-pc/2TB HDD/Balgrist/MPM_nonProcessed/axial_skullstripped/BSL-002_ses-03/img_173_normalized.npy\n",
      "Saved PNG: /media/sarvagya-pc/2TB HDD/Balgrist/MPM_nonProcessed/axial_skullstripped/BSL-002_ses-03/img_173.png and NPY: /media/sarvagya-pc/2TB HDD/Balgrist/MPM_nonProcessed/axial_skullstripped/BSL-002_ses-03/img_173_normalized.npy\n",
      "Saved resized NPY: /media/sarvagya-pc/2TB HDD/Balgrist/MPM_nonProcessed/axial_skullstripped/BSL-002_ses-03/img_174_normalized.npy\n",
      "Saved PNG: /media/sarvagya-pc/2TB HDD/Balgrist/MPM_nonProcessed/axial_skullstripped/BSL-002_ses-03/img_174.png and NPY: /media/sarvagya-pc/2TB HDD/Balgrist/MPM_nonProcessed/axial_skullstripped/BSL-002_ses-03/img_174_normalized.npy\n",
      "Saved resized NPY: /media/sarvagya-pc/2TB HDD/Balgrist/MPM_nonProcessed/axial_skullstripped/BSL-002_ses-03/img_175_normalized.npy\n",
      "Saved PNG: /media/sarvagya-pc/2TB HDD/Balgrist/MPM_nonProcessed/axial_skullstripped/BSL-002_ses-03/img_175.png and NPY: /media/sarvagya-pc/2TB HDD/Balgrist/MPM_nonProcessed/axial_skullstripped/BSL-002_ses-03/img_175_normalized.npy\n",
      "Saved resized NPY: /media/sarvagya-pc/2TB HDD/Balgrist/MPM_nonProcessed/axial_skullstripped/BSL-002_ses-03/img_176_normalized.npy\n",
      "Saved PNG: /media/sarvagya-pc/2TB HDD/Balgrist/MPM_nonProcessed/axial_skullstripped/BSL-002_ses-03/img_176.png and NPY: /media/sarvagya-pc/2TB HDD/Balgrist/MPM_nonProcessed/axial_skullstripped/BSL-002_ses-03/img_176_normalized.npy\n",
      "Saved resized NPY: /media/sarvagya-pc/2TB HDD/Balgrist/MPM_nonProcessed/axial_skullstripped/BSL-002_ses-03/img_177_normalized.npy\n",
      "Saved PNG: /media/sarvagya-pc/2TB HDD/Balgrist/MPM_nonProcessed/axial_skullstripped/BSL-002_ses-03/img_177.png and NPY: /media/sarvagya-pc/2TB HDD/Balgrist/MPM_nonProcessed/axial_skullstripped/BSL-002_ses-03/img_177_normalized.npy\n",
      "Saved resized NPY: /media/sarvagya-pc/2TB HDD/Balgrist/MPM_nonProcessed/axial_skullstripped/BSL-002_ses-03/img_178_normalized.npy\n",
      "Saved PNG: /media/sarvagya-pc/2TB HDD/Balgrist/MPM_nonProcessed/axial_skullstripped/BSL-002_ses-03/img_178.png and NPY: /media/sarvagya-pc/2TB HDD/Balgrist/MPM_nonProcessed/axial_skullstripped/BSL-002_ses-03/img_178_normalized.npy\n",
      "Saved resized NPY: /media/sarvagya-pc/2TB HDD/Balgrist/MPM_nonProcessed/axial_skullstripped/BSL-002_ses-03/img_179_normalized.npy\n",
      "Saved PNG: /media/sarvagya-pc/2TB HDD/Balgrist/MPM_nonProcessed/axial_skullstripped/BSL-002_ses-03/img_179.png and NPY: /media/sarvagya-pc/2TB HDD/Balgrist/MPM_nonProcessed/axial_skullstripped/BSL-002_ses-03/img_179_normalized.npy\n",
      "Saved resized NPY: /media/sarvagya-pc/2TB HDD/Balgrist/MPM_nonProcessed/axial_skullstripped/BSL-002_ses-03/img_180_normalized.npy\n",
      "Saved PNG: /media/sarvagya-pc/2TB HDD/Balgrist/MPM_nonProcessed/axial_skullstripped/BSL-002_ses-03/img_180.png and NPY: /media/sarvagya-pc/2TB HDD/Balgrist/MPM_nonProcessed/axial_skullstripped/BSL-002_ses-03/img_180_normalized.npy\n",
      "Saved resized NPY: /media/sarvagya-pc/2TB HDD/Balgrist/MPM_nonProcessed/axial_skullstripped/BSL-002_ses-03/img_181_normalized.npy\n",
      "Saved PNG: /media/sarvagya-pc/2TB HDD/Balgrist/MPM_nonProcessed/axial_skullstripped/BSL-002_ses-03/img_181.png and NPY: /media/sarvagya-pc/2TB HDD/Balgrist/MPM_nonProcessed/axial_skullstripped/BSL-002_ses-03/img_181_normalized.npy\n",
      "Saved resized NPY: /media/sarvagya-pc/2TB HDD/Balgrist/MPM_nonProcessed/axial_skullstripped/BSL-002_ses-03/img_182_normalized.npy\n",
      "Saved PNG: /media/sarvagya-pc/2TB HDD/Balgrist/MPM_nonProcessed/axial_skullstripped/BSL-002_ses-03/img_182.png and NPY: /media/sarvagya-pc/2TB HDD/Balgrist/MPM_nonProcessed/axial_skullstripped/BSL-002_ses-03/img_182_normalized.npy\n",
      "Saved resized NPY: /media/sarvagya-pc/2TB HDD/Balgrist/MPM_nonProcessed/axial_skullstripped/BSL-002_ses-03/img_183_normalized.npy\n",
      "Saved PNG: /media/sarvagya-pc/2TB HDD/Balgrist/MPM_nonProcessed/axial_skullstripped/BSL-002_ses-03/img_183.png and NPY: /media/sarvagya-pc/2TB HDD/Balgrist/MPM_nonProcessed/axial_skullstripped/BSL-002_ses-03/img_183_normalized.npy\n",
      "Saved resized NPY: /media/sarvagya-pc/2TB HDD/Balgrist/MPM_nonProcessed/axial_skullstripped/BSL-002_ses-03/img_184_normalized.npy\n",
      "Saved PNG: /media/sarvagya-pc/2TB HDD/Balgrist/MPM_nonProcessed/axial_skullstripped/BSL-002_ses-03/img_184.png and NPY: /media/sarvagya-pc/2TB HDD/Balgrist/MPM_nonProcessed/axial_skullstripped/BSL-002_ses-03/img_184_normalized.npy\n",
      "Saved resized NPY: /media/sarvagya-pc/2TB HDD/Balgrist/MPM_nonProcessed/axial_skullstripped/BSL-002_ses-03/img_185_normalized.npy\n",
      "Saved PNG: /media/sarvagya-pc/2TB HDD/Balgrist/MPM_nonProcessed/axial_skullstripped/BSL-002_ses-03/img_185.png and NPY: /media/sarvagya-pc/2TB HDD/Balgrist/MPM_nonProcessed/axial_skullstripped/BSL-002_ses-03/img_185_normalized.npy\n",
      "Saved resized NPY: /media/sarvagya-pc/2TB HDD/Balgrist/MPM_nonProcessed/axial_skullstripped/BSL-002_ses-03/img_186_normalized.npy\n",
      "Saved PNG: /media/sarvagya-pc/2TB HDD/Balgrist/MPM_nonProcessed/axial_skullstripped/BSL-002_ses-03/img_186.png and NPY: /media/sarvagya-pc/2TB HDD/Balgrist/MPM_nonProcessed/axial_skullstripped/BSL-002_ses-03/img_186_normalized.npy\n",
      "Saved resized NPY: /media/sarvagya-pc/2TB HDD/Balgrist/MPM_nonProcessed/axial_skullstripped/BSL-002_ses-03/img_187_normalized.npy\n",
      "Saved PNG: /media/sarvagya-pc/2TB HDD/Balgrist/MPM_nonProcessed/axial_skullstripped/BSL-002_ses-03/img_187.png and NPY: /media/sarvagya-pc/2TB HDD/Balgrist/MPM_nonProcessed/axial_skullstripped/BSL-002_ses-03/img_187_normalized.npy\n",
      "Saved resized NPY: /media/sarvagya-pc/2TB HDD/Balgrist/MPM_nonProcessed/axial_skullstripped/BSL-002_ses-03/img_188_normalized.npy\n",
      "Saved PNG: /media/sarvagya-pc/2TB HDD/Balgrist/MPM_nonProcessed/axial_skullstripped/BSL-002_ses-03/img_188.png and NPY: /media/sarvagya-pc/2TB HDD/Balgrist/MPM_nonProcessed/axial_skullstripped/BSL-002_ses-03/img_188_normalized.npy\n",
      "Saved resized NPY: /media/sarvagya-pc/2TB HDD/Balgrist/MPM_nonProcessed/axial_skullstripped/BSL-002_ses-03/img_189_normalized.npy\n",
      "Saved PNG: /media/sarvagya-pc/2TB HDD/Balgrist/MPM_nonProcessed/axial_skullstripped/BSL-002_ses-03/img_189.png and NPY: /media/sarvagya-pc/2TB HDD/Balgrist/MPM_nonProcessed/axial_skullstripped/BSL-002_ses-03/img_189_normalized.npy\n",
      "Saved resized NPY: /media/sarvagya-pc/2TB HDD/Balgrist/MPM_nonProcessed/axial_skullstripped/BSL-002_ses-03/img_190_normalized.npy\n",
      "Saved PNG: /media/sarvagya-pc/2TB HDD/Balgrist/MPM_nonProcessed/axial_skullstripped/BSL-002_ses-03/img_190.png and NPY: /media/sarvagya-pc/2TB HDD/Balgrist/MPM_nonProcessed/axial_skullstripped/BSL-002_ses-03/img_190_normalized.npy\n",
      "Saved resized NPY: /media/sarvagya-pc/2TB HDD/Balgrist/MPM_nonProcessed/axial_skullstripped/BSL-002_ses-03/img_191_normalized.npy\n",
      "Saved PNG: /media/sarvagya-pc/2TB HDD/Balgrist/MPM_nonProcessed/axial_skullstripped/BSL-002_ses-03/img_191.png and NPY: /media/sarvagya-pc/2TB HDD/Balgrist/MPM_nonProcessed/axial_skullstripped/BSL-002_ses-03/img_191_normalized.npy\n",
      "Saved resized NPY: /media/sarvagya-pc/2TB HDD/Balgrist/MPM_nonProcessed/axial_skullstripped/BSL-002_ses-03/img_192_normalized.npy\n",
      "Saved PNG: /media/sarvagya-pc/2TB HDD/Balgrist/MPM_nonProcessed/axial_skullstripped/BSL-002_ses-03/img_192.png and NPY: /media/sarvagya-pc/2TB HDD/Balgrist/MPM_nonProcessed/axial_skullstripped/BSL-002_ses-03/img_192_normalized.npy\n",
      "Saved resized NPY: /media/sarvagya-pc/2TB HDD/Balgrist/MPM_nonProcessed/axial_skullstripped/BSL-002_ses-03/img_193_normalized.npy\n",
      "Saved PNG: /media/sarvagya-pc/2TB HDD/Balgrist/MPM_nonProcessed/axial_skullstripped/BSL-002_ses-03/img_193.png and NPY: /media/sarvagya-pc/2TB HDD/Balgrist/MPM_nonProcessed/axial_skullstripped/BSL-002_ses-03/img_193_normalized.npy\n",
      "Saved resized NPY: /media/sarvagya-pc/2TB HDD/Balgrist/MPM_nonProcessed/axial_skullstripped/BSL-002_ses-03/img_194_normalized.npy\n",
      "Saved PNG: /media/sarvagya-pc/2TB HDD/Balgrist/MPM_nonProcessed/axial_skullstripped/BSL-002_ses-03/img_194.png and NPY: /media/sarvagya-pc/2TB HDD/Balgrist/MPM_nonProcessed/axial_skullstripped/BSL-002_ses-03/img_194_normalized.npy\n",
      "Saved resized NPY: /media/sarvagya-pc/2TB HDD/Balgrist/MPM_nonProcessed/axial_skullstripped/BSL-002_ses-03/img_195_normalized.npy\n",
      "Saved PNG: /media/sarvagya-pc/2TB HDD/Balgrist/MPM_nonProcessed/axial_skullstripped/BSL-002_ses-03/img_195.png and NPY: /media/sarvagya-pc/2TB HDD/Balgrist/MPM_nonProcessed/axial_skullstripped/BSL-002_ses-03/img_195_normalized.npy\n",
      "Saved resized NPY: /media/sarvagya-pc/2TB HDD/Balgrist/MPM_nonProcessed/axial_skullstripped/BSL-002_ses-03/img_196_normalized.npy\n",
      "Saved PNG: /media/sarvagya-pc/2TB HDD/Balgrist/MPM_nonProcessed/axial_skullstripped/BSL-002_ses-03/img_196.png and NPY: /media/sarvagya-pc/2TB HDD/Balgrist/MPM_nonProcessed/axial_skullstripped/BSL-002_ses-03/img_196_normalized.npy\n",
      "Saved resized NPY: /media/sarvagya-pc/2TB HDD/Balgrist/MPM_nonProcessed/axial_skullstripped/BSL-002_ses-03/img_197_normalized.npy\n",
      "Saved PNG: /media/sarvagya-pc/2TB HDD/Balgrist/MPM_nonProcessed/axial_skullstripped/BSL-002_ses-03/img_197.png and NPY: /media/sarvagya-pc/2TB HDD/Balgrist/MPM_nonProcessed/axial_skullstripped/BSL-002_ses-03/img_197_normalized.npy\n",
      "Saved resized NPY: /media/sarvagya-pc/2TB HDD/Balgrist/MPM_nonProcessed/axial_skullstripped/BSL-002_ses-03/img_198_normalized.npy\n",
      "Saved PNG: /media/sarvagya-pc/2TB HDD/Balgrist/MPM_nonProcessed/axial_skullstripped/BSL-002_ses-03/img_198.png and NPY: /media/sarvagya-pc/2TB HDD/Balgrist/MPM_nonProcessed/axial_skullstripped/BSL-002_ses-03/img_198_normalized.npy\n",
      "Saved resized NPY: /media/sarvagya-pc/2TB HDD/Balgrist/MPM_nonProcessed/axial_skullstripped/BSL-002_ses-03/img_199_normalized.npy\n",
      "Saved PNG: /media/sarvagya-pc/2TB HDD/Balgrist/MPM_nonProcessed/axial_skullstripped/BSL-002_ses-03/img_199.png and NPY: /media/sarvagya-pc/2TB HDD/Balgrist/MPM_nonProcessed/axial_skullstripped/BSL-002_ses-03/img_199_normalized.npy\n",
      "Saved resized NPY: /media/sarvagya-pc/2TB HDD/Balgrist/MPM_nonProcessed/axial_skullstripped/BSL-002_ses-03/img_200_normalized.npy\n",
      "Saved PNG: /media/sarvagya-pc/2TB HDD/Balgrist/MPM_nonProcessed/axial_skullstripped/BSL-002_ses-03/img_200.png and NPY: /media/sarvagya-pc/2TB HDD/Balgrist/MPM_nonProcessed/axial_skullstripped/BSL-002_ses-03/img_200_normalized.npy\n",
      "Saved resized NPY: /media/sarvagya-pc/2TB HDD/Balgrist/MPM_nonProcessed/axial_skullstripped/BSL-002_ses-03/img_201_normalized.npy\n",
      "Saved PNG: /media/sarvagya-pc/2TB HDD/Balgrist/MPM_nonProcessed/axial_skullstripped/BSL-002_ses-03/img_201.png and NPY: /media/sarvagya-pc/2TB HDD/Balgrist/MPM_nonProcessed/axial_skullstripped/BSL-002_ses-03/img_201_normalized.npy\n",
      "Saved resized NPY: /media/sarvagya-pc/2TB HDD/Balgrist/MPM_nonProcessed/axial_skullstripped/BSL-002_ses-03/img_202_normalized.npy\n",
      "Saved PNG: /media/sarvagya-pc/2TB HDD/Balgrist/MPM_nonProcessed/axial_skullstripped/BSL-002_ses-03/img_202.png and NPY: /media/sarvagya-pc/2TB HDD/Balgrist/MPM_nonProcessed/axial_skullstripped/BSL-002_ses-03/img_202_normalized.npy\n",
      "Saved resized NPY: /media/sarvagya-pc/2TB HDD/Balgrist/MPM_nonProcessed/axial_skullstripped/BSL-002_ses-03/img_203_normalized.npy\n",
      "Saved PNG: /media/sarvagya-pc/2TB HDD/Balgrist/MPM_nonProcessed/axial_skullstripped/BSL-002_ses-03/img_203.png and NPY: /media/sarvagya-pc/2TB HDD/Balgrist/MPM_nonProcessed/axial_skullstripped/BSL-002_ses-03/img_203_normalized.npy\n",
      "Saved resized NPY: /media/sarvagya-pc/2TB HDD/Balgrist/MPM_nonProcessed/axial_skullstripped/BSL-002_ses-03/img_204_normalized.npy\n",
      "Saved PNG: /media/sarvagya-pc/2TB HDD/Balgrist/MPM_nonProcessed/axial_skullstripped/BSL-002_ses-03/img_204.png and NPY: /media/sarvagya-pc/2TB HDD/Balgrist/MPM_nonProcessed/axial_skullstripped/BSL-002_ses-03/img_204_normalized.npy\n",
      "Saved resized NPY: /media/sarvagya-pc/2TB HDD/Balgrist/MPM_nonProcessed/axial_skullstripped/BSL-002_ses-03/img_205_normalized.npy\n",
      "Saved PNG: /media/sarvagya-pc/2TB HDD/Balgrist/MPM_nonProcessed/axial_skullstripped/BSL-002_ses-03/img_205.png and NPY: /media/sarvagya-pc/2TB HDD/Balgrist/MPM_nonProcessed/axial_skullstripped/BSL-002_ses-03/img_205_normalized.npy\n",
      "Saved resized NPY: /media/sarvagya-pc/2TB HDD/Balgrist/MPM_nonProcessed/axial_skullstripped/BSL-002_ses-03/img_206_normalized.npy\n",
      "Saved PNG: /media/sarvagya-pc/2TB HDD/Balgrist/MPM_nonProcessed/axial_skullstripped/BSL-002_ses-03/img_206.png and NPY: /media/sarvagya-pc/2TB HDD/Balgrist/MPM_nonProcessed/axial_skullstripped/BSL-002_ses-03/img_206_normalized.npy\n",
      "Saved resized NPY: /media/sarvagya-pc/2TB HDD/Balgrist/MPM_nonProcessed/axial_skullstripped/BSL-002_ses-03/img_207_normalized.npy\n",
      "Saved PNG: /media/sarvagya-pc/2TB HDD/Balgrist/MPM_nonProcessed/axial_skullstripped/BSL-002_ses-03/img_207.png and NPY: /media/sarvagya-pc/2TB HDD/Balgrist/MPM_nonProcessed/axial_skullstripped/BSL-002_ses-03/img_207_normalized.npy\n",
      "Saved resized NPY: /media/sarvagya-pc/2TB HDD/Balgrist/MPM_nonProcessed/axial_skullstripped/BSL-002_ses-03/img_208_normalized.npy\n",
      "Saved PNG: /media/sarvagya-pc/2TB HDD/Balgrist/MPM_nonProcessed/axial_skullstripped/BSL-002_ses-03/img_208.png and NPY: /media/sarvagya-pc/2TB HDD/Balgrist/MPM_nonProcessed/axial_skullstripped/BSL-002_ses-03/img_208_normalized.npy\n",
      "Saved resized NPY: /media/sarvagya-pc/2TB HDD/Balgrist/MPM_nonProcessed/axial_skullstripped/BSL-002_ses-03/img_209_normalized.npy\n",
      "Saved PNG: /media/sarvagya-pc/2TB HDD/Balgrist/MPM_nonProcessed/axial_skullstripped/BSL-002_ses-03/img_209.png and NPY: /media/sarvagya-pc/2TB HDD/Balgrist/MPM_nonProcessed/axial_skullstripped/BSL-002_ses-03/img_209_normalized.npy\n",
      "Saved resized NPY: /media/sarvagya-pc/2TB HDD/Balgrist/MPM_nonProcessed/axial_skullstripped/BSL-002_ses-03/img_210_normalized.npy\n",
      "Saved PNG: /media/sarvagya-pc/2TB HDD/Balgrist/MPM_nonProcessed/axial_skullstripped/BSL-002_ses-03/img_210.png and NPY: /media/sarvagya-pc/2TB HDD/Balgrist/MPM_nonProcessed/axial_skullstripped/BSL-002_ses-03/img_210_normalized.npy\n",
      "Saved resized NPY: /media/sarvagya-pc/2TB HDD/Balgrist/MPM_nonProcessed/axial_skullstripped/BSL-002_ses-03/img_211_normalized.npy\n",
      "Saved PNG: /media/sarvagya-pc/2TB HDD/Balgrist/MPM_nonProcessed/axial_skullstripped/BSL-002_ses-03/img_211.png and NPY: /media/sarvagya-pc/2TB HDD/Balgrist/MPM_nonProcessed/axial_skullstripped/BSL-002_ses-03/img_211_normalized.npy\n",
      "Saved resized NPY: /media/sarvagya-pc/2TB HDD/Balgrist/MPM_nonProcessed/axial_skullstripped/BSL-002_ses-03/img_212_normalized.npy\n",
      "Saved PNG: /media/sarvagya-pc/2TB HDD/Balgrist/MPM_nonProcessed/axial_skullstripped/BSL-002_ses-03/img_212.png and NPY: /media/sarvagya-pc/2TB HDD/Balgrist/MPM_nonProcessed/axial_skullstripped/BSL-002_ses-03/img_212_normalized.npy\n",
      "Saved resized NPY: /media/sarvagya-pc/2TB HDD/Balgrist/MPM_nonProcessed/axial_skullstripped/BSL-002_ses-03/img_213_normalized.npy\n",
      "Saved PNG: /media/sarvagya-pc/2TB HDD/Balgrist/MPM_nonProcessed/axial_skullstripped/BSL-002_ses-03/img_213.png and NPY: /media/sarvagya-pc/2TB HDD/Balgrist/MPM_nonProcessed/axial_skullstripped/BSL-002_ses-03/img_213_normalized.npy\n",
      "Saved resized NPY: /media/sarvagya-pc/2TB HDD/Balgrist/MPM_nonProcessed/axial_skullstripped/BSL-002_ses-03/img_214_normalized.npy\n",
      "Saved PNG: /media/sarvagya-pc/2TB HDD/Balgrist/MPM_nonProcessed/axial_skullstripped/BSL-002_ses-03/img_214.png and NPY: /media/sarvagya-pc/2TB HDD/Balgrist/MPM_nonProcessed/axial_skullstripped/BSL-002_ses-03/img_214_normalized.npy\n",
      "Saved resized NPY: /media/sarvagya-pc/2TB HDD/Balgrist/MPM_nonProcessed/axial_skullstripped/BSL-002_ses-03/img_215_normalized.npy\n",
      "Saved PNG: /media/sarvagya-pc/2TB HDD/Balgrist/MPM_nonProcessed/axial_skullstripped/BSL-002_ses-03/img_215.png and NPY: /media/sarvagya-pc/2TB HDD/Balgrist/MPM_nonProcessed/axial_skullstripped/BSL-002_ses-03/img_215_normalized.npy\n",
      "Saved resized NPY: /media/sarvagya-pc/2TB HDD/Balgrist/MPM_nonProcessed/axial_skullstripped/BSL-002_ses-03/img_216_normalized.npy\n",
      "Saved PNG: /media/sarvagya-pc/2TB HDD/Balgrist/MPM_nonProcessed/axial_skullstripped/BSL-002_ses-03/img_216.png and NPY: /media/sarvagya-pc/2TB HDD/Balgrist/MPM_nonProcessed/axial_skullstripped/BSL-002_ses-03/img_216_normalized.npy\n",
      "Saved resized NPY: /media/sarvagya-pc/2TB HDD/Balgrist/MPM_nonProcessed/axial_skullstripped/BSL-002_ses-03/img_217_normalized.npy\n",
      "Saved PNG: /media/sarvagya-pc/2TB HDD/Balgrist/MPM_nonProcessed/axial_skullstripped/BSL-002_ses-03/img_217.png and NPY: /media/sarvagya-pc/2TB HDD/Balgrist/MPM_nonProcessed/axial_skullstripped/BSL-002_ses-03/img_217_normalized.npy\n",
      "Saved resized NPY: /media/sarvagya-pc/2TB HDD/Balgrist/MPM_nonProcessed/axial_skullstripped/BSL-002_ses-03/img_218_normalized.npy\n",
      "Saved PNG: /media/sarvagya-pc/2TB HDD/Balgrist/MPM_nonProcessed/axial_skullstripped/BSL-002_ses-03/img_218.png and NPY: /media/sarvagya-pc/2TB HDD/Balgrist/MPM_nonProcessed/axial_skullstripped/BSL-002_ses-03/img_218_normalized.npy\n",
      "Saved resized NPY: /media/sarvagya-pc/2TB HDD/Balgrist/MPM_nonProcessed/axial_skullstripped/BSL-002_ses-03/img_219_normalized.npy\n",
      "Saved PNG: /media/sarvagya-pc/2TB HDD/Balgrist/MPM_nonProcessed/axial_skullstripped/BSL-002_ses-03/img_219.png and NPY: /media/sarvagya-pc/2TB HDD/Balgrist/MPM_nonProcessed/axial_skullstripped/BSL-002_ses-03/img_219_normalized.npy\n",
      "(256, 256, 176)\n",
      "MNU-007_ses-02\n",
      "Saved resized NPY: /media/sarvagya-pc/2TB HDD/Balgrist/MPM_nonProcessed/axial_skullstripped/MNU-007_ses-02/img_133_normalized.npy\n",
      "Saved PNG: /media/sarvagya-pc/2TB HDD/Balgrist/MPM_nonProcessed/axial_skullstripped/MNU-007_ses-02/img_133.png and NPY: /media/sarvagya-pc/2TB HDD/Balgrist/MPM_nonProcessed/axial_skullstripped/MNU-007_ses-02/img_133_normalized.npy\n",
      "Saved resized NPY: /media/sarvagya-pc/2TB HDD/Balgrist/MPM_nonProcessed/axial_skullstripped/MNU-007_ses-02/img_134_normalized.npy\n",
      "Saved PNG: /media/sarvagya-pc/2TB HDD/Balgrist/MPM_nonProcessed/axial_skullstripped/MNU-007_ses-02/img_134.png and NPY: /media/sarvagya-pc/2TB HDD/Balgrist/MPM_nonProcessed/axial_skullstripped/MNU-007_ses-02/img_134_normalized.npy\n",
      "Saved resized NPY: /media/sarvagya-pc/2TB HDD/Balgrist/MPM_nonProcessed/axial_skullstripped/MNU-007_ses-02/img_135_normalized.npy\n",
      "Saved PNG: /media/sarvagya-pc/2TB HDD/Balgrist/MPM_nonProcessed/axial_skullstripped/MNU-007_ses-02/img_135.png and NPY: /media/sarvagya-pc/2TB HDD/Balgrist/MPM_nonProcessed/axial_skullstripped/MNU-007_ses-02/img_135_normalized.npy\n",
      "Saved resized NPY: /media/sarvagya-pc/2TB HDD/Balgrist/MPM_nonProcessed/axial_skullstripped/MNU-007_ses-02/img_136_normalized.npy\n",
      "Saved PNG: /media/sarvagya-pc/2TB HDD/Balgrist/MPM_nonProcessed/axial_skullstripped/MNU-007_ses-02/img_136.png and NPY: /media/sarvagya-pc/2TB HDD/Balgrist/MPM_nonProcessed/axial_skullstripped/MNU-007_ses-02/img_136_normalized.npy\n",
      "Saved resized NPY: /media/sarvagya-pc/2TB HDD/Balgrist/MPM_nonProcessed/axial_skullstripped/MNU-007_ses-02/img_137_normalized.npy\n",
      "Saved PNG: /media/sarvagya-pc/2TB HDD/Balgrist/MPM_nonProcessed/axial_skullstripped/MNU-007_ses-02/img_137.png and NPY: /media/sarvagya-pc/2TB HDD/Balgrist/MPM_nonProcessed/axial_skullstripped/MNU-007_ses-02/img_137_normalized.npy\n",
      "Saved resized NPY: /media/sarvagya-pc/2TB HDD/Balgrist/MPM_nonProcessed/axial_skullstripped/MNU-007_ses-02/img_138_normalized.npy\n",
      "Saved PNG: /media/sarvagya-pc/2TB HDD/Balgrist/MPM_nonProcessed/axial_skullstripped/MNU-007_ses-02/img_138.png and NPY: /media/sarvagya-pc/2TB HDD/Balgrist/MPM_nonProcessed/axial_skullstripped/MNU-007_ses-02/img_138_normalized.npy\n",
      "Saved resized NPY: /media/sarvagya-pc/2TB HDD/Balgrist/MPM_nonProcessed/axial_skullstripped/MNU-007_ses-02/img_139_normalized.npy\n",
      "Saved PNG: /media/sarvagya-pc/2TB HDD/Balgrist/MPM_nonProcessed/axial_skullstripped/MNU-007_ses-02/img_139.png and NPY: /media/sarvagya-pc/2TB HDD/Balgrist/MPM_nonProcessed/axial_skullstripped/MNU-007_ses-02/img_139_normalized.npy\n",
      "Saved resized NPY: /media/sarvagya-pc/2TB HDD/Balgrist/MPM_nonProcessed/axial_skullstripped/MNU-007_ses-02/img_140_normalized.npy\n",
      "Saved PNG: /media/sarvagya-pc/2TB HDD/Balgrist/MPM_nonProcessed/axial_skullstripped/MNU-007_ses-02/img_140.png and NPY: /media/sarvagya-pc/2TB HDD/Balgrist/MPM_nonProcessed/axial_skullstripped/MNU-007_ses-02/img_140_normalized.npy\n",
      "Saved resized NPY: /media/sarvagya-pc/2TB HDD/Balgrist/MPM_nonProcessed/axial_skullstripped/MNU-007_ses-02/img_141_normalized.npy\n",
      "Saved PNG: /media/sarvagya-pc/2TB HDD/Balgrist/MPM_nonProcessed/axial_skullstripped/MNU-007_ses-02/img_141.png and NPY: /media/sarvagya-pc/2TB HDD/Balgrist/MPM_nonProcessed/axial_skullstripped/MNU-007_ses-02/img_141_normalized.npy\n",
      "Saved resized NPY: /media/sarvagya-pc/2TB HDD/Balgrist/MPM_nonProcessed/axial_skullstripped/MNU-007_ses-02/img_142_normalized.npy\n",
      "Saved PNG: /media/sarvagya-pc/2TB HDD/Balgrist/MPM_nonProcessed/axial_skullstripped/MNU-007_ses-02/img_142.png and NPY: /media/sarvagya-pc/2TB HDD/Balgrist/MPM_nonProcessed/axial_skullstripped/MNU-007_ses-02/img_142_normalized.npy\n",
      "Saved resized NPY: /media/sarvagya-pc/2TB HDD/Balgrist/MPM_nonProcessed/axial_skullstripped/MNU-007_ses-02/img_143_normalized.npy\n",
      "Saved PNG: /media/sarvagya-pc/2TB HDD/Balgrist/MPM_nonProcessed/axial_skullstripped/MNU-007_ses-02/img_143.png and NPY: /media/sarvagya-pc/2TB HDD/Balgrist/MPM_nonProcessed/axial_skullstripped/MNU-007_ses-02/img_143_normalized.npy\n",
      "Saved resized NPY: /media/sarvagya-pc/2TB HDD/Balgrist/MPM_nonProcessed/axial_skullstripped/MNU-007_ses-02/img_144_normalized.npy\n",
      "Saved PNG: /media/sarvagya-pc/2TB HDD/Balgrist/MPM_nonProcessed/axial_skullstripped/MNU-007_ses-02/img_144.png and NPY: /media/sarvagya-pc/2TB HDD/Balgrist/MPM_nonProcessed/axial_skullstripped/MNU-007_ses-02/img_144_normalized.npy\n",
      "Saved resized NPY: /media/sarvagya-pc/2TB HDD/Balgrist/MPM_nonProcessed/axial_skullstripped/MNU-007_ses-02/img_145_normalized.npy\n",
      "Saved PNG: /media/sarvagya-pc/2TB HDD/Balgrist/MPM_nonProcessed/axial_skullstripped/MNU-007_ses-02/img_145.png and NPY: /media/sarvagya-pc/2TB HDD/Balgrist/MPM_nonProcessed/axial_skullstripped/MNU-007_ses-02/img_145_normalized.npy\n",
      "Saved resized NPY: /media/sarvagya-pc/2TB HDD/Balgrist/MPM_nonProcessed/axial_skullstripped/MNU-007_ses-02/img_146_normalized.npy\n",
      "Saved PNG: /media/sarvagya-pc/2TB HDD/Balgrist/MPM_nonProcessed/axial_skullstripped/MNU-007_ses-02/img_146.png and NPY: /media/sarvagya-pc/2TB HDD/Balgrist/MPM_nonProcessed/axial_skullstripped/MNU-007_ses-02/img_146_normalized.npy\n",
      "Saved resized NPY: /media/sarvagya-pc/2TB HDD/Balgrist/MPM_nonProcessed/axial_skullstripped/MNU-007_ses-02/img_147_normalized.npy\n",
      "Saved PNG: /media/sarvagya-pc/2TB HDD/Balgrist/MPM_nonProcessed/axial_skullstripped/MNU-007_ses-02/img_147.png and NPY: /media/sarvagya-pc/2TB HDD/Balgrist/MPM_nonProcessed/axial_skullstripped/MNU-007_ses-02/img_147_normalized.npy\n",
      "Saved resized NPY: /media/sarvagya-pc/2TB HDD/Balgrist/MPM_nonProcessed/axial_skullstripped/MNU-007_ses-02/img_148_normalized.npy\n",
      "Saved PNG: /media/sarvagya-pc/2TB HDD/Balgrist/MPM_nonProcessed/axial_skullstripped/MNU-007_ses-02/img_148.png and NPY: /media/sarvagya-pc/2TB HDD/Balgrist/MPM_nonProcessed/axial_skullstripped/MNU-007_ses-02/img_148_normalized.npy\n",
      "Saved resized NPY: /media/sarvagya-pc/2TB HDD/Balgrist/MPM_nonProcessed/axial_skullstripped/MNU-007_ses-02/img_149_normalized.npy\n",
      "Saved PNG: /media/sarvagya-pc/2TB HDD/Balgrist/MPM_nonProcessed/axial_skullstripped/MNU-007_ses-02/img_149.png and NPY: /media/sarvagya-pc/2TB HDD/Balgrist/MPM_nonProcessed/axial_skullstripped/MNU-007_ses-02/img_149_normalized.npy\n",
      "Saved resized NPY: /media/sarvagya-pc/2TB HDD/Balgrist/MPM_nonProcessed/axial_skullstripped/MNU-007_ses-02/img_150_normalized.npy\n",
      "Saved PNG: /media/sarvagya-pc/2TB HDD/Balgrist/MPM_nonProcessed/axial_skullstripped/MNU-007_ses-02/img_150.png and NPY: /media/sarvagya-pc/2TB HDD/Balgrist/MPM_nonProcessed/axial_skullstripped/MNU-007_ses-02/img_150_normalized.npy\n",
      "Saved resized NPY: /media/sarvagya-pc/2TB HDD/Balgrist/MPM_nonProcessed/axial_skullstripped/MNU-007_ses-02/img_151_normalized.npy\n",
      "Saved PNG: /media/sarvagya-pc/2TB HDD/Balgrist/MPM_nonProcessed/axial_skullstripped/MNU-007_ses-02/img_151.png and NPY: /media/sarvagya-pc/2TB HDD/Balgrist/MPM_nonProcessed/axial_skullstripped/MNU-007_ses-02/img_151_normalized.npy\n",
      "Saved resized NPY: /media/sarvagya-pc/2TB HDD/Balgrist/MPM_nonProcessed/axial_skullstripped/MNU-007_ses-02/img_152_normalized.npy\n",
      "Saved PNG: /media/sarvagya-pc/2TB HDD/Balgrist/MPM_nonProcessed/axial_skullstripped/MNU-007_ses-02/img_152.png and NPY: /media/sarvagya-pc/2TB HDD/Balgrist/MPM_nonProcessed/axial_skullstripped/MNU-007_ses-02/img_152_normalized.npy\n",
      "Saved resized NPY: /media/sarvagya-pc/2TB HDD/Balgrist/MPM_nonProcessed/axial_skullstripped/MNU-007_ses-02/img_153_normalized.npy\n",
      "Saved PNG: /media/sarvagya-pc/2TB HDD/Balgrist/MPM_nonProcessed/axial_skullstripped/MNU-007_ses-02/img_153.png and NPY: /media/sarvagya-pc/2TB HDD/Balgrist/MPM_nonProcessed/axial_skullstripped/MNU-007_ses-02/img_153_normalized.npy\n",
      "Saved resized NPY: /media/sarvagya-pc/2TB HDD/Balgrist/MPM_nonProcessed/axial_skullstripped/MNU-007_ses-02/img_154_normalized.npy\n",
      "Saved PNG: /media/sarvagya-pc/2TB HDD/Balgrist/MPM_nonProcessed/axial_skullstripped/MNU-007_ses-02/img_154.png and NPY: /media/sarvagya-pc/2TB HDD/Balgrist/MPM_nonProcessed/axial_skullstripped/MNU-007_ses-02/img_154_normalized.npy\n",
      "Saved resized NPY: /media/sarvagya-pc/2TB HDD/Balgrist/MPM_nonProcessed/axial_skullstripped/MNU-007_ses-02/img_155_normalized.npy\n",
      "Saved PNG: /media/sarvagya-pc/2TB HDD/Balgrist/MPM_nonProcessed/axial_skullstripped/MNU-007_ses-02/img_155.png and NPY: /media/sarvagya-pc/2TB HDD/Balgrist/MPM_nonProcessed/axial_skullstripped/MNU-007_ses-02/img_155_normalized.npy\n",
      "Saved resized NPY: /media/sarvagya-pc/2TB HDD/Balgrist/MPM_nonProcessed/axial_skullstripped/MNU-007_ses-02/img_156_normalized.npy\n",
      "Saved PNG: /media/sarvagya-pc/2TB HDD/Balgrist/MPM_nonProcessed/axial_skullstripped/MNU-007_ses-02/img_156.png and NPY: /media/sarvagya-pc/2TB HDD/Balgrist/MPM_nonProcessed/axial_skullstripped/MNU-007_ses-02/img_156_normalized.npy\n",
      "Saved resized NPY: /media/sarvagya-pc/2TB HDD/Balgrist/MPM_nonProcessed/axial_skullstripped/MNU-007_ses-02/img_157_normalized.npy\n",
      "Saved PNG: /media/sarvagya-pc/2TB HDD/Balgrist/MPM_nonProcessed/axial_skullstripped/MNU-007_ses-02/img_157.png and NPY: /media/sarvagya-pc/2TB HDD/Balgrist/MPM_nonProcessed/axial_skullstripped/MNU-007_ses-02/img_157_normalized.npy\n",
      "Saved resized NPY: /media/sarvagya-pc/2TB HDD/Balgrist/MPM_nonProcessed/axial_skullstripped/MNU-007_ses-02/img_158_normalized.npy\n",
      "Saved PNG: /media/sarvagya-pc/2TB HDD/Balgrist/MPM_nonProcessed/axial_skullstripped/MNU-007_ses-02/img_158.png and NPY: /media/sarvagya-pc/2TB HDD/Balgrist/MPM_nonProcessed/axial_skullstripped/MNU-007_ses-02/img_158_normalized.npy\n",
      "Saved resized NPY: /media/sarvagya-pc/2TB HDD/Balgrist/MPM_nonProcessed/axial_skullstripped/MNU-007_ses-02/img_159_normalized.npy\n",
      "Saved PNG: /media/sarvagya-pc/2TB HDD/Balgrist/MPM_nonProcessed/axial_skullstripped/MNU-007_ses-02/img_159.png and NPY: /media/sarvagya-pc/2TB HDD/Balgrist/MPM_nonProcessed/axial_skullstripped/MNU-007_ses-02/img_159_normalized.npy\n",
      "Saved resized NPY: /media/sarvagya-pc/2TB HDD/Balgrist/MPM_nonProcessed/axial_skullstripped/MNU-007_ses-02/img_160_normalized.npy\n",
      "Saved PNG: /media/sarvagya-pc/2TB HDD/Balgrist/MPM_nonProcessed/axial_skullstripped/MNU-007_ses-02/img_160.png and NPY: /media/sarvagya-pc/2TB HDD/Balgrist/MPM_nonProcessed/axial_skullstripped/MNU-007_ses-02/img_160_normalized.npy\n",
      "Saved resized NPY: /media/sarvagya-pc/2TB HDD/Balgrist/MPM_nonProcessed/axial_skullstripped/MNU-007_ses-02/img_161_normalized.npy\n",
      "Saved PNG: /media/sarvagya-pc/2TB HDD/Balgrist/MPM_nonProcessed/axial_skullstripped/MNU-007_ses-02/img_161.png and NPY: /media/sarvagya-pc/2TB HDD/Balgrist/MPM_nonProcessed/axial_skullstripped/MNU-007_ses-02/img_161_normalized.npy\n",
      "Saved resized NPY: /media/sarvagya-pc/2TB HDD/Balgrist/MPM_nonProcessed/axial_skullstripped/MNU-007_ses-02/img_162_normalized.npy\n",
      "Saved PNG: /media/sarvagya-pc/2TB HDD/Balgrist/MPM_nonProcessed/axial_skullstripped/MNU-007_ses-02/img_162.png and NPY: /media/sarvagya-pc/2TB HDD/Balgrist/MPM_nonProcessed/axial_skullstripped/MNU-007_ses-02/img_162_normalized.npy\n",
      "Saved resized NPY: /media/sarvagya-pc/2TB HDD/Balgrist/MPM_nonProcessed/axial_skullstripped/MNU-007_ses-02/img_163_normalized.npy\n",
      "Saved PNG: /media/sarvagya-pc/2TB HDD/Balgrist/MPM_nonProcessed/axial_skullstripped/MNU-007_ses-02/img_163.png and NPY: /media/sarvagya-pc/2TB HDD/Balgrist/MPM_nonProcessed/axial_skullstripped/MNU-007_ses-02/img_163_normalized.npy\n",
      "Saved resized NPY: /media/sarvagya-pc/2TB HDD/Balgrist/MPM_nonProcessed/axial_skullstripped/MNU-007_ses-02/img_164_normalized.npy\n",
      "Saved PNG: /media/sarvagya-pc/2TB HDD/Balgrist/MPM_nonProcessed/axial_skullstripped/MNU-007_ses-02/img_164.png and NPY: /media/sarvagya-pc/2TB HDD/Balgrist/MPM_nonProcessed/axial_skullstripped/MNU-007_ses-02/img_164_normalized.npy\n",
      "Saved resized NPY: /media/sarvagya-pc/2TB HDD/Balgrist/MPM_nonProcessed/axial_skullstripped/MNU-007_ses-02/img_165_normalized.npy\n",
      "Saved PNG: /media/sarvagya-pc/2TB HDD/Balgrist/MPM_nonProcessed/axial_skullstripped/MNU-007_ses-02/img_165.png and NPY: /media/sarvagya-pc/2TB HDD/Balgrist/MPM_nonProcessed/axial_skullstripped/MNU-007_ses-02/img_165_normalized.npy\n",
      "Saved resized NPY: /media/sarvagya-pc/2TB HDD/Balgrist/MPM_nonProcessed/axial_skullstripped/MNU-007_ses-02/img_166_normalized.npy\n",
      "Saved PNG: /media/sarvagya-pc/2TB HDD/Balgrist/MPM_nonProcessed/axial_skullstripped/MNU-007_ses-02/img_166.png and NPY: /media/sarvagya-pc/2TB HDD/Balgrist/MPM_nonProcessed/axial_skullstripped/MNU-007_ses-02/img_166_normalized.npy\n",
      "Saved resized NPY: /media/sarvagya-pc/2TB HDD/Balgrist/MPM_nonProcessed/axial_skullstripped/MNU-007_ses-02/img_167_normalized.npy\n",
      "Saved PNG: /media/sarvagya-pc/2TB HDD/Balgrist/MPM_nonProcessed/axial_skullstripped/MNU-007_ses-02/img_167.png and NPY: /media/sarvagya-pc/2TB HDD/Balgrist/MPM_nonProcessed/axial_skullstripped/MNU-007_ses-02/img_167_normalized.npy\n",
      "Saved resized NPY: /media/sarvagya-pc/2TB HDD/Balgrist/MPM_nonProcessed/axial_skullstripped/MNU-007_ses-02/img_168_normalized.npy\n",
      "Saved PNG: /media/sarvagya-pc/2TB HDD/Balgrist/MPM_nonProcessed/axial_skullstripped/MNU-007_ses-02/img_168.png and NPY: /media/sarvagya-pc/2TB HDD/Balgrist/MPM_nonProcessed/axial_skullstripped/MNU-007_ses-02/img_168_normalized.npy\n",
      "Saved resized NPY: /media/sarvagya-pc/2TB HDD/Balgrist/MPM_nonProcessed/axial_skullstripped/MNU-007_ses-02/img_169_normalized.npy\n",
      "Saved PNG: /media/sarvagya-pc/2TB HDD/Balgrist/MPM_nonProcessed/axial_skullstripped/MNU-007_ses-02/img_169.png and NPY: /media/sarvagya-pc/2TB HDD/Balgrist/MPM_nonProcessed/axial_skullstripped/MNU-007_ses-02/img_169_normalized.npy\n",
      "Saved resized NPY: /media/sarvagya-pc/2TB HDD/Balgrist/MPM_nonProcessed/axial_skullstripped/MNU-007_ses-02/img_170_normalized.npy\n",
      "Saved PNG: /media/sarvagya-pc/2TB HDD/Balgrist/MPM_nonProcessed/axial_skullstripped/MNU-007_ses-02/img_170.png and NPY: /media/sarvagya-pc/2TB HDD/Balgrist/MPM_nonProcessed/axial_skullstripped/MNU-007_ses-02/img_170_normalized.npy\n",
      "Saved resized NPY: /media/sarvagya-pc/2TB HDD/Balgrist/MPM_nonProcessed/axial_skullstripped/MNU-007_ses-02/img_171_normalized.npy\n",
      "Saved PNG: /media/sarvagya-pc/2TB HDD/Balgrist/MPM_nonProcessed/axial_skullstripped/MNU-007_ses-02/img_171.png and NPY: /media/sarvagya-pc/2TB HDD/Balgrist/MPM_nonProcessed/axial_skullstripped/MNU-007_ses-02/img_171_normalized.npy\n",
      "Saved resized NPY: /media/sarvagya-pc/2TB HDD/Balgrist/MPM_nonProcessed/axial_skullstripped/MNU-007_ses-02/img_172_normalized.npy\n",
      "Saved PNG: /media/sarvagya-pc/2TB HDD/Balgrist/MPM_nonProcessed/axial_skullstripped/MNU-007_ses-02/img_172.png and NPY: /media/sarvagya-pc/2TB HDD/Balgrist/MPM_nonProcessed/axial_skullstripped/MNU-007_ses-02/img_172_normalized.npy\n",
      "Saved resized NPY: /media/sarvagya-pc/2TB HDD/Balgrist/MPM_nonProcessed/axial_skullstripped/MNU-007_ses-02/img_173_normalized.npy\n",
      "Saved PNG: /media/sarvagya-pc/2TB HDD/Balgrist/MPM_nonProcessed/axial_skullstripped/MNU-007_ses-02/img_173.png and NPY: /media/sarvagya-pc/2TB HDD/Balgrist/MPM_nonProcessed/axial_skullstripped/MNU-007_ses-02/img_173_normalized.npy\n",
      "Saved resized NPY: /media/sarvagya-pc/2TB HDD/Balgrist/MPM_nonProcessed/axial_skullstripped/MNU-007_ses-02/img_174_normalized.npy\n",
      "Saved PNG: /media/sarvagya-pc/2TB HDD/Balgrist/MPM_nonProcessed/axial_skullstripped/MNU-007_ses-02/img_174.png and NPY: /media/sarvagya-pc/2TB HDD/Balgrist/MPM_nonProcessed/axial_skullstripped/MNU-007_ses-02/img_174_normalized.npy\n",
      "Saved resized NPY: /media/sarvagya-pc/2TB HDD/Balgrist/MPM_nonProcessed/axial_skullstripped/MNU-007_ses-02/img_175_normalized.npy\n",
      "Saved PNG: /media/sarvagya-pc/2TB HDD/Balgrist/MPM_nonProcessed/axial_skullstripped/MNU-007_ses-02/img_175.png and NPY: /media/sarvagya-pc/2TB HDD/Balgrist/MPM_nonProcessed/axial_skullstripped/MNU-007_ses-02/img_175_normalized.npy\n",
      "Saved resized NPY: /media/sarvagya-pc/2TB HDD/Balgrist/MPM_nonProcessed/axial_skullstripped/MNU-007_ses-02/img_176_normalized.npy\n",
      "Saved PNG: /media/sarvagya-pc/2TB HDD/Balgrist/MPM_nonProcessed/axial_skullstripped/MNU-007_ses-02/img_176.png and NPY: /media/sarvagya-pc/2TB HDD/Balgrist/MPM_nonProcessed/axial_skullstripped/MNU-007_ses-02/img_176_normalized.npy\n",
      "Saved resized NPY: /media/sarvagya-pc/2TB HDD/Balgrist/MPM_nonProcessed/axial_skullstripped/MNU-007_ses-02/img_177_normalized.npy\n",
      "Saved PNG: /media/sarvagya-pc/2TB HDD/Balgrist/MPM_nonProcessed/axial_skullstripped/MNU-007_ses-02/img_177.png and NPY: /media/sarvagya-pc/2TB HDD/Balgrist/MPM_nonProcessed/axial_skullstripped/MNU-007_ses-02/img_177_normalized.npy\n",
      "Saved resized NPY: /media/sarvagya-pc/2TB HDD/Balgrist/MPM_nonProcessed/axial_skullstripped/MNU-007_ses-02/img_178_normalized.npy\n",
      "Saved PNG: /media/sarvagya-pc/2TB HDD/Balgrist/MPM_nonProcessed/axial_skullstripped/MNU-007_ses-02/img_178.png and NPY: /media/sarvagya-pc/2TB HDD/Balgrist/MPM_nonProcessed/axial_skullstripped/MNU-007_ses-02/img_178_normalized.npy\n",
      "Saved resized NPY: /media/sarvagya-pc/2TB HDD/Balgrist/MPM_nonProcessed/axial_skullstripped/MNU-007_ses-02/img_179_normalized.npy\n",
      "Saved PNG: /media/sarvagya-pc/2TB HDD/Balgrist/MPM_nonProcessed/axial_skullstripped/MNU-007_ses-02/img_179.png and NPY: /media/sarvagya-pc/2TB HDD/Balgrist/MPM_nonProcessed/axial_skullstripped/MNU-007_ses-02/img_179_normalized.npy\n",
      "Saved resized NPY: /media/sarvagya-pc/2TB HDD/Balgrist/MPM_nonProcessed/axial_skullstripped/MNU-007_ses-02/img_180_normalized.npy\n",
      "Saved PNG: /media/sarvagya-pc/2TB HDD/Balgrist/MPM_nonProcessed/axial_skullstripped/MNU-007_ses-02/img_180.png and NPY: /media/sarvagya-pc/2TB HDD/Balgrist/MPM_nonProcessed/axial_skullstripped/MNU-007_ses-02/img_180_normalized.npy\n",
      "Saved resized NPY: /media/sarvagya-pc/2TB HDD/Balgrist/MPM_nonProcessed/axial_skullstripped/MNU-007_ses-02/img_181_normalized.npy\n",
      "Saved PNG: /media/sarvagya-pc/2TB HDD/Balgrist/MPM_nonProcessed/axial_skullstripped/MNU-007_ses-02/img_181.png and NPY: /media/sarvagya-pc/2TB HDD/Balgrist/MPM_nonProcessed/axial_skullstripped/MNU-007_ses-02/img_181_normalized.npy\n",
      "Saved resized NPY: /media/sarvagya-pc/2TB HDD/Balgrist/MPM_nonProcessed/axial_skullstripped/MNU-007_ses-02/img_182_normalized.npy\n",
      "Saved PNG: /media/sarvagya-pc/2TB HDD/Balgrist/MPM_nonProcessed/axial_skullstripped/MNU-007_ses-02/img_182.png and NPY: /media/sarvagya-pc/2TB HDD/Balgrist/MPM_nonProcessed/axial_skullstripped/MNU-007_ses-02/img_182_normalized.npy\n",
      "Saved resized NPY: /media/sarvagya-pc/2TB HDD/Balgrist/MPM_nonProcessed/axial_skullstripped/MNU-007_ses-02/img_183_normalized.npy\n",
      "Saved PNG: /media/sarvagya-pc/2TB HDD/Balgrist/MPM_nonProcessed/axial_skullstripped/MNU-007_ses-02/img_183.png and NPY: /media/sarvagya-pc/2TB HDD/Balgrist/MPM_nonProcessed/axial_skullstripped/MNU-007_ses-02/img_183_normalized.npy\n",
      "Saved resized NPY: /media/sarvagya-pc/2TB HDD/Balgrist/MPM_nonProcessed/axial_skullstripped/MNU-007_ses-02/img_184_normalized.npy\n",
      "Saved PNG: /media/sarvagya-pc/2TB HDD/Balgrist/MPM_nonProcessed/axial_skullstripped/MNU-007_ses-02/img_184.png and NPY: /media/sarvagya-pc/2TB HDD/Balgrist/MPM_nonProcessed/axial_skullstripped/MNU-007_ses-02/img_184_normalized.npy\n",
      "Saved resized NPY: /media/sarvagya-pc/2TB HDD/Balgrist/MPM_nonProcessed/axial_skullstripped/MNU-007_ses-02/img_185_normalized.npy\n",
      "Saved PNG: /media/sarvagya-pc/2TB HDD/Balgrist/MPM_nonProcessed/axial_skullstripped/MNU-007_ses-02/img_185.png and NPY: /media/sarvagya-pc/2TB HDD/Balgrist/MPM_nonProcessed/axial_skullstripped/MNU-007_ses-02/img_185_normalized.npy\n",
      "Saved resized NPY: /media/sarvagya-pc/2TB HDD/Balgrist/MPM_nonProcessed/axial_skullstripped/MNU-007_ses-02/img_186_normalized.npy\n",
      "Saved PNG: /media/sarvagya-pc/2TB HDD/Balgrist/MPM_nonProcessed/axial_skullstripped/MNU-007_ses-02/img_186.png and NPY: /media/sarvagya-pc/2TB HDD/Balgrist/MPM_nonProcessed/axial_skullstripped/MNU-007_ses-02/img_186_normalized.npy\n",
      "Saved resized NPY: /media/sarvagya-pc/2TB HDD/Balgrist/MPM_nonProcessed/axial_skullstripped/MNU-007_ses-02/img_187_normalized.npy\n",
      "Saved PNG: /media/sarvagya-pc/2TB HDD/Balgrist/MPM_nonProcessed/axial_skullstripped/MNU-007_ses-02/img_187.png and NPY: /media/sarvagya-pc/2TB HDD/Balgrist/MPM_nonProcessed/axial_skullstripped/MNU-007_ses-02/img_187_normalized.npy\n",
      "Saved resized NPY: /media/sarvagya-pc/2TB HDD/Balgrist/MPM_nonProcessed/axial_skullstripped/MNU-007_ses-02/img_188_normalized.npy\n",
      "Saved PNG: /media/sarvagya-pc/2TB HDD/Balgrist/MPM_nonProcessed/axial_skullstripped/MNU-007_ses-02/img_188.png and NPY: /media/sarvagya-pc/2TB HDD/Balgrist/MPM_nonProcessed/axial_skullstripped/MNU-007_ses-02/img_188_normalized.npy\n",
      "Saved resized NPY: /media/sarvagya-pc/2TB HDD/Balgrist/MPM_nonProcessed/axial_skullstripped/MNU-007_ses-02/img_189_normalized.npy\n",
      "Saved PNG: /media/sarvagya-pc/2TB HDD/Balgrist/MPM_nonProcessed/axial_skullstripped/MNU-007_ses-02/img_189.png and NPY: /media/sarvagya-pc/2TB HDD/Balgrist/MPM_nonProcessed/axial_skullstripped/MNU-007_ses-02/img_189_normalized.npy\n",
      "Saved resized NPY: /media/sarvagya-pc/2TB HDD/Balgrist/MPM_nonProcessed/axial_skullstripped/MNU-007_ses-02/img_190_normalized.npy\n",
      "Saved PNG: /media/sarvagya-pc/2TB HDD/Balgrist/MPM_nonProcessed/axial_skullstripped/MNU-007_ses-02/img_190.png and NPY: /media/sarvagya-pc/2TB HDD/Balgrist/MPM_nonProcessed/axial_skullstripped/MNU-007_ses-02/img_190_normalized.npy\n",
      "Saved resized NPY: /media/sarvagya-pc/2TB HDD/Balgrist/MPM_nonProcessed/axial_skullstripped/MNU-007_ses-02/img_191_normalized.npy\n",
      "Saved PNG: /media/sarvagya-pc/2TB HDD/Balgrist/MPM_nonProcessed/axial_skullstripped/MNU-007_ses-02/img_191.png and NPY: /media/sarvagya-pc/2TB HDD/Balgrist/MPM_nonProcessed/axial_skullstripped/MNU-007_ses-02/img_191_normalized.npy\n",
      "Saved resized NPY: /media/sarvagya-pc/2TB HDD/Balgrist/MPM_nonProcessed/axial_skullstripped/MNU-007_ses-02/img_192_normalized.npy\n",
      "Saved PNG: /media/sarvagya-pc/2TB HDD/Balgrist/MPM_nonProcessed/axial_skullstripped/MNU-007_ses-02/img_192.png and NPY: /media/sarvagya-pc/2TB HDD/Balgrist/MPM_nonProcessed/axial_skullstripped/MNU-007_ses-02/img_192_normalized.npy\n",
      "Saved resized NPY: /media/sarvagya-pc/2TB HDD/Balgrist/MPM_nonProcessed/axial_skullstripped/MNU-007_ses-02/img_193_normalized.npy\n",
      "Saved PNG: /media/sarvagya-pc/2TB HDD/Balgrist/MPM_nonProcessed/axial_skullstripped/MNU-007_ses-02/img_193.png and NPY: /media/sarvagya-pc/2TB HDD/Balgrist/MPM_nonProcessed/axial_skullstripped/MNU-007_ses-02/img_193_normalized.npy\n",
      "Saved resized NPY: /media/sarvagya-pc/2TB HDD/Balgrist/MPM_nonProcessed/axial_skullstripped/MNU-007_ses-02/img_194_normalized.npy\n",
      "Saved PNG: /media/sarvagya-pc/2TB HDD/Balgrist/MPM_nonProcessed/axial_skullstripped/MNU-007_ses-02/img_194.png and NPY: /media/sarvagya-pc/2TB HDD/Balgrist/MPM_nonProcessed/axial_skullstripped/MNU-007_ses-02/img_194_normalized.npy\n",
      "Saved resized NPY: /media/sarvagya-pc/2TB HDD/Balgrist/MPM_nonProcessed/axial_skullstripped/MNU-007_ses-02/img_195_normalized.npy\n",
      "Saved PNG: /media/sarvagya-pc/2TB HDD/Balgrist/MPM_nonProcessed/axial_skullstripped/MNU-007_ses-02/img_195.png and NPY: /media/sarvagya-pc/2TB HDD/Balgrist/MPM_nonProcessed/axial_skullstripped/MNU-007_ses-02/img_195_normalized.npy\n",
      "Saved resized NPY: /media/sarvagya-pc/2TB HDD/Balgrist/MPM_nonProcessed/axial_skullstripped/MNU-007_ses-02/img_196_normalized.npy\n",
      "Saved PNG: /media/sarvagya-pc/2TB HDD/Balgrist/MPM_nonProcessed/axial_skullstripped/MNU-007_ses-02/img_196.png and NPY: /media/sarvagya-pc/2TB HDD/Balgrist/MPM_nonProcessed/axial_skullstripped/MNU-007_ses-02/img_196_normalized.npy\n",
      "Saved resized NPY: /media/sarvagya-pc/2TB HDD/Balgrist/MPM_nonProcessed/axial_skullstripped/MNU-007_ses-02/img_197_normalized.npy\n",
      "Saved PNG: /media/sarvagya-pc/2TB HDD/Balgrist/MPM_nonProcessed/axial_skullstripped/MNU-007_ses-02/img_197.png and NPY: /media/sarvagya-pc/2TB HDD/Balgrist/MPM_nonProcessed/axial_skullstripped/MNU-007_ses-02/img_197_normalized.npy\n",
      "Saved resized NPY: /media/sarvagya-pc/2TB HDD/Balgrist/MPM_nonProcessed/axial_skullstripped/MNU-007_ses-02/img_198_normalized.npy\n",
      "Saved PNG: /media/sarvagya-pc/2TB HDD/Balgrist/MPM_nonProcessed/axial_skullstripped/MNU-007_ses-02/img_198.png and NPY: /media/sarvagya-pc/2TB HDD/Balgrist/MPM_nonProcessed/axial_skullstripped/MNU-007_ses-02/img_198_normalized.npy\n",
      "Saved resized NPY: /media/sarvagya-pc/2TB HDD/Balgrist/MPM_nonProcessed/axial_skullstripped/MNU-007_ses-02/img_199_normalized.npy\n",
      "Saved PNG: /media/sarvagya-pc/2TB HDD/Balgrist/MPM_nonProcessed/axial_skullstripped/MNU-007_ses-02/img_199.png and NPY: /media/sarvagya-pc/2TB HDD/Balgrist/MPM_nonProcessed/axial_skullstripped/MNU-007_ses-02/img_199_normalized.npy\n",
      "Saved resized NPY: /media/sarvagya-pc/2TB HDD/Balgrist/MPM_nonProcessed/axial_skullstripped/MNU-007_ses-02/img_200_normalized.npy\n",
      "Saved PNG: /media/sarvagya-pc/2TB HDD/Balgrist/MPM_nonProcessed/axial_skullstripped/MNU-007_ses-02/img_200.png and NPY: /media/sarvagya-pc/2TB HDD/Balgrist/MPM_nonProcessed/axial_skullstripped/MNU-007_ses-02/img_200_normalized.npy\n",
      "Saved resized NPY: /media/sarvagya-pc/2TB HDD/Balgrist/MPM_nonProcessed/axial_skullstripped/MNU-007_ses-02/img_201_normalized.npy\n",
      "Saved PNG: /media/sarvagya-pc/2TB HDD/Balgrist/MPM_nonProcessed/axial_skullstripped/MNU-007_ses-02/img_201.png and NPY: /media/sarvagya-pc/2TB HDD/Balgrist/MPM_nonProcessed/axial_skullstripped/MNU-007_ses-02/img_201_normalized.npy\n",
      "Saved resized NPY: /media/sarvagya-pc/2TB HDD/Balgrist/MPM_nonProcessed/axial_skullstripped/MNU-007_ses-02/img_202_normalized.npy\n",
      "Saved PNG: /media/sarvagya-pc/2TB HDD/Balgrist/MPM_nonProcessed/axial_skullstripped/MNU-007_ses-02/img_202.png and NPY: /media/sarvagya-pc/2TB HDD/Balgrist/MPM_nonProcessed/axial_skullstripped/MNU-007_ses-02/img_202_normalized.npy\n",
      "Saved resized NPY: /media/sarvagya-pc/2TB HDD/Balgrist/MPM_nonProcessed/axial_skullstripped/MNU-007_ses-02/img_203_normalized.npy\n",
      "Saved PNG: /media/sarvagya-pc/2TB HDD/Balgrist/MPM_nonProcessed/axial_skullstripped/MNU-007_ses-02/img_203.png and NPY: /media/sarvagya-pc/2TB HDD/Balgrist/MPM_nonProcessed/axial_skullstripped/MNU-007_ses-02/img_203_normalized.npy\n",
      "Saved resized NPY: /media/sarvagya-pc/2TB HDD/Balgrist/MPM_nonProcessed/axial_skullstripped/MNU-007_ses-02/img_204_normalized.npy\n",
      "Saved PNG: /media/sarvagya-pc/2TB HDD/Balgrist/MPM_nonProcessed/axial_skullstripped/MNU-007_ses-02/img_204.png and NPY: /media/sarvagya-pc/2TB HDD/Balgrist/MPM_nonProcessed/axial_skullstripped/MNU-007_ses-02/img_204_normalized.npy\n",
      "Saved resized NPY: /media/sarvagya-pc/2TB HDD/Balgrist/MPM_nonProcessed/axial_skullstripped/MNU-007_ses-02/img_205_normalized.npy\n",
      "Saved PNG: /media/sarvagya-pc/2TB HDD/Balgrist/MPM_nonProcessed/axial_skullstripped/MNU-007_ses-02/img_205.png and NPY: /media/sarvagya-pc/2TB HDD/Balgrist/MPM_nonProcessed/axial_skullstripped/MNU-007_ses-02/img_205_normalized.npy\n",
      "Saved resized NPY: /media/sarvagya-pc/2TB HDD/Balgrist/MPM_nonProcessed/axial_skullstripped/MNU-007_ses-02/img_206_normalized.npy\n",
      "Saved PNG: /media/sarvagya-pc/2TB HDD/Balgrist/MPM_nonProcessed/axial_skullstripped/MNU-007_ses-02/img_206.png and NPY: /media/sarvagya-pc/2TB HDD/Balgrist/MPM_nonProcessed/axial_skullstripped/MNU-007_ses-02/img_206_normalized.npy\n",
      "Saved resized NPY: /media/sarvagya-pc/2TB HDD/Balgrist/MPM_nonProcessed/axial_skullstripped/MNU-007_ses-02/img_207_normalized.npy\n",
      "Saved PNG: /media/sarvagya-pc/2TB HDD/Balgrist/MPM_nonProcessed/axial_skullstripped/MNU-007_ses-02/img_207.png and NPY: /media/sarvagya-pc/2TB HDD/Balgrist/MPM_nonProcessed/axial_skullstripped/MNU-007_ses-02/img_207_normalized.npy\n",
      "Saved resized NPY: /media/sarvagya-pc/2TB HDD/Balgrist/MPM_nonProcessed/axial_skullstripped/MNU-007_ses-02/img_208_normalized.npy\n",
      "Saved PNG: /media/sarvagya-pc/2TB HDD/Balgrist/MPM_nonProcessed/axial_skullstripped/MNU-007_ses-02/img_208.png and NPY: /media/sarvagya-pc/2TB HDD/Balgrist/MPM_nonProcessed/axial_skullstripped/MNU-007_ses-02/img_208_normalized.npy\n",
      "Saved resized NPY: /media/sarvagya-pc/2TB HDD/Balgrist/MPM_nonProcessed/axial_skullstripped/MNU-007_ses-02/img_209_normalized.npy\n",
      "Saved PNG: /media/sarvagya-pc/2TB HDD/Balgrist/MPM_nonProcessed/axial_skullstripped/MNU-007_ses-02/img_209.png and NPY: /media/sarvagya-pc/2TB HDD/Balgrist/MPM_nonProcessed/axial_skullstripped/MNU-007_ses-02/img_209_normalized.npy\n",
      "Saved resized NPY: /media/sarvagya-pc/2TB HDD/Balgrist/MPM_nonProcessed/axial_skullstripped/MNU-007_ses-02/img_210_normalized.npy\n",
      "Saved PNG: /media/sarvagya-pc/2TB HDD/Balgrist/MPM_nonProcessed/axial_skullstripped/MNU-007_ses-02/img_210.png and NPY: /media/sarvagya-pc/2TB HDD/Balgrist/MPM_nonProcessed/axial_skullstripped/MNU-007_ses-02/img_210_normalized.npy\n",
      "Saved resized NPY: /media/sarvagya-pc/2TB HDD/Balgrist/MPM_nonProcessed/axial_skullstripped/MNU-007_ses-02/img_211_normalized.npy\n",
      "Saved PNG: /media/sarvagya-pc/2TB HDD/Balgrist/MPM_nonProcessed/axial_skullstripped/MNU-007_ses-02/img_211.png and NPY: /media/sarvagya-pc/2TB HDD/Balgrist/MPM_nonProcessed/axial_skullstripped/MNU-007_ses-02/img_211_normalized.npy\n",
      "Saved resized NPY: /media/sarvagya-pc/2TB HDD/Balgrist/MPM_nonProcessed/axial_skullstripped/MNU-007_ses-02/img_212_normalized.npy\n",
      "Saved PNG: /media/sarvagya-pc/2TB HDD/Balgrist/MPM_nonProcessed/axial_skullstripped/MNU-007_ses-02/img_212.png and NPY: /media/sarvagya-pc/2TB HDD/Balgrist/MPM_nonProcessed/axial_skullstripped/MNU-007_ses-02/img_212_normalized.npy\n",
      "Saved resized NPY: /media/sarvagya-pc/2TB HDD/Balgrist/MPM_nonProcessed/axial_skullstripped/MNU-007_ses-02/img_213_normalized.npy\n",
      "Saved PNG: /media/sarvagya-pc/2TB HDD/Balgrist/MPM_nonProcessed/axial_skullstripped/MNU-007_ses-02/img_213.png and NPY: /media/sarvagya-pc/2TB HDD/Balgrist/MPM_nonProcessed/axial_skullstripped/MNU-007_ses-02/img_213_normalized.npy\n",
      "Saved resized NPY: /media/sarvagya-pc/2TB HDD/Balgrist/MPM_nonProcessed/axial_skullstripped/MNU-007_ses-02/img_214_normalized.npy\n",
      "Saved PNG: /media/sarvagya-pc/2TB HDD/Balgrist/MPM_nonProcessed/axial_skullstripped/MNU-007_ses-02/img_214.png and NPY: /media/sarvagya-pc/2TB HDD/Balgrist/MPM_nonProcessed/axial_skullstripped/MNU-007_ses-02/img_214_normalized.npy\n",
      "Saved resized NPY: /media/sarvagya-pc/2TB HDD/Balgrist/MPM_nonProcessed/axial_skullstripped/MNU-007_ses-02/img_215_normalized.npy\n",
      "Saved PNG: /media/sarvagya-pc/2TB HDD/Balgrist/MPM_nonProcessed/axial_skullstripped/MNU-007_ses-02/img_215.png and NPY: /media/sarvagya-pc/2TB HDD/Balgrist/MPM_nonProcessed/axial_skullstripped/MNU-007_ses-02/img_215_normalized.npy\n",
      "Saved resized NPY: /media/sarvagya-pc/2TB HDD/Balgrist/MPM_nonProcessed/axial_skullstripped/MNU-007_ses-02/img_216_normalized.npy\n",
      "Saved PNG: /media/sarvagya-pc/2TB HDD/Balgrist/MPM_nonProcessed/axial_skullstripped/MNU-007_ses-02/img_216.png and NPY: /media/sarvagya-pc/2TB HDD/Balgrist/MPM_nonProcessed/axial_skullstripped/MNU-007_ses-02/img_216_normalized.npy\n",
      "Saved resized NPY: /media/sarvagya-pc/2TB HDD/Balgrist/MPM_nonProcessed/axial_skullstripped/MNU-007_ses-02/img_217_normalized.npy\n",
      "Saved PNG: /media/sarvagya-pc/2TB HDD/Balgrist/MPM_nonProcessed/axial_skullstripped/MNU-007_ses-02/img_217.png and NPY: /media/sarvagya-pc/2TB HDD/Balgrist/MPM_nonProcessed/axial_skullstripped/MNU-007_ses-02/img_217_normalized.npy\n",
      "Saved resized NPY: /media/sarvagya-pc/2TB HDD/Balgrist/MPM_nonProcessed/axial_skullstripped/MNU-007_ses-02/img_218_normalized.npy\n",
      "Saved PNG: /media/sarvagya-pc/2TB HDD/Balgrist/MPM_nonProcessed/axial_skullstripped/MNU-007_ses-02/img_218.png and NPY: /media/sarvagya-pc/2TB HDD/Balgrist/MPM_nonProcessed/axial_skullstripped/MNU-007_ses-02/img_218_normalized.npy\n",
      "Saved resized NPY: /media/sarvagya-pc/2TB HDD/Balgrist/MPM_nonProcessed/axial_skullstripped/MNU-007_ses-02/img_219_normalized.npy\n",
      "Saved PNG: /media/sarvagya-pc/2TB HDD/Balgrist/MPM_nonProcessed/axial_skullstripped/MNU-007_ses-02/img_219.png and NPY: /media/sarvagya-pc/2TB HDD/Balgrist/MPM_nonProcessed/axial_skullstripped/MNU-007_ses-02/img_219_normalized.npy\n"
     ]
    },
    {
     "name": "stderr",
     "output_type": "stream",
     "text": [
      "/tmp/ipykernel_4341/2612587090.py:29: RuntimeWarning:\n",
      "\n",
      "invalid value encountered in divide\n",
      "\n",
      "/tmp/ipykernel_4341/2612587090.py:46: RuntimeWarning:\n",
      "\n",
      "invalid value encountered in cast\n",
      "\n"
     ]
    },
    {
     "name": "stdout",
     "output_type": "stream",
     "text": [
      "(224, 256, 176)\n",
      "BSL-002_ses-01\n",
      "Saved resized NPY: /media/sarvagya-pc/2TB HDD/Balgrist/MPM_nonProcessed/axial_skullstripped/BSL-002_ses-01/img_133_normalized.npy\n",
      "Saved PNG: /media/sarvagya-pc/2TB HDD/Balgrist/MPM_nonProcessed/axial_skullstripped/BSL-002_ses-01/img_133.png and NPY: /media/sarvagya-pc/2TB HDD/Balgrist/MPM_nonProcessed/axial_skullstripped/BSL-002_ses-01/img_133_normalized.npy\n",
      "Saved resized NPY: /media/sarvagya-pc/2TB HDD/Balgrist/MPM_nonProcessed/axial_skullstripped/BSL-002_ses-01/img_134_normalized.npy\n",
      "Saved PNG: /media/sarvagya-pc/2TB HDD/Balgrist/MPM_nonProcessed/axial_skullstripped/BSL-002_ses-01/img_134.png and NPY: /media/sarvagya-pc/2TB HDD/Balgrist/MPM_nonProcessed/axial_skullstripped/BSL-002_ses-01/img_134_normalized.npy\n",
      "Saved resized NPY: /media/sarvagya-pc/2TB HDD/Balgrist/MPM_nonProcessed/axial_skullstripped/BSL-002_ses-01/img_135_normalized.npy\n",
      "Saved PNG: /media/sarvagya-pc/2TB HDD/Balgrist/MPM_nonProcessed/axial_skullstripped/BSL-002_ses-01/img_135.png and NPY: /media/sarvagya-pc/2TB HDD/Balgrist/MPM_nonProcessed/axial_skullstripped/BSL-002_ses-01/img_135_normalized.npy\n",
      "Saved resized NPY: /media/sarvagya-pc/2TB HDD/Balgrist/MPM_nonProcessed/axial_skullstripped/BSL-002_ses-01/img_136_normalized.npy\n",
      "Saved PNG: /media/sarvagya-pc/2TB HDD/Balgrist/MPM_nonProcessed/axial_skullstripped/BSL-002_ses-01/img_136.png and NPY: /media/sarvagya-pc/2TB HDD/Balgrist/MPM_nonProcessed/axial_skullstripped/BSL-002_ses-01/img_136_normalized.npy\n",
      "Saved resized NPY: /media/sarvagya-pc/2TB HDD/Balgrist/MPM_nonProcessed/axial_skullstripped/BSL-002_ses-01/img_137_normalized.npy\n",
      "Saved PNG: /media/sarvagya-pc/2TB HDD/Balgrist/MPM_nonProcessed/axial_skullstripped/BSL-002_ses-01/img_137.png and NPY: /media/sarvagya-pc/2TB HDD/Balgrist/MPM_nonProcessed/axial_skullstripped/BSL-002_ses-01/img_137_normalized.npy\n",
      "Saved resized NPY: /media/sarvagya-pc/2TB HDD/Balgrist/MPM_nonProcessed/axial_skullstripped/BSL-002_ses-01/img_138_normalized.npy\n",
      "Saved PNG: /media/sarvagya-pc/2TB HDD/Balgrist/MPM_nonProcessed/axial_skullstripped/BSL-002_ses-01/img_138.png and NPY: /media/sarvagya-pc/2TB HDD/Balgrist/MPM_nonProcessed/axial_skullstripped/BSL-002_ses-01/img_138_normalized.npy\n",
      "Saved resized NPY: /media/sarvagya-pc/2TB HDD/Balgrist/MPM_nonProcessed/axial_skullstripped/BSL-002_ses-01/img_139_normalized.npy\n",
      "Saved PNG: /media/sarvagya-pc/2TB HDD/Balgrist/MPM_nonProcessed/axial_skullstripped/BSL-002_ses-01/img_139.png and NPY: /media/sarvagya-pc/2TB HDD/Balgrist/MPM_nonProcessed/axial_skullstripped/BSL-002_ses-01/img_139_normalized.npy\n",
      "Saved resized NPY: /media/sarvagya-pc/2TB HDD/Balgrist/MPM_nonProcessed/axial_skullstripped/BSL-002_ses-01/img_140_normalized.npy\n",
      "Saved PNG: /media/sarvagya-pc/2TB HDD/Balgrist/MPM_nonProcessed/axial_skullstripped/BSL-002_ses-01/img_140.png and NPY: /media/sarvagya-pc/2TB HDD/Balgrist/MPM_nonProcessed/axial_skullstripped/BSL-002_ses-01/img_140_normalized.npy\n",
      "Saved resized NPY: /media/sarvagya-pc/2TB HDD/Balgrist/MPM_nonProcessed/axial_skullstripped/BSL-002_ses-01/img_141_normalized.npy\n",
      "Saved PNG: /media/sarvagya-pc/2TB HDD/Balgrist/MPM_nonProcessed/axial_skullstripped/BSL-002_ses-01/img_141.png and NPY: /media/sarvagya-pc/2TB HDD/Balgrist/MPM_nonProcessed/axial_skullstripped/BSL-002_ses-01/img_141_normalized.npy\n",
      "Saved resized NPY: /media/sarvagya-pc/2TB HDD/Balgrist/MPM_nonProcessed/axial_skullstripped/BSL-002_ses-01/img_142_normalized.npy\n",
      "Saved PNG: /media/sarvagya-pc/2TB HDD/Balgrist/MPM_nonProcessed/axial_skullstripped/BSL-002_ses-01/img_142.png and NPY: /media/sarvagya-pc/2TB HDD/Balgrist/MPM_nonProcessed/axial_skullstripped/BSL-002_ses-01/img_142_normalized.npy\n",
      "Saved resized NPY: /media/sarvagya-pc/2TB HDD/Balgrist/MPM_nonProcessed/axial_skullstripped/BSL-002_ses-01/img_143_normalized.npy\n",
      "Saved PNG: /media/sarvagya-pc/2TB HDD/Balgrist/MPM_nonProcessed/axial_skullstripped/BSL-002_ses-01/img_143.png and NPY: /media/sarvagya-pc/2TB HDD/Balgrist/MPM_nonProcessed/axial_skullstripped/BSL-002_ses-01/img_143_normalized.npy\n",
      "Saved resized NPY: /media/sarvagya-pc/2TB HDD/Balgrist/MPM_nonProcessed/axial_skullstripped/BSL-002_ses-01/img_144_normalized.npy\n",
      "Saved PNG: /media/sarvagya-pc/2TB HDD/Balgrist/MPM_nonProcessed/axial_skullstripped/BSL-002_ses-01/img_144.png and NPY: /media/sarvagya-pc/2TB HDD/Balgrist/MPM_nonProcessed/axial_skullstripped/BSL-002_ses-01/img_144_normalized.npy\n",
      "Saved resized NPY: /media/sarvagya-pc/2TB HDD/Balgrist/MPM_nonProcessed/axial_skullstripped/BSL-002_ses-01/img_145_normalized.npy\n",
      "Saved PNG: /media/sarvagya-pc/2TB HDD/Balgrist/MPM_nonProcessed/axial_skullstripped/BSL-002_ses-01/img_145.png and NPY: /media/sarvagya-pc/2TB HDD/Balgrist/MPM_nonProcessed/axial_skullstripped/BSL-002_ses-01/img_145_normalized.npy\n",
      "Saved resized NPY: /media/sarvagya-pc/2TB HDD/Balgrist/MPM_nonProcessed/axial_skullstripped/BSL-002_ses-01/img_146_normalized.npy\n",
      "Saved PNG: /media/sarvagya-pc/2TB HDD/Balgrist/MPM_nonProcessed/axial_skullstripped/BSL-002_ses-01/img_146.png and NPY: /media/sarvagya-pc/2TB HDD/Balgrist/MPM_nonProcessed/axial_skullstripped/BSL-002_ses-01/img_146_normalized.npy\n",
      "Saved resized NPY: /media/sarvagya-pc/2TB HDD/Balgrist/MPM_nonProcessed/axial_skullstripped/BSL-002_ses-01/img_147_normalized.npy\n",
      "Saved PNG: /media/sarvagya-pc/2TB HDD/Balgrist/MPM_nonProcessed/axial_skullstripped/BSL-002_ses-01/img_147.png and NPY: /media/sarvagya-pc/2TB HDD/Balgrist/MPM_nonProcessed/axial_skullstripped/BSL-002_ses-01/img_147_normalized.npy\n",
      "Saved resized NPY: /media/sarvagya-pc/2TB HDD/Balgrist/MPM_nonProcessed/axial_skullstripped/BSL-002_ses-01/img_148_normalized.npy\n",
      "Saved PNG: /media/sarvagya-pc/2TB HDD/Balgrist/MPM_nonProcessed/axial_skullstripped/BSL-002_ses-01/img_148.png and NPY: /media/sarvagya-pc/2TB HDD/Balgrist/MPM_nonProcessed/axial_skullstripped/BSL-002_ses-01/img_148_normalized.npy\n",
      "Saved resized NPY: /media/sarvagya-pc/2TB HDD/Balgrist/MPM_nonProcessed/axial_skullstripped/BSL-002_ses-01/img_149_normalized.npy\n",
      "Saved PNG: /media/sarvagya-pc/2TB HDD/Balgrist/MPM_nonProcessed/axial_skullstripped/BSL-002_ses-01/img_149.png and NPY: /media/sarvagya-pc/2TB HDD/Balgrist/MPM_nonProcessed/axial_skullstripped/BSL-002_ses-01/img_149_normalized.npy\n",
      "Saved resized NPY: /media/sarvagya-pc/2TB HDD/Balgrist/MPM_nonProcessed/axial_skullstripped/BSL-002_ses-01/img_150_normalized.npy\n",
      "Saved PNG: /media/sarvagya-pc/2TB HDD/Balgrist/MPM_nonProcessed/axial_skullstripped/BSL-002_ses-01/img_150.png and NPY: /media/sarvagya-pc/2TB HDD/Balgrist/MPM_nonProcessed/axial_skullstripped/BSL-002_ses-01/img_150_normalized.npy\n",
      "Saved resized NPY: /media/sarvagya-pc/2TB HDD/Balgrist/MPM_nonProcessed/axial_skullstripped/BSL-002_ses-01/img_151_normalized.npy\n",
      "Saved PNG: /media/sarvagya-pc/2TB HDD/Balgrist/MPM_nonProcessed/axial_skullstripped/BSL-002_ses-01/img_151.png and NPY: /media/sarvagya-pc/2TB HDD/Balgrist/MPM_nonProcessed/axial_skullstripped/BSL-002_ses-01/img_151_normalized.npy\n",
      "Saved resized NPY: /media/sarvagya-pc/2TB HDD/Balgrist/MPM_nonProcessed/axial_skullstripped/BSL-002_ses-01/img_152_normalized.npy\n",
      "Saved PNG: /media/sarvagya-pc/2TB HDD/Balgrist/MPM_nonProcessed/axial_skullstripped/BSL-002_ses-01/img_152.png and NPY: /media/sarvagya-pc/2TB HDD/Balgrist/MPM_nonProcessed/axial_skullstripped/BSL-002_ses-01/img_152_normalized.npy\n",
      "Saved resized NPY: /media/sarvagya-pc/2TB HDD/Balgrist/MPM_nonProcessed/axial_skullstripped/BSL-002_ses-01/img_153_normalized.npy\n",
      "Saved PNG: /media/sarvagya-pc/2TB HDD/Balgrist/MPM_nonProcessed/axial_skullstripped/BSL-002_ses-01/img_153.png and NPY: /media/sarvagya-pc/2TB HDD/Balgrist/MPM_nonProcessed/axial_skullstripped/BSL-002_ses-01/img_153_normalized.npy\n",
      "Saved resized NPY: /media/sarvagya-pc/2TB HDD/Balgrist/MPM_nonProcessed/axial_skullstripped/BSL-002_ses-01/img_154_normalized.npy\n",
      "Saved PNG: /media/sarvagya-pc/2TB HDD/Balgrist/MPM_nonProcessed/axial_skullstripped/BSL-002_ses-01/img_154.png and NPY: /media/sarvagya-pc/2TB HDD/Balgrist/MPM_nonProcessed/axial_skullstripped/BSL-002_ses-01/img_154_normalized.npy\n",
      "Saved resized NPY: /media/sarvagya-pc/2TB HDD/Balgrist/MPM_nonProcessed/axial_skullstripped/BSL-002_ses-01/img_155_normalized.npy\n",
      "Saved PNG: /media/sarvagya-pc/2TB HDD/Balgrist/MPM_nonProcessed/axial_skullstripped/BSL-002_ses-01/img_155.png and NPY: /media/sarvagya-pc/2TB HDD/Balgrist/MPM_nonProcessed/axial_skullstripped/BSL-002_ses-01/img_155_normalized.npy\n",
      "Saved resized NPY: /media/sarvagya-pc/2TB HDD/Balgrist/MPM_nonProcessed/axial_skullstripped/BSL-002_ses-01/img_156_normalized.npy\n",
      "Saved PNG: /media/sarvagya-pc/2TB HDD/Balgrist/MPM_nonProcessed/axial_skullstripped/BSL-002_ses-01/img_156.png and NPY: /media/sarvagya-pc/2TB HDD/Balgrist/MPM_nonProcessed/axial_skullstripped/BSL-002_ses-01/img_156_normalized.npy\n",
      "Saved resized NPY: /media/sarvagya-pc/2TB HDD/Balgrist/MPM_nonProcessed/axial_skullstripped/BSL-002_ses-01/img_157_normalized.npy\n",
      "Saved PNG: /media/sarvagya-pc/2TB HDD/Balgrist/MPM_nonProcessed/axial_skullstripped/BSL-002_ses-01/img_157.png and NPY: /media/sarvagya-pc/2TB HDD/Balgrist/MPM_nonProcessed/axial_skullstripped/BSL-002_ses-01/img_157_normalized.npy\n",
      "Saved resized NPY: /media/sarvagya-pc/2TB HDD/Balgrist/MPM_nonProcessed/axial_skullstripped/BSL-002_ses-01/img_158_normalized.npy\n",
      "Saved PNG: /media/sarvagya-pc/2TB HDD/Balgrist/MPM_nonProcessed/axial_skullstripped/BSL-002_ses-01/img_158.png and NPY: /media/sarvagya-pc/2TB HDD/Balgrist/MPM_nonProcessed/axial_skullstripped/BSL-002_ses-01/img_158_normalized.npy\n",
      "Saved resized NPY: /media/sarvagya-pc/2TB HDD/Balgrist/MPM_nonProcessed/axial_skullstripped/BSL-002_ses-01/img_159_normalized.npy\n",
      "Saved PNG: /media/sarvagya-pc/2TB HDD/Balgrist/MPM_nonProcessed/axial_skullstripped/BSL-002_ses-01/img_159.png and NPY: /media/sarvagya-pc/2TB HDD/Balgrist/MPM_nonProcessed/axial_skullstripped/BSL-002_ses-01/img_159_normalized.npy\n",
      "Saved resized NPY: /media/sarvagya-pc/2TB HDD/Balgrist/MPM_nonProcessed/axial_skullstripped/BSL-002_ses-01/img_160_normalized.npy\n",
      "Saved PNG: /media/sarvagya-pc/2TB HDD/Balgrist/MPM_nonProcessed/axial_skullstripped/BSL-002_ses-01/img_160.png and NPY: /media/sarvagya-pc/2TB HDD/Balgrist/MPM_nonProcessed/axial_skullstripped/BSL-002_ses-01/img_160_normalized.npy\n",
      "Saved resized NPY: /media/sarvagya-pc/2TB HDD/Balgrist/MPM_nonProcessed/axial_skullstripped/BSL-002_ses-01/img_161_normalized.npy\n",
      "Saved PNG: /media/sarvagya-pc/2TB HDD/Balgrist/MPM_nonProcessed/axial_skullstripped/BSL-002_ses-01/img_161.png and NPY: /media/sarvagya-pc/2TB HDD/Balgrist/MPM_nonProcessed/axial_skullstripped/BSL-002_ses-01/img_161_normalized.npy\n",
      "Saved resized NPY: /media/sarvagya-pc/2TB HDD/Balgrist/MPM_nonProcessed/axial_skullstripped/BSL-002_ses-01/img_162_normalized.npy\n",
      "Saved PNG: /media/sarvagya-pc/2TB HDD/Balgrist/MPM_nonProcessed/axial_skullstripped/BSL-002_ses-01/img_162.png and NPY: /media/sarvagya-pc/2TB HDD/Balgrist/MPM_nonProcessed/axial_skullstripped/BSL-002_ses-01/img_162_normalized.npy\n",
      "Saved resized NPY: /media/sarvagya-pc/2TB HDD/Balgrist/MPM_nonProcessed/axial_skullstripped/BSL-002_ses-01/img_163_normalized.npy\n",
      "Saved PNG: /media/sarvagya-pc/2TB HDD/Balgrist/MPM_nonProcessed/axial_skullstripped/BSL-002_ses-01/img_163.png and NPY: /media/sarvagya-pc/2TB HDD/Balgrist/MPM_nonProcessed/axial_skullstripped/BSL-002_ses-01/img_163_normalized.npy\n",
      "Saved resized NPY: /media/sarvagya-pc/2TB HDD/Balgrist/MPM_nonProcessed/axial_skullstripped/BSL-002_ses-01/img_164_normalized.npy\n",
      "Saved PNG: /media/sarvagya-pc/2TB HDD/Balgrist/MPM_nonProcessed/axial_skullstripped/BSL-002_ses-01/img_164.png and NPY: /media/sarvagya-pc/2TB HDD/Balgrist/MPM_nonProcessed/axial_skullstripped/BSL-002_ses-01/img_164_normalized.npy\n",
      "Saved resized NPY: /media/sarvagya-pc/2TB HDD/Balgrist/MPM_nonProcessed/axial_skullstripped/BSL-002_ses-01/img_165_normalized.npy\n",
      "Saved PNG: /media/sarvagya-pc/2TB HDD/Balgrist/MPM_nonProcessed/axial_skullstripped/BSL-002_ses-01/img_165.png and NPY: /media/sarvagya-pc/2TB HDD/Balgrist/MPM_nonProcessed/axial_skullstripped/BSL-002_ses-01/img_165_normalized.npy\n",
      "Saved resized NPY: /media/sarvagya-pc/2TB HDD/Balgrist/MPM_nonProcessed/axial_skullstripped/BSL-002_ses-01/img_166_normalized.npy\n",
      "Saved PNG: /media/sarvagya-pc/2TB HDD/Balgrist/MPM_nonProcessed/axial_skullstripped/BSL-002_ses-01/img_166.png and NPY: /media/sarvagya-pc/2TB HDD/Balgrist/MPM_nonProcessed/axial_skullstripped/BSL-002_ses-01/img_166_normalized.npy\n",
      "Saved resized NPY: /media/sarvagya-pc/2TB HDD/Balgrist/MPM_nonProcessed/axial_skullstripped/BSL-002_ses-01/img_167_normalized.npy\n",
      "Saved PNG: /media/sarvagya-pc/2TB HDD/Balgrist/MPM_nonProcessed/axial_skullstripped/BSL-002_ses-01/img_167.png and NPY: /media/sarvagya-pc/2TB HDD/Balgrist/MPM_nonProcessed/axial_skullstripped/BSL-002_ses-01/img_167_normalized.npy\n",
      "Saved resized NPY: /media/sarvagya-pc/2TB HDD/Balgrist/MPM_nonProcessed/axial_skullstripped/BSL-002_ses-01/img_168_normalized.npy\n",
      "Saved PNG: /media/sarvagya-pc/2TB HDD/Balgrist/MPM_nonProcessed/axial_skullstripped/BSL-002_ses-01/img_168.png and NPY: /media/sarvagya-pc/2TB HDD/Balgrist/MPM_nonProcessed/axial_skullstripped/BSL-002_ses-01/img_168_normalized.npy\n",
      "Saved resized NPY: /media/sarvagya-pc/2TB HDD/Balgrist/MPM_nonProcessed/axial_skullstripped/BSL-002_ses-01/img_169_normalized.npy\n",
      "Saved PNG: /media/sarvagya-pc/2TB HDD/Balgrist/MPM_nonProcessed/axial_skullstripped/BSL-002_ses-01/img_169.png and NPY: /media/sarvagya-pc/2TB HDD/Balgrist/MPM_nonProcessed/axial_skullstripped/BSL-002_ses-01/img_169_normalized.npy\n",
      "Saved resized NPY: /media/sarvagya-pc/2TB HDD/Balgrist/MPM_nonProcessed/axial_skullstripped/BSL-002_ses-01/img_170_normalized.npy\n",
      "Saved PNG: /media/sarvagya-pc/2TB HDD/Balgrist/MPM_nonProcessed/axial_skullstripped/BSL-002_ses-01/img_170.png and NPY: /media/sarvagya-pc/2TB HDD/Balgrist/MPM_nonProcessed/axial_skullstripped/BSL-002_ses-01/img_170_normalized.npy\n",
      "Saved resized NPY: /media/sarvagya-pc/2TB HDD/Balgrist/MPM_nonProcessed/axial_skullstripped/BSL-002_ses-01/img_171_normalized.npy\n",
      "Saved PNG: /media/sarvagya-pc/2TB HDD/Balgrist/MPM_nonProcessed/axial_skullstripped/BSL-002_ses-01/img_171.png and NPY: /media/sarvagya-pc/2TB HDD/Balgrist/MPM_nonProcessed/axial_skullstripped/BSL-002_ses-01/img_171_normalized.npy\n",
      "Saved resized NPY: /media/sarvagya-pc/2TB HDD/Balgrist/MPM_nonProcessed/axial_skullstripped/BSL-002_ses-01/img_172_normalized.npy\n",
      "Saved PNG: /media/sarvagya-pc/2TB HDD/Balgrist/MPM_nonProcessed/axial_skullstripped/BSL-002_ses-01/img_172.png and NPY: /media/sarvagya-pc/2TB HDD/Balgrist/MPM_nonProcessed/axial_skullstripped/BSL-002_ses-01/img_172_normalized.npy\n",
      "Saved resized NPY: /media/sarvagya-pc/2TB HDD/Balgrist/MPM_nonProcessed/axial_skullstripped/BSL-002_ses-01/img_173_normalized.npy\n",
      "Saved PNG: /media/sarvagya-pc/2TB HDD/Balgrist/MPM_nonProcessed/axial_skullstripped/BSL-002_ses-01/img_173.png and NPY: /media/sarvagya-pc/2TB HDD/Balgrist/MPM_nonProcessed/axial_skullstripped/BSL-002_ses-01/img_173_normalized.npy\n",
      "Saved resized NPY: /media/sarvagya-pc/2TB HDD/Balgrist/MPM_nonProcessed/axial_skullstripped/BSL-002_ses-01/img_174_normalized.npy\n",
      "Saved PNG: /media/sarvagya-pc/2TB HDD/Balgrist/MPM_nonProcessed/axial_skullstripped/BSL-002_ses-01/img_174.png and NPY: /media/sarvagya-pc/2TB HDD/Balgrist/MPM_nonProcessed/axial_skullstripped/BSL-002_ses-01/img_174_normalized.npy\n",
      "Saved resized NPY: /media/sarvagya-pc/2TB HDD/Balgrist/MPM_nonProcessed/axial_skullstripped/BSL-002_ses-01/img_175_normalized.npy\n",
      "Saved PNG: /media/sarvagya-pc/2TB HDD/Balgrist/MPM_nonProcessed/axial_skullstripped/BSL-002_ses-01/img_175.png and NPY: /media/sarvagya-pc/2TB HDD/Balgrist/MPM_nonProcessed/axial_skullstripped/BSL-002_ses-01/img_175_normalized.npy\n",
      "Saved resized NPY: /media/sarvagya-pc/2TB HDD/Balgrist/MPM_nonProcessed/axial_skullstripped/BSL-002_ses-01/img_176_normalized.npy\n",
      "Saved PNG: /media/sarvagya-pc/2TB HDD/Balgrist/MPM_nonProcessed/axial_skullstripped/BSL-002_ses-01/img_176.png and NPY: /media/sarvagya-pc/2TB HDD/Balgrist/MPM_nonProcessed/axial_skullstripped/BSL-002_ses-01/img_176_normalized.npy\n",
      "Saved resized NPY: /media/sarvagya-pc/2TB HDD/Balgrist/MPM_nonProcessed/axial_skullstripped/BSL-002_ses-01/img_177_normalized.npy\n",
      "Saved PNG: /media/sarvagya-pc/2TB HDD/Balgrist/MPM_nonProcessed/axial_skullstripped/BSL-002_ses-01/img_177.png and NPY: /media/sarvagya-pc/2TB HDD/Balgrist/MPM_nonProcessed/axial_skullstripped/BSL-002_ses-01/img_177_normalized.npy\n",
      "Saved resized NPY: /media/sarvagya-pc/2TB HDD/Balgrist/MPM_nonProcessed/axial_skullstripped/BSL-002_ses-01/img_178_normalized.npy\n",
      "Saved PNG: /media/sarvagya-pc/2TB HDD/Balgrist/MPM_nonProcessed/axial_skullstripped/BSL-002_ses-01/img_178.png and NPY: /media/sarvagya-pc/2TB HDD/Balgrist/MPM_nonProcessed/axial_skullstripped/BSL-002_ses-01/img_178_normalized.npy\n",
      "Saved resized NPY: /media/sarvagya-pc/2TB HDD/Balgrist/MPM_nonProcessed/axial_skullstripped/BSL-002_ses-01/img_179_normalized.npy\n",
      "Saved PNG: /media/sarvagya-pc/2TB HDD/Balgrist/MPM_nonProcessed/axial_skullstripped/BSL-002_ses-01/img_179.png and NPY: /media/sarvagya-pc/2TB HDD/Balgrist/MPM_nonProcessed/axial_skullstripped/BSL-002_ses-01/img_179_normalized.npy\n",
      "Saved resized NPY: /media/sarvagya-pc/2TB HDD/Balgrist/MPM_nonProcessed/axial_skullstripped/BSL-002_ses-01/img_180_normalized.npy\n",
      "Saved PNG: /media/sarvagya-pc/2TB HDD/Balgrist/MPM_nonProcessed/axial_skullstripped/BSL-002_ses-01/img_180.png and NPY: /media/sarvagya-pc/2TB HDD/Balgrist/MPM_nonProcessed/axial_skullstripped/BSL-002_ses-01/img_180_normalized.npy\n",
      "Saved resized NPY: /media/sarvagya-pc/2TB HDD/Balgrist/MPM_nonProcessed/axial_skullstripped/BSL-002_ses-01/img_181_normalized.npy\n",
      "Saved PNG: /media/sarvagya-pc/2TB HDD/Balgrist/MPM_nonProcessed/axial_skullstripped/BSL-002_ses-01/img_181.png and NPY: /media/sarvagya-pc/2TB HDD/Balgrist/MPM_nonProcessed/axial_skullstripped/BSL-002_ses-01/img_181_normalized.npy\n",
      "Saved resized NPY: /media/sarvagya-pc/2TB HDD/Balgrist/MPM_nonProcessed/axial_skullstripped/BSL-002_ses-01/img_182_normalized.npy\n",
      "Saved PNG: /media/sarvagya-pc/2TB HDD/Balgrist/MPM_nonProcessed/axial_skullstripped/BSL-002_ses-01/img_182.png and NPY: /media/sarvagya-pc/2TB HDD/Balgrist/MPM_nonProcessed/axial_skullstripped/BSL-002_ses-01/img_182_normalized.npy\n",
      "Saved resized NPY: /media/sarvagya-pc/2TB HDD/Balgrist/MPM_nonProcessed/axial_skullstripped/BSL-002_ses-01/img_183_normalized.npy\n",
      "Saved PNG: /media/sarvagya-pc/2TB HDD/Balgrist/MPM_nonProcessed/axial_skullstripped/BSL-002_ses-01/img_183.png and NPY: /media/sarvagya-pc/2TB HDD/Balgrist/MPM_nonProcessed/axial_skullstripped/BSL-002_ses-01/img_183_normalized.npy\n",
      "Saved resized NPY: /media/sarvagya-pc/2TB HDD/Balgrist/MPM_nonProcessed/axial_skullstripped/BSL-002_ses-01/img_184_normalized.npy\n",
      "Saved PNG: /media/sarvagya-pc/2TB HDD/Balgrist/MPM_nonProcessed/axial_skullstripped/BSL-002_ses-01/img_184.png and NPY: /media/sarvagya-pc/2TB HDD/Balgrist/MPM_nonProcessed/axial_skullstripped/BSL-002_ses-01/img_184_normalized.npy\n",
      "Saved resized NPY: /media/sarvagya-pc/2TB HDD/Balgrist/MPM_nonProcessed/axial_skullstripped/BSL-002_ses-01/img_185_normalized.npy\n",
      "Saved PNG: /media/sarvagya-pc/2TB HDD/Balgrist/MPM_nonProcessed/axial_skullstripped/BSL-002_ses-01/img_185.png and NPY: /media/sarvagya-pc/2TB HDD/Balgrist/MPM_nonProcessed/axial_skullstripped/BSL-002_ses-01/img_185_normalized.npy\n",
      "Saved resized NPY: /media/sarvagya-pc/2TB HDD/Balgrist/MPM_nonProcessed/axial_skullstripped/BSL-002_ses-01/img_186_normalized.npy\n",
      "Saved PNG: /media/sarvagya-pc/2TB HDD/Balgrist/MPM_nonProcessed/axial_skullstripped/BSL-002_ses-01/img_186.png and NPY: /media/sarvagya-pc/2TB HDD/Balgrist/MPM_nonProcessed/axial_skullstripped/BSL-002_ses-01/img_186_normalized.npy\n",
      "Saved resized NPY: /media/sarvagya-pc/2TB HDD/Balgrist/MPM_nonProcessed/axial_skullstripped/BSL-002_ses-01/img_187_normalized.npy\n",
      "Saved PNG: /media/sarvagya-pc/2TB HDD/Balgrist/MPM_nonProcessed/axial_skullstripped/BSL-002_ses-01/img_187.png and NPY: /media/sarvagya-pc/2TB HDD/Balgrist/MPM_nonProcessed/axial_skullstripped/BSL-002_ses-01/img_187_normalized.npy\n",
      "Saved resized NPY: /media/sarvagya-pc/2TB HDD/Balgrist/MPM_nonProcessed/axial_skullstripped/BSL-002_ses-01/img_188_normalized.npy\n",
      "Saved PNG: /media/sarvagya-pc/2TB HDD/Balgrist/MPM_nonProcessed/axial_skullstripped/BSL-002_ses-01/img_188.png and NPY: /media/sarvagya-pc/2TB HDD/Balgrist/MPM_nonProcessed/axial_skullstripped/BSL-002_ses-01/img_188_normalized.npy\n",
      "Saved resized NPY: /media/sarvagya-pc/2TB HDD/Balgrist/MPM_nonProcessed/axial_skullstripped/BSL-002_ses-01/img_189_normalized.npy\n",
      "Saved PNG: /media/sarvagya-pc/2TB HDD/Balgrist/MPM_nonProcessed/axial_skullstripped/BSL-002_ses-01/img_189.png and NPY: /media/sarvagya-pc/2TB HDD/Balgrist/MPM_nonProcessed/axial_skullstripped/BSL-002_ses-01/img_189_normalized.npy\n",
      "Saved resized NPY: /media/sarvagya-pc/2TB HDD/Balgrist/MPM_nonProcessed/axial_skullstripped/BSL-002_ses-01/img_190_normalized.npy\n",
      "Saved PNG: /media/sarvagya-pc/2TB HDD/Balgrist/MPM_nonProcessed/axial_skullstripped/BSL-002_ses-01/img_190.png and NPY: /media/sarvagya-pc/2TB HDD/Balgrist/MPM_nonProcessed/axial_skullstripped/BSL-002_ses-01/img_190_normalized.npy\n",
      "Saved resized NPY: /media/sarvagya-pc/2TB HDD/Balgrist/MPM_nonProcessed/axial_skullstripped/BSL-002_ses-01/img_191_normalized.npy\n",
      "Saved PNG: /media/sarvagya-pc/2TB HDD/Balgrist/MPM_nonProcessed/axial_skullstripped/BSL-002_ses-01/img_191.png and NPY: /media/sarvagya-pc/2TB HDD/Balgrist/MPM_nonProcessed/axial_skullstripped/BSL-002_ses-01/img_191_normalized.npy\n",
      "Saved resized NPY: /media/sarvagya-pc/2TB HDD/Balgrist/MPM_nonProcessed/axial_skullstripped/BSL-002_ses-01/img_192_normalized.npy\n",
      "Saved PNG: /media/sarvagya-pc/2TB HDD/Balgrist/MPM_nonProcessed/axial_skullstripped/BSL-002_ses-01/img_192.png and NPY: /media/sarvagya-pc/2TB HDD/Balgrist/MPM_nonProcessed/axial_skullstripped/BSL-002_ses-01/img_192_normalized.npy\n",
      "Saved resized NPY: /media/sarvagya-pc/2TB HDD/Balgrist/MPM_nonProcessed/axial_skullstripped/BSL-002_ses-01/img_193_normalized.npy\n",
      "Saved PNG: /media/sarvagya-pc/2TB HDD/Balgrist/MPM_nonProcessed/axial_skullstripped/BSL-002_ses-01/img_193.png and NPY: /media/sarvagya-pc/2TB HDD/Balgrist/MPM_nonProcessed/axial_skullstripped/BSL-002_ses-01/img_193_normalized.npy\n",
      "Saved resized NPY: /media/sarvagya-pc/2TB HDD/Balgrist/MPM_nonProcessed/axial_skullstripped/BSL-002_ses-01/img_194_normalized.npy\n",
      "Saved PNG: /media/sarvagya-pc/2TB HDD/Balgrist/MPM_nonProcessed/axial_skullstripped/BSL-002_ses-01/img_194.png and NPY: /media/sarvagya-pc/2TB HDD/Balgrist/MPM_nonProcessed/axial_skullstripped/BSL-002_ses-01/img_194_normalized.npy\n",
      "Saved resized NPY: /media/sarvagya-pc/2TB HDD/Balgrist/MPM_nonProcessed/axial_skullstripped/BSL-002_ses-01/img_195_normalized.npy\n",
      "Saved PNG: /media/sarvagya-pc/2TB HDD/Balgrist/MPM_nonProcessed/axial_skullstripped/BSL-002_ses-01/img_195.png and NPY: /media/sarvagya-pc/2TB HDD/Balgrist/MPM_nonProcessed/axial_skullstripped/BSL-002_ses-01/img_195_normalized.npy\n",
      "Saved resized NPY: /media/sarvagya-pc/2TB HDD/Balgrist/MPM_nonProcessed/axial_skullstripped/BSL-002_ses-01/img_196_normalized.npy\n",
      "Saved PNG: /media/sarvagya-pc/2TB HDD/Balgrist/MPM_nonProcessed/axial_skullstripped/BSL-002_ses-01/img_196.png and NPY: /media/sarvagya-pc/2TB HDD/Balgrist/MPM_nonProcessed/axial_skullstripped/BSL-002_ses-01/img_196_normalized.npy\n",
      "Saved resized NPY: /media/sarvagya-pc/2TB HDD/Balgrist/MPM_nonProcessed/axial_skullstripped/BSL-002_ses-01/img_197_normalized.npy\n",
      "Saved PNG: /media/sarvagya-pc/2TB HDD/Balgrist/MPM_nonProcessed/axial_skullstripped/BSL-002_ses-01/img_197.png and NPY: /media/sarvagya-pc/2TB HDD/Balgrist/MPM_nonProcessed/axial_skullstripped/BSL-002_ses-01/img_197_normalized.npy\n",
      "Saved resized NPY: /media/sarvagya-pc/2TB HDD/Balgrist/MPM_nonProcessed/axial_skullstripped/BSL-002_ses-01/img_198_normalized.npy\n",
      "Saved PNG: /media/sarvagya-pc/2TB HDD/Balgrist/MPM_nonProcessed/axial_skullstripped/BSL-002_ses-01/img_198.png and NPY: /media/sarvagya-pc/2TB HDD/Balgrist/MPM_nonProcessed/axial_skullstripped/BSL-002_ses-01/img_198_normalized.npy\n",
      "Saved resized NPY: /media/sarvagya-pc/2TB HDD/Balgrist/MPM_nonProcessed/axial_skullstripped/BSL-002_ses-01/img_199_normalized.npy\n",
      "Saved PNG: /media/sarvagya-pc/2TB HDD/Balgrist/MPM_nonProcessed/axial_skullstripped/BSL-002_ses-01/img_199.png and NPY: /media/sarvagya-pc/2TB HDD/Balgrist/MPM_nonProcessed/axial_skullstripped/BSL-002_ses-01/img_199_normalized.npy\n",
      "Saved resized NPY: /media/sarvagya-pc/2TB HDD/Balgrist/MPM_nonProcessed/axial_skullstripped/BSL-002_ses-01/img_200_normalized.npy\n",
      "Saved PNG: /media/sarvagya-pc/2TB HDD/Balgrist/MPM_nonProcessed/axial_skullstripped/BSL-002_ses-01/img_200.png and NPY: /media/sarvagya-pc/2TB HDD/Balgrist/MPM_nonProcessed/axial_skullstripped/BSL-002_ses-01/img_200_normalized.npy\n",
      "Saved resized NPY: /media/sarvagya-pc/2TB HDD/Balgrist/MPM_nonProcessed/axial_skullstripped/BSL-002_ses-01/img_201_normalized.npy\n",
      "Saved PNG: /media/sarvagya-pc/2TB HDD/Balgrist/MPM_nonProcessed/axial_skullstripped/BSL-002_ses-01/img_201.png and NPY: /media/sarvagya-pc/2TB HDD/Balgrist/MPM_nonProcessed/axial_skullstripped/BSL-002_ses-01/img_201_normalized.npy\n",
      "Saved resized NPY: /media/sarvagya-pc/2TB HDD/Balgrist/MPM_nonProcessed/axial_skullstripped/BSL-002_ses-01/img_202_normalized.npy\n",
      "Saved PNG: /media/sarvagya-pc/2TB HDD/Balgrist/MPM_nonProcessed/axial_skullstripped/BSL-002_ses-01/img_202.png and NPY: /media/sarvagya-pc/2TB HDD/Balgrist/MPM_nonProcessed/axial_skullstripped/BSL-002_ses-01/img_202_normalized.npy\n",
      "Saved resized NPY: /media/sarvagya-pc/2TB HDD/Balgrist/MPM_nonProcessed/axial_skullstripped/BSL-002_ses-01/img_203_normalized.npy\n",
      "Saved PNG: /media/sarvagya-pc/2TB HDD/Balgrist/MPM_nonProcessed/axial_skullstripped/BSL-002_ses-01/img_203.png and NPY: /media/sarvagya-pc/2TB HDD/Balgrist/MPM_nonProcessed/axial_skullstripped/BSL-002_ses-01/img_203_normalized.npy\n",
      "Saved resized NPY: /media/sarvagya-pc/2TB HDD/Balgrist/MPM_nonProcessed/axial_skullstripped/BSL-002_ses-01/img_204_normalized.npy\n",
      "Saved PNG: /media/sarvagya-pc/2TB HDD/Balgrist/MPM_nonProcessed/axial_skullstripped/BSL-002_ses-01/img_204.png and NPY: /media/sarvagya-pc/2TB HDD/Balgrist/MPM_nonProcessed/axial_skullstripped/BSL-002_ses-01/img_204_normalized.npy\n",
      "Saved resized NPY: /media/sarvagya-pc/2TB HDD/Balgrist/MPM_nonProcessed/axial_skullstripped/BSL-002_ses-01/img_205_normalized.npy\n",
      "Saved PNG: /media/sarvagya-pc/2TB HDD/Balgrist/MPM_nonProcessed/axial_skullstripped/BSL-002_ses-01/img_205.png and NPY: /media/sarvagya-pc/2TB HDD/Balgrist/MPM_nonProcessed/axial_skullstripped/BSL-002_ses-01/img_205_normalized.npy\n",
      "Saved resized NPY: /media/sarvagya-pc/2TB HDD/Balgrist/MPM_nonProcessed/axial_skullstripped/BSL-002_ses-01/img_206_normalized.npy\n",
      "Saved PNG: /media/sarvagya-pc/2TB HDD/Balgrist/MPM_nonProcessed/axial_skullstripped/BSL-002_ses-01/img_206.png and NPY: /media/sarvagya-pc/2TB HDD/Balgrist/MPM_nonProcessed/axial_skullstripped/BSL-002_ses-01/img_206_normalized.npy\n",
      "Saved resized NPY: /media/sarvagya-pc/2TB HDD/Balgrist/MPM_nonProcessed/axial_skullstripped/BSL-002_ses-01/img_207_normalized.npy\n",
      "Saved PNG: /media/sarvagya-pc/2TB HDD/Balgrist/MPM_nonProcessed/axial_skullstripped/BSL-002_ses-01/img_207.png and NPY: /media/sarvagya-pc/2TB HDD/Balgrist/MPM_nonProcessed/axial_skullstripped/BSL-002_ses-01/img_207_normalized.npy\n",
      "Saved resized NPY: /media/sarvagya-pc/2TB HDD/Balgrist/MPM_nonProcessed/axial_skullstripped/BSL-002_ses-01/img_208_normalized.npy\n",
      "Saved PNG: /media/sarvagya-pc/2TB HDD/Balgrist/MPM_nonProcessed/axial_skullstripped/BSL-002_ses-01/img_208.png and NPY: /media/sarvagya-pc/2TB HDD/Balgrist/MPM_nonProcessed/axial_skullstripped/BSL-002_ses-01/img_208_normalized.npy\n",
      "Saved resized NPY: /media/sarvagya-pc/2TB HDD/Balgrist/MPM_nonProcessed/axial_skullstripped/BSL-002_ses-01/img_209_normalized.npy\n",
      "Saved PNG: /media/sarvagya-pc/2TB HDD/Balgrist/MPM_nonProcessed/axial_skullstripped/BSL-002_ses-01/img_209.png and NPY: /media/sarvagya-pc/2TB HDD/Balgrist/MPM_nonProcessed/axial_skullstripped/BSL-002_ses-01/img_209_normalized.npy\n",
      "Saved resized NPY: /media/sarvagya-pc/2TB HDD/Balgrist/MPM_nonProcessed/axial_skullstripped/BSL-002_ses-01/img_210_normalized.npy\n",
      "Saved PNG: /media/sarvagya-pc/2TB HDD/Balgrist/MPM_nonProcessed/axial_skullstripped/BSL-002_ses-01/img_210.png and NPY: /media/sarvagya-pc/2TB HDD/Balgrist/MPM_nonProcessed/axial_skullstripped/BSL-002_ses-01/img_210_normalized.npy\n",
      "Saved resized NPY: /media/sarvagya-pc/2TB HDD/Balgrist/MPM_nonProcessed/axial_skullstripped/BSL-002_ses-01/img_211_normalized.npy\n",
      "Saved PNG: /media/sarvagya-pc/2TB HDD/Balgrist/MPM_nonProcessed/axial_skullstripped/BSL-002_ses-01/img_211.png and NPY: /media/sarvagya-pc/2TB HDD/Balgrist/MPM_nonProcessed/axial_skullstripped/BSL-002_ses-01/img_211_normalized.npy\n",
      "Saved resized NPY: /media/sarvagya-pc/2TB HDD/Balgrist/MPM_nonProcessed/axial_skullstripped/BSL-002_ses-01/img_212_normalized.npy\n",
      "Saved PNG: /media/sarvagya-pc/2TB HDD/Balgrist/MPM_nonProcessed/axial_skullstripped/BSL-002_ses-01/img_212.png and NPY: /media/sarvagya-pc/2TB HDD/Balgrist/MPM_nonProcessed/axial_skullstripped/BSL-002_ses-01/img_212_normalized.npy\n",
      "Saved resized NPY: /media/sarvagya-pc/2TB HDD/Balgrist/MPM_nonProcessed/axial_skullstripped/BSL-002_ses-01/img_213_normalized.npy\n",
      "Saved PNG: /media/sarvagya-pc/2TB HDD/Balgrist/MPM_nonProcessed/axial_skullstripped/BSL-002_ses-01/img_213.png and NPY: /media/sarvagya-pc/2TB HDD/Balgrist/MPM_nonProcessed/axial_skullstripped/BSL-002_ses-01/img_213_normalized.npy\n",
      "Saved resized NPY: /media/sarvagya-pc/2TB HDD/Balgrist/MPM_nonProcessed/axial_skullstripped/BSL-002_ses-01/img_214_normalized.npy\n",
      "Saved PNG: /media/sarvagya-pc/2TB HDD/Balgrist/MPM_nonProcessed/axial_skullstripped/BSL-002_ses-01/img_214.png and NPY: /media/sarvagya-pc/2TB HDD/Balgrist/MPM_nonProcessed/axial_skullstripped/BSL-002_ses-01/img_214_normalized.npy\n",
      "Saved resized NPY: /media/sarvagya-pc/2TB HDD/Balgrist/MPM_nonProcessed/axial_skullstripped/BSL-002_ses-01/img_215_normalized.npy\n",
      "Saved PNG: /media/sarvagya-pc/2TB HDD/Balgrist/MPM_nonProcessed/axial_skullstripped/BSL-002_ses-01/img_215.png and NPY: /media/sarvagya-pc/2TB HDD/Balgrist/MPM_nonProcessed/axial_skullstripped/BSL-002_ses-01/img_215_normalized.npy\n",
      "Saved resized NPY: /media/sarvagya-pc/2TB HDD/Balgrist/MPM_nonProcessed/axial_skullstripped/BSL-002_ses-01/img_216_normalized.npy\n",
      "Saved PNG: /media/sarvagya-pc/2TB HDD/Balgrist/MPM_nonProcessed/axial_skullstripped/BSL-002_ses-01/img_216.png and NPY: /media/sarvagya-pc/2TB HDD/Balgrist/MPM_nonProcessed/axial_skullstripped/BSL-002_ses-01/img_216_normalized.npy\n",
      "Saved resized NPY: /media/sarvagya-pc/2TB HDD/Balgrist/MPM_nonProcessed/axial_skullstripped/BSL-002_ses-01/img_217_normalized.npy\n",
      "Saved PNG: /media/sarvagya-pc/2TB HDD/Balgrist/MPM_nonProcessed/axial_skullstripped/BSL-002_ses-01/img_217.png and NPY: /media/sarvagya-pc/2TB HDD/Balgrist/MPM_nonProcessed/axial_skullstripped/BSL-002_ses-01/img_217_normalized.npy\n",
      "Saved resized NPY: /media/sarvagya-pc/2TB HDD/Balgrist/MPM_nonProcessed/axial_skullstripped/BSL-002_ses-01/img_218_normalized.npy\n",
      "Saved PNG: /media/sarvagya-pc/2TB HDD/Balgrist/MPM_nonProcessed/axial_skullstripped/BSL-002_ses-01/img_218.png and NPY: /media/sarvagya-pc/2TB HDD/Balgrist/MPM_nonProcessed/axial_skullstripped/BSL-002_ses-01/img_218_normalized.npy\n",
      "Saved resized NPY: /media/sarvagya-pc/2TB HDD/Balgrist/MPM_nonProcessed/axial_skullstripped/BSL-002_ses-01/img_219_normalized.npy\n",
      "Saved PNG: /media/sarvagya-pc/2TB HDD/Balgrist/MPM_nonProcessed/axial_skullstripped/BSL-002_ses-01/img_219.png and NPY: /media/sarvagya-pc/2TB HDD/Balgrist/MPM_nonProcessed/axial_skullstripped/BSL-002_ses-01/img_219_normalized.npy\n",
      "(224, 256, 176)\n",
      "ZRH-004_ses-01\n",
      "Saved resized NPY: /media/sarvagya-pc/2TB HDD/Balgrist/MPM_nonProcessed/axial_skullstripped/ZRH-004_ses-01/img_133_normalized.npy\n",
      "Saved PNG: /media/sarvagya-pc/2TB HDD/Balgrist/MPM_nonProcessed/axial_skullstripped/ZRH-004_ses-01/img_133.png and NPY: /media/sarvagya-pc/2TB HDD/Balgrist/MPM_nonProcessed/axial_skullstripped/ZRH-004_ses-01/img_133_normalized.npy\n",
      "Saved resized NPY: /media/sarvagya-pc/2TB HDD/Balgrist/MPM_nonProcessed/axial_skullstripped/ZRH-004_ses-01/img_134_normalized.npy\n",
      "Saved PNG: /media/sarvagya-pc/2TB HDD/Balgrist/MPM_nonProcessed/axial_skullstripped/ZRH-004_ses-01/img_134.png and NPY: /media/sarvagya-pc/2TB HDD/Balgrist/MPM_nonProcessed/axial_skullstripped/ZRH-004_ses-01/img_134_normalized.npy\n",
      "Saved resized NPY: /media/sarvagya-pc/2TB HDD/Balgrist/MPM_nonProcessed/axial_skullstripped/ZRH-004_ses-01/img_135_normalized.npy\n",
      "Saved PNG: /media/sarvagya-pc/2TB HDD/Balgrist/MPM_nonProcessed/axial_skullstripped/ZRH-004_ses-01/img_135.png and NPY: /media/sarvagya-pc/2TB HDD/Balgrist/MPM_nonProcessed/axial_skullstripped/ZRH-004_ses-01/img_135_normalized.npy\n",
      "Saved resized NPY: /media/sarvagya-pc/2TB HDD/Balgrist/MPM_nonProcessed/axial_skullstripped/ZRH-004_ses-01/img_136_normalized.npy\n",
      "Saved PNG: /media/sarvagya-pc/2TB HDD/Balgrist/MPM_nonProcessed/axial_skullstripped/ZRH-004_ses-01/img_136.png and NPY: /media/sarvagya-pc/2TB HDD/Balgrist/MPM_nonProcessed/axial_skullstripped/ZRH-004_ses-01/img_136_normalized.npy\n",
      "Saved resized NPY: /media/sarvagya-pc/2TB HDD/Balgrist/MPM_nonProcessed/axial_skullstripped/ZRH-004_ses-01/img_137_normalized.npy\n",
      "Saved PNG: /media/sarvagya-pc/2TB HDD/Balgrist/MPM_nonProcessed/axial_skullstripped/ZRH-004_ses-01/img_137.png and NPY: /media/sarvagya-pc/2TB HDD/Balgrist/MPM_nonProcessed/axial_skullstripped/ZRH-004_ses-01/img_137_normalized.npy\n",
      "Saved resized NPY: /media/sarvagya-pc/2TB HDD/Balgrist/MPM_nonProcessed/axial_skullstripped/ZRH-004_ses-01/img_138_normalized.npy\n",
      "Saved PNG: /media/sarvagya-pc/2TB HDD/Balgrist/MPM_nonProcessed/axial_skullstripped/ZRH-004_ses-01/img_138.png and NPY: /media/sarvagya-pc/2TB HDD/Balgrist/MPM_nonProcessed/axial_skullstripped/ZRH-004_ses-01/img_138_normalized.npy\n",
      "Saved resized NPY: /media/sarvagya-pc/2TB HDD/Balgrist/MPM_nonProcessed/axial_skullstripped/ZRH-004_ses-01/img_139_normalized.npy\n",
      "Saved PNG: /media/sarvagya-pc/2TB HDD/Balgrist/MPM_nonProcessed/axial_skullstripped/ZRH-004_ses-01/img_139.png and NPY: /media/sarvagya-pc/2TB HDD/Balgrist/MPM_nonProcessed/axial_skullstripped/ZRH-004_ses-01/img_139_normalized.npy\n",
      "Saved resized NPY: /media/sarvagya-pc/2TB HDD/Balgrist/MPM_nonProcessed/axial_skullstripped/ZRH-004_ses-01/img_140_normalized.npy\n",
      "Saved PNG: /media/sarvagya-pc/2TB HDD/Balgrist/MPM_nonProcessed/axial_skullstripped/ZRH-004_ses-01/img_140.png and NPY: /media/sarvagya-pc/2TB HDD/Balgrist/MPM_nonProcessed/axial_skullstripped/ZRH-004_ses-01/img_140_normalized.npy\n",
      "Saved resized NPY: /media/sarvagya-pc/2TB HDD/Balgrist/MPM_nonProcessed/axial_skullstripped/ZRH-004_ses-01/img_141_normalized.npy\n",
      "Saved PNG: /media/sarvagya-pc/2TB HDD/Balgrist/MPM_nonProcessed/axial_skullstripped/ZRH-004_ses-01/img_141.png and NPY: /media/sarvagya-pc/2TB HDD/Balgrist/MPM_nonProcessed/axial_skullstripped/ZRH-004_ses-01/img_141_normalized.npy\n",
      "Saved resized NPY: /media/sarvagya-pc/2TB HDD/Balgrist/MPM_nonProcessed/axial_skullstripped/ZRH-004_ses-01/img_142_normalized.npy\n",
      "Saved PNG: /media/sarvagya-pc/2TB HDD/Balgrist/MPM_nonProcessed/axial_skullstripped/ZRH-004_ses-01/img_142.png and NPY: /media/sarvagya-pc/2TB HDD/Balgrist/MPM_nonProcessed/axial_skullstripped/ZRH-004_ses-01/img_142_normalized.npy\n",
      "Saved resized NPY: /media/sarvagya-pc/2TB HDD/Balgrist/MPM_nonProcessed/axial_skullstripped/ZRH-004_ses-01/img_143_normalized.npy\n",
      "Saved PNG: /media/sarvagya-pc/2TB HDD/Balgrist/MPM_nonProcessed/axial_skullstripped/ZRH-004_ses-01/img_143.png and NPY: /media/sarvagya-pc/2TB HDD/Balgrist/MPM_nonProcessed/axial_skullstripped/ZRH-004_ses-01/img_143_normalized.npy\n",
      "Saved resized NPY: /media/sarvagya-pc/2TB HDD/Balgrist/MPM_nonProcessed/axial_skullstripped/ZRH-004_ses-01/img_144_normalized.npy\n",
      "Saved PNG: /media/sarvagya-pc/2TB HDD/Balgrist/MPM_nonProcessed/axial_skullstripped/ZRH-004_ses-01/img_144.png and NPY: /media/sarvagya-pc/2TB HDD/Balgrist/MPM_nonProcessed/axial_skullstripped/ZRH-004_ses-01/img_144_normalized.npy\n",
      "Saved resized NPY: /media/sarvagya-pc/2TB HDD/Balgrist/MPM_nonProcessed/axial_skullstripped/ZRH-004_ses-01/img_145_normalized.npy\n",
      "Saved PNG: /media/sarvagya-pc/2TB HDD/Balgrist/MPM_nonProcessed/axial_skullstripped/ZRH-004_ses-01/img_145.png and NPY: /media/sarvagya-pc/2TB HDD/Balgrist/MPM_nonProcessed/axial_skullstripped/ZRH-004_ses-01/img_145_normalized.npy\n",
      "Saved resized NPY: /media/sarvagya-pc/2TB HDD/Balgrist/MPM_nonProcessed/axial_skullstripped/ZRH-004_ses-01/img_146_normalized.npy\n",
      "Saved PNG: /media/sarvagya-pc/2TB HDD/Balgrist/MPM_nonProcessed/axial_skullstripped/ZRH-004_ses-01/img_146.png and NPY: /media/sarvagya-pc/2TB HDD/Balgrist/MPM_nonProcessed/axial_skullstripped/ZRH-004_ses-01/img_146_normalized.npy\n",
      "Saved resized NPY: /media/sarvagya-pc/2TB HDD/Balgrist/MPM_nonProcessed/axial_skullstripped/ZRH-004_ses-01/img_147_normalized.npy\n",
      "Saved PNG: /media/sarvagya-pc/2TB HDD/Balgrist/MPM_nonProcessed/axial_skullstripped/ZRH-004_ses-01/img_147.png and NPY: /media/sarvagya-pc/2TB HDD/Balgrist/MPM_nonProcessed/axial_skullstripped/ZRH-004_ses-01/img_147_normalized.npy\n",
      "Saved resized NPY: /media/sarvagya-pc/2TB HDD/Balgrist/MPM_nonProcessed/axial_skullstripped/ZRH-004_ses-01/img_148_normalized.npy\n",
      "Saved PNG: /media/sarvagya-pc/2TB HDD/Balgrist/MPM_nonProcessed/axial_skullstripped/ZRH-004_ses-01/img_148.png and NPY: /media/sarvagya-pc/2TB HDD/Balgrist/MPM_nonProcessed/axial_skullstripped/ZRH-004_ses-01/img_148_normalized.npy\n",
      "Saved resized NPY: /media/sarvagya-pc/2TB HDD/Balgrist/MPM_nonProcessed/axial_skullstripped/ZRH-004_ses-01/img_149_normalized.npy\n",
      "Saved PNG: /media/sarvagya-pc/2TB HDD/Balgrist/MPM_nonProcessed/axial_skullstripped/ZRH-004_ses-01/img_149.png and NPY: /media/sarvagya-pc/2TB HDD/Balgrist/MPM_nonProcessed/axial_skullstripped/ZRH-004_ses-01/img_149_normalized.npy\n",
      "Saved resized NPY: /media/sarvagya-pc/2TB HDD/Balgrist/MPM_nonProcessed/axial_skullstripped/ZRH-004_ses-01/img_150_normalized.npy\n",
      "Saved PNG: /media/sarvagya-pc/2TB HDD/Balgrist/MPM_nonProcessed/axial_skullstripped/ZRH-004_ses-01/img_150.png and NPY: /media/sarvagya-pc/2TB HDD/Balgrist/MPM_nonProcessed/axial_skullstripped/ZRH-004_ses-01/img_150_normalized.npy\n",
      "Saved resized NPY: /media/sarvagya-pc/2TB HDD/Balgrist/MPM_nonProcessed/axial_skullstripped/ZRH-004_ses-01/img_151_normalized.npy\n",
      "Saved PNG: /media/sarvagya-pc/2TB HDD/Balgrist/MPM_nonProcessed/axial_skullstripped/ZRH-004_ses-01/img_151.png and NPY: /media/sarvagya-pc/2TB HDD/Balgrist/MPM_nonProcessed/axial_skullstripped/ZRH-004_ses-01/img_151_normalized.npy\n",
      "Saved resized NPY: /media/sarvagya-pc/2TB HDD/Balgrist/MPM_nonProcessed/axial_skullstripped/ZRH-004_ses-01/img_152_normalized.npy\n",
      "Saved PNG: /media/sarvagya-pc/2TB HDD/Balgrist/MPM_nonProcessed/axial_skullstripped/ZRH-004_ses-01/img_152.png and NPY: /media/sarvagya-pc/2TB HDD/Balgrist/MPM_nonProcessed/axial_skullstripped/ZRH-004_ses-01/img_152_normalized.npy\n",
      "Saved resized NPY: /media/sarvagya-pc/2TB HDD/Balgrist/MPM_nonProcessed/axial_skullstripped/ZRH-004_ses-01/img_153_normalized.npy\n",
      "Saved PNG: /media/sarvagya-pc/2TB HDD/Balgrist/MPM_nonProcessed/axial_skullstripped/ZRH-004_ses-01/img_153.png and NPY: /media/sarvagya-pc/2TB HDD/Balgrist/MPM_nonProcessed/axial_skullstripped/ZRH-004_ses-01/img_153_normalized.npy\n",
      "Saved resized NPY: /media/sarvagya-pc/2TB HDD/Balgrist/MPM_nonProcessed/axial_skullstripped/ZRH-004_ses-01/img_154_normalized.npy\n",
      "Saved PNG: /media/sarvagya-pc/2TB HDD/Balgrist/MPM_nonProcessed/axial_skullstripped/ZRH-004_ses-01/img_154.png and NPY: /media/sarvagya-pc/2TB HDD/Balgrist/MPM_nonProcessed/axial_skullstripped/ZRH-004_ses-01/img_154_normalized.npy\n",
      "Saved resized NPY: /media/sarvagya-pc/2TB HDD/Balgrist/MPM_nonProcessed/axial_skullstripped/ZRH-004_ses-01/img_155_normalized.npy\n",
      "Saved PNG: /media/sarvagya-pc/2TB HDD/Balgrist/MPM_nonProcessed/axial_skullstripped/ZRH-004_ses-01/img_155.png and NPY: /media/sarvagya-pc/2TB HDD/Balgrist/MPM_nonProcessed/axial_skullstripped/ZRH-004_ses-01/img_155_normalized.npy\n",
      "Saved resized NPY: /media/sarvagya-pc/2TB HDD/Balgrist/MPM_nonProcessed/axial_skullstripped/ZRH-004_ses-01/img_156_normalized.npy\n",
      "Saved PNG: /media/sarvagya-pc/2TB HDD/Balgrist/MPM_nonProcessed/axial_skullstripped/ZRH-004_ses-01/img_156.png and NPY: /media/sarvagya-pc/2TB HDD/Balgrist/MPM_nonProcessed/axial_skullstripped/ZRH-004_ses-01/img_156_normalized.npy\n",
      "Saved resized NPY: /media/sarvagya-pc/2TB HDD/Balgrist/MPM_nonProcessed/axial_skullstripped/ZRH-004_ses-01/img_157_normalized.npy\n",
      "Saved PNG: /media/sarvagya-pc/2TB HDD/Balgrist/MPM_nonProcessed/axial_skullstripped/ZRH-004_ses-01/img_157.png and NPY: /media/sarvagya-pc/2TB HDD/Balgrist/MPM_nonProcessed/axial_skullstripped/ZRH-004_ses-01/img_157_normalized.npy\n",
      "Saved resized NPY: /media/sarvagya-pc/2TB HDD/Balgrist/MPM_nonProcessed/axial_skullstripped/ZRH-004_ses-01/img_158_normalized.npy\n",
      "Saved PNG: /media/sarvagya-pc/2TB HDD/Balgrist/MPM_nonProcessed/axial_skullstripped/ZRH-004_ses-01/img_158.png and NPY: /media/sarvagya-pc/2TB HDD/Balgrist/MPM_nonProcessed/axial_skullstripped/ZRH-004_ses-01/img_158_normalized.npy\n",
      "Saved resized NPY: /media/sarvagya-pc/2TB HDD/Balgrist/MPM_nonProcessed/axial_skullstripped/ZRH-004_ses-01/img_159_normalized.npy\n",
      "Saved PNG: /media/sarvagya-pc/2TB HDD/Balgrist/MPM_nonProcessed/axial_skullstripped/ZRH-004_ses-01/img_159.png and NPY: /media/sarvagya-pc/2TB HDD/Balgrist/MPM_nonProcessed/axial_skullstripped/ZRH-004_ses-01/img_159_normalized.npy\n",
      "Saved resized NPY: /media/sarvagya-pc/2TB HDD/Balgrist/MPM_nonProcessed/axial_skullstripped/ZRH-004_ses-01/img_160_normalized.npy\n",
      "Saved PNG: /media/sarvagya-pc/2TB HDD/Balgrist/MPM_nonProcessed/axial_skullstripped/ZRH-004_ses-01/img_160.png and NPY: /media/sarvagya-pc/2TB HDD/Balgrist/MPM_nonProcessed/axial_skullstripped/ZRH-004_ses-01/img_160_normalized.npy\n",
      "Saved resized NPY: /media/sarvagya-pc/2TB HDD/Balgrist/MPM_nonProcessed/axial_skullstripped/ZRH-004_ses-01/img_161_normalized.npy\n",
      "Saved PNG: /media/sarvagya-pc/2TB HDD/Balgrist/MPM_nonProcessed/axial_skullstripped/ZRH-004_ses-01/img_161.png and NPY: /media/sarvagya-pc/2TB HDD/Balgrist/MPM_nonProcessed/axial_skullstripped/ZRH-004_ses-01/img_161_normalized.npy\n",
      "Saved resized NPY: /media/sarvagya-pc/2TB HDD/Balgrist/MPM_nonProcessed/axial_skullstripped/ZRH-004_ses-01/img_162_normalized.npy\n",
      "Saved PNG: /media/sarvagya-pc/2TB HDD/Balgrist/MPM_nonProcessed/axial_skullstripped/ZRH-004_ses-01/img_162.png and NPY: /media/sarvagya-pc/2TB HDD/Balgrist/MPM_nonProcessed/axial_skullstripped/ZRH-004_ses-01/img_162_normalized.npy\n",
      "Saved resized NPY: /media/sarvagya-pc/2TB HDD/Balgrist/MPM_nonProcessed/axial_skullstripped/ZRH-004_ses-01/img_163_normalized.npy\n",
      "Saved PNG: /media/sarvagya-pc/2TB HDD/Balgrist/MPM_nonProcessed/axial_skullstripped/ZRH-004_ses-01/img_163.png and NPY: /media/sarvagya-pc/2TB HDD/Balgrist/MPM_nonProcessed/axial_skullstripped/ZRH-004_ses-01/img_163_normalized.npy\n",
      "Saved resized NPY: /media/sarvagya-pc/2TB HDD/Balgrist/MPM_nonProcessed/axial_skullstripped/ZRH-004_ses-01/img_164_normalized.npy\n",
      "Saved PNG: /media/sarvagya-pc/2TB HDD/Balgrist/MPM_nonProcessed/axial_skullstripped/ZRH-004_ses-01/img_164.png and NPY: /media/sarvagya-pc/2TB HDD/Balgrist/MPM_nonProcessed/axial_skullstripped/ZRH-004_ses-01/img_164_normalized.npy\n",
      "Saved resized NPY: /media/sarvagya-pc/2TB HDD/Balgrist/MPM_nonProcessed/axial_skullstripped/ZRH-004_ses-01/img_165_normalized.npy\n",
      "Saved PNG: /media/sarvagya-pc/2TB HDD/Balgrist/MPM_nonProcessed/axial_skullstripped/ZRH-004_ses-01/img_165.png and NPY: /media/sarvagya-pc/2TB HDD/Balgrist/MPM_nonProcessed/axial_skullstripped/ZRH-004_ses-01/img_165_normalized.npy\n",
      "Saved resized NPY: /media/sarvagya-pc/2TB HDD/Balgrist/MPM_nonProcessed/axial_skullstripped/ZRH-004_ses-01/img_166_normalized.npy\n",
      "Saved PNG: /media/sarvagya-pc/2TB HDD/Balgrist/MPM_nonProcessed/axial_skullstripped/ZRH-004_ses-01/img_166.png and NPY: /media/sarvagya-pc/2TB HDD/Balgrist/MPM_nonProcessed/axial_skullstripped/ZRH-004_ses-01/img_166_normalized.npy\n",
      "Saved resized NPY: /media/sarvagya-pc/2TB HDD/Balgrist/MPM_nonProcessed/axial_skullstripped/ZRH-004_ses-01/img_167_normalized.npy\n",
      "Saved PNG: /media/sarvagya-pc/2TB HDD/Balgrist/MPM_nonProcessed/axial_skullstripped/ZRH-004_ses-01/img_167.png and NPY: /media/sarvagya-pc/2TB HDD/Balgrist/MPM_nonProcessed/axial_skullstripped/ZRH-004_ses-01/img_167_normalized.npy\n",
      "Saved resized NPY: /media/sarvagya-pc/2TB HDD/Balgrist/MPM_nonProcessed/axial_skullstripped/ZRH-004_ses-01/img_168_normalized.npy\n",
      "Saved PNG: /media/sarvagya-pc/2TB HDD/Balgrist/MPM_nonProcessed/axial_skullstripped/ZRH-004_ses-01/img_168.png and NPY: /media/sarvagya-pc/2TB HDD/Balgrist/MPM_nonProcessed/axial_skullstripped/ZRH-004_ses-01/img_168_normalized.npy\n",
      "Saved resized NPY: /media/sarvagya-pc/2TB HDD/Balgrist/MPM_nonProcessed/axial_skullstripped/ZRH-004_ses-01/img_169_normalized.npy\n",
      "Saved PNG: /media/sarvagya-pc/2TB HDD/Balgrist/MPM_nonProcessed/axial_skullstripped/ZRH-004_ses-01/img_169.png and NPY: /media/sarvagya-pc/2TB HDD/Balgrist/MPM_nonProcessed/axial_skullstripped/ZRH-004_ses-01/img_169_normalized.npy\n",
      "Saved resized NPY: /media/sarvagya-pc/2TB HDD/Balgrist/MPM_nonProcessed/axial_skullstripped/ZRH-004_ses-01/img_170_normalized.npy\n",
      "Saved PNG: /media/sarvagya-pc/2TB HDD/Balgrist/MPM_nonProcessed/axial_skullstripped/ZRH-004_ses-01/img_170.png and NPY: /media/sarvagya-pc/2TB HDD/Balgrist/MPM_nonProcessed/axial_skullstripped/ZRH-004_ses-01/img_170_normalized.npy\n",
      "Saved resized NPY: /media/sarvagya-pc/2TB HDD/Balgrist/MPM_nonProcessed/axial_skullstripped/ZRH-004_ses-01/img_171_normalized.npy\n",
      "Saved PNG: /media/sarvagya-pc/2TB HDD/Balgrist/MPM_nonProcessed/axial_skullstripped/ZRH-004_ses-01/img_171.png and NPY: /media/sarvagya-pc/2TB HDD/Balgrist/MPM_nonProcessed/axial_skullstripped/ZRH-004_ses-01/img_171_normalized.npy\n",
      "Saved resized NPY: /media/sarvagya-pc/2TB HDD/Balgrist/MPM_nonProcessed/axial_skullstripped/ZRH-004_ses-01/img_172_normalized.npy\n",
      "Saved PNG: /media/sarvagya-pc/2TB HDD/Balgrist/MPM_nonProcessed/axial_skullstripped/ZRH-004_ses-01/img_172.png and NPY: /media/sarvagya-pc/2TB HDD/Balgrist/MPM_nonProcessed/axial_skullstripped/ZRH-004_ses-01/img_172_normalized.npy\n",
      "Saved resized NPY: /media/sarvagya-pc/2TB HDD/Balgrist/MPM_nonProcessed/axial_skullstripped/ZRH-004_ses-01/img_173_normalized.npy\n",
      "Saved PNG: /media/sarvagya-pc/2TB HDD/Balgrist/MPM_nonProcessed/axial_skullstripped/ZRH-004_ses-01/img_173.png and NPY: /media/sarvagya-pc/2TB HDD/Balgrist/MPM_nonProcessed/axial_skullstripped/ZRH-004_ses-01/img_173_normalized.npy\n",
      "Saved resized NPY: /media/sarvagya-pc/2TB HDD/Balgrist/MPM_nonProcessed/axial_skullstripped/ZRH-004_ses-01/img_174_normalized.npy\n",
      "Saved PNG: /media/sarvagya-pc/2TB HDD/Balgrist/MPM_nonProcessed/axial_skullstripped/ZRH-004_ses-01/img_174.png and NPY: /media/sarvagya-pc/2TB HDD/Balgrist/MPM_nonProcessed/axial_skullstripped/ZRH-004_ses-01/img_174_normalized.npy\n",
      "Saved resized NPY: /media/sarvagya-pc/2TB HDD/Balgrist/MPM_nonProcessed/axial_skullstripped/ZRH-004_ses-01/img_175_normalized.npy\n",
      "Saved PNG: /media/sarvagya-pc/2TB HDD/Balgrist/MPM_nonProcessed/axial_skullstripped/ZRH-004_ses-01/img_175.png and NPY: /media/sarvagya-pc/2TB HDD/Balgrist/MPM_nonProcessed/axial_skullstripped/ZRH-004_ses-01/img_175_normalized.npy\n",
      "Saved resized NPY: /media/sarvagya-pc/2TB HDD/Balgrist/MPM_nonProcessed/axial_skullstripped/ZRH-004_ses-01/img_176_normalized.npy\n",
      "Saved PNG: /media/sarvagya-pc/2TB HDD/Balgrist/MPM_nonProcessed/axial_skullstripped/ZRH-004_ses-01/img_176.png and NPY: /media/sarvagya-pc/2TB HDD/Balgrist/MPM_nonProcessed/axial_skullstripped/ZRH-004_ses-01/img_176_normalized.npy\n",
      "Saved resized NPY: /media/sarvagya-pc/2TB HDD/Balgrist/MPM_nonProcessed/axial_skullstripped/ZRH-004_ses-01/img_177_normalized.npy\n",
      "Saved PNG: /media/sarvagya-pc/2TB HDD/Balgrist/MPM_nonProcessed/axial_skullstripped/ZRH-004_ses-01/img_177.png and NPY: /media/sarvagya-pc/2TB HDD/Balgrist/MPM_nonProcessed/axial_skullstripped/ZRH-004_ses-01/img_177_normalized.npy\n",
      "Saved resized NPY: /media/sarvagya-pc/2TB HDD/Balgrist/MPM_nonProcessed/axial_skullstripped/ZRH-004_ses-01/img_178_normalized.npy\n",
      "Saved PNG: /media/sarvagya-pc/2TB HDD/Balgrist/MPM_nonProcessed/axial_skullstripped/ZRH-004_ses-01/img_178.png and NPY: /media/sarvagya-pc/2TB HDD/Balgrist/MPM_nonProcessed/axial_skullstripped/ZRH-004_ses-01/img_178_normalized.npy\n",
      "Saved resized NPY: /media/sarvagya-pc/2TB HDD/Balgrist/MPM_nonProcessed/axial_skullstripped/ZRH-004_ses-01/img_179_normalized.npy\n",
      "Saved PNG: /media/sarvagya-pc/2TB HDD/Balgrist/MPM_nonProcessed/axial_skullstripped/ZRH-004_ses-01/img_179.png and NPY: /media/sarvagya-pc/2TB HDD/Balgrist/MPM_nonProcessed/axial_skullstripped/ZRH-004_ses-01/img_179_normalized.npy\n",
      "Saved resized NPY: /media/sarvagya-pc/2TB HDD/Balgrist/MPM_nonProcessed/axial_skullstripped/ZRH-004_ses-01/img_180_normalized.npy\n",
      "Saved PNG: /media/sarvagya-pc/2TB HDD/Balgrist/MPM_nonProcessed/axial_skullstripped/ZRH-004_ses-01/img_180.png and NPY: /media/sarvagya-pc/2TB HDD/Balgrist/MPM_nonProcessed/axial_skullstripped/ZRH-004_ses-01/img_180_normalized.npy\n",
      "Saved resized NPY: /media/sarvagya-pc/2TB HDD/Balgrist/MPM_nonProcessed/axial_skullstripped/ZRH-004_ses-01/img_181_normalized.npy\n",
      "Saved PNG: /media/sarvagya-pc/2TB HDD/Balgrist/MPM_nonProcessed/axial_skullstripped/ZRH-004_ses-01/img_181.png and NPY: /media/sarvagya-pc/2TB HDD/Balgrist/MPM_nonProcessed/axial_skullstripped/ZRH-004_ses-01/img_181_normalized.npy\n",
      "Saved resized NPY: /media/sarvagya-pc/2TB HDD/Balgrist/MPM_nonProcessed/axial_skullstripped/ZRH-004_ses-01/img_182_normalized.npy\n",
      "Saved PNG: /media/sarvagya-pc/2TB HDD/Balgrist/MPM_nonProcessed/axial_skullstripped/ZRH-004_ses-01/img_182.png and NPY: /media/sarvagya-pc/2TB HDD/Balgrist/MPM_nonProcessed/axial_skullstripped/ZRH-004_ses-01/img_182_normalized.npy\n",
      "Saved resized NPY: /media/sarvagya-pc/2TB HDD/Balgrist/MPM_nonProcessed/axial_skullstripped/ZRH-004_ses-01/img_183_normalized.npy\n",
      "Saved PNG: /media/sarvagya-pc/2TB HDD/Balgrist/MPM_nonProcessed/axial_skullstripped/ZRH-004_ses-01/img_183.png and NPY: /media/sarvagya-pc/2TB HDD/Balgrist/MPM_nonProcessed/axial_skullstripped/ZRH-004_ses-01/img_183_normalized.npy\n",
      "Saved resized NPY: /media/sarvagya-pc/2TB HDD/Balgrist/MPM_nonProcessed/axial_skullstripped/ZRH-004_ses-01/img_184_normalized.npy\n",
      "Saved PNG: /media/sarvagya-pc/2TB HDD/Balgrist/MPM_nonProcessed/axial_skullstripped/ZRH-004_ses-01/img_184.png and NPY: /media/sarvagya-pc/2TB HDD/Balgrist/MPM_nonProcessed/axial_skullstripped/ZRH-004_ses-01/img_184_normalized.npy\n",
      "Saved resized NPY: /media/sarvagya-pc/2TB HDD/Balgrist/MPM_nonProcessed/axial_skullstripped/ZRH-004_ses-01/img_185_normalized.npy\n",
      "Saved PNG: /media/sarvagya-pc/2TB HDD/Balgrist/MPM_nonProcessed/axial_skullstripped/ZRH-004_ses-01/img_185.png and NPY: /media/sarvagya-pc/2TB HDD/Balgrist/MPM_nonProcessed/axial_skullstripped/ZRH-004_ses-01/img_185_normalized.npy\n",
      "Saved resized NPY: /media/sarvagya-pc/2TB HDD/Balgrist/MPM_nonProcessed/axial_skullstripped/ZRH-004_ses-01/img_186_normalized.npy\n",
      "Saved PNG: /media/sarvagya-pc/2TB HDD/Balgrist/MPM_nonProcessed/axial_skullstripped/ZRH-004_ses-01/img_186.png and NPY: /media/sarvagya-pc/2TB HDD/Balgrist/MPM_nonProcessed/axial_skullstripped/ZRH-004_ses-01/img_186_normalized.npy\n",
      "Saved resized NPY: /media/sarvagya-pc/2TB HDD/Balgrist/MPM_nonProcessed/axial_skullstripped/ZRH-004_ses-01/img_187_normalized.npy\n",
      "Saved PNG: /media/sarvagya-pc/2TB HDD/Balgrist/MPM_nonProcessed/axial_skullstripped/ZRH-004_ses-01/img_187.png and NPY: /media/sarvagya-pc/2TB HDD/Balgrist/MPM_nonProcessed/axial_skullstripped/ZRH-004_ses-01/img_187_normalized.npy\n",
      "Saved resized NPY: /media/sarvagya-pc/2TB HDD/Balgrist/MPM_nonProcessed/axial_skullstripped/ZRH-004_ses-01/img_188_normalized.npy\n",
      "Saved PNG: /media/sarvagya-pc/2TB HDD/Balgrist/MPM_nonProcessed/axial_skullstripped/ZRH-004_ses-01/img_188.png and NPY: /media/sarvagya-pc/2TB HDD/Balgrist/MPM_nonProcessed/axial_skullstripped/ZRH-004_ses-01/img_188_normalized.npy\n",
      "Saved resized NPY: /media/sarvagya-pc/2TB HDD/Balgrist/MPM_nonProcessed/axial_skullstripped/ZRH-004_ses-01/img_189_normalized.npy\n",
      "Saved PNG: /media/sarvagya-pc/2TB HDD/Balgrist/MPM_nonProcessed/axial_skullstripped/ZRH-004_ses-01/img_189.png and NPY: /media/sarvagya-pc/2TB HDD/Balgrist/MPM_nonProcessed/axial_skullstripped/ZRH-004_ses-01/img_189_normalized.npy\n",
      "Saved resized NPY: /media/sarvagya-pc/2TB HDD/Balgrist/MPM_nonProcessed/axial_skullstripped/ZRH-004_ses-01/img_190_normalized.npy\n",
      "Saved PNG: /media/sarvagya-pc/2TB HDD/Balgrist/MPM_nonProcessed/axial_skullstripped/ZRH-004_ses-01/img_190.png and NPY: /media/sarvagya-pc/2TB HDD/Balgrist/MPM_nonProcessed/axial_skullstripped/ZRH-004_ses-01/img_190_normalized.npy\n",
      "Saved resized NPY: /media/sarvagya-pc/2TB HDD/Balgrist/MPM_nonProcessed/axial_skullstripped/ZRH-004_ses-01/img_191_normalized.npy\n",
      "Saved PNG: /media/sarvagya-pc/2TB HDD/Balgrist/MPM_nonProcessed/axial_skullstripped/ZRH-004_ses-01/img_191.png and NPY: /media/sarvagya-pc/2TB HDD/Balgrist/MPM_nonProcessed/axial_skullstripped/ZRH-004_ses-01/img_191_normalized.npy\n",
      "Saved resized NPY: /media/sarvagya-pc/2TB HDD/Balgrist/MPM_nonProcessed/axial_skullstripped/ZRH-004_ses-01/img_192_normalized.npy\n",
      "Saved PNG: /media/sarvagya-pc/2TB HDD/Balgrist/MPM_nonProcessed/axial_skullstripped/ZRH-004_ses-01/img_192.png and NPY: /media/sarvagya-pc/2TB HDD/Balgrist/MPM_nonProcessed/axial_skullstripped/ZRH-004_ses-01/img_192_normalized.npy\n",
      "Saved resized NPY: /media/sarvagya-pc/2TB HDD/Balgrist/MPM_nonProcessed/axial_skullstripped/ZRH-004_ses-01/img_193_normalized.npy\n",
      "Saved PNG: /media/sarvagya-pc/2TB HDD/Balgrist/MPM_nonProcessed/axial_skullstripped/ZRH-004_ses-01/img_193.png and NPY: /media/sarvagya-pc/2TB HDD/Balgrist/MPM_nonProcessed/axial_skullstripped/ZRH-004_ses-01/img_193_normalized.npy\n",
      "Saved resized NPY: /media/sarvagya-pc/2TB HDD/Balgrist/MPM_nonProcessed/axial_skullstripped/ZRH-004_ses-01/img_194_normalized.npy\n",
      "Saved PNG: /media/sarvagya-pc/2TB HDD/Balgrist/MPM_nonProcessed/axial_skullstripped/ZRH-004_ses-01/img_194.png and NPY: /media/sarvagya-pc/2TB HDD/Balgrist/MPM_nonProcessed/axial_skullstripped/ZRH-004_ses-01/img_194_normalized.npy\n",
      "Saved resized NPY: /media/sarvagya-pc/2TB HDD/Balgrist/MPM_nonProcessed/axial_skullstripped/ZRH-004_ses-01/img_195_normalized.npy\n",
      "Saved PNG: /media/sarvagya-pc/2TB HDD/Balgrist/MPM_nonProcessed/axial_skullstripped/ZRH-004_ses-01/img_195.png and NPY: /media/sarvagya-pc/2TB HDD/Balgrist/MPM_nonProcessed/axial_skullstripped/ZRH-004_ses-01/img_195_normalized.npy\n",
      "Saved resized NPY: /media/sarvagya-pc/2TB HDD/Balgrist/MPM_nonProcessed/axial_skullstripped/ZRH-004_ses-01/img_196_normalized.npy\n",
      "Saved PNG: /media/sarvagya-pc/2TB HDD/Balgrist/MPM_nonProcessed/axial_skullstripped/ZRH-004_ses-01/img_196.png and NPY: /media/sarvagya-pc/2TB HDD/Balgrist/MPM_nonProcessed/axial_skullstripped/ZRH-004_ses-01/img_196_normalized.npy\n",
      "Saved resized NPY: /media/sarvagya-pc/2TB HDD/Balgrist/MPM_nonProcessed/axial_skullstripped/ZRH-004_ses-01/img_197_normalized.npy\n",
      "Saved PNG: /media/sarvagya-pc/2TB HDD/Balgrist/MPM_nonProcessed/axial_skullstripped/ZRH-004_ses-01/img_197.png and NPY: /media/sarvagya-pc/2TB HDD/Balgrist/MPM_nonProcessed/axial_skullstripped/ZRH-004_ses-01/img_197_normalized.npy\n",
      "Saved resized NPY: /media/sarvagya-pc/2TB HDD/Balgrist/MPM_nonProcessed/axial_skullstripped/ZRH-004_ses-01/img_198_normalized.npy\n",
      "Saved PNG: /media/sarvagya-pc/2TB HDD/Balgrist/MPM_nonProcessed/axial_skullstripped/ZRH-004_ses-01/img_198.png and NPY: /media/sarvagya-pc/2TB HDD/Balgrist/MPM_nonProcessed/axial_skullstripped/ZRH-004_ses-01/img_198_normalized.npy\n",
      "Saved resized NPY: /media/sarvagya-pc/2TB HDD/Balgrist/MPM_nonProcessed/axial_skullstripped/ZRH-004_ses-01/img_199_normalized.npy\n",
      "Saved PNG: /media/sarvagya-pc/2TB HDD/Balgrist/MPM_nonProcessed/axial_skullstripped/ZRH-004_ses-01/img_199.png and NPY: /media/sarvagya-pc/2TB HDD/Balgrist/MPM_nonProcessed/axial_skullstripped/ZRH-004_ses-01/img_199_normalized.npy\n",
      "Saved resized NPY: /media/sarvagya-pc/2TB HDD/Balgrist/MPM_nonProcessed/axial_skullstripped/ZRH-004_ses-01/img_200_normalized.npy\n",
      "Saved PNG: /media/sarvagya-pc/2TB HDD/Balgrist/MPM_nonProcessed/axial_skullstripped/ZRH-004_ses-01/img_200.png and NPY: /media/sarvagya-pc/2TB HDD/Balgrist/MPM_nonProcessed/axial_skullstripped/ZRH-004_ses-01/img_200_normalized.npy\n",
      "Saved resized NPY: /media/sarvagya-pc/2TB HDD/Balgrist/MPM_nonProcessed/axial_skullstripped/ZRH-004_ses-01/img_201_normalized.npy\n",
      "Saved PNG: /media/sarvagya-pc/2TB HDD/Balgrist/MPM_nonProcessed/axial_skullstripped/ZRH-004_ses-01/img_201.png and NPY: /media/sarvagya-pc/2TB HDD/Balgrist/MPM_nonProcessed/axial_skullstripped/ZRH-004_ses-01/img_201_normalized.npy\n",
      "Saved resized NPY: /media/sarvagya-pc/2TB HDD/Balgrist/MPM_nonProcessed/axial_skullstripped/ZRH-004_ses-01/img_202_normalized.npy\n",
      "Saved PNG: /media/sarvagya-pc/2TB HDD/Balgrist/MPM_nonProcessed/axial_skullstripped/ZRH-004_ses-01/img_202.png and NPY: /media/sarvagya-pc/2TB HDD/Balgrist/MPM_nonProcessed/axial_skullstripped/ZRH-004_ses-01/img_202_normalized.npy\n",
      "Saved resized NPY: /media/sarvagya-pc/2TB HDD/Balgrist/MPM_nonProcessed/axial_skullstripped/ZRH-004_ses-01/img_203_normalized.npy\n",
      "Saved PNG: /media/sarvagya-pc/2TB HDD/Balgrist/MPM_nonProcessed/axial_skullstripped/ZRH-004_ses-01/img_203.png and NPY: /media/sarvagya-pc/2TB HDD/Balgrist/MPM_nonProcessed/axial_skullstripped/ZRH-004_ses-01/img_203_normalized.npy\n",
      "Saved resized NPY: /media/sarvagya-pc/2TB HDD/Balgrist/MPM_nonProcessed/axial_skullstripped/ZRH-004_ses-01/img_204_normalized.npy\n",
      "Saved PNG: /media/sarvagya-pc/2TB HDD/Balgrist/MPM_nonProcessed/axial_skullstripped/ZRH-004_ses-01/img_204.png and NPY: /media/sarvagya-pc/2TB HDD/Balgrist/MPM_nonProcessed/axial_skullstripped/ZRH-004_ses-01/img_204_normalized.npy\n",
      "Saved resized NPY: /media/sarvagya-pc/2TB HDD/Balgrist/MPM_nonProcessed/axial_skullstripped/ZRH-004_ses-01/img_205_normalized.npy\n",
      "Saved PNG: /media/sarvagya-pc/2TB HDD/Balgrist/MPM_nonProcessed/axial_skullstripped/ZRH-004_ses-01/img_205.png and NPY: /media/sarvagya-pc/2TB HDD/Balgrist/MPM_nonProcessed/axial_skullstripped/ZRH-004_ses-01/img_205_normalized.npy\n",
      "Saved resized NPY: /media/sarvagya-pc/2TB HDD/Balgrist/MPM_nonProcessed/axial_skullstripped/ZRH-004_ses-01/img_206_normalized.npy\n",
      "Saved PNG: /media/sarvagya-pc/2TB HDD/Balgrist/MPM_nonProcessed/axial_skullstripped/ZRH-004_ses-01/img_206.png and NPY: /media/sarvagya-pc/2TB HDD/Balgrist/MPM_nonProcessed/axial_skullstripped/ZRH-004_ses-01/img_206_normalized.npy\n",
      "Saved resized NPY: /media/sarvagya-pc/2TB HDD/Balgrist/MPM_nonProcessed/axial_skullstripped/ZRH-004_ses-01/img_207_normalized.npy\n",
      "Saved PNG: /media/sarvagya-pc/2TB HDD/Balgrist/MPM_nonProcessed/axial_skullstripped/ZRH-004_ses-01/img_207.png and NPY: /media/sarvagya-pc/2TB HDD/Balgrist/MPM_nonProcessed/axial_skullstripped/ZRH-004_ses-01/img_207_normalized.npy\n",
      "Saved resized NPY: /media/sarvagya-pc/2TB HDD/Balgrist/MPM_nonProcessed/axial_skullstripped/ZRH-004_ses-01/img_208_normalized.npy\n",
      "Saved PNG: /media/sarvagya-pc/2TB HDD/Balgrist/MPM_nonProcessed/axial_skullstripped/ZRH-004_ses-01/img_208.png and NPY: /media/sarvagya-pc/2TB HDD/Balgrist/MPM_nonProcessed/axial_skullstripped/ZRH-004_ses-01/img_208_normalized.npy\n",
      "Saved resized NPY: /media/sarvagya-pc/2TB HDD/Balgrist/MPM_nonProcessed/axial_skullstripped/ZRH-004_ses-01/img_209_normalized.npy\n",
      "Saved PNG: /media/sarvagya-pc/2TB HDD/Balgrist/MPM_nonProcessed/axial_skullstripped/ZRH-004_ses-01/img_209.png and NPY: /media/sarvagya-pc/2TB HDD/Balgrist/MPM_nonProcessed/axial_skullstripped/ZRH-004_ses-01/img_209_normalized.npy\n",
      "Saved resized NPY: /media/sarvagya-pc/2TB HDD/Balgrist/MPM_nonProcessed/axial_skullstripped/ZRH-004_ses-01/img_210_normalized.npy\n",
      "Saved PNG: /media/sarvagya-pc/2TB HDD/Balgrist/MPM_nonProcessed/axial_skullstripped/ZRH-004_ses-01/img_210.png and NPY: /media/sarvagya-pc/2TB HDD/Balgrist/MPM_nonProcessed/axial_skullstripped/ZRH-004_ses-01/img_210_normalized.npy\n",
      "Saved resized NPY: /media/sarvagya-pc/2TB HDD/Balgrist/MPM_nonProcessed/axial_skullstripped/ZRH-004_ses-01/img_211_normalized.npy\n",
      "Saved PNG: /media/sarvagya-pc/2TB HDD/Balgrist/MPM_nonProcessed/axial_skullstripped/ZRH-004_ses-01/img_211.png and NPY: /media/sarvagya-pc/2TB HDD/Balgrist/MPM_nonProcessed/axial_skullstripped/ZRH-004_ses-01/img_211_normalized.npy\n",
      "Saved resized NPY: /media/sarvagya-pc/2TB HDD/Balgrist/MPM_nonProcessed/axial_skullstripped/ZRH-004_ses-01/img_212_normalized.npy\n",
      "Saved PNG: /media/sarvagya-pc/2TB HDD/Balgrist/MPM_nonProcessed/axial_skullstripped/ZRH-004_ses-01/img_212.png and NPY: /media/sarvagya-pc/2TB HDD/Balgrist/MPM_nonProcessed/axial_skullstripped/ZRH-004_ses-01/img_212_normalized.npy\n",
      "Saved resized NPY: /media/sarvagya-pc/2TB HDD/Balgrist/MPM_nonProcessed/axial_skullstripped/ZRH-004_ses-01/img_213_normalized.npy\n",
      "Saved PNG: /media/sarvagya-pc/2TB HDD/Balgrist/MPM_nonProcessed/axial_skullstripped/ZRH-004_ses-01/img_213.png and NPY: /media/sarvagya-pc/2TB HDD/Balgrist/MPM_nonProcessed/axial_skullstripped/ZRH-004_ses-01/img_213_normalized.npy\n",
      "Saved resized NPY: /media/sarvagya-pc/2TB HDD/Balgrist/MPM_nonProcessed/axial_skullstripped/ZRH-004_ses-01/img_214_normalized.npy\n",
      "Saved PNG: /media/sarvagya-pc/2TB HDD/Balgrist/MPM_nonProcessed/axial_skullstripped/ZRH-004_ses-01/img_214.png and NPY: /media/sarvagya-pc/2TB HDD/Balgrist/MPM_nonProcessed/axial_skullstripped/ZRH-004_ses-01/img_214_normalized.npy\n",
      "Saved resized NPY: /media/sarvagya-pc/2TB HDD/Balgrist/MPM_nonProcessed/axial_skullstripped/ZRH-004_ses-01/img_215_normalized.npy\n",
      "Saved PNG: /media/sarvagya-pc/2TB HDD/Balgrist/MPM_nonProcessed/axial_skullstripped/ZRH-004_ses-01/img_215.png and NPY: /media/sarvagya-pc/2TB HDD/Balgrist/MPM_nonProcessed/axial_skullstripped/ZRH-004_ses-01/img_215_normalized.npy\n",
      "Saved resized NPY: /media/sarvagya-pc/2TB HDD/Balgrist/MPM_nonProcessed/axial_skullstripped/ZRH-004_ses-01/img_216_normalized.npy\n",
      "Saved PNG: /media/sarvagya-pc/2TB HDD/Balgrist/MPM_nonProcessed/axial_skullstripped/ZRH-004_ses-01/img_216.png and NPY: /media/sarvagya-pc/2TB HDD/Balgrist/MPM_nonProcessed/axial_skullstripped/ZRH-004_ses-01/img_216_normalized.npy\n",
      "Saved resized NPY: /media/sarvagya-pc/2TB HDD/Balgrist/MPM_nonProcessed/axial_skullstripped/ZRH-004_ses-01/img_217_normalized.npy\n",
      "Saved PNG: /media/sarvagya-pc/2TB HDD/Balgrist/MPM_nonProcessed/axial_skullstripped/ZRH-004_ses-01/img_217.png and NPY: /media/sarvagya-pc/2TB HDD/Balgrist/MPM_nonProcessed/axial_skullstripped/ZRH-004_ses-01/img_217_normalized.npy\n",
      "Saved resized NPY: /media/sarvagya-pc/2TB HDD/Balgrist/MPM_nonProcessed/axial_skullstripped/ZRH-004_ses-01/img_218_normalized.npy\n",
      "Saved PNG: /media/sarvagya-pc/2TB HDD/Balgrist/MPM_nonProcessed/axial_skullstripped/ZRH-004_ses-01/img_218.png and NPY: /media/sarvagya-pc/2TB HDD/Balgrist/MPM_nonProcessed/axial_skullstripped/ZRH-004_ses-01/img_218_normalized.npy\n",
      "Saved resized NPY: /media/sarvagya-pc/2TB HDD/Balgrist/MPM_nonProcessed/axial_skullstripped/ZRH-004_ses-01/img_219_normalized.npy\n",
      "Saved PNG: /media/sarvagya-pc/2TB HDD/Balgrist/MPM_nonProcessed/axial_skullstripped/ZRH-004_ses-01/img_219.png and NPY: /media/sarvagya-pc/2TB HDD/Balgrist/MPM_nonProcessed/axial_skullstripped/ZRH-004_ses-01/img_219_normalized.npy\n",
      "(256, 256, 176)\n",
      "MNU-007_ses-03\n",
      "Saved resized NPY: /media/sarvagya-pc/2TB HDD/Balgrist/MPM_nonProcessed/axial_skullstripped/MNU-007_ses-03/img_133_normalized.npy\n",
      "Saved PNG: /media/sarvagya-pc/2TB HDD/Balgrist/MPM_nonProcessed/axial_skullstripped/MNU-007_ses-03/img_133.png and NPY: /media/sarvagya-pc/2TB HDD/Balgrist/MPM_nonProcessed/axial_skullstripped/MNU-007_ses-03/img_133_normalized.npy\n",
      "Saved resized NPY: /media/sarvagya-pc/2TB HDD/Balgrist/MPM_nonProcessed/axial_skullstripped/MNU-007_ses-03/img_134_normalized.npy\n",
      "Saved PNG: /media/sarvagya-pc/2TB HDD/Balgrist/MPM_nonProcessed/axial_skullstripped/MNU-007_ses-03/img_134.png and NPY: /media/sarvagya-pc/2TB HDD/Balgrist/MPM_nonProcessed/axial_skullstripped/MNU-007_ses-03/img_134_normalized.npy\n",
      "Saved resized NPY: /media/sarvagya-pc/2TB HDD/Balgrist/MPM_nonProcessed/axial_skullstripped/MNU-007_ses-03/img_135_normalized.npy\n",
      "Saved PNG: /media/sarvagya-pc/2TB HDD/Balgrist/MPM_nonProcessed/axial_skullstripped/MNU-007_ses-03/img_135.png and NPY: /media/sarvagya-pc/2TB HDD/Balgrist/MPM_nonProcessed/axial_skullstripped/MNU-007_ses-03/img_135_normalized.npy\n",
      "Saved resized NPY: /media/sarvagya-pc/2TB HDD/Balgrist/MPM_nonProcessed/axial_skullstripped/MNU-007_ses-03/img_136_normalized.npy\n",
      "Saved PNG: /media/sarvagya-pc/2TB HDD/Balgrist/MPM_nonProcessed/axial_skullstripped/MNU-007_ses-03/img_136.png and NPY: /media/sarvagya-pc/2TB HDD/Balgrist/MPM_nonProcessed/axial_skullstripped/MNU-007_ses-03/img_136_normalized.npy\n",
      "Saved resized NPY: /media/sarvagya-pc/2TB HDD/Balgrist/MPM_nonProcessed/axial_skullstripped/MNU-007_ses-03/img_137_normalized.npy\n",
      "Saved PNG: /media/sarvagya-pc/2TB HDD/Balgrist/MPM_nonProcessed/axial_skullstripped/MNU-007_ses-03/img_137.png and NPY: /media/sarvagya-pc/2TB HDD/Balgrist/MPM_nonProcessed/axial_skullstripped/MNU-007_ses-03/img_137_normalized.npy\n",
      "Saved resized NPY: /media/sarvagya-pc/2TB HDD/Balgrist/MPM_nonProcessed/axial_skullstripped/MNU-007_ses-03/img_138_normalized.npy\n",
      "Saved PNG: /media/sarvagya-pc/2TB HDD/Balgrist/MPM_nonProcessed/axial_skullstripped/MNU-007_ses-03/img_138.png and NPY: /media/sarvagya-pc/2TB HDD/Balgrist/MPM_nonProcessed/axial_skullstripped/MNU-007_ses-03/img_138_normalized.npy\n",
      "Saved resized NPY: /media/sarvagya-pc/2TB HDD/Balgrist/MPM_nonProcessed/axial_skullstripped/MNU-007_ses-03/img_139_normalized.npy\n",
      "Saved PNG: /media/sarvagya-pc/2TB HDD/Balgrist/MPM_nonProcessed/axial_skullstripped/MNU-007_ses-03/img_139.png and NPY: /media/sarvagya-pc/2TB HDD/Balgrist/MPM_nonProcessed/axial_skullstripped/MNU-007_ses-03/img_139_normalized.npy\n",
      "Saved resized NPY: /media/sarvagya-pc/2TB HDD/Balgrist/MPM_nonProcessed/axial_skullstripped/MNU-007_ses-03/img_140_normalized.npy\n",
      "Saved PNG: /media/sarvagya-pc/2TB HDD/Balgrist/MPM_nonProcessed/axial_skullstripped/MNU-007_ses-03/img_140.png and NPY: /media/sarvagya-pc/2TB HDD/Balgrist/MPM_nonProcessed/axial_skullstripped/MNU-007_ses-03/img_140_normalized.npy\n",
      "Saved resized NPY: /media/sarvagya-pc/2TB HDD/Balgrist/MPM_nonProcessed/axial_skullstripped/MNU-007_ses-03/img_141_normalized.npy\n",
      "Saved PNG: /media/sarvagya-pc/2TB HDD/Balgrist/MPM_nonProcessed/axial_skullstripped/MNU-007_ses-03/img_141.png and NPY: /media/sarvagya-pc/2TB HDD/Balgrist/MPM_nonProcessed/axial_skullstripped/MNU-007_ses-03/img_141_normalized.npy\n",
      "Saved resized NPY: /media/sarvagya-pc/2TB HDD/Balgrist/MPM_nonProcessed/axial_skullstripped/MNU-007_ses-03/img_142_normalized.npy\n",
      "Saved PNG: /media/sarvagya-pc/2TB HDD/Balgrist/MPM_nonProcessed/axial_skullstripped/MNU-007_ses-03/img_142.png and NPY: /media/sarvagya-pc/2TB HDD/Balgrist/MPM_nonProcessed/axial_skullstripped/MNU-007_ses-03/img_142_normalized.npy\n",
      "Saved resized NPY: /media/sarvagya-pc/2TB HDD/Balgrist/MPM_nonProcessed/axial_skullstripped/MNU-007_ses-03/img_143_normalized.npy\n",
      "Saved PNG: /media/sarvagya-pc/2TB HDD/Balgrist/MPM_nonProcessed/axial_skullstripped/MNU-007_ses-03/img_143.png and NPY: /media/sarvagya-pc/2TB HDD/Balgrist/MPM_nonProcessed/axial_skullstripped/MNU-007_ses-03/img_143_normalized.npy\n",
      "Saved resized NPY: /media/sarvagya-pc/2TB HDD/Balgrist/MPM_nonProcessed/axial_skullstripped/MNU-007_ses-03/img_144_normalized.npy\n",
      "Saved PNG: /media/sarvagya-pc/2TB HDD/Balgrist/MPM_nonProcessed/axial_skullstripped/MNU-007_ses-03/img_144.png and NPY: /media/sarvagya-pc/2TB HDD/Balgrist/MPM_nonProcessed/axial_skullstripped/MNU-007_ses-03/img_144_normalized.npy\n",
      "Saved resized NPY: /media/sarvagya-pc/2TB HDD/Balgrist/MPM_nonProcessed/axial_skullstripped/MNU-007_ses-03/img_145_normalized.npy\n",
      "Saved PNG: /media/sarvagya-pc/2TB HDD/Balgrist/MPM_nonProcessed/axial_skullstripped/MNU-007_ses-03/img_145.png and NPY: /media/sarvagya-pc/2TB HDD/Balgrist/MPM_nonProcessed/axial_skullstripped/MNU-007_ses-03/img_145_normalized.npy\n",
      "Saved resized NPY: /media/sarvagya-pc/2TB HDD/Balgrist/MPM_nonProcessed/axial_skullstripped/MNU-007_ses-03/img_146_normalized.npy\n",
      "Saved PNG: /media/sarvagya-pc/2TB HDD/Balgrist/MPM_nonProcessed/axial_skullstripped/MNU-007_ses-03/img_146.png and NPY: /media/sarvagya-pc/2TB HDD/Balgrist/MPM_nonProcessed/axial_skullstripped/MNU-007_ses-03/img_146_normalized.npy\n",
      "Saved resized NPY: /media/sarvagya-pc/2TB HDD/Balgrist/MPM_nonProcessed/axial_skullstripped/MNU-007_ses-03/img_147_normalized.npy\n",
      "Saved PNG: /media/sarvagya-pc/2TB HDD/Balgrist/MPM_nonProcessed/axial_skullstripped/MNU-007_ses-03/img_147.png and NPY: /media/sarvagya-pc/2TB HDD/Balgrist/MPM_nonProcessed/axial_skullstripped/MNU-007_ses-03/img_147_normalized.npy\n",
      "Saved resized NPY: /media/sarvagya-pc/2TB HDD/Balgrist/MPM_nonProcessed/axial_skullstripped/MNU-007_ses-03/img_148_normalized.npy\n",
      "Saved PNG: /media/sarvagya-pc/2TB HDD/Balgrist/MPM_nonProcessed/axial_skullstripped/MNU-007_ses-03/img_148.png and NPY: /media/sarvagya-pc/2TB HDD/Balgrist/MPM_nonProcessed/axial_skullstripped/MNU-007_ses-03/img_148_normalized.npy\n",
      "Saved resized NPY: /media/sarvagya-pc/2TB HDD/Balgrist/MPM_nonProcessed/axial_skullstripped/MNU-007_ses-03/img_149_normalized.npy\n",
      "Saved PNG: /media/sarvagya-pc/2TB HDD/Balgrist/MPM_nonProcessed/axial_skullstripped/MNU-007_ses-03/img_149.png and NPY: /media/sarvagya-pc/2TB HDD/Balgrist/MPM_nonProcessed/axial_skullstripped/MNU-007_ses-03/img_149_normalized.npy\n",
      "Saved resized NPY: /media/sarvagya-pc/2TB HDD/Balgrist/MPM_nonProcessed/axial_skullstripped/MNU-007_ses-03/img_150_normalized.npy\n",
      "Saved PNG: /media/sarvagya-pc/2TB HDD/Balgrist/MPM_nonProcessed/axial_skullstripped/MNU-007_ses-03/img_150.png and NPY: /media/sarvagya-pc/2TB HDD/Balgrist/MPM_nonProcessed/axial_skullstripped/MNU-007_ses-03/img_150_normalized.npy\n",
      "Saved resized NPY: /media/sarvagya-pc/2TB HDD/Balgrist/MPM_nonProcessed/axial_skullstripped/MNU-007_ses-03/img_151_normalized.npy\n",
      "Saved PNG: /media/sarvagya-pc/2TB HDD/Balgrist/MPM_nonProcessed/axial_skullstripped/MNU-007_ses-03/img_151.png and NPY: /media/sarvagya-pc/2TB HDD/Balgrist/MPM_nonProcessed/axial_skullstripped/MNU-007_ses-03/img_151_normalized.npy\n",
      "Saved resized NPY: /media/sarvagya-pc/2TB HDD/Balgrist/MPM_nonProcessed/axial_skullstripped/MNU-007_ses-03/img_152_normalized.npy\n",
      "Saved PNG: /media/sarvagya-pc/2TB HDD/Balgrist/MPM_nonProcessed/axial_skullstripped/MNU-007_ses-03/img_152.png and NPY: /media/sarvagya-pc/2TB HDD/Balgrist/MPM_nonProcessed/axial_skullstripped/MNU-007_ses-03/img_152_normalized.npy\n",
      "Saved resized NPY: /media/sarvagya-pc/2TB HDD/Balgrist/MPM_nonProcessed/axial_skullstripped/MNU-007_ses-03/img_153_normalized.npy\n",
      "Saved PNG: /media/sarvagya-pc/2TB HDD/Balgrist/MPM_nonProcessed/axial_skullstripped/MNU-007_ses-03/img_153.png and NPY: /media/sarvagya-pc/2TB HDD/Balgrist/MPM_nonProcessed/axial_skullstripped/MNU-007_ses-03/img_153_normalized.npy\n",
      "Saved resized NPY: /media/sarvagya-pc/2TB HDD/Balgrist/MPM_nonProcessed/axial_skullstripped/MNU-007_ses-03/img_154_normalized.npy\n",
      "Saved PNG: /media/sarvagya-pc/2TB HDD/Balgrist/MPM_nonProcessed/axial_skullstripped/MNU-007_ses-03/img_154.png and NPY: /media/sarvagya-pc/2TB HDD/Balgrist/MPM_nonProcessed/axial_skullstripped/MNU-007_ses-03/img_154_normalized.npy\n",
      "Saved resized NPY: /media/sarvagya-pc/2TB HDD/Balgrist/MPM_nonProcessed/axial_skullstripped/MNU-007_ses-03/img_155_normalized.npy\n",
      "Saved PNG: /media/sarvagya-pc/2TB HDD/Balgrist/MPM_nonProcessed/axial_skullstripped/MNU-007_ses-03/img_155.png and NPY: /media/sarvagya-pc/2TB HDD/Balgrist/MPM_nonProcessed/axial_skullstripped/MNU-007_ses-03/img_155_normalized.npy\n",
      "Saved resized NPY: /media/sarvagya-pc/2TB HDD/Balgrist/MPM_nonProcessed/axial_skullstripped/MNU-007_ses-03/img_156_normalized.npy\n",
      "Saved PNG: /media/sarvagya-pc/2TB HDD/Balgrist/MPM_nonProcessed/axial_skullstripped/MNU-007_ses-03/img_156.png and NPY: /media/sarvagya-pc/2TB HDD/Balgrist/MPM_nonProcessed/axial_skullstripped/MNU-007_ses-03/img_156_normalized.npy\n",
      "Saved resized NPY: /media/sarvagya-pc/2TB HDD/Balgrist/MPM_nonProcessed/axial_skullstripped/MNU-007_ses-03/img_157_normalized.npy\n",
      "Saved PNG: /media/sarvagya-pc/2TB HDD/Balgrist/MPM_nonProcessed/axial_skullstripped/MNU-007_ses-03/img_157.png and NPY: /media/sarvagya-pc/2TB HDD/Balgrist/MPM_nonProcessed/axial_skullstripped/MNU-007_ses-03/img_157_normalized.npy\n",
      "Saved resized NPY: /media/sarvagya-pc/2TB HDD/Balgrist/MPM_nonProcessed/axial_skullstripped/MNU-007_ses-03/img_158_normalized.npy\n",
      "Saved PNG: /media/sarvagya-pc/2TB HDD/Balgrist/MPM_nonProcessed/axial_skullstripped/MNU-007_ses-03/img_158.png and NPY: /media/sarvagya-pc/2TB HDD/Balgrist/MPM_nonProcessed/axial_skullstripped/MNU-007_ses-03/img_158_normalized.npy\n",
      "Saved resized NPY: /media/sarvagya-pc/2TB HDD/Balgrist/MPM_nonProcessed/axial_skullstripped/MNU-007_ses-03/img_159_normalized.npy\n",
      "Saved PNG: /media/sarvagya-pc/2TB HDD/Balgrist/MPM_nonProcessed/axial_skullstripped/MNU-007_ses-03/img_159.png and NPY: /media/sarvagya-pc/2TB HDD/Balgrist/MPM_nonProcessed/axial_skullstripped/MNU-007_ses-03/img_159_normalized.npy\n",
      "Saved resized NPY: /media/sarvagya-pc/2TB HDD/Balgrist/MPM_nonProcessed/axial_skullstripped/MNU-007_ses-03/img_160_normalized.npy\n",
      "Saved PNG: /media/sarvagya-pc/2TB HDD/Balgrist/MPM_nonProcessed/axial_skullstripped/MNU-007_ses-03/img_160.png and NPY: /media/sarvagya-pc/2TB HDD/Balgrist/MPM_nonProcessed/axial_skullstripped/MNU-007_ses-03/img_160_normalized.npy\n",
      "Saved resized NPY: /media/sarvagya-pc/2TB HDD/Balgrist/MPM_nonProcessed/axial_skullstripped/MNU-007_ses-03/img_161_normalized.npy\n",
      "Saved PNG: /media/sarvagya-pc/2TB HDD/Balgrist/MPM_nonProcessed/axial_skullstripped/MNU-007_ses-03/img_161.png and NPY: /media/sarvagya-pc/2TB HDD/Balgrist/MPM_nonProcessed/axial_skullstripped/MNU-007_ses-03/img_161_normalized.npy\n",
      "Saved resized NPY: /media/sarvagya-pc/2TB HDD/Balgrist/MPM_nonProcessed/axial_skullstripped/MNU-007_ses-03/img_162_normalized.npy\n",
      "Saved PNG: /media/sarvagya-pc/2TB HDD/Balgrist/MPM_nonProcessed/axial_skullstripped/MNU-007_ses-03/img_162.png and NPY: /media/sarvagya-pc/2TB HDD/Balgrist/MPM_nonProcessed/axial_skullstripped/MNU-007_ses-03/img_162_normalized.npy\n",
      "Saved resized NPY: /media/sarvagya-pc/2TB HDD/Balgrist/MPM_nonProcessed/axial_skullstripped/MNU-007_ses-03/img_163_normalized.npy\n",
      "Saved PNG: /media/sarvagya-pc/2TB HDD/Balgrist/MPM_nonProcessed/axial_skullstripped/MNU-007_ses-03/img_163.png and NPY: /media/sarvagya-pc/2TB HDD/Balgrist/MPM_nonProcessed/axial_skullstripped/MNU-007_ses-03/img_163_normalized.npy\n",
      "Saved resized NPY: /media/sarvagya-pc/2TB HDD/Balgrist/MPM_nonProcessed/axial_skullstripped/MNU-007_ses-03/img_164_normalized.npy\n",
      "Saved PNG: /media/sarvagya-pc/2TB HDD/Balgrist/MPM_nonProcessed/axial_skullstripped/MNU-007_ses-03/img_164.png and NPY: /media/sarvagya-pc/2TB HDD/Balgrist/MPM_nonProcessed/axial_skullstripped/MNU-007_ses-03/img_164_normalized.npy\n",
      "Saved resized NPY: /media/sarvagya-pc/2TB HDD/Balgrist/MPM_nonProcessed/axial_skullstripped/MNU-007_ses-03/img_165_normalized.npy\n",
      "Saved PNG: /media/sarvagya-pc/2TB HDD/Balgrist/MPM_nonProcessed/axial_skullstripped/MNU-007_ses-03/img_165.png and NPY: /media/sarvagya-pc/2TB HDD/Balgrist/MPM_nonProcessed/axial_skullstripped/MNU-007_ses-03/img_165_normalized.npy\n",
      "Saved resized NPY: /media/sarvagya-pc/2TB HDD/Balgrist/MPM_nonProcessed/axial_skullstripped/MNU-007_ses-03/img_166_normalized.npy\n",
      "Saved PNG: /media/sarvagya-pc/2TB HDD/Balgrist/MPM_nonProcessed/axial_skullstripped/MNU-007_ses-03/img_166.png and NPY: /media/sarvagya-pc/2TB HDD/Balgrist/MPM_nonProcessed/axial_skullstripped/MNU-007_ses-03/img_166_normalized.npy\n",
      "Saved resized NPY: /media/sarvagya-pc/2TB HDD/Balgrist/MPM_nonProcessed/axial_skullstripped/MNU-007_ses-03/img_167_normalized.npy\n",
      "Saved PNG: /media/sarvagya-pc/2TB HDD/Balgrist/MPM_nonProcessed/axial_skullstripped/MNU-007_ses-03/img_167.png and NPY: /media/sarvagya-pc/2TB HDD/Balgrist/MPM_nonProcessed/axial_skullstripped/MNU-007_ses-03/img_167_normalized.npy\n",
      "Saved resized NPY: /media/sarvagya-pc/2TB HDD/Balgrist/MPM_nonProcessed/axial_skullstripped/MNU-007_ses-03/img_168_normalized.npy\n",
      "Saved PNG: /media/sarvagya-pc/2TB HDD/Balgrist/MPM_nonProcessed/axial_skullstripped/MNU-007_ses-03/img_168.png and NPY: /media/sarvagya-pc/2TB HDD/Balgrist/MPM_nonProcessed/axial_skullstripped/MNU-007_ses-03/img_168_normalized.npy\n",
      "Saved resized NPY: /media/sarvagya-pc/2TB HDD/Balgrist/MPM_nonProcessed/axial_skullstripped/MNU-007_ses-03/img_169_normalized.npy\n",
      "Saved PNG: /media/sarvagya-pc/2TB HDD/Balgrist/MPM_nonProcessed/axial_skullstripped/MNU-007_ses-03/img_169.png and NPY: /media/sarvagya-pc/2TB HDD/Balgrist/MPM_nonProcessed/axial_skullstripped/MNU-007_ses-03/img_169_normalized.npy\n",
      "Saved resized NPY: /media/sarvagya-pc/2TB HDD/Balgrist/MPM_nonProcessed/axial_skullstripped/MNU-007_ses-03/img_170_normalized.npy\n",
      "Saved PNG: /media/sarvagya-pc/2TB HDD/Balgrist/MPM_nonProcessed/axial_skullstripped/MNU-007_ses-03/img_170.png and NPY: /media/sarvagya-pc/2TB HDD/Balgrist/MPM_nonProcessed/axial_skullstripped/MNU-007_ses-03/img_170_normalized.npy\n",
      "Saved resized NPY: /media/sarvagya-pc/2TB HDD/Balgrist/MPM_nonProcessed/axial_skullstripped/MNU-007_ses-03/img_171_normalized.npy\n",
      "Saved PNG: /media/sarvagya-pc/2TB HDD/Balgrist/MPM_nonProcessed/axial_skullstripped/MNU-007_ses-03/img_171.png and NPY: /media/sarvagya-pc/2TB HDD/Balgrist/MPM_nonProcessed/axial_skullstripped/MNU-007_ses-03/img_171_normalized.npy\n",
      "Saved resized NPY: /media/sarvagya-pc/2TB HDD/Balgrist/MPM_nonProcessed/axial_skullstripped/MNU-007_ses-03/img_172_normalized.npy\n",
      "Saved PNG: /media/sarvagya-pc/2TB HDD/Balgrist/MPM_nonProcessed/axial_skullstripped/MNU-007_ses-03/img_172.png and NPY: /media/sarvagya-pc/2TB HDD/Balgrist/MPM_nonProcessed/axial_skullstripped/MNU-007_ses-03/img_172_normalized.npy\n",
      "Saved resized NPY: /media/sarvagya-pc/2TB HDD/Balgrist/MPM_nonProcessed/axial_skullstripped/MNU-007_ses-03/img_173_normalized.npy\n",
      "Saved PNG: /media/sarvagya-pc/2TB HDD/Balgrist/MPM_nonProcessed/axial_skullstripped/MNU-007_ses-03/img_173.png and NPY: /media/sarvagya-pc/2TB HDD/Balgrist/MPM_nonProcessed/axial_skullstripped/MNU-007_ses-03/img_173_normalized.npy\n",
      "Saved resized NPY: /media/sarvagya-pc/2TB HDD/Balgrist/MPM_nonProcessed/axial_skullstripped/MNU-007_ses-03/img_174_normalized.npy\n",
      "Saved PNG: /media/sarvagya-pc/2TB HDD/Balgrist/MPM_nonProcessed/axial_skullstripped/MNU-007_ses-03/img_174.png and NPY: /media/sarvagya-pc/2TB HDD/Balgrist/MPM_nonProcessed/axial_skullstripped/MNU-007_ses-03/img_174_normalized.npy\n",
      "Saved resized NPY: /media/sarvagya-pc/2TB HDD/Balgrist/MPM_nonProcessed/axial_skullstripped/MNU-007_ses-03/img_175_normalized.npy\n",
      "Saved PNG: /media/sarvagya-pc/2TB HDD/Balgrist/MPM_nonProcessed/axial_skullstripped/MNU-007_ses-03/img_175.png and NPY: /media/sarvagya-pc/2TB HDD/Balgrist/MPM_nonProcessed/axial_skullstripped/MNU-007_ses-03/img_175_normalized.npy\n",
      "Saved resized NPY: /media/sarvagya-pc/2TB HDD/Balgrist/MPM_nonProcessed/axial_skullstripped/MNU-007_ses-03/img_176_normalized.npy\n",
      "Saved PNG: /media/sarvagya-pc/2TB HDD/Balgrist/MPM_nonProcessed/axial_skullstripped/MNU-007_ses-03/img_176.png and NPY: /media/sarvagya-pc/2TB HDD/Balgrist/MPM_nonProcessed/axial_skullstripped/MNU-007_ses-03/img_176_normalized.npy\n",
      "Saved resized NPY: /media/sarvagya-pc/2TB HDD/Balgrist/MPM_nonProcessed/axial_skullstripped/MNU-007_ses-03/img_177_normalized.npy\n",
      "Saved PNG: /media/sarvagya-pc/2TB HDD/Balgrist/MPM_nonProcessed/axial_skullstripped/MNU-007_ses-03/img_177.png and NPY: /media/sarvagya-pc/2TB HDD/Balgrist/MPM_nonProcessed/axial_skullstripped/MNU-007_ses-03/img_177_normalized.npy\n",
      "Saved resized NPY: /media/sarvagya-pc/2TB HDD/Balgrist/MPM_nonProcessed/axial_skullstripped/MNU-007_ses-03/img_178_normalized.npy\n",
      "Saved PNG: /media/sarvagya-pc/2TB HDD/Balgrist/MPM_nonProcessed/axial_skullstripped/MNU-007_ses-03/img_178.png and NPY: /media/sarvagya-pc/2TB HDD/Balgrist/MPM_nonProcessed/axial_skullstripped/MNU-007_ses-03/img_178_normalized.npy\n",
      "Saved resized NPY: /media/sarvagya-pc/2TB HDD/Balgrist/MPM_nonProcessed/axial_skullstripped/MNU-007_ses-03/img_179_normalized.npy\n",
      "Saved PNG: /media/sarvagya-pc/2TB HDD/Balgrist/MPM_nonProcessed/axial_skullstripped/MNU-007_ses-03/img_179.png and NPY: /media/sarvagya-pc/2TB HDD/Balgrist/MPM_nonProcessed/axial_skullstripped/MNU-007_ses-03/img_179_normalized.npy\n",
      "Saved resized NPY: /media/sarvagya-pc/2TB HDD/Balgrist/MPM_nonProcessed/axial_skullstripped/MNU-007_ses-03/img_180_normalized.npy\n",
      "Saved PNG: /media/sarvagya-pc/2TB HDD/Balgrist/MPM_nonProcessed/axial_skullstripped/MNU-007_ses-03/img_180.png and NPY: /media/sarvagya-pc/2TB HDD/Balgrist/MPM_nonProcessed/axial_skullstripped/MNU-007_ses-03/img_180_normalized.npy\n",
      "Saved resized NPY: /media/sarvagya-pc/2TB HDD/Balgrist/MPM_nonProcessed/axial_skullstripped/MNU-007_ses-03/img_181_normalized.npy\n",
      "Saved PNG: /media/sarvagya-pc/2TB HDD/Balgrist/MPM_nonProcessed/axial_skullstripped/MNU-007_ses-03/img_181.png and NPY: /media/sarvagya-pc/2TB HDD/Balgrist/MPM_nonProcessed/axial_skullstripped/MNU-007_ses-03/img_181_normalized.npy\n",
      "Saved resized NPY: /media/sarvagya-pc/2TB HDD/Balgrist/MPM_nonProcessed/axial_skullstripped/MNU-007_ses-03/img_182_normalized.npy\n",
      "Saved PNG: /media/sarvagya-pc/2TB HDD/Balgrist/MPM_nonProcessed/axial_skullstripped/MNU-007_ses-03/img_182.png and NPY: /media/sarvagya-pc/2TB HDD/Balgrist/MPM_nonProcessed/axial_skullstripped/MNU-007_ses-03/img_182_normalized.npy\n",
      "Saved resized NPY: /media/sarvagya-pc/2TB HDD/Balgrist/MPM_nonProcessed/axial_skullstripped/MNU-007_ses-03/img_183_normalized.npy\n",
      "Saved PNG: /media/sarvagya-pc/2TB HDD/Balgrist/MPM_nonProcessed/axial_skullstripped/MNU-007_ses-03/img_183.png and NPY: /media/sarvagya-pc/2TB HDD/Balgrist/MPM_nonProcessed/axial_skullstripped/MNU-007_ses-03/img_183_normalized.npy\n",
      "Saved resized NPY: /media/sarvagya-pc/2TB HDD/Balgrist/MPM_nonProcessed/axial_skullstripped/MNU-007_ses-03/img_184_normalized.npy\n",
      "Saved PNG: /media/sarvagya-pc/2TB HDD/Balgrist/MPM_nonProcessed/axial_skullstripped/MNU-007_ses-03/img_184.png and NPY: /media/sarvagya-pc/2TB HDD/Balgrist/MPM_nonProcessed/axial_skullstripped/MNU-007_ses-03/img_184_normalized.npy\n",
      "Saved resized NPY: /media/sarvagya-pc/2TB HDD/Balgrist/MPM_nonProcessed/axial_skullstripped/MNU-007_ses-03/img_185_normalized.npy\n",
      "Saved PNG: /media/sarvagya-pc/2TB HDD/Balgrist/MPM_nonProcessed/axial_skullstripped/MNU-007_ses-03/img_185.png and NPY: /media/sarvagya-pc/2TB HDD/Balgrist/MPM_nonProcessed/axial_skullstripped/MNU-007_ses-03/img_185_normalized.npy\n",
      "Saved resized NPY: /media/sarvagya-pc/2TB HDD/Balgrist/MPM_nonProcessed/axial_skullstripped/MNU-007_ses-03/img_186_normalized.npy\n",
      "Saved PNG: /media/sarvagya-pc/2TB HDD/Balgrist/MPM_nonProcessed/axial_skullstripped/MNU-007_ses-03/img_186.png and NPY: /media/sarvagya-pc/2TB HDD/Balgrist/MPM_nonProcessed/axial_skullstripped/MNU-007_ses-03/img_186_normalized.npy\n",
      "Saved resized NPY: /media/sarvagya-pc/2TB HDD/Balgrist/MPM_nonProcessed/axial_skullstripped/MNU-007_ses-03/img_187_normalized.npy\n",
      "Saved PNG: /media/sarvagya-pc/2TB HDD/Balgrist/MPM_nonProcessed/axial_skullstripped/MNU-007_ses-03/img_187.png and NPY: /media/sarvagya-pc/2TB HDD/Balgrist/MPM_nonProcessed/axial_skullstripped/MNU-007_ses-03/img_187_normalized.npy\n",
      "Saved resized NPY: /media/sarvagya-pc/2TB HDD/Balgrist/MPM_nonProcessed/axial_skullstripped/MNU-007_ses-03/img_188_normalized.npy\n",
      "Saved PNG: /media/sarvagya-pc/2TB HDD/Balgrist/MPM_nonProcessed/axial_skullstripped/MNU-007_ses-03/img_188.png and NPY: /media/sarvagya-pc/2TB HDD/Balgrist/MPM_nonProcessed/axial_skullstripped/MNU-007_ses-03/img_188_normalized.npy\n",
      "Saved resized NPY: /media/sarvagya-pc/2TB HDD/Balgrist/MPM_nonProcessed/axial_skullstripped/MNU-007_ses-03/img_189_normalized.npy\n",
      "Saved PNG: /media/sarvagya-pc/2TB HDD/Balgrist/MPM_nonProcessed/axial_skullstripped/MNU-007_ses-03/img_189.png and NPY: /media/sarvagya-pc/2TB HDD/Balgrist/MPM_nonProcessed/axial_skullstripped/MNU-007_ses-03/img_189_normalized.npy\n",
      "Saved resized NPY: /media/sarvagya-pc/2TB HDD/Balgrist/MPM_nonProcessed/axial_skullstripped/MNU-007_ses-03/img_190_normalized.npy\n",
      "Saved PNG: /media/sarvagya-pc/2TB HDD/Balgrist/MPM_nonProcessed/axial_skullstripped/MNU-007_ses-03/img_190.png and NPY: /media/sarvagya-pc/2TB HDD/Balgrist/MPM_nonProcessed/axial_skullstripped/MNU-007_ses-03/img_190_normalized.npy\n",
      "Saved resized NPY: /media/sarvagya-pc/2TB HDD/Balgrist/MPM_nonProcessed/axial_skullstripped/MNU-007_ses-03/img_191_normalized.npy\n",
      "Saved PNG: /media/sarvagya-pc/2TB HDD/Balgrist/MPM_nonProcessed/axial_skullstripped/MNU-007_ses-03/img_191.png and NPY: /media/sarvagya-pc/2TB HDD/Balgrist/MPM_nonProcessed/axial_skullstripped/MNU-007_ses-03/img_191_normalized.npy\n",
      "Saved resized NPY: /media/sarvagya-pc/2TB HDD/Balgrist/MPM_nonProcessed/axial_skullstripped/MNU-007_ses-03/img_192_normalized.npy\n",
      "Saved PNG: /media/sarvagya-pc/2TB HDD/Balgrist/MPM_nonProcessed/axial_skullstripped/MNU-007_ses-03/img_192.png and NPY: /media/sarvagya-pc/2TB HDD/Balgrist/MPM_nonProcessed/axial_skullstripped/MNU-007_ses-03/img_192_normalized.npy\n",
      "Saved resized NPY: /media/sarvagya-pc/2TB HDD/Balgrist/MPM_nonProcessed/axial_skullstripped/MNU-007_ses-03/img_193_normalized.npy\n",
      "Saved PNG: /media/sarvagya-pc/2TB HDD/Balgrist/MPM_nonProcessed/axial_skullstripped/MNU-007_ses-03/img_193.png and NPY: /media/sarvagya-pc/2TB HDD/Balgrist/MPM_nonProcessed/axial_skullstripped/MNU-007_ses-03/img_193_normalized.npy\n",
      "Saved resized NPY: /media/sarvagya-pc/2TB HDD/Balgrist/MPM_nonProcessed/axial_skullstripped/MNU-007_ses-03/img_194_normalized.npy\n",
      "Saved PNG: /media/sarvagya-pc/2TB HDD/Balgrist/MPM_nonProcessed/axial_skullstripped/MNU-007_ses-03/img_194.png and NPY: /media/sarvagya-pc/2TB HDD/Balgrist/MPM_nonProcessed/axial_skullstripped/MNU-007_ses-03/img_194_normalized.npy\n",
      "Saved resized NPY: /media/sarvagya-pc/2TB HDD/Balgrist/MPM_nonProcessed/axial_skullstripped/MNU-007_ses-03/img_195_normalized.npy\n",
      "Saved PNG: /media/sarvagya-pc/2TB HDD/Balgrist/MPM_nonProcessed/axial_skullstripped/MNU-007_ses-03/img_195.png and NPY: /media/sarvagya-pc/2TB HDD/Balgrist/MPM_nonProcessed/axial_skullstripped/MNU-007_ses-03/img_195_normalized.npy\n",
      "Saved resized NPY: /media/sarvagya-pc/2TB HDD/Balgrist/MPM_nonProcessed/axial_skullstripped/MNU-007_ses-03/img_196_normalized.npy\n",
      "Saved PNG: /media/sarvagya-pc/2TB HDD/Balgrist/MPM_nonProcessed/axial_skullstripped/MNU-007_ses-03/img_196.png and NPY: /media/sarvagya-pc/2TB HDD/Balgrist/MPM_nonProcessed/axial_skullstripped/MNU-007_ses-03/img_196_normalized.npy\n",
      "Saved resized NPY: /media/sarvagya-pc/2TB HDD/Balgrist/MPM_nonProcessed/axial_skullstripped/MNU-007_ses-03/img_197_normalized.npy\n",
      "Saved PNG: /media/sarvagya-pc/2TB HDD/Balgrist/MPM_nonProcessed/axial_skullstripped/MNU-007_ses-03/img_197.png and NPY: /media/sarvagya-pc/2TB HDD/Balgrist/MPM_nonProcessed/axial_skullstripped/MNU-007_ses-03/img_197_normalized.npy\n",
      "Saved resized NPY: /media/sarvagya-pc/2TB HDD/Balgrist/MPM_nonProcessed/axial_skullstripped/MNU-007_ses-03/img_198_normalized.npy\n",
      "Saved PNG: /media/sarvagya-pc/2TB HDD/Balgrist/MPM_nonProcessed/axial_skullstripped/MNU-007_ses-03/img_198.png and NPY: /media/sarvagya-pc/2TB HDD/Balgrist/MPM_nonProcessed/axial_skullstripped/MNU-007_ses-03/img_198_normalized.npy\n",
      "Saved resized NPY: /media/sarvagya-pc/2TB HDD/Balgrist/MPM_nonProcessed/axial_skullstripped/MNU-007_ses-03/img_199_normalized.npy\n",
      "Saved PNG: /media/sarvagya-pc/2TB HDD/Balgrist/MPM_nonProcessed/axial_skullstripped/MNU-007_ses-03/img_199.png and NPY: /media/sarvagya-pc/2TB HDD/Balgrist/MPM_nonProcessed/axial_skullstripped/MNU-007_ses-03/img_199_normalized.npy\n",
      "Saved resized NPY: /media/sarvagya-pc/2TB HDD/Balgrist/MPM_nonProcessed/axial_skullstripped/MNU-007_ses-03/img_200_normalized.npy\n",
      "Saved PNG: /media/sarvagya-pc/2TB HDD/Balgrist/MPM_nonProcessed/axial_skullstripped/MNU-007_ses-03/img_200.png and NPY: /media/sarvagya-pc/2TB HDD/Balgrist/MPM_nonProcessed/axial_skullstripped/MNU-007_ses-03/img_200_normalized.npy\n",
      "Saved resized NPY: /media/sarvagya-pc/2TB HDD/Balgrist/MPM_nonProcessed/axial_skullstripped/MNU-007_ses-03/img_201_normalized.npy\n",
      "Saved PNG: /media/sarvagya-pc/2TB HDD/Balgrist/MPM_nonProcessed/axial_skullstripped/MNU-007_ses-03/img_201.png and NPY: /media/sarvagya-pc/2TB HDD/Balgrist/MPM_nonProcessed/axial_skullstripped/MNU-007_ses-03/img_201_normalized.npy\n",
      "Saved resized NPY: /media/sarvagya-pc/2TB HDD/Balgrist/MPM_nonProcessed/axial_skullstripped/MNU-007_ses-03/img_202_normalized.npy\n",
      "Saved PNG: /media/sarvagya-pc/2TB HDD/Balgrist/MPM_nonProcessed/axial_skullstripped/MNU-007_ses-03/img_202.png and NPY: /media/sarvagya-pc/2TB HDD/Balgrist/MPM_nonProcessed/axial_skullstripped/MNU-007_ses-03/img_202_normalized.npy\n",
      "Saved resized NPY: /media/sarvagya-pc/2TB HDD/Balgrist/MPM_nonProcessed/axial_skullstripped/MNU-007_ses-03/img_203_normalized.npy\n",
      "Saved PNG: /media/sarvagya-pc/2TB HDD/Balgrist/MPM_nonProcessed/axial_skullstripped/MNU-007_ses-03/img_203.png and NPY: /media/sarvagya-pc/2TB HDD/Balgrist/MPM_nonProcessed/axial_skullstripped/MNU-007_ses-03/img_203_normalized.npy\n",
      "Saved resized NPY: /media/sarvagya-pc/2TB HDD/Balgrist/MPM_nonProcessed/axial_skullstripped/MNU-007_ses-03/img_204_normalized.npy\n",
      "Saved PNG: /media/sarvagya-pc/2TB HDD/Balgrist/MPM_nonProcessed/axial_skullstripped/MNU-007_ses-03/img_204.png and NPY: /media/sarvagya-pc/2TB HDD/Balgrist/MPM_nonProcessed/axial_skullstripped/MNU-007_ses-03/img_204_normalized.npy\n",
      "Saved resized NPY: /media/sarvagya-pc/2TB HDD/Balgrist/MPM_nonProcessed/axial_skullstripped/MNU-007_ses-03/img_205_normalized.npy\n",
      "Saved PNG: /media/sarvagya-pc/2TB HDD/Balgrist/MPM_nonProcessed/axial_skullstripped/MNU-007_ses-03/img_205.png and NPY: /media/sarvagya-pc/2TB HDD/Balgrist/MPM_nonProcessed/axial_skullstripped/MNU-007_ses-03/img_205_normalized.npy\n",
      "Saved resized NPY: /media/sarvagya-pc/2TB HDD/Balgrist/MPM_nonProcessed/axial_skullstripped/MNU-007_ses-03/img_206_normalized.npy\n",
      "Saved PNG: /media/sarvagya-pc/2TB HDD/Balgrist/MPM_nonProcessed/axial_skullstripped/MNU-007_ses-03/img_206.png and NPY: /media/sarvagya-pc/2TB HDD/Balgrist/MPM_nonProcessed/axial_skullstripped/MNU-007_ses-03/img_206_normalized.npy\n",
      "Saved resized NPY: /media/sarvagya-pc/2TB HDD/Balgrist/MPM_nonProcessed/axial_skullstripped/MNU-007_ses-03/img_207_normalized.npy\n",
      "Saved PNG: /media/sarvagya-pc/2TB HDD/Balgrist/MPM_nonProcessed/axial_skullstripped/MNU-007_ses-03/img_207.png and NPY: /media/sarvagya-pc/2TB HDD/Balgrist/MPM_nonProcessed/axial_skullstripped/MNU-007_ses-03/img_207_normalized.npy\n",
      "Saved resized NPY: /media/sarvagya-pc/2TB HDD/Balgrist/MPM_nonProcessed/axial_skullstripped/MNU-007_ses-03/img_208_normalized.npy\n",
      "Saved PNG: /media/sarvagya-pc/2TB HDD/Balgrist/MPM_nonProcessed/axial_skullstripped/MNU-007_ses-03/img_208.png and NPY: /media/sarvagya-pc/2TB HDD/Balgrist/MPM_nonProcessed/axial_skullstripped/MNU-007_ses-03/img_208_normalized.npy\n",
      "Saved resized NPY: /media/sarvagya-pc/2TB HDD/Balgrist/MPM_nonProcessed/axial_skullstripped/MNU-007_ses-03/img_209_normalized.npy\n",
      "Saved PNG: /media/sarvagya-pc/2TB HDD/Balgrist/MPM_nonProcessed/axial_skullstripped/MNU-007_ses-03/img_209.png and NPY: /media/sarvagya-pc/2TB HDD/Balgrist/MPM_nonProcessed/axial_skullstripped/MNU-007_ses-03/img_209_normalized.npy\n",
      "Saved resized NPY: /media/sarvagya-pc/2TB HDD/Balgrist/MPM_nonProcessed/axial_skullstripped/MNU-007_ses-03/img_210_normalized.npy\n",
      "Saved PNG: /media/sarvagya-pc/2TB HDD/Balgrist/MPM_nonProcessed/axial_skullstripped/MNU-007_ses-03/img_210.png and NPY: /media/sarvagya-pc/2TB HDD/Balgrist/MPM_nonProcessed/axial_skullstripped/MNU-007_ses-03/img_210_normalized.npy\n",
      "Saved resized NPY: /media/sarvagya-pc/2TB HDD/Balgrist/MPM_nonProcessed/axial_skullstripped/MNU-007_ses-03/img_211_normalized.npy\n",
      "Saved PNG: /media/sarvagya-pc/2TB HDD/Balgrist/MPM_nonProcessed/axial_skullstripped/MNU-007_ses-03/img_211.png and NPY: /media/sarvagya-pc/2TB HDD/Balgrist/MPM_nonProcessed/axial_skullstripped/MNU-007_ses-03/img_211_normalized.npy\n",
      "Saved resized NPY: /media/sarvagya-pc/2TB HDD/Balgrist/MPM_nonProcessed/axial_skullstripped/MNU-007_ses-03/img_212_normalized.npy\n",
      "Saved PNG: /media/sarvagya-pc/2TB HDD/Balgrist/MPM_nonProcessed/axial_skullstripped/MNU-007_ses-03/img_212.png and NPY: /media/sarvagya-pc/2TB HDD/Balgrist/MPM_nonProcessed/axial_skullstripped/MNU-007_ses-03/img_212_normalized.npy\n",
      "Saved resized NPY: /media/sarvagya-pc/2TB HDD/Balgrist/MPM_nonProcessed/axial_skullstripped/MNU-007_ses-03/img_213_normalized.npy\n",
      "Saved PNG: /media/sarvagya-pc/2TB HDD/Balgrist/MPM_nonProcessed/axial_skullstripped/MNU-007_ses-03/img_213.png and NPY: /media/sarvagya-pc/2TB HDD/Balgrist/MPM_nonProcessed/axial_skullstripped/MNU-007_ses-03/img_213_normalized.npy\n",
      "Saved resized NPY: /media/sarvagya-pc/2TB HDD/Balgrist/MPM_nonProcessed/axial_skullstripped/MNU-007_ses-03/img_214_normalized.npy\n",
      "Saved PNG: /media/sarvagya-pc/2TB HDD/Balgrist/MPM_nonProcessed/axial_skullstripped/MNU-007_ses-03/img_214.png and NPY: /media/sarvagya-pc/2TB HDD/Balgrist/MPM_nonProcessed/axial_skullstripped/MNU-007_ses-03/img_214_normalized.npy\n",
      "Saved resized NPY: /media/sarvagya-pc/2TB HDD/Balgrist/MPM_nonProcessed/axial_skullstripped/MNU-007_ses-03/img_215_normalized.npy\n",
      "Saved PNG: /media/sarvagya-pc/2TB HDD/Balgrist/MPM_nonProcessed/axial_skullstripped/MNU-007_ses-03/img_215.png and NPY: /media/sarvagya-pc/2TB HDD/Balgrist/MPM_nonProcessed/axial_skullstripped/MNU-007_ses-03/img_215_normalized.npy\n",
      "Saved resized NPY: /media/sarvagya-pc/2TB HDD/Balgrist/MPM_nonProcessed/axial_skullstripped/MNU-007_ses-03/img_216_normalized.npy\n",
      "Saved PNG: /media/sarvagya-pc/2TB HDD/Balgrist/MPM_nonProcessed/axial_skullstripped/MNU-007_ses-03/img_216.png and NPY: /media/sarvagya-pc/2TB HDD/Balgrist/MPM_nonProcessed/axial_skullstripped/MNU-007_ses-03/img_216_normalized.npy\n",
      "Saved resized NPY: /media/sarvagya-pc/2TB HDD/Balgrist/MPM_nonProcessed/axial_skullstripped/MNU-007_ses-03/img_217_normalized.npy\n",
      "Saved PNG: /media/sarvagya-pc/2TB HDD/Balgrist/MPM_nonProcessed/axial_skullstripped/MNU-007_ses-03/img_217.png and NPY: /media/sarvagya-pc/2TB HDD/Balgrist/MPM_nonProcessed/axial_skullstripped/MNU-007_ses-03/img_217_normalized.npy\n",
      "Saved resized NPY: /media/sarvagya-pc/2TB HDD/Balgrist/MPM_nonProcessed/axial_skullstripped/MNU-007_ses-03/img_218_normalized.npy\n",
      "Saved PNG: /media/sarvagya-pc/2TB HDD/Balgrist/MPM_nonProcessed/axial_skullstripped/MNU-007_ses-03/img_218.png and NPY: /media/sarvagya-pc/2TB HDD/Balgrist/MPM_nonProcessed/axial_skullstripped/MNU-007_ses-03/img_218_normalized.npy\n",
      "Saved resized NPY: /media/sarvagya-pc/2TB HDD/Balgrist/MPM_nonProcessed/axial_skullstripped/MNU-007_ses-03/img_219_normalized.npy\n",
      "Saved PNG: /media/sarvagya-pc/2TB HDD/Balgrist/MPM_nonProcessed/axial_skullstripped/MNU-007_ses-03/img_219.png and NPY: /media/sarvagya-pc/2TB HDD/Balgrist/MPM_nonProcessed/axial_skullstripped/MNU-007_ses-03/img_219_normalized.npy\n",
      "(224, 256, 176)\n",
      "ZRH-004_ses-02\n",
      "Saved resized NPY: /media/sarvagya-pc/2TB HDD/Balgrist/MPM_nonProcessed/axial_skullstripped/ZRH-004_ses-02/img_133_normalized.npy\n",
      "Saved PNG: /media/sarvagya-pc/2TB HDD/Balgrist/MPM_nonProcessed/axial_skullstripped/ZRH-004_ses-02/img_133.png and NPY: /media/sarvagya-pc/2TB HDD/Balgrist/MPM_nonProcessed/axial_skullstripped/ZRH-004_ses-02/img_133_normalized.npy\n",
      "Saved resized NPY: /media/sarvagya-pc/2TB HDD/Balgrist/MPM_nonProcessed/axial_skullstripped/ZRH-004_ses-02/img_134_normalized.npy\n",
      "Saved PNG: /media/sarvagya-pc/2TB HDD/Balgrist/MPM_nonProcessed/axial_skullstripped/ZRH-004_ses-02/img_134.png and NPY: /media/sarvagya-pc/2TB HDD/Balgrist/MPM_nonProcessed/axial_skullstripped/ZRH-004_ses-02/img_134_normalized.npy\n",
      "Saved resized NPY: /media/sarvagya-pc/2TB HDD/Balgrist/MPM_nonProcessed/axial_skullstripped/ZRH-004_ses-02/img_135_normalized.npy\n",
      "Saved PNG: /media/sarvagya-pc/2TB HDD/Balgrist/MPM_nonProcessed/axial_skullstripped/ZRH-004_ses-02/img_135.png and NPY: /media/sarvagya-pc/2TB HDD/Balgrist/MPM_nonProcessed/axial_skullstripped/ZRH-004_ses-02/img_135_normalized.npy\n",
      "Saved resized NPY: /media/sarvagya-pc/2TB HDD/Balgrist/MPM_nonProcessed/axial_skullstripped/ZRH-004_ses-02/img_136_normalized.npy\n",
      "Saved PNG: /media/sarvagya-pc/2TB HDD/Balgrist/MPM_nonProcessed/axial_skullstripped/ZRH-004_ses-02/img_136.png and NPY: /media/sarvagya-pc/2TB HDD/Balgrist/MPM_nonProcessed/axial_skullstripped/ZRH-004_ses-02/img_136_normalized.npy\n",
      "Saved resized NPY: /media/sarvagya-pc/2TB HDD/Balgrist/MPM_nonProcessed/axial_skullstripped/ZRH-004_ses-02/img_137_normalized.npy\n",
      "Saved PNG: /media/sarvagya-pc/2TB HDD/Balgrist/MPM_nonProcessed/axial_skullstripped/ZRH-004_ses-02/img_137.png and NPY: /media/sarvagya-pc/2TB HDD/Balgrist/MPM_nonProcessed/axial_skullstripped/ZRH-004_ses-02/img_137_normalized.npy\n",
      "Saved resized NPY: /media/sarvagya-pc/2TB HDD/Balgrist/MPM_nonProcessed/axial_skullstripped/ZRH-004_ses-02/img_138_normalized.npy\n",
      "Saved PNG: /media/sarvagya-pc/2TB HDD/Balgrist/MPM_nonProcessed/axial_skullstripped/ZRH-004_ses-02/img_138.png and NPY: /media/sarvagya-pc/2TB HDD/Balgrist/MPM_nonProcessed/axial_skullstripped/ZRH-004_ses-02/img_138_normalized.npy\n",
      "Saved resized NPY: /media/sarvagya-pc/2TB HDD/Balgrist/MPM_nonProcessed/axial_skullstripped/ZRH-004_ses-02/img_139_normalized.npy\n",
      "Saved PNG: /media/sarvagya-pc/2TB HDD/Balgrist/MPM_nonProcessed/axial_skullstripped/ZRH-004_ses-02/img_139.png and NPY: /media/sarvagya-pc/2TB HDD/Balgrist/MPM_nonProcessed/axial_skullstripped/ZRH-004_ses-02/img_139_normalized.npy\n",
      "Saved resized NPY: /media/sarvagya-pc/2TB HDD/Balgrist/MPM_nonProcessed/axial_skullstripped/ZRH-004_ses-02/img_140_normalized.npy\n",
      "Saved PNG: /media/sarvagya-pc/2TB HDD/Balgrist/MPM_nonProcessed/axial_skullstripped/ZRH-004_ses-02/img_140.png and NPY: /media/sarvagya-pc/2TB HDD/Balgrist/MPM_nonProcessed/axial_skullstripped/ZRH-004_ses-02/img_140_normalized.npy\n",
      "Saved resized NPY: /media/sarvagya-pc/2TB HDD/Balgrist/MPM_nonProcessed/axial_skullstripped/ZRH-004_ses-02/img_141_normalized.npy\n",
      "Saved PNG: /media/sarvagya-pc/2TB HDD/Balgrist/MPM_nonProcessed/axial_skullstripped/ZRH-004_ses-02/img_141.png and NPY: /media/sarvagya-pc/2TB HDD/Balgrist/MPM_nonProcessed/axial_skullstripped/ZRH-004_ses-02/img_141_normalized.npy\n",
      "Saved resized NPY: /media/sarvagya-pc/2TB HDD/Balgrist/MPM_nonProcessed/axial_skullstripped/ZRH-004_ses-02/img_142_normalized.npy\n",
      "Saved PNG: /media/sarvagya-pc/2TB HDD/Balgrist/MPM_nonProcessed/axial_skullstripped/ZRH-004_ses-02/img_142.png and NPY: /media/sarvagya-pc/2TB HDD/Balgrist/MPM_nonProcessed/axial_skullstripped/ZRH-004_ses-02/img_142_normalized.npy\n",
      "Saved resized NPY: /media/sarvagya-pc/2TB HDD/Balgrist/MPM_nonProcessed/axial_skullstripped/ZRH-004_ses-02/img_143_normalized.npy\n",
      "Saved PNG: /media/sarvagya-pc/2TB HDD/Balgrist/MPM_nonProcessed/axial_skullstripped/ZRH-004_ses-02/img_143.png and NPY: /media/sarvagya-pc/2TB HDD/Balgrist/MPM_nonProcessed/axial_skullstripped/ZRH-004_ses-02/img_143_normalized.npy\n",
      "Saved resized NPY: /media/sarvagya-pc/2TB HDD/Balgrist/MPM_nonProcessed/axial_skullstripped/ZRH-004_ses-02/img_144_normalized.npy\n",
      "Saved PNG: /media/sarvagya-pc/2TB HDD/Balgrist/MPM_nonProcessed/axial_skullstripped/ZRH-004_ses-02/img_144.png and NPY: /media/sarvagya-pc/2TB HDD/Balgrist/MPM_nonProcessed/axial_skullstripped/ZRH-004_ses-02/img_144_normalized.npy\n",
      "Saved resized NPY: /media/sarvagya-pc/2TB HDD/Balgrist/MPM_nonProcessed/axial_skullstripped/ZRH-004_ses-02/img_145_normalized.npy\n",
      "Saved PNG: /media/sarvagya-pc/2TB HDD/Balgrist/MPM_nonProcessed/axial_skullstripped/ZRH-004_ses-02/img_145.png and NPY: /media/sarvagya-pc/2TB HDD/Balgrist/MPM_nonProcessed/axial_skullstripped/ZRH-004_ses-02/img_145_normalized.npy\n",
      "Saved resized NPY: /media/sarvagya-pc/2TB HDD/Balgrist/MPM_nonProcessed/axial_skullstripped/ZRH-004_ses-02/img_146_normalized.npy\n",
      "Saved PNG: /media/sarvagya-pc/2TB HDD/Balgrist/MPM_nonProcessed/axial_skullstripped/ZRH-004_ses-02/img_146.png and NPY: /media/sarvagya-pc/2TB HDD/Balgrist/MPM_nonProcessed/axial_skullstripped/ZRH-004_ses-02/img_146_normalized.npy\n",
      "Saved resized NPY: /media/sarvagya-pc/2TB HDD/Balgrist/MPM_nonProcessed/axial_skullstripped/ZRH-004_ses-02/img_147_normalized.npy\n",
      "Saved PNG: /media/sarvagya-pc/2TB HDD/Balgrist/MPM_nonProcessed/axial_skullstripped/ZRH-004_ses-02/img_147.png and NPY: /media/sarvagya-pc/2TB HDD/Balgrist/MPM_nonProcessed/axial_skullstripped/ZRH-004_ses-02/img_147_normalized.npy\n",
      "Saved resized NPY: /media/sarvagya-pc/2TB HDD/Balgrist/MPM_nonProcessed/axial_skullstripped/ZRH-004_ses-02/img_148_normalized.npy\n",
      "Saved PNG: /media/sarvagya-pc/2TB HDD/Balgrist/MPM_nonProcessed/axial_skullstripped/ZRH-004_ses-02/img_148.png and NPY: /media/sarvagya-pc/2TB HDD/Balgrist/MPM_nonProcessed/axial_skullstripped/ZRH-004_ses-02/img_148_normalized.npy\n",
      "Saved resized NPY: /media/sarvagya-pc/2TB HDD/Balgrist/MPM_nonProcessed/axial_skullstripped/ZRH-004_ses-02/img_149_normalized.npy\n",
      "Saved PNG: /media/sarvagya-pc/2TB HDD/Balgrist/MPM_nonProcessed/axial_skullstripped/ZRH-004_ses-02/img_149.png and NPY: /media/sarvagya-pc/2TB HDD/Balgrist/MPM_nonProcessed/axial_skullstripped/ZRH-004_ses-02/img_149_normalized.npy\n",
      "Saved resized NPY: /media/sarvagya-pc/2TB HDD/Balgrist/MPM_nonProcessed/axial_skullstripped/ZRH-004_ses-02/img_150_normalized.npy\n",
      "Saved PNG: /media/sarvagya-pc/2TB HDD/Balgrist/MPM_nonProcessed/axial_skullstripped/ZRH-004_ses-02/img_150.png and NPY: /media/sarvagya-pc/2TB HDD/Balgrist/MPM_nonProcessed/axial_skullstripped/ZRH-004_ses-02/img_150_normalized.npy\n",
      "Saved resized NPY: /media/sarvagya-pc/2TB HDD/Balgrist/MPM_nonProcessed/axial_skullstripped/ZRH-004_ses-02/img_151_normalized.npy\n",
      "Saved PNG: /media/sarvagya-pc/2TB HDD/Balgrist/MPM_nonProcessed/axial_skullstripped/ZRH-004_ses-02/img_151.png and NPY: /media/sarvagya-pc/2TB HDD/Balgrist/MPM_nonProcessed/axial_skullstripped/ZRH-004_ses-02/img_151_normalized.npy\n",
      "Saved resized NPY: /media/sarvagya-pc/2TB HDD/Balgrist/MPM_nonProcessed/axial_skullstripped/ZRH-004_ses-02/img_152_normalized.npy\n",
      "Saved PNG: /media/sarvagya-pc/2TB HDD/Balgrist/MPM_nonProcessed/axial_skullstripped/ZRH-004_ses-02/img_152.png and NPY: /media/sarvagya-pc/2TB HDD/Balgrist/MPM_nonProcessed/axial_skullstripped/ZRH-004_ses-02/img_152_normalized.npy\n",
      "Saved resized NPY: /media/sarvagya-pc/2TB HDD/Balgrist/MPM_nonProcessed/axial_skullstripped/ZRH-004_ses-02/img_153_normalized.npy\n",
      "Saved PNG: /media/sarvagya-pc/2TB HDD/Balgrist/MPM_nonProcessed/axial_skullstripped/ZRH-004_ses-02/img_153.png and NPY: /media/sarvagya-pc/2TB HDD/Balgrist/MPM_nonProcessed/axial_skullstripped/ZRH-004_ses-02/img_153_normalized.npy\n",
      "Saved resized NPY: /media/sarvagya-pc/2TB HDD/Balgrist/MPM_nonProcessed/axial_skullstripped/ZRH-004_ses-02/img_154_normalized.npy\n",
      "Saved PNG: /media/sarvagya-pc/2TB HDD/Balgrist/MPM_nonProcessed/axial_skullstripped/ZRH-004_ses-02/img_154.png and NPY: /media/sarvagya-pc/2TB HDD/Balgrist/MPM_nonProcessed/axial_skullstripped/ZRH-004_ses-02/img_154_normalized.npy\n",
      "Saved resized NPY: /media/sarvagya-pc/2TB HDD/Balgrist/MPM_nonProcessed/axial_skullstripped/ZRH-004_ses-02/img_155_normalized.npy\n",
      "Saved PNG: /media/sarvagya-pc/2TB HDD/Balgrist/MPM_nonProcessed/axial_skullstripped/ZRH-004_ses-02/img_155.png and NPY: /media/sarvagya-pc/2TB HDD/Balgrist/MPM_nonProcessed/axial_skullstripped/ZRH-004_ses-02/img_155_normalized.npy\n",
      "Saved resized NPY: /media/sarvagya-pc/2TB HDD/Balgrist/MPM_nonProcessed/axial_skullstripped/ZRH-004_ses-02/img_156_normalized.npy\n",
      "Saved PNG: /media/sarvagya-pc/2TB HDD/Balgrist/MPM_nonProcessed/axial_skullstripped/ZRH-004_ses-02/img_156.png and NPY: /media/sarvagya-pc/2TB HDD/Balgrist/MPM_nonProcessed/axial_skullstripped/ZRH-004_ses-02/img_156_normalized.npy\n",
      "Saved resized NPY: /media/sarvagya-pc/2TB HDD/Balgrist/MPM_nonProcessed/axial_skullstripped/ZRH-004_ses-02/img_157_normalized.npy\n",
      "Saved PNG: /media/sarvagya-pc/2TB HDD/Balgrist/MPM_nonProcessed/axial_skullstripped/ZRH-004_ses-02/img_157.png and NPY: /media/sarvagya-pc/2TB HDD/Balgrist/MPM_nonProcessed/axial_skullstripped/ZRH-004_ses-02/img_157_normalized.npy\n",
      "Saved resized NPY: /media/sarvagya-pc/2TB HDD/Balgrist/MPM_nonProcessed/axial_skullstripped/ZRH-004_ses-02/img_158_normalized.npy\n",
      "Saved PNG: /media/sarvagya-pc/2TB HDD/Balgrist/MPM_nonProcessed/axial_skullstripped/ZRH-004_ses-02/img_158.png and NPY: /media/sarvagya-pc/2TB HDD/Balgrist/MPM_nonProcessed/axial_skullstripped/ZRH-004_ses-02/img_158_normalized.npy\n",
      "Saved resized NPY: /media/sarvagya-pc/2TB HDD/Balgrist/MPM_nonProcessed/axial_skullstripped/ZRH-004_ses-02/img_159_normalized.npy\n",
      "Saved PNG: /media/sarvagya-pc/2TB HDD/Balgrist/MPM_nonProcessed/axial_skullstripped/ZRH-004_ses-02/img_159.png and NPY: /media/sarvagya-pc/2TB HDD/Balgrist/MPM_nonProcessed/axial_skullstripped/ZRH-004_ses-02/img_159_normalized.npy\n",
      "Saved resized NPY: /media/sarvagya-pc/2TB HDD/Balgrist/MPM_nonProcessed/axial_skullstripped/ZRH-004_ses-02/img_160_normalized.npy\n",
      "Saved PNG: /media/sarvagya-pc/2TB HDD/Balgrist/MPM_nonProcessed/axial_skullstripped/ZRH-004_ses-02/img_160.png and NPY: /media/sarvagya-pc/2TB HDD/Balgrist/MPM_nonProcessed/axial_skullstripped/ZRH-004_ses-02/img_160_normalized.npy\n",
      "Saved resized NPY: /media/sarvagya-pc/2TB HDD/Balgrist/MPM_nonProcessed/axial_skullstripped/ZRH-004_ses-02/img_161_normalized.npy\n",
      "Saved PNG: /media/sarvagya-pc/2TB HDD/Balgrist/MPM_nonProcessed/axial_skullstripped/ZRH-004_ses-02/img_161.png and NPY: /media/sarvagya-pc/2TB HDD/Balgrist/MPM_nonProcessed/axial_skullstripped/ZRH-004_ses-02/img_161_normalized.npy\n",
      "Saved resized NPY: /media/sarvagya-pc/2TB HDD/Balgrist/MPM_nonProcessed/axial_skullstripped/ZRH-004_ses-02/img_162_normalized.npy\n",
      "Saved PNG: /media/sarvagya-pc/2TB HDD/Balgrist/MPM_nonProcessed/axial_skullstripped/ZRH-004_ses-02/img_162.png and NPY: /media/sarvagya-pc/2TB HDD/Balgrist/MPM_nonProcessed/axial_skullstripped/ZRH-004_ses-02/img_162_normalized.npy\n",
      "Saved resized NPY: /media/sarvagya-pc/2TB HDD/Balgrist/MPM_nonProcessed/axial_skullstripped/ZRH-004_ses-02/img_163_normalized.npy\n",
      "Saved PNG: /media/sarvagya-pc/2TB HDD/Balgrist/MPM_nonProcessed/axial_skullstripped/ZRH-004_ses-02/img_163.png and NPY: /media/sarvagya-pc/2TB HDD/Balgrist/MPM_nonProcessed/axial_skullstripped/ZRH-004_ses-02/img_163_normalized.npy\n",
      "Saved resized NPY: /media/sarvagya-pc/2TB HDD/Balgrist/MPM_nonProcessed/axial_skullstripped/ZRH-004_ses-02/img_164_normalized.npy\n",
      "Saved PNG: /media/sarvagya-pc/2TB HDD/Balgrist/MPM_nonProcessed/axial_skullstripped/ZRH-004_ses-02/img_164.png and NPY: /media/sarvagya-pc/2TB HDD/Balgrist/MPM_nonProcessed/axial_skullstripped/ZRH-004_ses-02/img_164_normalized.npy\n",
      "Saved resized NPY: /media/sarvagya-pc/2TB HDD/Balgrist/MPM_nonProcessed/axial_skullstripped/ZRH-004_ses-02/img_165_normalized.npy\n",
      "Saved PNG: /media/sarvagya-pc/2TB HDD/Balgrist/MPM_nonProcessed/axial_skullstripped/ZRH-004_ses-02/img_165.png and NPY: /media/sarvagya-pc/2TB HDD/Balgrist/MPM_nonProcessed/axial_skullstripped/ZRH-004_ses-02/img_165_normalized.npy\n",
      "Saved resized NPY: /media/sarvagya-pc/2TB HDD/Balgrist/MPM_nonProcessed/axial_skullstripped/ZRH-004_ses-02/img_166_normalized.npy\n",
      "Saved PNG: /media/sarvagya-pc/2TB HDD/Balgrist/MPM_nonProcessed/axial_skullstripped/ZRH-004_ses-02/img_166.png and NPY: /media/sarvagya-pc/2TB HDD/Balgrist/MPM_nonProcessed/axial_skullstripped/ZRH-004_ses-02/img_166_normalized.npy\n",
      "Saved resized NPY: /media/sarvagya-pc/2TB HDD/Balgrist/MPM_nonProcessed/axial_skullstripped/ZRH-004_ses-02/img_167_normalized.npy\n",
      "Saved PNG: /media/sarvagya-pc/2TB HDD/Balgrist/MPM_nonProcessed/axial_skullstripped/ZRH-004_ses-02/img_167.png and NPY: /media/sarvagya-pc/2TB HDD/Balgrist/MPM_nonProcessed/axial_skullstripped/ZRH-004_ses-02/img_167_normalized.npy\n",
      "Saved resized NPY: /media/sarvagya-pc/2TB HDD/Balgrist/MPM_nonProcessed/axial_skullstripped/ZRH-004_ses-02/img_168_normalized.npy\n",
      "Saved PNG: /media/sarvagya-pc/2TB HDD/Balgrist/MPM_nonProcessed/axial_skullstripped/ZRH-004_ses-02/img_168.png and NPY: /media/sarvagya-pc/2TB HDD/Balgrist/MPM_nonProcessed/axial_skullstripped/ZRH-004_ses-02/img_168_normalized.npy\n",
      "Saved resized NPY: /media/sarvagya-pc/2TB HDD/Balgrist/MPM_nonProcessed/axial_skullstripped/ZRH-004_ses-02/img_169_normalized.npy\n",
      "Saved PNG: /media/sarvagya-pc/2TB HDD/Balgrist/MPM_nonProcessed/axial_skullstripped/ZRH-004_ses-02/img_169.png and NPY: /media/sarvagya-pc/2TB HDD/Balgrist/MPM_nonProcessed/axial_skullstripped/ZRH-004_ses-02/img_169_normalized.npy\n",
      "Saved resized NPY: /media/sarvagya-pc/2TB HDD/Balgrist/MPM_nonProcessed/axial_skullstripped/ZRH-004_ses-02/img_170_normalized.npy\n",
      "Saved PNG: /media/sarvagya-pc/2TB HDD/Balgrist/MPM_nonProcessed/axial_skullstripped/ZRH-004_ses-02/img_170.png and NPY: /media/sarvagya-pc/2TB HDD/Balgrist/MPM_nonProcessed/axial_skullstripped/ZRH-004_ses-02/img_170_normalized.npy\n",
      "Saved resized NPY: /media/sarvagya-pc/2TB HDD/Balgrist/MPM_nonProcessed/axial_skullstripped/ZRH-004_ses-02/img_171_normalized.npy\n",
      "Saved PNG: /media/sarvagya-pc/2TB HDD/Balgrist/MPM_nonProcessed/axial_skullstripped/ZRH-004_ses-02/img_171.png and NPY: /media/sarvagya-pc/2TB HDD/Balgrist/MPM_nonProcessed/axial_skullstripped/ZRH-004_ses-02/img_171_normalized.npy\n",
      "Saved resized NPY: /media/sarvagya-pc/2TB HDD/Balgrist/MPM_nonProcessed/axial_skullstripped/ZRH-004_ses-02/img_172_normalized.npy\n",
      "Saved PNG: /media/sarvagya-pc/2TB HDD/Balgrist/MPM_nonProcessed/axial_skullstripped/ZRH-004_ses-02/img_172.png and NPY: /media/sarvagya-pc/2TB HDD/Balgrist/MPM_nonProcessed/axial_skullstripped/ZRH-004_ses-02/img_172_normalized.npy\n",
      "Saved resized NPY: /media/sarvagya-pc/2TB HDD/Balgrist/MPM_nonProcessed/axial_skullstripped/ZRH-004_ses-02/img_173_normalized.npy\n",
      "Saved PNG: /media/sarvagya-pc/2TB HDD/Balgrist/MPM_nonProcessed/axial_skullstripped/ZRH-004_ses-02/img_173.png and NPY: /media/sarvagya-pc/2TB HDD/Balgrist/MPM_nonProcessed/axial_skullstripped/ZRH-004_ses-02/img_173_normalized.npy\n",
      "Saved resized NPY: /media/sarvagya-pc/2TB HDD/Balgrist/MPM_nonProcessed/axial_skullstripped/ZRH-004_ses-02/img_174_normalized.npy\n",
      "Saved PNG: /media/sarvagya-pc/2TB HDD/Balgrist/MPM_nonProcessed/axial_skullstripped/ZRH-004_ses-02/img_174.png and NPY: /media/sarvagya-pc/2TB HDD/Balgrist/MPM_nonProcessed/axial_skullstripped/ZRH-004_ses-02/img_174_normalized.npy\n",
      "Saved resized NPY: /media/sarvagya-pc/2TB HDD/Balgrist/MPM_nonProcessed/axial_skullstripped/ZRH-004_ses-02/img_175_normalized.npy\n",
      "Saved PNG: /media/sarvagya-pc/2TB HDD/Balgrist/MPM_nonProcessed/axial_skullstripped/ZRH-004_ses-02/img_175.png and NPY: /media/sarvagya-pc/2TB HDD/Balgrist/MPM_nonProcessed/axial_skullstripped/ZRH-004_ses-02/img_175_normalized.npy\n",
      "Saved resized NPY: /media/sarvagya-pc/2TB HDD/Balgrist/MPM_nonProcessed/axial_skullstripped/ZRH-004_ses-02/img_176_normalized.npy\n",
      "Saved PNG: /media/sarvagya-pc/2TB HDD/Balgrist/MPM_nonProcessed/axial_skullstripped/ZRH-004_ses-02/img_176.png and NPY: /media/sarvagya-pc/2TB HDD/Balgrist/MPM_nonProcessed/axial_skullstripped/ZRH-004_ses-02/img_176_normalized.npy\n",
      "Saved resized NPY: /media/sarvagya-pc/2TB HDD/Balgrist/MPM_nonProcessed/axial_skullstripped/ZRH-004_ses-02/img_177_normalized.npy\n",
      "Saved PNG: /media/sarvagya-pc/2TB HDD/Balgrist/MPM_nonProcessed/axial_skullstripped/ZRH-004_ses-02/img_177.png and NPY: /media/sarvagya-pc/2TB HDD/Balgrist/MPM_nonProcessed/axial_skullstripped/ZRH-004_ses-02/img_177_normalized.npy\n",
      "Saved resized NPY: /media/sarvagya-pc/2TB HDD/Balgrist/MPM_nonProcessed/axial_skullstripped/ZRH-004_ses-02/img_178_normalized.npy\n",
      "Saved PNG: /media/sarvagya-pc/2TB HDD/Balgrist/MPM_nonProcessed/axial_skullstripped/ZRH-004_ses-02/img_178.png and NPY: /media/sarvagya-pc/2TB HDD/Balgrist/MPM_nonProcessed/axial_skullstripped/ZRH-004_ses-02/img_178_normalized.npy\n",
      "Saved resized NPY: /media/sarvagya-pc/2TB HDD/Balgrist/MPM_nonProcessed/axial_skullstripped/ZRH-004_ses-02/img_179_normalized.npy\n",
      "Saved PNG: /media/sarvagya-pc/2TB HDD/Balgrist/MPM_nonProcessed/axial_skullstripped/ZRH-004_ses-02/img_179.png and NPY: /media/sarvagya-pc/2TB HDD/Balgrist/MPM_nonProcessed/axial_skullstripped/ZRH-004_ses-02/img_179_normalized.npy\n",
      "Saved resized NPY: /media/sarvagya-pc/2TB HDD/Balgrist/MPM_nonProcessed/axial_skullstripped/ZRH-004_ses-02/img_180_normalized.npy\n",
      "Saved PNG: /media/sarvagya-pc/2TB HDD/Balgrist/MPM_nonProcessed/axial_skullstripped/ZRH-004_ses-02/img_180.png and NPY: /media/sarvagya-pc/2TB HDD/Balgrist/MPM_nonProcessed/axial_skullstripped/ZRH-004_ses-02/img_180_normalized.npy\n",
      "Saved resized NPY: /media/sarvagya-pc/2TB HDD/Balgrist/MPM_nonProcessed/axial_skullstripped/ZRH-004_ses-02/img_181_normalized.npy\n",
      "Saved PNG: /media/sarvagya-pc/2TB HDD/Balgrist/MPM_nonProcessed/axial_skullstripped/ZRH-004_ses-02/img_181.png and NPY: /media/sarvagya-pc/2TB HDD/Balgrist/MPM_nonProcessed/axial_skullstripped/ZRH-004_ses-02/img_181_normalized.npy\n",
      "Saved resized NPY: /media/sarvagya-pc/2TB HDD/Balgrist/MPM_nonProcessed/axial_skullstripped/ZRH-004_ses-02/img_182_normalized.npy\n",
      "Saved PNG: /media/sarvagya-pc/2TB HDD/Balgrist/MPM_nonProcessed/axial_skullstripped/ZRH-004_ses-02/img_182.png and NPY: /media/sarvagya-pc/2TB HDD/Balgrist/MPM_nonProcessed/axial_skullstripped/ZRH-004_ses-02/img_182_normalized.npy\n",
      "Saved resized NPY: /media/sarvagya-pc/2TB HDD/Balgrist/MPM_nonProcessed/axial_skullstripped/ZRH-004_ses-02/img_183_normalized.npy\n",
      "Saved PNG: /media/sarvagya-pc/2TB HDD/Balgrist/MPM_nonProcessed/axial_skullstripped/ZRH-004_ses-02/img_183.png and NPY: /media/sarvagya-pc/2TB HDD/Balgrist/MPM_nonProcessed/axial_skullstripped/ZRH-004_ses-02/img_183_normalized.npy\n",
      "Saved resized NPY: /media/sarvagya-pc/2TB HDD/Balgrist/MPM_nonProcessed/axial_skullstripped/ZRH-004_ses-02/img_184_normalized.npy\n",
      "Saved PNG: /media/sarvagya-pc/2TB HDD/Balgrist/MPM_nonProcessed/axial_skullstripped/ZRH-004_ses-02/img_184.png and NPY: /media/sarvagya-pc/2TB HDD/Balgrist/MPM_nonProcessed/axial_skullstripped/ZRH-004_ses-02/img_184_normalized.npy\n",
      "Saved resized NPY: /media/sarvagya-pc/2TB HDD/Balgrist/MPM_nonProcessed/axial_skullstripped/ZRH-004_ses-02/img_185_normalized.npy\n",
      "Saved PNG: /media/sarvagya-pc/2TB HDD/Balgrist/MPM_nonProcessed/axial_skullstripped/ZRH-004_ses-02/img_185.png and NPY: /media/sarvagya-pc/2TB HDD/Balgrist/MPM_nonProcessed/axial_skullstripped/ZRH-004_ses-02/img_185_normalized.npy\n",
      "Saved resized NPY: /media/sarvagya-pc/2TB HDD/Balgrist/MPM_nonProcessed/axial_skullstripped/ZRH-004_ses-02/img_186_normalized.npy\n",
      "Saved PNG: /media/sarvagya-pc/2TB HDD/Balgrist/MPM_nonProcessed/axial_skullstripped/ZRH-004_ses-02/img_186.png and NPY: /media/sarvagya-pc/2TB HDD/Balgrist/MPM_nonProcessed/axial_skullstripped/ZRH-004_ses-02/img_186_normalized.npy\n",
      "Saved resized NPY: /media/sarvagya-pc/2TB HDD/Balgrist/MPM_nonProcessed/axial_skullstripped/ZRH-004_ses-02/img_187_normalized.npy\n",
      "Saved PNG: /media/sarvagya-pc/2TB HDD/Balgrist/MPM_nonProcessed/axial_skullstripped/ZRH-004_ses-02/img_187.png and NPY: /media/sarvagya-pc/2TB HDD/Balgrist/MPM_nonProcessed/axial_skullstripped/ZRH-004_ses-02/img_187_normalized.npy\n",
      "Saved resized NPY: /media/sarvagya-pc/2TB HDD/Balgrist/MPM_nonProcessed/axial_skullstripped/ZRH-004_ses-02/img_188_normalized.npy\n",
      "Saved PNG: /media/sarvagya-pc/2TB HDD/Balgrist/MPM_nonProcessed/axial_skullstripped/ZRH-004_ses-02/img_188.png and NPY: /media/sarvagya-pc/2TB HDD/Balgrist/MPM_nonProcessed/axial_skullstripped/ZRH-004_ses-02/img_188_normalized.npy\n",
      "Saved resized NPY: /media/sarvagya-pc/2TB HDD/Balgrist/MPM_nonProcessed/axial_skullstripped/ZRH-004_ses-02/img_189_normalized.npy\n",
      "Saved PNG: /media/sarvagya-pc/2TB HDD/Balgrist/MPM_nonProcessed/axial_skullstripped/ZRH-004_ses-02/img_189.png and NPY: /media/sarvagya-pc/2TB HDD/Balgrist/MPM_nonProcessed/axial_skullstripped/ZRH-004_ses-02/img_189_normalized.npy\n",
      "Saved resized NPY: /media/sarvagya-pc/2TB HDD/Balgrist/MPM_nonProcessed/axial_skullstripped/ZRH-004_ses-02/img_190_normalized.npy\n",
      "Saved PNG: /media/sarvagya-pc/2TB HDD/Balgrist/MPM_nonProcessed/axial_skullstripped/ZRH-004_ses-02/img_190.png and NPY: /media/sarvagya-pc/2TB HDD/Balgrist/MPM_nonProcessed/axial_skullstripped/ZRH-004_ses-02/img_190_normalized.npy\n",
      "Saved resized NPY: /media/sarvagya-pc/2TB HDD/Balgrist/MPM_nonProcessed/axial_skullstripped/ZRH-004_ses-02/img_191_normalized.npy\n",
      "Saved PNG: /media/sarvagya-pc/2TB HDD/Balgrist/MPM_nonProcessed/axial_skullstripped/ZRH-004_ses-02/img_191.png and NPY: /media/sarvagya-pc/2TB HDD/Balgrist/MPM_nonProcessed/axial_skullstripped/ZRH-004_ses-02/img_191_normalized.npy\n",
      "Saved resized NPY: /media/sarvagya-pc/2TB HDD/Balgrist/MPM_nonProcessed/axial_skullstripped/ZRH-004_ses-02/img_192_normalized.npy\n",
      "Saved PNG: /media/sarvagya-pc/2TB HDD/Balgrist/MPM_nonProcessed/axial_skullstripped/ZRH-004_ses-02/img_192.png and NPY: /media/sarvagya-pc/2TB HDD/Balgrist/MPM_nonProcessed/axial_skullstripped/ZRH-004_ses-02/img_192_normalized.npy\n",
      "Saved resized NPY: /media/sarvagya-pc/2TB HDD/Balgrist/MPM_nonProcessed/axial_skullstripped/ZRH-004_ses-02/img_193_normalized.npy\n",
      "Saved PNG: /media/sarvagya-pc/2TB HDD/Balgrist/MPM_nonProcessed/axial_skullstripped/ZRH-004_ses-02/img_193.png and NPY: /media/sarvagya-pc/2TB HDD/Balgrist/MPM_nonProcessed/axial_skullstripped/ZRH-004_ses-02/img_193_normalized.npy\n",
      "Saved resized NPY: /media/sarvagya-pc/2TB HDD/Balgrist/MPM_nonProcessed/axial_skullstripped/ZRH-004_ses-02/img_194_normalized.npy\n",
      "Saved PNG: /media/sarvagya-pc/2TB HDD/Balgrist/MPM_nonProcessed/axial_skullstripped/ZRH-004_ses-02/img_194.png and NPY: /media/sarvagya-pc/2TB HDD/Balgrist/MPM_nonProcessed/axial_skullstripped/ZRH-004_ses-02/img_194_normalized.npy\n",
      "Saved resized NPY: /media/sarvagya-pc/2TB HDD/Balgrist/MPM_nonProcessed/axial_skullstripped/ZRH-004_ses-02/img_195_normalized.npy\n",
      "Saved PNG: /media/sarvagya-pc/2TB HDD/Balgrist/MPM_nonProcessed/axial_skullstripped/ZRH-004_ses-02/img_195.png and NPY: /media/sarvagya-pc/2TB HDD/Balgrist/MPM_nonProcessed/axial_skullstripped/ZRH-004_ses-02/img_195_normalized.npy\n",
      "Saved resized NPY: /media/sarvagya-pc/2TB HDD/Balgrist/MPM_nonProcessed/axial_skullstripped/ZRH-004_ses-02/img_196_normalized.npy\n",
      "Saved PNG: /media/sarvagya-pc/2TB HDD/Balgrist/MPM_nonProcessed/axial_skullstripped/ZRH-004_ses-02/img_196.png and NPY: /media/sarvagya-pc/2TB HDD/Balgrist/MPM_nonProcessed/axial_skullstripped/ZRH-004_ses-02/img_196_normalized.npy\n",
      "Saved resized NPY: /media/sarvagya-pc/2TB HDD/Balgrist/MPM_nonProcessed/axial_skullstripped/ZRH-004_ses-02/img_197_normalized.npy\n",
      "Saved PNG: /media/sarvagya-pc/2TB HDD/Balgrist/MPM_nonProcessed/axial_skullstripped/ZRH-004_ses-02/img_197.png and NPY: /media/sarvagya-pc/2TB HDD/Balgrist/MPM_nonProcessed/axial_skullstripped/ZRH-004_ses-02/img_197_normalized.npy\n",
      "Saved resized NPY: /media/sarvagya-pc/2TB HDD/Balgrist/MPM_nonProcessed/axial_skullstripped/ZRH-004_ses-02/img_198_normalized.npy\n",
      "Saved PNG: /media/sarvagya-pc/2TB HDD/Balgrist/MPM_nonProcessed/axial_skullstripped/ZRH-004_ses-02/img_198.png and NPY: /media/sarvagya-pc/2TB HDD/Balgrist/MPM_nonProcessed/axial_skullstripped/ZRH-004_ses-02/img_198_normalized.npy\n",
      "Saved resized NPY: /media/sarvagya-pc/2TB HDD/Balgrist/MPM_nonProcessed/axial_skullstripped/ZRH-004_ses-02/img_199_normalized.npy\n",
      "Saved PNG: /media/sarvagya-pc/2TB HDD/Balgrist/MPM_nonProcessed/axial_skullstripped/ZRH-004_ses-02/img_199.png and NPY: /media/sarvagya-pc/2TB HDD/Balgrist/MPM_nonProcessed/axial_skullstripped/ZRH-004_ses-02/img_199_normalized.npy\n",
      "Saved resized NPY: /media/sarvagya-pc/2TB HDD/Balgrist/MPM_nonProcessed/axial_skullstripped/ZRH-004_ses-02/img_200_normalized.npy\n",
      "Saved PNG: /media/sarvagya-pc/2TB HDD/Balgrist/MPM_nonProcessed/axial_skullstripped/ZRH-004_ses-02/img_200.png and NPY: /media/sarvagya-pc/2TB HDD/Balgrist/MPM_nonProcessed/axial_skullstripped/ZRH-004_ses-02/img_200_normalized.npy\n",
      "Saved resized NPY: /media/sarvagya-pc/2TB HDD/Balgrist/MPM_nonProcessed/axial_skullstripped/ZRH-004_ses-02/img_201_normalized.npy\n",
      "Saved PNG: /media/sarvagya-pc/2TB HDD/Balgrist/MPM_nonProcessed/axial_skullstripped/ZRH-004_ses-02/img_201.png and NPY: /media/sarvagya-pc/2TB HDD/Balgrist/MPM_nonProcessed/axial_skullstripped/ZRH-004_ses-02/img_201_normalized.npy\n",
      "Saved resized NPY: /media/sarvagya-pc/2TB HDD/Balgrist/MPM_nonProcessed/axial_skullstripped/ZRH-004_ses-02/img_202_normalized.npy\n",
      "Saved PNG: /media/sarvagya-pc/2TB HDD/Balgrist/MPM_nonProcessed/axial_skullstripped/ZRH-004_ses-02/img_202.png and NPY: /media/sarvagya-pc/2TB HDD/Balgrist/MPM_nonProcessed/axial_skullstripped/ZRH-004_ses-02/img_202_normalized.npy\n",
      "Saved resized NPY: /media/sarvagya-pc/2TB HDD/Balgrist/MPM_nonProcessed/axial_skullstripped/ZRH-004_ses-02/img_203_normalized.npy\n",
      "Saved PNG: /media/sarvagya-pc/2TB HDD/Balgrist/MPM_nonProcessed/axial_skullstripped/ZRH-004_ses-02/img_203.png and NPY: /media/sarvagya-pc/2TB HDD/Balgrist/MPM_nonProcessed/axial_skullstripped/ZRH-004_ses-02/img_203_normalized.npy\n",
      "Saved resized NPY: /media/sarvagya-pc/2TB HDD/Balgrist/MPM_nonProcessed/axial_skullstripped/ZRH-004_ses-02/img_204_normalized.npy\n",
      "Saved PNG: /media/sarvagya-pc/2TB HDD/Balgrist/MPM_nonProcessed/axial_skullstripped/ZRH-004_ses-02/img_204.png and NPY: /media/sarvagya-pc/2TB HDD/Balgrist/MPM_nonProcessed/axial_skullstripped/ZRH-004_ses-02/img_204_normalized.npy\n",
      "Saved resized NPY: /media/sarvagya-pc/2TB HDD/Balgrist/MPM_nonProcessed/axial_skullstripped/ZRH-004_ses-02/img_205_normalized.npy\n",
      "Saved PNG: /media/sarvagya-pc/2TB HDD/Balgrist/MPM_nonProcessed/axial_skullstripped/ZRH-004_ses-02/img_205.png and NPY: /media/sarvagya-pc/2TB HDD/Balgrist/MPM_nonProcessed/axial_skullstripped/ZRH-004_ses-02/img_205_normalized.npy\n",
      "Saved resized NPY: /media/sarvagya-pc/2TB HDD/Balgrist/MPM_nonProcessed/axial_skullstripped/ZRH-004_ses-02/img_206_normalized.npy\n",
      "Saved PNG: /media/sarvagya-pc/2TB HDD/Balgrist/MPM_nonProcessed/axial_skullstripped/ZRH-004_ses-02/img_206.png and NPY: /media/sarvagya-pc/2TB HDD/Balgrist/MPM_nonProcessed/axial_skullstripped/ZRH-004_ses-02/img_206_normalized.npy\n",
      "Saved resized NPY: /media/sarvagya-pc/2TB HDD/Balgrist/MPM_nonProcessed/axial_skullstripped/ZRH-004_ses-02/img_207_normalized.npy\n",
      "Saved PNG: /media/sarvagya-pc/2TB HDD/Balgrist/MPM_nonProcessed/axial_skullstripped/ZRH-004_ses-02/img_207.png and NPY: /media/sarvagya-pc/2TB HDD/Balgrist/MPM_nonProcessed/axial_skullstripped/ZRH-004_ses-02/img_207_normalized.npy\n",
      "Saved resized NPY: /media/sarvagya-pc/2TB HDD/Balgrist/MPM_nonProcessed/axial_skullstripped/ZRH-004_ses-02/img_208_normalized.npy\n",
      "Saved PNG: /media/sarvagya-pc/2TB HDD/Balgrist/MPM_nonProcessed/axial_skullstripped/ZRH-004_ses-02/img_208.png and NPY: /media/sarvagya-pc/2TB HDD/Balgrist/MPM_nonProcessed/axial_skullstripped/ZRH-004_ses-02/img_208_normalized.npy\n",
      "Saved resized NPY: /media/sarvagya-pc/2TB HDD/Balgrist/MPM_nonProcessed/axial_skullstripped/ZRH-004_ses-02/img_209_normalized.npy\n",
      "Saved PNG: /media/sarvagya-pc/2TB HDD/Balgrist/MPM_nonProcessed/axial_skullstripped/ZRH-004_ses-02/img_209.png and NPY: /media/sarvagya-pc/2TB HDD/Balgrist/MPM_nonProcessed/axial_skullstripped/ZRH-004_ses-02/img_209_normalized.npy\n",
      "Saved resized NPY: /media/sarvagya-pc/2TB HDD/Balgrist/MPM_nonProcessed/axial_skullstripped/ZRH-004_ses-02/img_210_normalized.npy\n",
      "Saved PNG: /media/sarvagya-pc/2TB HDD/Balgrist/MPM_nonProcessed/axial_skullstripped/ZRH-004_ses-02/img_210.png and NPY: /media/sarvagya-pc/2TB HDD/Balgrist/MPM_nonProcessed/axial_skullstripped/ZRH-004_ses-02/img_210_normalized.npy\n",
      "Saved resized NPY: /media/sarvagya-pc/2TB HDD/Balgrist/MPM_nonProcessed/axial_skullstripped/ZRH-004_ses-02/img_211_normalized.npy\n",
      "Saved PNG: /media/sarvagya-pc/2TB HDD/Balgrist/MPM_nonProcessed/axial_skullstripped/ZRH-004_ses-02/img_211.png and NPY: /media/sarvagya-pc/2TB HDD/Balgrist/MPM_nonProcessed/axial_skullstripped/ZRH-004_ses-02/img_211_normalized.npy\n",
      "Saved resized NPY: /media/sarvagya-pc/2TB HDD/Balgrist/MPM_nonProcessed/axial_skullstripped/ZRH-004_ses-02/img_212_normalized.npy\n",
      "Saved PNG: /media/sarvagya-pc/2TB HDD/Balgrist/MPM_nonProcessed/axial_skullstripped/ZRH-004_ses-02/img_212.png and NPY: /media/sarvagya-pc/2TB HDD/Balgrist/MPM_nonProcessed/axial_skullstripped/ZRH-004_ses-02/img_212_normalized.npy\n",
      "Saved resized NPY: /media/sarvagya-pc/2TB HDD/Balgrist/MPM_nonProcessed/axial_skullstripped/ZRH-004_ses-02/img_213_normalized.npy\n",
      "Saved PNG: /media/sarvagya-pc/2TB HDD/Balgrist/MPM_nonProcessed/axial_skullstripped/ZRH-004_ses-02/img_213.png and NPY: /media/sarvagya-pc/2TB HDD/Balgrist/MPM_nonProcessed/axial_skullstripped/ZRH-004_ses-02/img_213_normalized.npy\n",
      "Saved resized NPY: /media/sarvagya-pc/2TB HDD/Balgrist/MPM_nonProcessed/axial_skullstripped/ZRH-004_ses-02/img_214_normalized.npy\n",
      "Saved PNG: /media/sarvagya-pc/2TB HDD/Balgrist/MPM_nonProcessed/axial_skullstripped/ZRH-004_ses-02/img_214.png and NPY: /media/sarvagya-pc/2TB HDD/Balgrist/MPM_nonProcessed/axial_skullstripped/ZRH-004_ses-02/img_214_normalized.npy\n",
      "Saved resized NPY: /media/sarvagya-pc/2TB HDD/Balgrist/MPM_nonProcessed/axial_skullstripped/ZRH-004_ses-02/img_215_normalized.npy\n",
      "Saved PNG: /media/sarvagya-pc/2TB HDD/Balgrist/MPM_nonProcessed/axial_skullstripped/ZRH-004_ses-02/img_215.png and NPY: /media/sarvagya-pc/2TB HDD/Balgrist/MPM_nonProcessed/axial_skullstripped/ZRH-004_ses-02/img_215_normalized.npy\n",
      "Saved resized NPY: /media/sarvagya-pc/2TB HDD/Balgrist/MPM_nonProcessed/axial_skullstripped/ZRH-004_ses-02/img_216_normalized.npy\n",
      "Saved PNG: /media/sarvagya-pc/2TB HDD/Balgrist/MPM_nonProcessed/axial_skullstripped/ZRH-004_ses-02/img_216.png and NPY: /media/sarvagya-pc/2TB HDD/Balgrist/MPM_nonProcessed/axial_skullstripped/ZRH-004_ses-02/img_216_normalized.npy\n",
      "Saved resized NPY: /media/sarvagya-pc/2TB HDD/Balgrist/MPM_nonProcessed/axial_skullstripped/ZRH-004_ses-02/img_217_normalized.npy\n",
      "Saved PNG: /media/sarvagya-pc/2TB HDD/Balgrist/MPM_nonProcessed/axial_skullstripped/ZRH-004_ses-02/img_217.png and NPY: /media/sarvagya-pc/2TB HDD/Balgrist/MPM_nonProcessed/axial_skullstripped/ZRH-004_ses-02/img_217_normalized.npy\n",
      "Saved resized NPY: /media/sarvagya-pc/2TB HDD/Balgrist/MPM_nonProcessed/axial_skullstripped/ZRH-004_ses-02/img_218_normalized.npy\n",
      "Saved PNG: /media/sarvagya-pc/2TB HDD/Balgrist/MPM_nonProcessed/axial_skullstripped/ZRH-004_ses-02/img_218.png and NPY: /media/sarvagya-pc/2TB HDD/Balgrist/MPM_nonProcessed/axial_skullstripped/ZRH-004_ses-02/img_218_normalized.npy\n",
      "Saved resized NPY: /media/sarvagya-pc/2TB HDD/Balgrist/MPM_nonProcessed/axial_skullstripped/ZRH-004_ses-02/img_219_normalized.npy\n",
      "Saved PNG: /media/sarvagya-pc/2TB HDD/Balgrist/MPM_nonProcessed/axial_skullstripped/ZRH-004_ses-02/img_219.png and NPY: /media/sarvagya-pc/2TB HDD/Balgrist/MPM_nonProcessed/axial_skullstripped/ZRH-004_ses-02/img_219_normalized.npy\n",
      "(256, 256, 176)\n",
      "NTL-009_ses-01\n",
      "Saved resized NPY: /media/sarvagya-pc/2TB HDD/Balgrist/MPM_nonProcessed/axial_skullstripped/NTL-009_ses-01/img_133_normalized.npy\n",
      "Saved PNG: /media/sarvagya-pc/2TB HDD/Balgrist/MPM_nonProcessed/axial_skullstripped/NTL-009_ses-01/img_133.png and NPY: /media/sarvagya-pc/2TB HDD/Balgrist/MPM_nonProcessed/axial_skullstripped/NTL-009_ses-01/img_133_normalized.npy\n",
      "Saved resized NPY: /media/sarvagya-pc/2TB HDD/Balgrist/MPM_nonProcessed/axial_skullstripped/NTL-009_ses-01/img_134_normalized.npy\n",
      "Saved PNG: /media/sarvagya-pc/2TB HDD/Balgrist/MPM_nonProcessed/axial_skullstripped/NTL-009_ses-01/img_134.png and NPY: /media/sarvagya-pc/2TB HDD/Balgrist/MPM_nonProcessed/axial_skullstripped/NTL-009_ses-01/img_134_normalized.npy\n",
      "Saved resized NPY: /media/sarvagya-pc/2TB HDD/Balgrist/MPM_nonProcessed/axial_skullstripped/NTL-009_ses-01/img_135_normalized.npy\n",
      "Saved PNG: /media/sarvagya-pc/2TB HDD/Balgrist/MPM_nonProcessed/axial_skullstripped/NTL-009_ses-01/img_135.png and NPY: /media/sarvagya-pc/2TB HDD/Balgrist/MPM_nonProcessed/axial_skullstripped/NTL-009_ses-01/img_135_normalized.npy\n",
      "Saved resized NPY: /media/sarvagya-pc/2TB HDD/Balgrist/MPM_nonProcessed/axial_skullstripped/NTL-009_ses-01/img_136_normalized.npy\n",
      "Saved PNG: /media/sarvagya-pc/2TB HDD/Balgrist/MPM_nonProcessed/axial_skullstripped/NTL-009_ses-01/img_136.png and NPY: /media/sarvagya-pc/2TB HDD/Balgrist/MPM_nonProcessed/axial_skullstripped/NTL-009_ses-01/img_136_normalized.npy\n",
      "Saved resized NPY: /media/sarvagya-pc/2TB HDD/Balgrist/MPM_nonProcessed/axial_skullstripped/NTL-009_ses-01/img_137_normalized.npy\n",
      "Saved PNG: /media/sarvagya-pc/2TB HDD/Balgrist/MPM_nonProcessed/axial_skullstripped/NTL-009_ses-01/img_137.png and NPY: /media/sarvagya-pc/2TB HDD/Balgrist/MPM_nonProcessed/axial_skullstripped/NTL-009_ses-01/img_137_normalized.npy\n",
      "Saved resized NPY: /media/sarvagya-pc/2TB HDD/Balgrist/MPM_nonProcessed/axial_skullstripped/NTL-009_ses-01/img_138_normalized.npy\n",
      "Saved PNG: /media/sarvagya-pc/2TB HDD/Balgrist/MPM_nonProcessed/axial_skullstripped/NTL-009_ses-01/img_138.png and NPY: /media/sarvagya-pc/2TB HDD/Balgrist/MPM_nonProcessed/axial_skullstripped/NTL-009_ses-01/img_138_normalized.npy\n",
      "Saved resized NPY: /media/sarvagya-pc/2TB HDD/Balgrist/MPM_nonProcessed/axial_skullstripped/NTL-009_ses-01/img_139_normalized.npy\n",
      "Saved PNG: /media/sarvagya-pc/2TB HDD/Balgrist/MPM_nonProcessed/axial_skullstripped/NTL-009_ses-01/img_139.png and NPY: /media/sarvagya-pc/2TB HDD/Balgrist/MPM_nonProcessed/axial_skullstripped/NTL-009_ses-01/img_139_normalized.npy\n",
      "Saved resized NPY: /media/sarvagya-pc/2TB HDD/Balgrist/MPM_nonProcessed/axial_skullstripped/NTL-009_ses-01/img_140_normalized.npy\n",
      "Saved PNG: /media/sarvagya-pc/2TB HDD/Balgrist/MPM_nonProcessed/axial_skullstripped/NTL-009_ses-01/img_140.png and NPY: /media/sarvagya-pc/2TB HDD/Balgrist/MPM_nonProcessed/axial_skullstripped/NTL-009_ses-01/img_140_normalized.npy\n",
      "Saved resized NPY: /media/sarvagya-pc/2TB HDD/Balgrist/MPM_nonProcessed/axial_skullstripped/NTL-009_ses-01/img_141_normalized.npy\n",
      "Saved PNG: /media/sarvagya-pc/2TB HDD/Balgrist/MPM_nonProcessed/axial_skullstripped/NTL-009_ses-01/img_141.png and NPY: /media/sarvagya-pc/2TB HDD/Balgrist/MPM_nonProcessed/axial_skullstripped/NTL-009_ses-01/img_141_normalized.npy\n",
      "Saved resized NPY: /media/sarvagya-pc/2TB HDD/Balgrist/MPM_nonProcessed/axial_skullstripped/NTL-009_ses-01/img_142_normalized.npy\n",
      "Saved PNG: /media/sarvagya-pc/2TB HDD/Balgrist/MPM_nonProcessed/axial_skullstripped/NTL-009_ses-01/img_142.png and NPY: /media/sarvagya-pc/2TB HDD/Balgrist/MPM_nonProcessed/axial_skullstripped/NTL-009_ses-01/img_142_normalized.npy\n",
      "Saved resized NPY: /media/sarvagya-pc/2TB HDD/Balgrist/MPM_nonProcessed/axial_skullstripped/NTL-009_ses-01/img_143_normalized.npy\n",
      "Saved PNG: /media/sarvagya-pc/2TB HDD/Balgrist/MPM_nonProcessed/axial_skullstripped/NTL-009_ses-01/img_143.png and NPY: /media/sarvagya-pc/2TB HDD/Balgrist/MPM_nonProcessed/axial_skullstripped/NTL-009_ses-01/img_143_normalized.npy\n",
      "Saved resized NPY: /media/sarvagya-pc/2TB HDD/Balgrist/MPM_nonProcessed/axial_skullstripped/NTL-009_ses-01/img_144_normalized.npy\n",
      "Saved PNG: /media/sarvagya-pc/2TB HDD/Balgrist/MPM_nonProcessed/axial_skullstripped/NTL-009_ses-01/img_144.png and NPY: /media/sarvagya-pc/2TB HDD/Balgrist/MPM_nonProcessed/axial_skullstripped/NTL-009_ses-01/img_144_normalized.npy\n",
      "Saved resized NPY: /media/sarvagya-pc/2TB HDD/Balgrist/MPM_nonProcessed/axial_skullstripped/NTL-009_ses-01/img_145_normalized.npy\n",
      "Saved PNG: /media/sarvagya-pc/2TB HDD/Balgrist/MPM_nonProcessed/axial_skullstripped/NTL-009_ses-01/img_145.png and NPY: /media/sarvagya-pc/2TB HDD/Balgrist/MPM_nonProcessed/axial_skullstripped/NTL-009_ses-01/img_145_normalized.npy\n",
      "Saved resized NPY: /media/sarvagya-pc/2TB HDD/Balgrist/MPM_nonProcessed/axial_skullstripped/NTL-009_ses-01/img_146_normalized.npy\n",
      "Saved PNG: /media/sarvagya-pc/2TB HDD/Balgrist/MPM_nonProcessed/axial_skullstripped/NTL-009_ses-01/img_146.png and NPY: /media/sarvagya-pc/2TB HDD/Balgrist/MPM_nonProcessed/axial_skullstripped/NTL-009_ses-01/img_146_normalized.npy\n",
      "Saved resized NPY: /media/sarvagya-pc/2TB HDD/Balgrist/MPM_nonProcessed/axial_skullstripped/NTL-009_ses-01/img_147_normalized.npy\n",
      "Saved PNG: /media/sarvagya-pc/2TB HDD/Balgrist/MPM_nonProcessed/axial_skullstripped/NTL-009_ses-01/img_147.png and NPY: /media/sarvagya-pc/2TB HDD/Balgrist/MPM_nonProcessed/axial_skullstripped/NTL-009_ses-01/img_147_normalized.npy\n",
      "Saved resized NPY: /media/sarvagya-pc/2TB HDD/Balgrist/MPM_nonProcessed/axial_skullstripped/NTL-009_ses-01/img_148_normalized.npy\n",
      "Saved PNG: /media/sarvagya-pc/2TB HDD/Balgrist/MPM_nonProcessed/axial_skullstripped/NTL-009_ses-01/img_148.png and NPY: /media/sarvagya-pc/2TB HDD/Balgrist/MPM_nonProcessed/axial_skullstripped/NTL-009_ses-01/img_148_normalized.npy\n",
      "Saved resized NPY: /media/sarvagya-pc/2TB HDD/Balgrist/MPM_nonProcessed/axial_skullstripped/NTL-009_ses-01/img_149_normalized.npy\n",
      "Saved PNG: /media/sarvagya-pc/2TB HDD/Balgrist/MPM_nonProcessed/axial_skullstripped/NTL-009_ses-01/img_149.png and NPY: /media/sarvagya-pc/2TB HDD/Balgrist/MPM_nonProcessed/axial_skullstripped/NTL-009_ses-01/img_149_normalized.npy\n",
      "Saved resized NPY: /media/sarvagya-pc/2TB HDD/Balgrist/MPM_nonProcessed/axial_skullstripped/NTL-009_ses-01/img_150_normalized.npy\n",
      "Saved PNG: /media/sarvagya-pc/2TB HDD/Balgrist/MPM_nonProcessed/axial_skullstripped/NTL-009_ses-01/img_150.png and NPY: /media/sarvagya-pc/2TB HDD/Balgrist/MPM_nonProcessed/axial_skullstripped/NTL-009_ses-01/img_150_normalized.npy\n",
      "Saved resized NPY: /media/sarvagya-pc/2TB HDD/Balgrist/MPM_nonProcessed/axial_skullstripped/NTL-009_ses-01/img_151_normalized.npy\n",
      "Saved PNG: /media/sarvagya-pc/2TB HDD/Balgrist/MPM_nonProcessed/axial_skullstripped/NTL-009_ses-01/img_151.png and NPY: /media/sarvagya-pc/2TB HDD/Balgrist/MPM_nonProcessed/axial_skullstripped/NTL-009_ses-01/img_151_normalized.npy\n",
      "Saved resized NPY: /media/sarvagya-pc/2TB HDD/Balgrist/MPM_nonProcessed/axial_skullstripped/NTL-009_ses-01/img_152_normalized.npy\n",
      "Saved PNG: /media/sarvagya-pc/2TB HDD/Balgrist/MPM_nonProcessed/axial_skullstripped/NTL-009_ses-01/img_152.png and NPY: /media/sarvagya-pc/2TB HDD/Balgrist/MPM_nonProcessed/axial_skullstripped/NTL-009_ses-01/img_152_normalized.npy\n",
      "Saved resized NPY: /media/sarvagya-pc/2TB HDD/Balgrist/MPM_nonProcessed/axial_skullstripped/NTL-009_ses-01/img_153_normalized.npy\n",
      "Saved PNG: /media/sarvagya-pc/2TB HDD/Balgrist/MPM_nonProcessed/axial_skullstripped/NTL-009_ses-01/img_153.png and NPY: /media/sarvagya-pc/2TB HDD/Balgrist/MPM_nonProcessed/axial_skullstripped/NTL-009_ses-01/img_153_normalized.npy\n",
      "Saved resized NPY: /media/sarvagya-pc/2TB HDD/Balgrist/MPM_nonProcessed/axial_skullstripped/NTL-009_ses-01/img_154_normalized.npy\n",
      "Saved PNG: /media/sarvagya-pc/2TB HDD/Balgrist/MPM_nonProcessed/axial_skullstripped/NTL-009_ses-01/img_154.png and NPY: /media/sarvagya-pc/2TB HDD/Balgrist/MPM_nonProcessed/axial_skullstripped/NTL-009_ses-01/img_154_normalized.npy\n",
      "Saved resized NPY: /media/sarvagya-pc/2TB HDD/Balgrist/MPM_nonProcessed/axial_skullstripped/NTL-009_ses-01/img_155_normalized.npy\n",
      "Saved PNG: /media/sarvagya-pc/2TB HDD/Balgrist/MPM_nonProcessed/axial_skullstripped/NTL-009_ses-01/img_155.png and NPY: /media/sarvagya-pc/2TB HDD/Balgrist/MPM_nonProcessed/axial_skullstripped/NTL-009_ses-01/img_155_normalized.npy\n",
      "Saved resized NPY: /media/sarvagya-pc/2TB HDD/Balgrist/MPM_nonProcessed/axial_skullstripped/NTL-009_ses-01/img_156_normalized.npy\n",
      "Saved PNG: /media/sarvagya-pc/2TB HDD/Balgrist/MPM_nonProcessed/axial_skullstripped/NTL-009_ses-01/img_156.png and NPY: /media/sarvagya-pc/2TB HDD/Balgrist/MPM_nonProcessed/axial_skullstripped/NTL-009_ses-01/img_156_normalized.npy\n",
      "Saved resized NPY: /media/sarvagya-pc/2TB HDD/Balgrist/MPM_nonProcessed/axial_skullstripped/NTL-009_ses-01/img_157_normalized.npy\n",
      "Saved PNG: /media/sarvagya-pc/2TB HDD/Balgrist/MPM_nonProcessed/axial_skullstripped/NTL-009_ses-01/img_157.png and NPY: /media/sarvagya-pc/2TB HDD/Balgrist/MPM_nonProcessed/axial_skullstripped/NTL-009_ses-01/img_157_normalized.npy\n",
      "Saved resized NPY: /media/sarvagya-pc/2TB HDD/Balgrist/MPM_nonProcessed/axial_skullstripped/NTL-009_ses-01/img_158_normalized.npy\n",
      "Saved PNG: /media/sarvagya-pc/2TB HDD/Balgrist/MPM_nonProcessed/axial_skullstripped/NTL-009_ses-01/img_158.png and NPY: /media/sarvagya-pc/2TB HDD/Balgrist/MPM_nonProcessed/axial_skullstripped/NTL-009_ses-01/img_158_normalized.npy\n",
      "Saved resized NPY: /media/sarvagya-pc/2TB HDD/Balgrist/MPM_nonProcessed/axial_skullstripped/NTL-009_ses-01/img_159_normalized.npy\n",
      "Saved PNG: /media/sarvagya-pc/2TB HDD/Balgrist/MPM_nonProcessed/axial_skullstripped/NTL-009_ses-01/img_159.png and NPY: /media/sarvagya-pc/2TB HDD/Balgrist/MPM_nonProcessed/axial_skullstripped/NTL-009_ses-01/img_159_normalized.npy\n",
      "Saved resized NPY: /media/sarvagya-pc/2TB HDD/Balgrist/MPM_nonProcessed/axial_skullstripped/NTL-009_ses-01/img_160_normalized.npy\n",
      "Saved PNG: /media/sarvagya-pc/2TB HDD/Balgrist/MPM_nonProcessed/axial_skullstripped/NTL-009_ses-01/img_160.png and NPY: /media/sarvagya-pc/2TB HDD/Balgrist/MPM_nonProcessed/axial_skullstripped/NTL-009_ses-01/img_160_normalized.npy\n",
      "Saved resized NPY: /media/sarvagya-pc/2TB HDD/Balgrist/MPM_nonProcessed/axial_skullstripped/NTL-009_ses-01/img_161_normalized.npy\n",
      "Saved PNG: /media/sarvagya-pc/2TB HDD/Balgrist/MPM_nonProcessed/axial_skullstripped/NTL-009_ses-01/img_161.png and NPY: /media/sarvagya-pc/2TB HDD/Balgrist/MPM_nonProcessed/axial_skullstripped/NTL-009_ses-01/img_161_normalized.npy\n",
      "Saved resized NPY: /media/sarvagya-pc/2TB HDD/Balgrist/MPM_nonProcessed/axial_skullstripped/NTL-009_ses-01/img_162_normalized.npy\n",
      "Saved PNG: /media/sarvagya-pc/2TB HDD/Balgrist/MPM_nonProcessed/axial_skullstripped/NTL-009_ses-01/img_162.png and NPY: /media/sarvagya-pc/2TB HDD/Balgrist/MPM_nonProcessed/axial_skullstripped/NTL-009_ses-01/img_162_normalized.npy\n",
      "Saved resized NPY: /media/sarvagya-pc/2TB HDD/Balgrist/MPM_nonProcessed/axial_skullstripped/NTL-009_ses-01/img_163_normalized.npy\n",
      "Saved PNG: /media/sarvagya-pc/2TB HDD/Balgrist/MPM_nonProcessed/axial_skullstripped/NTL-009_ses-01/img_163.png and NPY: /media/sarvagya-pc/2TB HDD/Balgrist/MPM_nonProcessed/axial_skullstripped/NTL-009_ses-01/img_163_normalized.npy\n",
      "Saved resized NPY: /media/sarvagya-pc/2TB HDD/Balgrist/MPM_nonProcessed/axial_skullstripped/NTL-009_ses-01/img_164_normalized.npy\n",
      "Saved PNG: /media/sarvagya-pc/2TB HDD/Balgrist/MPM_nonProcessed/axial_skullstripped/NTL-009_ses-01/img_164.png and NPY: /media/sarvagya-pc/2TB HDD/Balgrist/MPM_nonProcessed/axial_skullstripped/NTL-009_ses-01/img_164_normalized.npy\n",
      "Saved resized NPY: /media/sarvagya-pc/2TB HDD/Balgrist/MPM_nonProcessed/axial_skullstripped/NTL-009_ses-01/img_165_normalized.npy\n",
      "Saved PNG: /media/sarvagya-pc/2TB HDD/Balgrist/MPM_nonProcessed/axial_skullstripped/NTL-009_ses-01/img_165.png and NPY: /media/sarvagya-pc/2TB HDD/Balgrist/MPM_nonProcessed/axial_skullstripped/NTL-009_ses-01/img_165_normalized.npy\n",
      "Saved resized NPY: /media/sarvagya-pc/2TB HDD/Balgrist/MPM_nonProcessed/axial_skullstripped/NTL-009_ses-01/img_166_normalized.npy\n",
      "Saved PNG: /media/sarvagya-pc/2TB HDD/Balgrist/MPM_nonProcessed/axial_skullstripped/NTL-009_ses-01/img_166.png and NPY: /media/sarvagya-pc/2TB HDD/Balgrist/MPM_nonProcessed/axial_skullstripped/NTL-009_ses-01/img_166_normalized.npy\n",
      "Saved resized NPY: /media/sarvagya-pc/2TB HDD/Balgrist/MPM_nonProcessed/axial_skullstripped/NTL-009_ses-01/img_167_normalized.npy\n",
      "Saved PNG: /media/sarvagya-pc/2TB HDD/Balgrist/MPM_nonProcessed/axial_skullstripped/NTL-009_ses-01/img_167.png and NPY: /media/sarvagya-pc/2TB HDD/Balgrist/MPM_nonProcessed/axial_skullstripped/NTL-009_ses-01/img_167_normalized.npy\n",
      "Saved resized NPY: /media/sarvagya-pc/2TB HDD/Balgrist/MPM_nonProcessed/axial_skullstripped/NTL-009_ses-01/img_168_normalized.npy\n",
      "Saved PNG: /media/sarvagya-pc/2TB HDD/Balgrist/MPM_nonProcessed/axial_skullstripped/NTL-009_ses-01/img_168.png and NPY: /media/sarvagya-pc/2TB HDD/Balgrist/MPM_nonProcessed/axial_skullstripped/NTL-009_ses-01/img_168_normalized.npy\n",
      "Saved resized NPY: /media/sarvagya-pc/2TB HDD/Balgrist/MPM_nonProcessed/axial_skullstripped/NTL-009_ses-01/img_169_normalized.npy\n",
      "Saved PNG: /media/sarvagya-pc/2TB HDD/Balgrist/MPM_nonProcessed/axial_skullstripped/NTL-009_ses-01/img_169.png and NPY: /media/sarvagya-pc/2TB HDD/Balgrist/MPM_nonProcessed/axial_skullstripped/NTL-009_ses-01/img_169_normalized.npy\n",
      "Saved resized NPY: /media/sarvagya-pc/2TB HDD/Balgrist/MPM_nonProcessed/axial_skullstripped/NTL-009_ses-01/img_170_normalized.npy\n",
      "Saved PNG: /media/sarvagya-pc/2TB HDD/Balgrist/MPM_nonProcessed/axial_skullstripped/NTL-009_ses-01/img_170.png and NPY: /media/sarvagya-pc/2TB HDD/Balgrist/MPM_nonProcessed/axial_skullstripped/NTL-009_ses-01/img_170_normalized.npy\n",
      "Saved resized NPY: /media/sarvagya-pc/2TB HDD/Balgrist/MPM_nonProcessed/axial_skullstripped/NTL-009_ses-01/img_171_normalized.npy\n",
      "Saved PNG: /media/sarvagya-pc/2TB HDD/Balgrist/MPM_nonProcessed/axial_skullstripped/NTL-009_ses-01/img_171.png and NPY: /media/sarvagya-pc/2TB HDD/Balgrist/MPM_nonProcessed/axial_skullstripped/NTL-009_ses-01/img_171_normalized.npy\n",
      "Saved resized NPY: /media/sarvagya-pc/2TB HDD/Balgrist/MPM_nonProcessed/axial_skullstripped/NTL-009_ses-01/img_172_normalized.npy\n",
      "Saved PNG: /media/sarvagya-pc/2TB HDD/Balgrist/MPM_nonProcessed/axial_skullstripped/NTL-009_ses-01/img_172.png and NPY: /media/sarvagya-pc/2TB HDD/Balgrist/MPM_nonProcessed/axial_skullstripped/NTL-009_ses-01/img_172_normalized.npy\n",
      "Saved resized NPY: /media/sarvagya-pc/2TB HDD/Balgrist/MPM_nonProcessed/axial_skullstripped/NTL-009_ses-01/img_173_normalized.npy\n",
      "Saved PNG: /media/sarvagya-pc/2TB HDD/Balgrist/MPM_nonProcessed/axial_skullstripped/NTL-009_ses-01/img_173.png and NPY: /media/sarvagya-pc/2TB HDD/Balgrist/MPM_nonProcessed/axial_skullstripped/NTL-009_ses-01/img_173_normalized.npy\n",
      "Saved resized NPY: /media/sarvagya-pc/2TB HDD/Balgrist/MPM_nonProcessed/axial_skullstripped/NTL-009_ses-01/img_174_normalized.npy\n",
      "Saved PNG: /media/sarvagya-pc/2TB HDD/Balgrist/MPM_nonProcessed/axial_skullstripped/NTL-009_ses-01/img_174.png and NPY: /media/sarvagya-pc/2TB HDD/Balgrist/MPM_nonProcessed/axial_skullstripped/NTL-009_ses-01/img_174_normalized.npy\n",
      "Saved resized NPY: /media/sarvagya-pc/2TB HDD/Balgrist/MPM_nonProcessed/axial_skullstripped/NTL-009_ses-01/img_175_normalized.npy\n",
      "Saved PNG: /media/sarvagya-pc/2TB HDD/Balgrist/MPM_nonProcessed/axial_skullstripped/NTL-009_ses-01/img_175.png and NPY: /media/sarvagya-pc/2TB HDD/Balgrist/MPM_nonProcessed/axial_skullstripped/NTL-009_ses-01/img_175_normalized.npy\n",
      "Saved resized NPY: /media/sarvagya-pc/2TB HDD/Balgrist/MPM_nonProcessed/axial_skullstripped/NTL-009_ses-01/img_176_normalized.npy\n",
      "Saved PNG: /media/sarvagya-pc/2TB HDD/Balgrist/MPM_nonProcessed/axial_skullstripped/NTL-009_ses-01/img_176.png and NPY: /media/sarvagya-pc/2TB HDD/Balgrist/MPM_nonProcessed/axial_skullstripped/NTL-009_ses-01/img_176_normalized.npy\n",
      "Saved resized NPY: /media/sarvagya-pc/2TB HDD/Balgrist/MPM_nonProcessed/axial_skullstripped/NTL-009_ses-01/img_177_normalized.npy\n",
      "Saved PNG: /media/sarvagya-pc/2TB HDD/Balgrist/MPM_nonProcessed/axial_skullstripped/NTL-009_ses-01/img_177.png and NPY: /media/sarvagya-pc/2TB HDD/Balgrist/MPM_nonProcessed/axial_skullstripped/NTL-009_ses-01/img_177_normalized.npy\n",
      "Saved resized NPY: /media/sarvagya-pc/2TB HDD/Balgrist/MPM_nonProcessed/axial_skullstripped/NTL-009_ses-01/img_178_normalized.npy\n",
      "Saved PNG: /media/sarvagya-pc/2TB HDD/Balgrist/MPM_nonProcessed/axial_skullstripped/NTL-009_ses-01/img_178.png and NPY: /media/sarvagya-pc/2TB HDD/Balgrist/MPM_nonProcessed/axial_skullstripped/NTL-009_ses-01/img_178_normalized.npy\n",
      "Saved resized NPY: /media/sarvagya-pc/2TB HDD/Balgrist/MPM_nonProcessed/axial_skullstripped/NTL-009_ses-01/img_179_normalized.npy\n",
      "Saved PNG: /media/sarvagya-pc/2TB HDD/Balgrist/MPM_nonProcessed/axial_skullstripped/NTL-009_ses-01/img_179.png and NPY: /media/sarvagya-pc/2TB HDD/Balgrist/MPM_nonProcessed/axial_skullstripped/NTL-009_ses-01/img_179_normalized.npy\n",
      "Saved resized NPY: /media/sarvagya-pc/2TB HDD/Balgrist/MPM_nonProcessed/axial_skullstripped/NTL-009_ses-01/img_180_normalized.npy\n",
      "Saved PNG: /media/sarvagya-pc/2TB HDD/Balgrist/MPM_nonProcessed/axial_skullstripped/NTL-009_ses-01/img_180.png and NPY: /media/sarvagya-pc/2TB HDD/Balgrist/MPM_nonProcessed/axial_skullstripped/NTL-009_ses-01/img_180_normalized.npy\n",
      "Saved resized NPY: /media/sarvagya-pc/2TB HDD/Balgrist/MPM_nonProcessed/axial_skullstripped/NTL-009_ses-01/img_181_normalized.npy\n",
      "Saved PNG: /media/sarvagya-pc/2TB HDD/Balgrist/MPM_nonProcessed/axial_skullstripped/NTL-009_ses-01/img_181.png and NPY: /media/sarvagya-pc/2TB HDD/Balgrist/MPM_nonProcessed/axial_skullstripped/NTL-009_ses-01/img_181_normalized.npy\n",
      "Saved resized NPY: /media/sarvagya-pc/2TB HDD/Balgrist/MPM_nonProcessed/axial_skullstripped/NTL-009_ses-01/img_182_normalized.npy\n",
      "Saved PNG: /media/sarvagya-pc/2TB HDD/Balgrist/MPM_nonProcessed/axial_skullstripped/NTL-009_ses-01/img_182.png and NPY: /media/sarvagya-pc/2TB HDD/Balgrist/MPM_nonProcessed/axial_skullstripped/NTL-009_ses-01/img_182_normalized.npy\n",
      "Saved resized NPY: /media/sarvagya-pc/2TB HDD/Balgrist/MPM_nonProcessed/axial_skullstripped/NTL-009_ses-01/img_183_normalized.npy\n",
      "Saved PNG: /media/sarvagya-pc/2TB HDD/Balgrist/MPM_nonProcessed/axial_skullstripped/NTL-009_ses-01/img_183.png and NPY: /media/sarvagya-pc/2TB HDD/Balgrist/MPM_nonProcessed/axial_skullstripped/NTL-009_ses-01/img_183_normalized.npy\n",
      "Saved resized NPY: /media/sarvagya-pc/2TB HDD/Balgrist/MPM_nonProcessed/axial_skullstripped/NTL-009_ses-01/img_184_normalized.npy\n",
      "Saved PNG: /media/sarvagya-pc/2TB HDD/Balgrist/MPM_nonProcessed/axial_skullstripped/NTL-009_ses-01/img_184.png and NPY: /media/sarvagya-pc/2TB HDD/Balgrist/MPM_nonProcessed/axial_skullstripped/NTL-009_ses-01/img_184_normalized.npy\n",
      "Saved resized NPY: /media/sarvagya-pc/2TB HDD/Balgrist/MPM_nonProcessed/axial_skullstripped/NTL-009_ses-01/img_185_normalized.npy\n",
      "Saved PNG: /media/sarvagya-pc/2TB HDD/Balgrist/MPM_nonProcessed/axial_skullstripped/NTL-009_ses-01/img_185.png and NPY: /media/sarvagya-pc/2TB HDD/Balgrist/MPM_nonProcessed/axial_skullstripped/NTL-009_ses-01/img_185_normalized.npy\n",
      "Saved resized NPY: /media/sarvagya-pc/2TB HDD/Balgrist/MPM_nonProcessed/axial_skullstripped/NTL-009_ses-01/img_186_normalized.npy\n",
      "Saved PNG: /media/sarvagya-pc/2TB HDD/Balgrist/MPM_nonProcessed/axial_skullstripped/NTL-009_ses-01/img_186.png and NPY: /media/sarvagya-pc/2TB HDD/Balgrist/MPM_nonProcessed/axial_skullstripped/NTL-009_ses-01/img_186_normalized.npy\n",
      "Saved resized NPY: /media/sarvagya-pc/2TB HDD/Balgrist/MPM_nonProcessed/axial_skullstripped/NTL-009_ses-01/img_187_normalized.npy\n",
      "Saved PNG: /media/sarvagya-pc/2TB HDD/Balgrist/MPM_nonProcessed/axial_skullstripped/NTL-009_ses-01/img_187.png and NPY: /media/sarvagya-pc/2TB HDD/Balgrist/MPM_nonProcessed/axial_skullstripped/NTL-009_ses-01/img_187_normalized.npy\n",
      "Saved resized NPY: /media/sarvagya-pc/2TB HDD/Balgrist/MPM_nonProcessed/axial_skullstripped/NTL-009_ses-01/img_188_normalized.npy\n",
      "Saved PNG: /media/sarvagya-pc/2TB HDD/Balgrist/MPM_nonProcessed/axial_skullstripped/NTL-009_ses-01/img_188.png and NPY: /media/sarvagya-pc/2TB HDD/Balgrist/MPM_nonProcessed/axial_skullstripped/NTL-009_ses-01/img_188_normalized.npy\n",
      "Saved resized NPY: /media/sarvagya-pc/2TB HDD/Balgrist/MPM_nonProcessed/axial_skullstripped/NTL-009_ses-01/img_189_normalized.npy\n",
      "Saved PNG: /media/sarvagya-pc/2TB HDD/Balgrist/MPM_nonProcessed/axial_skullstripped/NTL-009_ses-01/img_189.png and NPY: /media/sarvagya-pc/2TB HDD/Balgrist/MPM_nonProcessed/axial_skullstripped/NTL-009_ses-01/img_189_normalized.npy\n",
      "Saved resized NPY: /media/sarvagya-pc/2TB HDD/Balgrist/MPM_nonProcessed/axial_skullstripped/NTL-009_ses-01/img_190_normalized.npy\n",
      "Saved PNG: /media/sarvagya-pc/2TB HDD/Balgrist/MPM_nonProcessed/axial_skullstripped/NTL-009_ses-01/img_190.png and NPY: /media/sarvagya-pc/2TB HDD/Balgrist/MPM_nonProcessed/axial_skullstripped/NTL-009_ses-01/img_190_normalized.npy\n",
      "Saved resized NPY: /media/sarvagya-pc/2TB HDD/Balgrist/MPM_nonProcessed/axial_skullstripped/NTL-009_ses-01/img_191_normalized.npy\n",
      "Saved PNG: /media/sarvagya-pc/2TB HDD/Balgrist/MPM_nonProcessed/axial_skullstripped/NTL-009_ses-01/img_191.png and NPY: /media/sarvagya-pc/2TB HDD/Balgrist/MPM_nonProcessed/axial_skullstripped/NTL-009_ses-01/img_191_normalized.npy\n",
      "Saved resized NPY: /media/sarvagya-pc/2TB HDD/Balgrist/MPM_nonProcessed/axial_skullstripped/NTL-009_ses-01/img_192_normalized.npy\n",
      "Saved PNG: /media/sarvagya-pc/2TB HDD/Balgrist/MPM_nonProcessed/axial_skullstripped/NTL-009_ses-01/img_192.png and NPY: /media/sarvagya-pc/2TB HDD/Balgrist/MPM_nonProcessed/axial_skullstripped/NTL-009_ses-01/img_192_normalized.npy\n",
      "Saved resized NPY: /media/sarvagya-pc/2TB HDD/Balgrist/MPM_nonProcessed/axial_skullstripped/NTL-009_ses-01/img_193_normalized.npy\n",
      "Saved PNG: /media/sarvagya-pc/2TB HDD/Balgrist/MPM_nonProcessed/axial_skullstripped/NTL-009_ses-01/img_193.png and NPY: /media/sarvagya-pc/2TB HDD/Balgrist/MPM_nonProcessed/axial_skullstripped/NTL-009_ses-01/img_193_normalized.npy\n",
      "Saved resized NPY: /media/sarvagya-pc/2TB HDD/Balgrist/MPM_nonProcessed/axial_skullstripped/NTL-009_ses-01/img_194_normalized.npy\n",
      "Saved PNG: /media/sarvagya-pc/2TB HDD/Balgrist/MPM_nonProcessed/axial_skullstripped/NTL-009_ses-01/img_194.png and NPY: /media/sarvagya-pc/2TB HDD/Balgrist/MPM_nonProcessed/axial_skullstripped/NTL-009_ses-01/img_194_normalized.npy\n",
      "Saved resized NPY: /media/sarvagya-pc/2TB HDD/Balgrist/MPM_nonProcessed/axial_skullstripped/NTL-009_ses-01/img_195_normalized.npy\n",
      "Saved PNG: /media/sarvagya-pc/2TB HDD/Balgrist/MPM_nonProcessed/axial_skullstripped/NTL-009_ses-01/img_195.png and NPY: /media/sarvagya-pc/2TB HDD/Balgrist/MPM_nonProcessed/axial_skullstripped/NTL-009_ses-01/img_195_normalized.npy\n",
      "Saved resized NPY: /media/sarvagya-pc/2TB HDD/Balgrist/MPM_nonProcessed/axial_skullstripped/NTL-009_ses-01/img_196_normalized.npy\n",
      "Saved PNG: /media/sarvagya-pc/2TB HDD/Balgrist/MPM_nonProcessed/axial_skullstripped/NTL-009_ses-01/img_196.png and NPY: /media/sarvagya-pc/2TB HDD/Balgrist/MPM_nonProcessed/axial_skullstripped/NTL-009_ses-01/img_196_normalized.npy\n",
      "Saved resized NPY: /media/sarvagya-pc/2TB HDD/Balgrist/MPM_nonProcessed/axial_skullstripped/NTL-009_ses-01/img_197_normalized.npy\n",
      "Saved PNG: /media/sarvagya-pc/2TB HDD/Balgrist/MPM_nonProcessed/axial_skullstripped/NTL-009_ses-01/img_197.png and NPY: /media/sarvagya-pc/2TB HDD/Balgrist/MPM_nonProcessed/axial_skullstripped/NTL-009_ses-01/img_197_normalized.npy\n",
      "Saved resized NPY: /media/sarvagya-pc/2TB HDD/Balgrist/MPM_nonProcessed/axial_skullstripped/NTL-009_ses-01/img_198_normalized.npy\n",
      "Saved PNG: /media/sarvagya-pc/2TB HDD/Balgrist/MPM_nonProcessed/axial_skullstripped/NTL-009_ses-01/img_198.png and NPY: /media/sarvagya-pc/2TB HDD/Balgrist/MPM_nonProcessed/axial_skullstripped/NTL-009_ses-01/img_198_normalized.npy\n",
      "Saved resized NPY: /media/sarvagya-pc/2TB HDD/Balgrist/MPM_nonProcessed/axial_skullstripped/NTL-009_ses-01/img_199_normalized.npy\n",
      "Saved PNG: /media/sarvagya-pc/2TB HDD/Balgrist/MPM_nonProcessed/axial_skullstripped/NTL-009_ses-01/img_199.png and NPY: /media/sarvagya-pc/2TB HDD/Balgrist/MPM_nonProcessed/axial_skullstripped/NTL-009_ses-01/img_199_normalized.npy\n",
      "Saved resized NPY: /media/sarvagya-pc/2TB HDD/Balgrist/MPM_nonProcessed/axial_skullstripped/NTL-009_ses-01/img_200_normalized.npy\n",
      "Saved PNG: /media/sarvagya-pc/2TB HDD/Balgrist/MPM_nonProcessed/axial_skullstripped/NTL-009_ses-01/img_200.png and NPY: /media/sarvagya-pc/2TB HDD/Balgrist/MPM_nonProcessed/axial_skullstripped/NTL-009_ses-01/img_200_normalized.npy\n",
      "Saved resized NPY: /media/sarvagya-pc/2TB HDD/Balgrist/MPM_nonProcessed/axial_skullstripped/NTL-009_ses-01/img_201_normalized.npy\n",
      "Saved PNG: /media/sarvagya-pc/2TB HDD/Balgrist/MPM_nonProcessed/axial_skullstripped/NTL-009_ses-01/img_201.png and NPY: /media/sarvagya-pc/2TB HDD/Balgrist/MPM_nonProcessed/axial_skullstripped/NTL-009_ses-01/img_201_normalized.npy\n",
      "Saved resized NPY: /media/sarvagya-pc/2TB HDD/Balgrist/MPM_nonProcessed/axial_skullstripped/NTL-009_ses-01/img_202_normalized.npy\n",
      "Saved PNG: /media/sarvagya-pc/2TB HDD/Balgrist/MPM_nonProcessed/axial_skullstripped/NTL-009_ses-01/img_202.png and NPY: /media/sarvagya-pc/2TB HDD/Balgrist/MPM_nonProcessed/axial_skullstripped/NTL-009_ses-01/img_202_normalized.npy\n",
      "Saved resized NPY: /media/sarvagya-pc/2TB HDD/Balgrist/MPM_nonProcessed/axial_skullstripped/NTL-009_ses-01/img_203_normalized.npy\n",
      "Saved PNG: /media/sarvagya-pc/2TB HDD/Balgrist/MPM_nonProcessed/axial_skullstripped/NTL-009_ses-01/img_203.png and NPY: /media/sarvagya-pc/2TB HDD/Balgrist/MPM_nonProcessed/axial_skullstripped/NTL-009_ses-01/img_203_normalized.npy\n",
      "Saved resized NPY: /media/sarvagya-pc/2TB HDD/Balgrist/MPM_nonProcessed/axial_skullstripped/NTL-009_ses-01/img_204_normalized.npy\n",
      "Saved PNG: /media/sarvagya-pc/2TB HDD/Balgrist/MPM_nonProcessed/axial_skullstripped/NTL-009_ses-01/img_204.png and NPY: /media/sarvagya-pc/2TB HDD/Balgrist/MPM_nonProcessed/axial_skullstripped/NTL-009_ses-01/img_204_normalized.npy\n",
      "Saved resized NPY: /media/sarvagya-pc/2TB HDD/Balgrist/MPM_nonProcessed/axial_skullstripped/NTL-009_ses-01/img_205_normalized.npy\n",
      "Saved PNG: /media/sarvagya-pc/2TB HDD/Balgrist/MPM_nonProcessed/axial_skullstripped/NTL-009_ses-01/img_205.png and NPY: /media/sarvagya-pc/2TB HDD/Balgrist/MPM_nonProcessed/axial_skullstripped/NTL-009_ses-01/img_205_normalized.npy\n",
      "Saved resized NPY: /media/sarvagya-pc/2TB HDD/Balgrist/MPM_nonProcessed/axial_skullstripped/NTL-009_ses-01/img_206_normalized.npy\n",
      "Saved PNG: /media/sarvagya-pc/2TB HDD/Balgrist/MPM_nonProcessed/axial_skullstripped/NTL-009_ses-01/img_206.png and NPY: /media/sarvagya-pc/2TB HDD/Balgrist/MPM_nonProcessed/axial_skullstripped/NTL-009_ses-01/img_206_normalized.npy\n",
      "Saved resized NPY: /media/sarvagya-pc/2TB HDD/Balgrist/MPM_nonProcessed/axial_skullstripped/NTL-009_ses-01/img_207_normalized.npy\n",
      "Saved PNG: /media/sarvagya-pc/2TB HDD/Balgrist/MPM_nonProcessed/axial_skullstripped/NTL-009_ses-01/img_207.png and NPY: /media/sarvagya-pc/2TB HDD/Balgrist/MPM_nonProcessed/axial_skullstripped/NTL-009_ses-01/img_207_normalized.npy\n",
      "Saved resized NPY: /media/sarvagya-pc/2TB HDD/Balgrist/MPM_nonProcessed/axial_skullstripped/NTL-009_ses-01/img_208_normalized.npy\n",
      "Saved PNG: /media/sarvagya-pc/2TB HDD/Balgrist/MPM_nonProcessed/axial_skullstripped/NTL-009_ses-01/img_208.png and NPY: /media/sarvagya-pc/2TB HDD/Balgrist/MPM_nonProcessed/axial_skullstripped/NTL-009_ses-01/img_208_normalized.npy\n",
      "Saved resized NPY: /media/sarvagya-pc/2TB HDD/Balgrist/MPM_nonProcessed/axial_skullstripped/NTL-009_ses-01/img_209_normalized.npy\n",
      "Saved PNG: /media/sarvagya-pc/2TB HDD/Balgrist/MPM_nonProcessed/axial_skullstripped/NTL-009_ses-01/img_209.png and NPY: /media/sarvagya-pc/2TB HDD/Balgrist/MPM_nonProcessed/axial_skullstripped/NTL-009_ses-01/img_209_normalized.npy\n",
      "Saved resized NPY: /media/sarvagya-pc/2TB HDD/Balgrist/MPM_nonProcessed/axial_skullstripped/NTL-009_ses-01/img_210_normalized.npy\n",
      "Saved PNG: /media/sarvagya-pc/2TB HDD/Balgrist/MPM_nonProcessed/axial_skullstripped/NTL-009_ses-01/img_210.png and NPY: /media/sarvagya-pc/2TB HDD/Balgrist/MPM_nonProcessed/axial_skullstripped/NTL-009_ses-01/img_210_normalized.npy\n",
      "Saved resized NPY: /media/sarvagya-pc/2TB HDD/Balgrist/MPM_nonProcessed/axial_skullstripped/NTL-009_ses-01/img_211_normalized.npy\n",
      "Saved PNG: /media/sarvagya-pc/2TB HDD/Balgrist/MPM_nonProcessed/axial_skullstripped/NTL-009_ses-01/img_211.png and NPY: /media/sarvagya-pc/2TB HDD/Balgrist/MPM_nonProcessed/axial_skullstripped/NTL-009_ses-01/img_211_normalized.npy\n",
      "Saved resized NPY: /media/sarvagya-pc/2TB HDD/Balgrist/MPM_nonProcessed/axial_skullstripped/NTL-009_ses-01/img_212_normalized.npy\n",
      "Saved PNG: /media/sarvagya-pc/2TB HDD/Balgrist/MPM_nonProcessed/axial_skullstripped/NTL-009_ses-01/img_212.png and NPY: /media/sarvagya-pc/2TB HDD/Balgrist/MPM_nonProcessed/axial_skullstripped/NTL-009_ses-01/img_212_normalized.npy\n",
      "Saved resized NPY: /media/sarvagya-pc/2TB HDD/Balgrist/MPM_nonProcessed/axial_skullstripped/NTL-009_ses-01/img_213_normalized.npy\n",
      "Saved PNG: /media/sarvagya-pc/2TB HDD/Balgrist/MPM_nonProcessed/axial_skullstripped/NTL-009_ses-01/img_213.png and NPY: /media/sarvagya-pc/2TB HDD/Balgrist/MPM_nonProcessed/axial_skullstripped/NTL-009_ses-01/img_213_normalized.npy\n",
      "Saved resized NPY: /media/sarvagya-pc/2TB HDD/Balgrist/MPM_nonProcessed/axial_skullstripped/NTL-009_ses-01/img_214_normalized.npy\n",
      "Saved PNG: /media/sarvagya-pc/2TB HDD/Balgrist/MPM_nonProcessed/axial_skullstripped/NTL-009_ses-01/img_214.png and NPY: /media/sarvagya-pc/2TB HDD/Balgrist/MPM_nonProcessed/axial_skullstripped/NTL-009_ses-01/img_214_normalized.npy\n",
      "Saved resized NPY: /media/sarvagya-pc/2TB HDD/Balgrist/MPM_nonProcessed/axial_skullstripped/NTL-009_ses-01/img_215_normalized.npy\n",
      "Saved PNG: /media/sarvagya-pc/2TB HDD/Balgrist/MPM_nonProcessed/axial_skullstripped/NTL-009_ses-01/img_215.png and NPY: /media/sarvagya-pc/2TB HDD/Balgrist/MPM_nonProcessed/axial_skullstripped/NTL-009_ses-01/img_215_normalized.npy\n",
      "Saved resized NPY: /media/sarvagya-pc/2TB HDD/Balgrist/MPM_nonProcessed/axial_skullstripped/NTL-009_ses-01/img_216_normalized.npy\n",
      "Saved PNG: /media/sarvagya-pc/2TB HDD/Balgrist/MPM_nonProcessed/axial_skullstripped/NTL-009_ses-01/img_216.png and NPY: /media/sarvagya-pc/2TB HDD/Balgrist/MPM_nonProcessed/axial_skullstripped/NTL-009_ses-01/img_216_normalized.npy\n",
      "Saved resized NPY: /media/sarvagya-pc/2TB HDD/Balgrist/MPM_nonProcessed/axial_skullstripped/NTL-009_ses-01/img_217_normalized.npy\n",
      "Saved PNG: /media/sarvagya-pc/2TB HDD/Balgrist/MPM_nonProcessed/axial_skullstripped/NTL-009_ses-01/img_217.png and NPY: /media/sarvagya-pc/2TB HDD/Balgrist/MPM_nonProcessed/axial_skullstripped/NTL-009_ses-01/img_217_normalized.npy\n",
      "Saved resized NPY: /media/sarvagya-pc/2TB HDD/Balgrist/MPM_nonProcessed/axial_skullstripped/NTL-009_ses-01/img_218_normalized.npy\n",
      "Saved PNG: /media/sarvagya-pc/2TB HDD/Balgrist/MPM_nonProcessed/axial_skullstripped/NTL-009_ses-01/img_218.png and NPY: /media/sarvagya-pc/2TB HDD/Balgrist/MPM_nonProcessed/axial_skullstripped/NTL-009_ses-01/img_218_normalized.npy\n",
      "Saved resized NPY: /media/sarvagya-pc/2TB HDD/Balgrist/MPM_nonProcessed/axial_skullstripped/NTL-009_ses-01/img_219_normalized.npy\n",
      "Saved PNG: /media/sarvagya-pc/2TB HDD/Balgrist/MPM_nonProcessed/axial_skullstripped/NTL-009_ses-01/img_219.png and NPY: /media/sarvagya-pc/2TB HDD/Balgrist/MPM_nonProcessed/axial_skullstripped/NTL-009_ses-01/img_219_normalized.npy\n",
      "(256, 256, 176)\n",
      "NTL-009_ses-02\n",
      "Saved resized NPY: /media/sarvagya-pc/2TB HDD/Balgrist/MPM_nonProcessed/axial_skullstripped/NTL-009_ses-02/img_133_normalized.npy\n",
      "Saved PNG: /media/sarvagya-pc/2TB HDD/Balgrist/MPM_nonProcessed/axial_skullstripped/NTL-009_ses-02/img_133.png and NPY: /media/sarvagya-pc/2TB HDD/Balgrist/MPM_nonProcessed/axial_skullstripped/NTL-009_ses-02/img_133_normalized.npy\n",
      "Saved resized NPY: /media/sarvagya-pc/2TB HDD/Balgrist/MPM_nonProcessed/axial_skullstripped/NTL-009_ses-02/img_134_normalized.npy\n",
      "Saved PNG: /media/sarvagya-pc/2TB HDD/Balgrist/MPM_nonProcessed/axial_skullstripped/NTL-009_ses-02/img_134.png and NPY: /media/sarvagya-pc/2TB HDD/Balgrist/MPM_nonProcessed/axial_skullstripped/NTL-009_ses-02/img_134_normalized.npy\n",
      "Saved resized NPY: /media/sarvagya-pc/2TB HDD/Balgrist/MPM_nonProcessed/axial_skullstripped/NTL-009_ses-02/img_135_normalized.npy\n",
      "Saved PNG: /media/sarvagya-pc/2TB HDD/Balgrist/MPM_nonProcessed/axial_skullstripped/NTL-009_ses-02/img_135.png and NPY: /media/sarvagya-pc/2TB HDD/Balgrist/MPM_nonProcessed/axial_skullstripped/NTL-009_ses-02/img_135_normalized.npy\n",
      "Saved resized NPY: /media/sarvagya-pc/2TB HDD/Balgrist/MPM_nonProcessed/axial_skullstripped/NTL-009_ses-02/img_136_normalized.npy\n",
      "Saved PNG: /media/sarvagya-pc/2TB HDD/Balgrist/MPM_nonProcessed/axial_skullstripped/NTL-009_ses-02/img_136.png and NPY: /media/sarvagya-pc/2TB HDD/Balgrist/MPM_nonProcessed/axial_skullstripped/NTL-009_ses-02/img_136_normalized.npy\n",
      "Saved resized NPY: /media/sarvagya-pc/2TB HDD/Balgrist/MPM_nonProcessed/axial_skullstripped/NTL-009_ses-02/img_137_normalized.npy\n",
      "Saved PNG: /media/sarvagya-pc/2TB HDD/Balgrist/MPM_nonProcessed/axial_skullstripped/NTL-009_ses-02/img_137.png and NPY: /media/sarvagya-pc/2TB HDD/Balgrist/MPM_nonProcessed/axial_skullstripped/NTL-009_ses-02/img_137_normalized.npy\n",
      "Saved resized NPY: /media/sarvagya-pc/2TB HDD/Balgrist/MPM_nonProcessed/axial_skullstripped/NTL-009_ses-02/img_138_normalized.npy\n",
      "Saved PNG: /media/sarvagya-pc/2TB HDD/Balgrist/MPM_nonProcessed/axial_skullstripped/NTL-009_ses-02/img_138.png and NPY: /media/sarvagya-pc/2TB HDD/Balgrist/MPM_nonProcessed/axial_skullstripped/NTL-009_ses-02/img_138_normalized.npy\n",
      "Saved resized NPY: /media/sarvagya-pc/2TB HDD/Balgrist/MPM_nonProcessed/axial_skullstripped/NTL-009_ses-02/img_139_normalized.npy\n",
      "Saved PNG: /media/sarvagya-pc/2TB HDD/Balgrist/MPM_nonProcessed/axial_skullstripped/NTL-009_ses-02/img_139.png and NPY: /media/sarvagya-pc/2TB HDD/Balgrist/MPM_nonProcessed/axial_skullstripped/NTL-009_ses-02/img_139_normalized.npy\n",
      "Saved resized NPY: /media/sarvagya-pc/2TB HDD/Balgrist/MPM_nonProcessed/axial_skullstripped/NTL-009_ses-02/img_140_normalized.npy\n",
      "Saved PNG: /media/sarvagya-pc/2TB HDD/Balgrist/MPM_nonProcessed/axial_skullstripped/NTL-009_ses-02/img_140.png and NPY: /media/sarvagya-pc/2TB HDD/Balgrist/MPM_nonProcessed/axial_skullstripped/NTL-009_ses-02/img_140_normalized.npy\n",
      "Saved resized NPY: /media/sarvagya-pc/2TB HDD/Balgrist/MPM_nonProcessed/axial_skullstripped/NTL-009_ses-02/img_141_normalized.npy\n",
      "Saved PNG: /media/sarvagya-pc/2TB HDD/Balgrist/MPM_nonProcessed/axial_skullstripped/NTL-009_ses-02/img_141.png and NPY: /media/sarvagya-pc/2TB HDD/Balgrist/MPM_nonProcessed/axial_skullstripped/NTL-009_ses-02/img_141_normalized.npy\n",
      "Saved resized NPY: /media/sarvagya-pc/2TB HDD/Balgrist/MPM_nonProcessed/axial_skullstripped/NTL-009_ses-02/img_142_normalized.npy\n",
      "Saved PNG: /media/sarvagya-pc/2TB HDD/Balgrist/MPM_nonProcessed/axial_skullstripped/NTL-009_ses-02/img_142.png and NPY: /media/sarvagya-pc/2TB HDD/Balgrist/MPM_nonProcessed/axial_skullstripped/NTL-009_ses-02/img_142_normalized.npy\n",
      "Saved resized NPY: /media/sarvagya-pc/2TB HDD/Balgrist/MPM_nonProcessed/axial_skullstripped/NTL-009_ses-02/img_143_normalized.npy\n",
      "Saved PNG: /media/sarvagya-pc/2TB HDD/Balgrist/MPM_nonProcessed/axial_skullstripped/NTL-009_ses-02/img_143.png and NPY: /media/sarvagya-pc/2TB HDD/Balgrist/MPM_nonProcessed/axial_skullstripped/NTL-009_ses-02/img_143_normalized.npy\n",
      "Saved resized NPY: /media/sarvagya-pc/2TB HDD/Balgrist/MPM_nonProcessed/axial_skullstripped/NTL-009_ses-02/img_144_normalized.npy\n",
      "Saved PNG: /media/sarvagya-pc/2TB HDD/Balgrist/MPM_nonProcessed/axial_skullstripped/NTL-009_ses-02/img_144.png and NPY: /media/sarvagya-pc/2TB HDD/Balgrist/MPM_nonProcessed/axial_skullstripped/NTL-009_ses-02/img_144_normalized.npy\n",
      "Saved resized NPY: /media/sarvagya-pc/2TB HDD/Balgrist/MPM_nonProcessed/axial_skullstripped/NTL-009_ses-02/img_145_normalized.npy\n",
      "Saved PNG: /media/sarvagya-pc/2TB HDD/Balgrist/MPM_nonProcessed/axial_skullstripped/NTL-009_ses-02/img_145.png and NPY: /media/sarvagya-pc/2TB HDD/Balgrist/MPM_nonProcessed/axial_skullstripped/NTL-009_ses-02/img_145_normalized.npy\n",
      "Saved resized NPY: /media/sarvagya-pc/2TB HDD/Balgrist/MPM_nonProcessed/axial_skullstripped/NTL-009_ses-02/img_146_normalized.npy\n",
      "Saved PNG: /media/sarvagya-pc/2TB HDD/Balgrist/MPM_nonProcessed/axial_skullstripped/NTL-009_ses-02/img_146.png and NPY: /media/sarvagya-pc/2TB HDD/Balgrist/MPM_nonProcessed/axial_skullstripped/NTL-009_ses-02/img_146_normalized.npy\n",
      "Saved resized NPY: /media/sarvagya-pc/2TB HDD/Balgrist/MPM_nonProcessed/axial_skullstripped/NTL-009_ses-02/img_147_normalized.npy\n",
      "Saved PNG: /media/sarvagya-pc/2TB HDD/Balgrist/MPM_nonProcessed/axial_skullstripped/NTL-009_ses-02/img_147.png and NPY: /media/sarvagya-pc/2TB HDD/Balgrist/MPM_nonProcessed/axial_skullstripped/NTL-009_ses-02/img_147_normalized.npy\n",
      "Saved resized NPY: /media/sarvagya-pc/2TB HDD/Balgrist/MPM_nonProcessed/axial_skullstripped/NTL-009_ses-02/img_148_normalized.npy\n",
      "Saved PNG: /media/sarvagya-pc/2TB HDD/Balgrist/MPM_nonProcessed/axial_skullstripped/NTL-009_ses-02/img_148.png and NPY: /media/sarvagya-pc/2TB HDD/Balgrist/MPM_nonProcessed/axial_skullstripped/NTL-009_ses-02/img_148_normalized.npy\n",
      "Saved resized NPY: /media/sarvagya-pc/2TB HDD/Balgrist/MPM_nonProcessed/axial_skullstripped/NTL-009_ses-02/img_149_normalized.npy\n",
      "Saved PNG: /media/sarvagya-pc/2TB HDD/Balgrist/MPM_nonProcessed/axial_skullstripped/NTL-009_ses-02/img_149.png and NPY: /media/sarvagya-pc/2TB HDD/Balgrist/MPM_nonProcessed/axial_skullstripped/NTL-009_ses-02/img_149_normalized.npy\n",
      "Saved resized NPY: /media/sarvagya-pc/2TB HDD/Balgrist/MPM_nonProcessed/axial_skullstripped/NTL-009_ses-02/img_150_normalized.npy\n",
      "Saved PNG: /media/sarvagya-pc/2TB HDD/Balgrist/MPM_nonProcessed/axial_skullstripped/NTL-009_ses-02/img_150.png and NPY: /media/sarvagya-pc/2TB HDD/Balgrist/MPM_nonProcessed/axial_skullstripped/NTL-009_ses-02/img_150_normalized.npy\n",
      "Saved resized NPY: /media/sarvagya-pc/2TB HDD/Balgrist/MPM_nonProcessed/axial_skullstripped/NTL-009_ses-02/img_151_normalized.npy\n",
      "Saved PNG: /media/sarvagya-pc/2TB HDD/Balgrist/MPM_nonProcessed/axial_skullstripped/NTL-009_ses-02/img_151.png and NPY: /media/sarvagya-pc/2TB HDD/Balgrist/MPM_nonProcessed/axial_skullstripped/NTL-009_ses-02/img_151_normalized.npy\n",
      "Saved resized NPY: /media/sarvagya-pc/2TB HDD/Balgrist/MPM_nonProcessed/axial_skullstripped/NTL-009_ses-02/img_152_normalized.npy\n",
      "Saved PNG: /media/sarvagya-pc/2TB HDD/Balgrist/MPM_nonProcessed/axial_skullstripped/NTL-009_ses-02/img_152.png and NPY: /media/sarvagya-pc/2TB HDD/Balgrist/MPM_nonProcessed/axial_skullstripped/NTL-009_ses-02/img_152_normalized.npy\n",
      "Saved resized NPY: /media/sarvagya-pc/2TB HDD/Balgrist/MPM_nonProcessed/axial_skullstripped/NTL-009_ses-02/img_153_normalized.npy\n",
      "Saved PNG: /media/sarvagya-pc/2TB HDD/Balgrist/MPM_nonProcessed/axial_skullstripped/NTL-009_ses-02/img_153.png and NPY: /media/sarvagya-pc/2TB HDD/Balgrist/MPM_nonProcessed/axial_skullstripped/NTL-009_ses-02/img_153_normalized.npy\n",
      "Saved resized NPY: /media/sarvagya-pc/2TB HDD/Balgrist/MPM_nonProcessed/axial_skullstripped/NTL-009_ses-02/img_154_normalized.npy\n",
      "Saved PNG: /media/sarvagya-pc/2TB HDD/Balgrist/MPM_nonProcessed/axial_skullstripped/NTL-009_ses-02/img_154.png and NPY: /media/sarvagya-pc/2TB HDD/Balgrist/MPM_nonProcessed/axial_skullstripped/NTL-009_ses-02/img_154_normalized.npy\n",
      "Saved resized NPY: /media/sarvagya-pc/2TB HDD/Balgrist/MPM_nonProcessed/axial_skullstripped/NTL-009_ses-02/img_155_normalized.npy\n",
      "Saved PNG: /media/sarvagya-pc/2TB HDD/Balgrist/MPM_nonProcessed/axial_skullstripped/NTL-009_ses-02/img_155.png and NPY: /media/sarvagya-pc/2TB HDD/Balgrist/MPM_nonProcessed/axial_skullstripped/NTL-009_ses-02/img_155_normalized.npy\n",
      "Saved resized NPY: /media/sarvagya-pc/2TB HDD/Balgrist/MPM_nonProcessed/axial_skullstripped/NTL-009_ses-02/img_156_normalized.npy\n",
      "Saved PNG: /media/sarvagya-pc/2TB HDD/Balgrist/MPM_nonProcessed/axial_skullstripped/NTL-009_ses-02/img_156.png and NPY: /media/sarvagya-pc/2TB HDD/Balgrist/MPM_nonProcessed/axial_skullstripped/NTL-009_ses-02/img_156_normalized.npy\n",
      "Saved resized NPY: /media/sarvagya-pc/2TB HDD/Balgrist/MPM_nonProcessed/axial_skullstripped/NTL-009_ses-02/img_157_normalized.npy\n",
      "Saved PNG: /media/sarvagya-pc/2TB HDD/Balgrist/MPM_nonProcessed/axial_skullstripped/NTL-009_ses-02/img_157.png and NPY: /media/sarvagya-pc/2TB HDD/Balgrist/MPM_nonProcessed/axial_skullstripped/NTL-009_ses-02/img_157_normalized.npy\n",
      "Saved resized NPY: /media/sarvagya-pc/2TB HDD/Balgrist/MPM_nonProcessed/axial_skullstripped/NTL-009_ses-02/img_158_normalized.npy\n",
      "Saved PNG: /media/sarvagya-pc/2TB HDD/Balgrist/MPM_nonProcessed/axial_skullstripped/NTL-009_ses-02/img_158.png and NPY: /media/sarvagya-pc/2TB HDD/Balgrist/MPM_nonProcessed/axial_skullstripped/NTL-009_ses-02/img_158_normalized.npy\n",
      "Saved resized NPY: /media/sarvagya-pc/2TB HDD/Balgrist/MPM_nonProcessed/axial_skullstripped/NTL-009_ses-02/img_159_normalized.npy\n",
      "Saved PNG: /media/sarvagya-pc/2TB HDD/Balgrist/MPM_nonProcessed/axial_skullstripped/NTL-009_ses-02/img_159.png and NPY: /media/sarvagya-pc/2TB HDD/Balgrist/MPM_nonProcessed/axial_skullstripped/NTL-009_ses-02/img_159_normalized.npy\n",
      "Saved resized NPY: /media/sarvagya-pc/2TB HDD/Balgrist/MPM_nonProcessed/axial_skullstripped/NTL-009_ses-02/img_160_normalized.npy\n",
      "Saved PNG: /media/sarvagya-pc/2TB HDD/Balgrist/MPM_nonProcessed/axial_skullstripped/NTL-009_ses-02/img_160.png and NPY: /media/sarvagya-pc/2TB HDD/Balgrist/MPM_nonProcessed/axial_skullstripped/NTL-009_ses-02/img_160_normalized.npy\n",
      "Saved resized NPY: /media/sarvagya-pc/2TB HDD/Balgrist/MPM_nonProcessed/axial_skullstripped/NTL-009_ses-02/img_161_normalized.npy\n",
      "Saved PNG: /media/sarvagya-pc/2TB HDD/Balgrist/MPM_nonProcessed/axial_skullstripped/NTL-009_ses-02/img_161.png and NPY: /media/sarvagya-pc/2TB HDD/Balgrist/MPM_nonProcessed/axial_skullstripped/NTL-009_ses-02/img_161_normalized.npy\n",
      "Saved resized NPY: /media/sarvagya-pc/2TB HDD/Balgrist/MPM_nonProcessed/axial_skullstripped/NTL-009_ses-02/img_162_normalized.npy\n",
      "Saved PNG: /media/sarvagya-pc/2TB HDD/Balgrist/MPM_nonProcessed/axial_skullstripped/NTL-009_ses-02/img_162.png and NPY: /media/sarvagya-pc/2TB HDD/Balgrist/MPM_nonProcessed/axial_skullstripped/NTL-009_ses-02/img_162_normalized.npy\n",
      "Saved resized NPY: /media/sarvagya-pc/2TB HDD/Balgrist/MPM_nonProcessed/axial_skullstripped/NTL-009_ses-02/img_163_normalized.npy\n",
      "Saved PNG: /media/sarvagya-pc/2TB HDD/Balgrist/MPM_nonProcessed/axial_skullstripped/NTL-009_ses-02/img_163.png and NPY: /media/sarvagya-pc/2TB HDD/Balgrist/MPM_nonProcessed/axial_skullstripped/NTL-009_ses-02/img_163_normalized.npy\n",
      "Saved resized NPY: /media/sarvagya-pc/2TB HDD/Balgrist/MPM_nonProcessed/axial_skullstripped/NTL-009_ses-02/img_164_normalized.npy\n",
      "Saved PNG: /media/sarvagya-pc/2TB HDD/Balgrist/MPM_nonProcessed/axial_skullstripped/NTL-009_ses-02/img_164.png and NPY: /media/sarvagya-pc/2TB HDD/Balgrist/MPM_nonProcessed/axial_skullstripped/NTL-009_ses-02/img_164_normalized.npy\n",
      "Saved resized NPY: /media/sarvagya-pc/2TB HDD/Balgrist/MPM_nonProcessed/axial_skullstripped/NTL-009_ses-02/img_165_normalized.npy\n",
      "Saved PNG: /media/sarvagya-pc/2TB HDD/Balgrist/MPM_nonProcessed/axial_skullstripped/NTL-009_ses-02/img_165.png and NPY: /media/sarvagya-pc/2TB HDD/Balgrist/MPM_nonProcessed/axial_skullstripped/NTL-009_ses-02/img_165_normalized.npy\n",
      "Saved resized NPY: /media/sarvagya-pc/2TB HDD/Balgrist/MPM_nonProcessed/axial_skullstripped/NTL-009_ses-02/img_166_normalized.npy\n",
      "Saved PNG: /media/sarvagya-pc/2TB HDD/Balgrist/MPM_nonProcessed/axial_skullstripped/NTL-009_ses-02/img_166.png and NPY: /media/sarvagya-pc/2TB HDD/Balgrist/MPM_nonProcessed/axial_skullstripped/NTL-009_ses-02/img_166_normalized.npy\n",
      "Saved resized NPY: /media/sarvagya-pc/2TB HDD/Balgrist/MPM_nonProcessed/axial_skullstripped/NTL-009_ses-02/img_167_normalized.npy\n",
      "Saved PNG: /media/sarvagya-pc/2TB HDD/Balgrist/MPM_nonProcessed/axial_skullstripped/NTL-009_ses-02/img_167.png and NPY: /media/sarvagya-pc/2TB HDD/Balgrist/MPM_nonProcessed/axial_skullstripped/NTL-009_ses-02/img_167_normalized.npy\n",
      "Saved resized NPY: /media/sarvagya-pc/2TB HDD/Balgrist/MPM_nonProcessed/axial_skullstripped/NTL-009_ses-02/img_168_normalized.npy\n",
      "Saved PNG: /media/sarvagya-pc/2TB HDD/Balgrist/MPM_nonProcessed/axial_skullstripped/NTL-009_ses-02/img_168.png and NPY: /media/sarvagya-pc/2TB HDD/Balgrist/MPM_nonProcessed/axial_skullstripped/NTL-009_ses-02/img_168_normalized.npy\n",
      "Saved resized NPY: /media/sarvagya-pc/2TB HDD/Balgrist/MPM_nonProcessed/axial_skullstripped/NTL-009_ses-02/img_169_normalized.npy\n",
      "Saved PNG: /media/sarvagya-pc/2TB HDD/Balgrist/MPM_nonProcessed/axial_skullstripped/NTL-009_ses-02/img_169.png and NPY: /media/sarvagya-pc/2TB HDD/Balgrist/MPM_nonProcessed/axial_skullstripped/NTL-009_ses-02/img_169_normalized.npy\n",
      "Saved resized NPY: /media/sarvagya-pc/2TB HDD/Balgrist/MPM_nonProcessed/axial_skullstripped/NTL-009_ses-02/img_170_normalized.npy\n",
      "Saved PNG: /media/sarvagya-pc/2TB HDD/Balgrist/MPM_nonProcessed/axial_skullstripped/NTL-009_ses-02/img_170.png and NPY: /media/sarvagya-pc/2TB HDD/Balgrist/MPM_nonProcessed/axial_skullstripped/NTL-009_ses-02/img_170_normalized.npy\n",
      "Saved resized NPY: /media/sarvagya-pc/2TB HDD/Balgrist/MPM_nonProcessed/axial_skullstripped/NTL-009_ses-02/img_171_normalized.npy\n",
      "Saved PNG: /media/sarvagya-pc/2TB HDD/Balgrist/MPM_nonProcessed/axial_skullstripped/NTL-009_ses-02/img_171.png and NPY: /media/sarvagya-pc/2TB HDD/Balgrist/MPM_nonProcessed/axial_skullstripped/NTL-009_ses-02/img_171_normalized.npy\n",
      "Saved resized NPY: /media/sarvagya-pc/2TB HDD/Balgrist/MPM_nonProcessed/axial_skullstripped/NTL-009_ses-02/img_172_normalized.npy\n",
      "Saved PNG: /media/sarvagya-pc/2TB HDD/Balgrist/MPM_nonProcessed/axial_skullstripped/NTL-009_ses-02/img_172.png and NPY: /media/sarvagya-pc/2TB HDD/Balgrist/MPM_nonProcessed/axial_skullstripped/NTL-009_ses-02/img_172_normalized.npy\n",
      "Saved resized NPY: /media/sarvagya-pc/2TB HDD/Balgrist/MPM_nonProcessed/axial_skullstripped/NTL-009_ses-02/img_173_normalized.npy\n",
      "Saved PNG: /media/sarvagya-pc/2TB HDD/Balgrist/MPM_nonProcessed/axial_skullstripped/NTL-009_ses-02/img_173.png and NPY: /media/sarvagya-pc/2TB HDD/Balgrist/MPM_nonProcessed/axial_skullstripped/NTL-009_ses-02/img_173_normalized.npy\n",
      "Saved resized NPY: /media/sarvagya-pc/2TB HDD/Balgrist/MPM_nonProcessed/axial_skullstripped/NTL-009_ses-02/img_174_normalized.npy\n",
      "Saved PNG: /media/sarvagya-pc/2TB HDD/Balgrist/MPM_nonProcessed/axial_skullstripped/NTL-009_ses-02/img_174.png and NPY: /media/sarvagya-pc/2TB HDD/Balgrist/MPM_nonProcessed/axial_skullstripped/NTL-009_ses-02/img_174_normalized.npy\n",
      "Saved resized NPY: /media/sarvagya-pc/2TB HDD/Balgrist/MPM_nonProcessed/axial_skullstripped/NTL-009_ses-02/img_175_normalized.npy\n",
      "Saved PNG: /media/sarvagya-pc/2TB HDD/Balgrist/MPM_nonProcessed/axial_skullstripped/NTL-009_ses-02/img_175.png and NPY: /media/sarvagya-pc/2TB HDD/Balgrist/MPM_nonProcessed/axial_skullstripped/NTL-009_ses-02/img_175_normalized.npy\n",
      "Saved resized NPY: /media/sarvagya-pc/2TB HDD/Balgrist/MPM_nonProcessed/axial_skullstripped/NTL-009_ses-02/img_176_normalized.npy\n",
      "Saved PNG: /media/sarvagya-pc/2TB HDD/Balgrist/MPM_nonProcessed/axial_skullstripped/NTL-009_ses-02/img_176.png and NPY: /media/sarvagya-pc/2TB HDD/Balgrist/MPM_nonProcessed/axial_skullstripped/NTL-009_ses-02/img_176_normalized.npy\n",
      "Saved resized NPY: /media/sarvagya-pc/2TB HDD/Balgrist/MPM_nonProcessed/axial_skullstripped/NTL-009_ses-02/img_177_normalized.npy\n",
      "Saved PNG: /media/sarvagya-pc/2TB HDD/Balgrist/MPM_nonProcessed/axial_skullstripped/NTL-009_ses-02/img_177.png and NPY: /media/sarvagya-pc/2TB HDD/Balgrist/MPM_nonProcessed/axial_skullstripped/NTL-009_ses-02/img_177_normalized.npy\n",
      "Saved resized NPY: /media/sarvagya-pc/2TB HDD/Balgrist/MPM_nonProcessed/axial_skullstripped/NTL-009_ses-02/img_178_normalized.npy\n",
      "Saved PNG: /media/sarvagya-pc/2TB HDD/Balgrist/MPM_nonProcessed/axial_skullstripped/NTL-009_ses-02/img_178.png and NPY: /media/sarvagya-pc/2TB HDD/Balgrist/MPM_nonProcessed/axial_skullstripped/NTL-009_ses-02/img_178_normalized.npy\n",
      "Saved resized NPY: /media/sarvagya-pc/2TB HDD/Balgrist/MPM_nonProcessed/axial_skullstripped/NTL-009_ses-02/img_179_normalized.npy\n",
      "Saved PNG: /media/sarvagya-pc/2TB HDD/Balgrist/MPM_nonProcessed/axial_skullstripped/NTL-009_ses-02/img_179.png and NPY: /media/sarvagya-pc/2TB HDD/Balgrist/MPM_nonProcessed/axial_skullstripped/NTL-009_ses-02/img_179_normalized.npy\n",
      "Saved resized NPY: /media/sarvagya-pc/2TB HDD/Balgrist/MPM_nonProcessed/axial_skullstripped/NTL-009_ses-02/img_180_normalized.npy\n",
      "Saved PNG: /media/sarvagya-pc/2TB HDD/Balgrist/MPM_nonProcessed/axial_skullstripped/NTL-009_ses-02/img_180.png and NPY: /media/sarvagya-pc/2TB HDD/Balgrist/MPM_nonProcessed/axial_skullstripped/NTL-009_ses-02/img_180_normalized.npy\n",
      "Saved resized NPY: /media/sarvagya-pc/2TB HDD/Balgrist/MPM_nonProcessed/axial_skullstripped/NTL-009_ses-02/img_181_normalized.npy\n",
      "Saved PNG: /media/sarvagya-pc/2TB HDD/Balgrist/MPM_nonProcessed/axial_skullstripped/NTL-009_ses-02/img_181.png and NPY: /media/sarvagya-pc/2TB HDD/Balgrist/MPM_nonProcessed/axial_skullstripped/NTL-009_ses-02/img_181_normalized.npy\n",
      "Saved resized NPY: /media/sarvagya-pc/2TB HDD/Balgrist/MPM_nonProcessed/axial_skullstripped/NTL-009_ses-02/img_182_normalized.npy\n",
      "Saved PNG: /media/sarvagya-pc/2TB HDD/Balgrist/MPM_nonProcessed/axial_skullstripped/NTL-009_ses-02/img_182.png and NPY: /media/sarvagya-pc/2TB HDD/Balgrist/MPM_nonProcessed/axial_skullstripped/NTL-009_ses-02/img_182_normalized.npy\n",
      "Saved resized NPY: /media/sarvagya-pc/2TB HDD/Balgrist/MPM_nonProcessed/axial_skullstripped/NTL-009_ses-02/img_183_normalized.npy\n",
      "Saved PNG: /media/sarvagya-pc/2TB HDD/Balgrist/MPM_nonProcessed/axial_skullstripped/NTL-009_ses-02/img_183.png and NPY: /media/sarvagya-pc/2TB HDD/Balgrist/MPM_nonProcessed/axial_skullstripped/NTL-009_ses-02/img_183_normalized.npy\n",
      "Saved resized NPY: /media/sarvagya-pc/2TB HDD/Balgrist/MPM_nonProcessed/axial_skullstripped/NTL-009_ses-02/img_184_normalized.npy\n",
      "Saved PNG: /media/sarvagya-pc/2TB HDD/Balgrist/MPM_nonProcessed/axial_skullstripped/NTL-009_ses-02/img_184.png and NPY: /media/sarvagya-pc/2TB HDD/Balgrist/MPM_nonProcessed/axial_skullstripped/NTL-009_ses-02/img_184_normalized.npy\n",
      "Saved resized NPY: /media/sarvagya-pc/2TB HDD/Balgrist/MPM_nonProcessed/axial_skullstripped/NTL-009_ses-02/img_185_normalized.npy\n",
      "Saved PNG: /media/sarvagya-pc/2TB HDD/Balgrist/MPM_nonProcessed/axial_skullstripped/NTL-009_ses-02/img_185.png and NPY: /media/sarvagya-pc/2TB HDD/Balgrist/MPM_nonProcessed/axial_skullstripped/NTL-009_ses-02/img_185_normalized.npy\n",
      "Saved resized NPY: /media/sarvagya-pc/2TB HDD/Balgrist/MPM_nonProcessed/axial_skullstripped/NTL-009_ses-02/img_186_normalized.npy\n",
      "Saved PNG: /media/sarvagya-pc/2TB HDD/Balgrist/MPM_nonProcessed/axial_skullstripped/NTL-009_ses-02/img_186.png and NPY: /media/sarvagya-pc/2TB HDD/Balgrist/MPM_nonProcessed/axial_skullstripped/NTL-009_ses-02/img_186_normalized.npy\n",
      "Saved resized NPY: /media/sarvagya-pc/2TB HDD/Balgrist/MPM_nonProcessed/axial_skullstripped/NTL-009_ses-02/img_187_normalized.npy\n",
      "Saved PNG: /media/sarvagya-pc/2TB HDD/Balgrist/MPM_nonProcessed/axial_skullstripped/NTL-009_ses-02/img_187.png and NPY: /media/sarvagya-pc/2TB HDD/Balgrist/MPM_nonProcessed/axial_skullstripped/NTL-009_ses-02/img_187_normalized.npy\n",
      "Saved resized NPY: /media/sarvagya-pc/2TB HDD/Balgrist/MPM_nonProcessed/axial_skullstripped/NTL-009_ses-02/img_188_normalized.npy\n",
      "Saved PNG: /media/sarvagya-pc/2TB HDD/Balgrist/MPM_nonProcessed/axial_skullstripped/NTL-009_ses-02/img_188.png and NPY: /media/sarvagya-pc/2TB HDD/Balgrist/MPM_nonProcessed/axial_skullstripped/NTL-009_ses-02/img_188_normalized.npy\n",
      "Saved resized NPY: /media/sarvagya-pc/2TB HDD/Balgrist/MPM_nonProcessed/axial_skullstripped/NTL-009_ses-02/img_189_normalized.npy\n",
      "Saved PNG: /media/sarvagya-pc/2TB HDD/Balgrist/MPM_nonProcessed/axial_skullstripped/NTL-009_ses-02/img_189.png and NPY: /media/sarvagya-pc/2TB HDD/Balgrist/MPM_nonProcessed/axial_skullstripped/NTL-009_ses-02/img_189_normalized.npy\n",
      "Saved resized NPY: /media/sarvagya-pc/2TB HDD/Balgrist/MPM_nonProcessed/axial_skullstripped/NTL-009_ses-02/img_190_normalized.npy\n",
      "Saved PNG: /media/sarvagya-pc/2TB HDD/Balgrist/MPM_nonProcessed/axial_skullstripped/NTL-009_ses-02/img_190.png and NPY: /media/sarvagya-pc/2TB HDD/Balgrist/MPM_nonProcessed/axial_skullstripped/NTL-009_ses-02/img_190_normalized.npy\n",
      "Saved resized NPY: /media/sarvagya-pc/2TB HDD/Balgrist/MPM_nonProcessed/axial_skullstripped/NTL-009_ses-02/img_191_normalized.npy\n",
      "Saved PNG: /media/sarvagya-pc/2TB HDD/Balgrist/MPM_nonProcessed/axial_skullstripped/NTL-009_ses-02/img_191.png and NPY: /media/sarvagya-pc/2TB HDD/Balgrist/MPM_nonProcessed/axial_skullstripped/NTL-009_ses-02/img_191_normalized.npy\n",
      "Saved resized NPY: /media/sarvagya-pc/2TB HDD/Balgrist/MPM_nonProcessed/axial_skullstripped/NTL-009_ses-02/img_192_normalized.npy\n",
      "Saved PNG: /media/sarvagya-pc/2TB HDD/Balgrist/MPM_nonProcessed/axial_skullstripped/NTL-009_ses-02/img_192.png and NPY: /media/sarvagya-pc/2TB HDD/Balgrist/MPM_nonProcessed/axial_skullstripped/NTL-009_ses-02/img_192_normalized.npy\n",
      "Saved resized NPY: /media/sarvagya-pc/2TB HDD/Balgrist/MPM_nonProcessed/axial_skullstripped/NTL-009_ses-02/img_193_normalized.npy\n",
      "Saved PNG: /media/sarvagya-pc/2TB HDD/Balgrist/MPM_nonProcessed/axial_skullstripped/NTL-009_ses-02/img_193.png and NPY: /media/sarvagya-pc/2TB HDD/Balgrist/MPM_nonProcessed/axial_skullstripped/NTL-009_ses-02/img_193_normalized.npy\n",
      "Saved resized NPY: /media/sarvagya-pc/2TB HDD/Balgrist/MPM_nonProcessed/axial_skullstripped/NTL-009_ses-02/img_194_normalized.npy\n",
      "Saved PNG: /media/sarvagya-pc/2TB HDD/Balgrist/MPM_nonProcessed/axial_skullstripped/NTL-009_ses-02/img_194.png and NPY: /media/sarvagya-pc/2TB HDD/Balgrist/MPM_nonProcessed/axial_skullstripped/NTL-009_ses-02/img_194_normalized.npy\n",
      "Saved resized NPY: /media/sarvagya-pc/2TB HDD/Balgrist/MPM_nonProcessed/axial_skullstripped/NTL-009_ses-02/img_195_normalized.npy\n",
      "Saved PNG: /media/sarvagya-pc/2TB HDD/Balgrist/MPM_nonProcessed/axial_skullstripped/NTL-009_ses-02/img_195.png and NPY: /media/sarvagya-pc/2TB HDD/Balgrist/MPM_nonProcessed/axial_skullstripped/NTL-009_ses-02/img_195_normalized.npy\n",
      "Saved resized NPY: /media/sarvagya-pc/2TB HDD/Balgrist/MPM_nonProcessed/axial_skullstripped/NTL-009_ses-02/img_196_normalized.npy\n",
      "Saved PNG: /media/sarvagya-pc/2TB HDD/Balgrist/MPM_nonProcessed/axial_skullstripped/NTL-009_ses-02/img_196.png and NPY: /media/sarvagya-pc/2TB HDD/Balgrist/MPM_nonProcessed/axial_skullstripped/NTL-009_ses-02/img_196_normalized.npy\n",
      "Saved resized NPY: /media/sarvagya-pc/2TB HDD/Balgrist/MPM_nonProcessed/axial_skullstripped/NTL-009_ses-02/img_197_normalized.npy\n",
      "Saved PNG: /media/sarvagya-pc/2TB HDD/Balgrist/MPM_nonProcessed/axial_skullstripped/NTL-009_ses-02/img_197.png and NPY: /media/sarvagya-pc/2TB HDD/Balgrist/MPM_nonProcessed/axial_skullstripped/NTL-009_ses-02/img_197_normalized.npy\n",
      "Saved resized NPY: /media/sarvagya-pc/2TB HDD/Balgrist/MPM_nonProcessed/axial_skullstripped/NTL-009_ses-02/img_198_normalized.npy\n",
      "Saved PNG: /media/sarvagya-pc/2TB HDD/Balgrist/MPM_nonProcessed/axial_skullstripped/NTL-009_ses-02/img_198.png and NPY: /media/sarvagya-pc/2TB HDD/Balgrist/MPM_nonProcessed/axial_skullstripped/NTL-009_ses-02/img_198_normalized.npy\n",
      "Saved resized NPY: /media/sarvagya-pc/2TB HDD/Balgrist/MPM_nonProcessed/axial_skullstripped/NTL-009_ses-02/img_199_normalized.npy\n",
      "Saved PNG: /media/sarvagya-pc/2TB HDD/Balgrist/MPM_nonProcessed/axial_skullstripped/NTL-009_ses-02/img_199.png and NPY: /media/sarvagya-pc/2TB HDD/Balgrist/MPM_nonProcessed/axial_skullstripped/NTL-009_ses-02/img_199_normalized.npy\n",
      "Saved resized NPY: /media/sarvagya-pc/2TB HDD/Balgrist/MPM_nonProcessed/axial_skullstripped/NTL-009_ses-02/img_200_normalized.npy\n",
      "Saved PNG: /media/sarvagya-pc/2TB HDD/Balgrist/MPM_nonProcessed/axial_skullstripped/NTL-009_ses-02/img_200.png and NPY: /media/sarvagya-pc/2TB HDD/Balgrist/MPM_nonProcessed/axial_skullstripped/NTL-009_ses-02/img_200_normalized.npy\n",
      "Saved resized NPY: /media/sarvagya-pc/2TB HDD/Balgrist/MPM_nonProcessed/axial_skullstripped/NTL-009_ses-02/img_201_normalized.npy\n",
      "Saved PNG: /media/sarvagya-pc/2TB HDD/Balgrist/MPM_nonProcessed/axial_skullstripped/NTL-009_ses-02/img_201.png and NPY: /media/sarvagya-pc/2TB HDD/Balgrist/MPM_nonProcessed/axial_skullstripped/NTL-009_ses-02/img_201_normalized.npy\n",
      "Saved resized NPY: /media/sarvagya-pc/2TB HDD/Balgrist/MPM_nonProcessed/axial_skullstripped/NTL-009_ses-02/img_202_normalized.npy\n",
      "Saved PNG: /media/sarvagya-pc/2TB HDD/Balgrist/MPM_nonProcessed/axial_skullstripped/NTL-009_ses-02/img_202.png and NPY: /media/sarvagya-pc/2TB HDD/Balgrist/MPM_nonProcessed/axial_skullstripped/NTL-009_ses-02/img_202_normalized.npy\n",
      "Saved resized NPY: /media/sarvagya-pc/2TB HDD/Balgrist/MPM_nonProcessed/axial_skullstripped/NTL-009_ses-02/img_203_normalized.npy\n",
      "Saved PNG: /media/sarvagya-pc/2TB HDD/Balgrist/MPM_nonProcessed/axial_skullstripped/NTL-009_ses-02/img_203.png and NPY: /media/sarvagya-pc/2TB HDD/Balgrist/MPM_nonProcessed/axial_skullstripped/NTL-009_ses-02/img_203_normalized.npy\n",
      "Saved resized NPY: /media/sarvagya-pc/2TB HDD/Balgrist/MPM_nonProcessed/axial_skullstripped/NTL-009_ses-02/img_204_normalized.npy\n",
      "Saved PNG: /media/sarvagya-pc/2TB HDD/Balgrist/MPM_nonProcessed/axial_skullstripped/NTL-009_ses-02/img_204.png and NPY: /media/sarvagya-pc/2TB HDD/Balgrist/MPM_nonProcessed/axial_skullstripped/NTL-009_ses-02/img_204_normalized.npy\n",
      "Saved resized NPY: /media/sarvagya-pc/2TB HDD/Balgrist/MPM_nonProcessed/axial_skullstripped/NTL-009_ses-02/img_205_normalized.npy\n",
      "Saved PNG: /media/sarvagya-pc/2TB HDD/Balgrist/MPM_nonProcessed/axial_skullstripped/NTL-009_ses-02/img_205.png and NPY: /media/sarvagya-pc/2TB HDD/Balgrist/MPM_nonProcessed/axial_skullstripped/NTL-009_ses-02/img_205_normalized.npy\n",
      "Saved resized NPY: /media/sarvagya-pc/2TB HDD/Balgrist/MPM_nonProcessed/axial_skullstripped/NTL-009_ses-02/img_206_normalized.npy\n",
      "Saved PNG: /media/sarvagya-pc/2TB HDD/Balgrist/MPM_nonProcessed/axial_skullstripped/NTL-009_ses-02/img_206.png and NPY: /media/sarvagya-pc/2TB HDD/Balgrist/MPM_nonProcessed/axial_skullstripped/NTL-009_ses-02/img_206_normalized.npy\n",
      "Saved resized NPY: /media/sarvagya-pc/2TB HDD/Balgrist/MPM_nonProcessed/axial_skullstripped/NTL-009_ses-02/img_207_normalized.npy\n",
      "Saved PNG: /media/sarvagya-pc/2TB HDD/Balgrist/MPM_nonProcessed/axial_skullstripped/NTL-009_ses-02/img_207.png and NPY: /media/sarvagya-pc/2TB HDD/Balgrist/MPM_nonProcessed/axial_skullstripped/NTL-009_ses-02/img_207_normalized.npy\n",
      "Saved resized NPY: /media/sarvagya-pc/2TB HDD/Balgrist/MPM_nonProcessed/axial_skullstripped/NTL-009_ses-02/img_208_normalized.npy\n",
      "Saved PNG: /media/sarvagya-pc/2TB HDD/Balgrist/MPM_nonProcessed/axial_skullstripped/NTL-009_ses-02/img_208.png and NPY: /media/sarvagya-pc/2TB HDD/Balgrist/MPM_nonProcessed/axial_skullstripped/NTL-009_ses-02/img_208_normalized.npy\n",
      "Saved resized NPY: /media/sarvagya-pc/2TB HDD/Balgrist/MPM_nonProcessed/axial_skullstripped/NTL-009_ses-02/img_209_normalized.npy\n",
      "Saved PNG: /media/sarvagya-pc/2TB HDD/Balgrist/MPM_nonProcessed/axial_skullstripped/NTL-009_ses-02/img_209.png and NPY: /media/sarvagya-pc/2TB HDD/Balgrist/MPM_nonProcessed/axial_skullstripped/NTL-009_ses-02/img_209_normalized.npy\n",
      "Saved resized NPY: /media/sarvagya-pc/2TB HDD/Balgrist/MPM_nonProcessed/axial_skullstripped/NTL-009_ses-02/img_210_normalized.npy\n",
      "Saved PNG: /media/sarvagya-pc/2TB HDD/Balgrist/MPM_nonProcessed/axial_skullstripped/NTL-009_ses-02/img_210.png and NPY: /media/sarvagya-pc/2TB HDD/Balgrist/MPM_nonProcessed/axial_skullstripped/NTL-009_ses-02/img_210_normalized.npy\n",
      "Saved resized NPY: /media/sarvagya-pc/2TB HDD/Balgrist/MPM_nonProcessed/axial_skullstripped/NTL-009_ses-02/img_211_normalized.npy\n",
      "Saved PNG: /media/sarvagya-pc/2TB HDD/Balgrist/MPM_nonProcessed/axial_skullstripped/NTL-009_ses-02/img_211.png and NPY: /media/sarvagya-pc/2TB HDD/Balgrist/MPM_nonProcessed/axial_skullstripped/NTL-009_ses-02/img_211_normalized.npy\n",
      "Saved resized NPY: /media/sarvagya-pc/2TB HDD/Balgrist/MPM_nonProcessed/axial_skullstripped/NTL-009_ses-02/img_212_normalized.npy\n",
      "Saved PNG: /media/sarvagya-pc/2TB HDD/Balgrist/MPM_nonProcessed/axial_skullstripped/NTL-009_ses-02/img_212.png and NPY: /media/sarvagya-pc/2TB HDD/Balgrist/MPM_nonProcessed/axial_skullstripped/NTL-009_ses-02/img_212_normalized.npy\n",
      "Saved resized NPY: /media/sarvagya-pc/2TB HDD/Balgrist/MPM_nonProcessed/axial_skullstripped/NTL-009_ses-02/img_213_normalized.npy\n",
      "Saved PNG: /media/sarvagya-pc/2TB HDD/Balgrist/MPM_nonProcessed/axial_skullstripped/NTL-009_ses-02/img_213.png and NPY: /media/sarvagya-pc/2TB HDD/Balgrist/MPM_nonProcessed/axial_skullstripped/NTL-009_ses-02/img_213_normalized.npy\n",
      "Saved resized NPY: /media/sarvagya-pc/2TB HDD/Balgrist/MPM_nonProcessed/axial_skullstripped/NTL-009_ses-02/img_214_normalized.npy\n",
      "Saved PNG: /media/sarvagya-pc/2TB HDD/Balgrist/MPM_nonProcessed/axial_skullstripped/NTL-009_ses-02/img_214.png and NPY: /media/sarvagya-pc/2TB HDD/Balgrist/MPM_nonProcessed/axial_skullstripped/NTL-009_ses-02/img_214_normalized.npy\n",
      "Saved resized NPY: /media/sarvagya-pc/2TB HDD/Balgrist/MPM_nonProcessed/axial_skullstripped/NTL-009_ses-02/img_215_normalized.npy\n",
      "Saved PNG: /media/sarvagya-pc/2TB HDD/Balgrist/MPM_nonProcessed/axial_skullstripped/NTL-009_ses-02/img_215.png and NPY: /media/sarvagya-pc/2TB HDD/Balgrist/MPM_nonProcessed/axial_skullstripped/NTL-009_ses-02/img_215_normalized.npy\n",
      "Saved resized NPY: /media/sarvagya-pc/2TB HDD/Balgrist/MPM_nonProcessed/axial_skullstripped/NTL-009_ses-02/img_216_normalized.npy\n",
      "Saved PNG: /media/sarvagya-pc/2TB HDD/Balgrist/MPM_nonProcessed/axial_skullstripped/NTL-009_ses-02/img_216.png and NPY: /media/sarvagya-pc/2TB HDD/Balgrist/MPM_nonProcessed/axial_skullstripped/NTL-009_ses-02/img_216_normalized.npy\n",
      "Saved resized NPY: /media/sarvagya-pc/2TB HDD/Balgrist/MPM_nonProcessed/axial_skullstripped/NTL-009_ses-02/img_217_normalized.npy\n",
      "Saved PNG: /media/sarvagya-pc/2TB HDD/Balgrist/MPM_nonProcessed/axial_skullstripped/NTL-009_ses-02/img_217.png and NPY: /media/sarvagya-pc/2TB HDD/Balgrist/MPM_nonProcessed/axial_skullstripped/NTL-009_ses-02/img_217_normalized.npy\n",
      "Saved resized NPY: /media/sarvagya-pc/2TB HDD/Balgrist/MPM_nonProcessed/axial_skullstripped/NTL-009_ses-02/img_218_normalized.npy\n",
      "Saved PNG: /media/sarvagya-pc/2TB HDD/Balgrist/MPM_nonProcessed/axial_skullstripped/NTL-009_ses-02/img_218.png and NPY: /media/sarvagya-pc/2TB HDD/Balgrist/MPM_nonProcessed/axial_skullstripped/NTL-009_ses-02/img_218_normalized.npy\n",
      "Saved resized NPY: /media/sarvagya-pc/2TB HDD/Balgrist/MPM_nonProcessed/axial_skullstripped/NTL-009_ses-02/img_219_normalized.npy\n",
      "Saved PNG: /media/sarvagya-pc/2TB HDD/Balgrist/MPM_nonProcessed/axial_skullstripped/NTL-009_ses-02/img_219.png and NPY: /media/sarvagya-pc/2TB HDD/Balgrist/MPM_nonProcessed/axial_skullstripped/NTL-009_ses-02/img_219_normalized.npy\n",
      "(256, 256, 176)\n",
      "MNU-007_ses-01\n",
      "Saved resized NPY: /media/sarvagya-pc/2TB HDD/Balgrist/MPM_nonProcessed/axial_skullstripped/MNU-007_ses-01/img_133_normalized.npy\n",
      "Saved PNG: /media/sarvagya-pc/2TB HDD/Balgrist/MPM_nonProcessed/axial_skullstripped/MNU-007_ses-01/img_133.png and NPY: /media/sarvagya-pc/2TB HDD/Balgrist/MPM_nonProcessed/axial_skullstripped/MNU-007_ses-01/img_133_normalized.npy\n",
      "Saved resized NPY: /media/sarvagya-pc/2TB HDD/Balgrist/MPM_nonProcessed/axial_skullstripped/MNU-007_ses-01/img_134_normalized.npy\n",
      "Saved PNG: /media/sarvagya-pc/2TB HDD/Balgrist/MPM_nonProcessed/axial_skullstripped/MNU-007_ses-01/img_134.png and NPY: /media/sarvagya-pc/2TB HDD/Balgrist/MPM_nonProcessed/axial_skullstripped/MNU-007_ses-01/img_134_normalized.npy\n",
      "Saved resized NPY: /media/sarvagya-pc/2TB HDD/Balgrist/MPM_nonProcessed/axial_skullstripped/MNU-007_ses-01/img_135_normalized.npy\n",
      "Saved PNG: /media/sarvagya-pc/2TB HDD/Balgrist/MPM_nonProcessed/axial_skullstripped/MNU-007_ses-01/img_135.png and NPY: /media/sarvagya-pc/2TB HDD/Balgrist/MPM_nonProcessed/axial_skullstripped/MNU-007_ses-01/img_135_normalized.npy\n",
      "Saved resized NPY: /media/sarvagya-pc/2TB HDD/Balgrist/MPM_nonProcessed/axial_skullstripped/MNU-007_ses-01/img_136_normalized.npy\n",
      "Saved PNG: /media/sarvagya-pc/2TB HDD/Balgrist/MPM_nonProcessed/axial_skullstripped/MNU-007_ses-01/img_136.png and NPY: /media/sarvagya-pc/2TB HDD/Balgrist/MPM_nonProcessed/axial_skullstripped/MNU-007_ses-01/img_136_normalized.npy\n",
      "Saved resized NPY: /media/sarvagya-pc/2TB HDD/Balgrist/MPM_nonProcessed/axial_skullstripped/MNU-007_ses-01/img_137_normalized.npy\n",
      "Saved PNG: /media/sarvagya-pc/2TB HDD/Balgrist/MPM_nonProcessed/axial_skullstripped/MNU-007_ses-01/img_137.png and NPY: /media/sarvagya-pc/2TB HDD/Balgrist/MPM_nonProcessed/axial_skullstripped/MNU-007_ses-01/img_137_normalized.npy\n",
      "Saved resized NPY: /media/sarvagya-pc/2TB HDD/Balgrist/MPM_nonProcessed/axial_skullstripped/MNU-007_ses-01/img_138_normalized.npy\n",
      "Saved PNG: /media/sarvagya-pc/2TB HDD/Balgrist/MPM_nonProcessed/axial_skullstripped/MNU-007_ses-01/img_138.png and NPY: /media/sarvagya-pc/2TB HDD/Balgrist/MPM_nonProcessed/axial_skullstripped/MNU-007_ses-01/img_138_normalized.npy\n",
      "Saved resized NPY: /media/sarvagya-pc/2TB HDD/Balgrist/MPM_nonProcessed/axial_skullstripped/MNU-007_ses-01/img_139_normalized.npy\n",
      "Saved PNG: /media/sarvagya-pc/2TB HDD/Balgrist/MPM_nonProcessed/axial_skullstripped/MNU-007_ses-01/img_139.png and NPY: /media/sarvagya-pc/2TB HDD/Balgrist/MPM_nonProcessed/axial_skullstripped/MNU-007_ses-01/img_139_normalized.npy\n",
      "Saved resized NPY: /media/sarvagya-pc/2TB HDD/Balgrist/MPM_nonProcessed/axial_skullstripped/MNU-007_ses-01/img_140_normalized.npy\n",
      "Saved PNG: /media/sarvagya-pc/2TB HDD/Balgrist/MPM_nonProcessed/axial_skullstripped/MNU-007_ses-01/img_140.png and NPY: /media/sarvagya-pc/2TB HDD/Balgrist/MPM_nonProcessed/axial_skullstripped/MNU-007_ses-01/img_140_normalized.npy\n",
      "Saved resized NPY: /media/sarvagya-pc/2TB HDD/Balgrist/MPM_nonProcessed/axial_skullstripped/MNU-007_ses-01/img_141_normalized.npy\n",
      "Saved PNG: /media/sarvagya-pc/2TB HDD/Balgrist/MPM_nonProcessed/axial_skullstripped/MNU-007_ses-01/img_141.png and NPY: /media/sarvagya-pc/2TB HDD/Balgrist/MPM_nonProcessed/axial_skullstripped/MNU-007_ses-01/img_141_normalized.npy\n",
      "Saved resized NPY: /media/sarvagya-pc/2TB HDD/Balgrist/MPM_nonProcessed/axial_skullstripped/MNU-007_ses-01/img_142_normalized.npy\n",
      "Saved PNG: /media/sarvagya-pc/2TB HDD/Balgrist/MPM_nonProcessed/axial_skullstripped/MNU-007_ses-01/img_142.png and NPY: /media/sarvagya-pc/2TB HDD/Balgrist/MPM_nonProcessed/axial_skullstripped/MNU-007_ses-01/img_142_normalized.npy\n",
      "Saved resized NPY: /media/sarvagya-pc/2TB HDD/Balgrist/MPM_nonProcessed/axial_skullstripped/MNU-007_ses-01/img_143_normalized.npy\n",
      "Saved PNG: /media/sarvagya-pc/2TB HDD/Balgrist/MPM_nonProcessed/axial_skullstripped/MNU-007_ses-01/img_143.png and NPY: /media/sarvagya-pc/2TB HDD/Balgrist/MPM_nonProcessed/axial_skullstripped/MNU-007_ses-01/img_143_normalized.npy\n",
      "Saved resized NPY: /media/sarvagya-pc/2TB HDD/Balgrist/MPM_nonProcessed/axial_skullstripped/MNU-007_ses-01/img_144_normalized.npy\n",
      "Saved PNG: /media/sarvagya-pc/2TB HDD/Balgrist/MPM_nonProcessed/axial_skullstripped/MNU-007_ses-01/img_144.png and NPY: /media/sarvagya-pc/2TB HDD/Balgrist/MPM_nonProcessed/axial_skullstripped/MNU-007_ses-01/img_144_normalized.npy\n",
      "Saved resized NPY: /media/sarvagya-pc/2TB HDD/Balgrist/MPM_nonProcessed/axial_skullstripped/MNU-007_ses-01/img_145_normalized.npy\n",
      "Saved PNG: /media/sarvagya-pc/2TB HDD/Balgrist/MPM_nonProcessed/axial_skullstripped/MNU-007_ses-01/img_145.png and NPY: /media/sarvagya-pc/2TB HDD/Balgrist/MPM_nonProcessed/axial_skullstripped/MNU-007_ses-01/img_145_normalized.npy\n",
      "Saved resized NPY: /media/sarvagya-pc/2TB HDD/Balgrist/MPM_nonProcessed/axial_skullstripped/MNU-007_ses-01/img_146_normalized.npy\n",
      "Saved PNG: /media/sarvagya-pc/2TB HDD/Balgrist/MPM_nonProcessed/axial_skullstripped/MNU-007_ses-01/img_146.png and NPY: /media/sarvagya-pc/2TB HDD/Balgrist/MPM_nonProcessed/axial_skullstripped/MNU-007_ses-01/img_146_normalized.npy\n",
      "Saved resized NPY: /media/sarvagya-pc/2TB HDD/Balgrist/MPM_nonProcessed/axial_skullstripped/MNU-007_ses-01/img_147_normalized.npy\n",
      "Saved PNG: /media/sarvagya-pc/2TB HDD/Balgrist/MPM_nonProcessed/axial_skullstripped/MNU-007_ses-01/img_147.png and NPY: /media/sarvagya-pc/2TB HDD/Balgrist/MPM_nonProcessed/axial_skullstripped/MNU-007_ses-01/img_147_normalized.npy\n",
      "Saved resized NPY: /media/sarvagya-pc/2TB HDD/Balgrist/MPM_nonProcessed/axial_skullstripped/MNU-007_ses-01/img_148_normalized.npy\n",
      "Saved PNG: /media/sarvagya-pc/2TB HDD/Balgrist/MPM_nonProcessed/axial_skullstripped/MNU-007_ses-01/img_148.png and NPY: /media/sarvagya-pc/2TB HDD/Balgrist/MPM_nonProcessed/axial_skullstripped/MNU-007_ses-01/img_148_normalized.npy\n",
      "Saved resized NPY: /media/sarvagya-pc/2TB HDD/Balgrist/MPM_nonProcessed/axial_skullstripped/MNU-007_ses-01/img_149_normalized.npy\n",
      "Saved PNG: /media/sarvagya-pc/2TB HDD/Balgrist/MPM_nonProcessed/axial_skullstripped/MNU-007_ses-01/img_149.png and NPY: /media/sarvagya-pc/2TB HDD/Balgrist/MPM_nonProcessed/axial_skullstripped/MNU-007_ses-01/img_149_normalized.npy\n",
      "Saved resized NPY: /media/sarvagya-pc/2TB HDD/Balgrist/MPM_nonProcessed/axial_skullstripped/MNU-007_ses-01/img_150_normalized.npy\n",
      "Saved PNG: /media/sarvagya-pc/2TB HDD/Balgrist/MPM_nonProcessed/axial_skullstripped/MNU-007_ses-01/img_150.png and NPY: /media/sarvagya-pc/2TB HDD/Balgrist/MPM_nonProcessed/axial_skullstripped/MNU-007_ses-01/img_150_normalized.npy\n",
      "Saved resized NPY: /media/sarvagya-pc/2TB HDD/Balgrist/MPM_nonProcessed/axial_skullstripped/MNU-007_ses-01/img_151_normalized.npy\n",
      "Saved PNG: /media/sarvagya-pc/2TB HDD/Balgrist/MPM_nonProcessed/axial_skullstripped/MNU-007_ses-01/img_151.png and NPY: /media/sarvagya-pc/2TB HDD/Balgrist/MPM_nonProcessed/axial_skullstripped/MNU-007_ses-01/img_151_normalized.npy\n",
      "Saved resized NPY: /media/sarvagya-pc/2TB HDD/Balgrist/MPM_nonProcessed/axial_skullstripped/MNU-007_ses-01/img_152_normalized.npy\n",
      "Saved PNG: /media/sarvagya-pc/2TB HDD/Balgrist/MPM_nonProcessed/axial_skullstripped/MNU-007_ses-01/img_152.png and NPY: /media/sarvagya-pc/2TB HDD/Balgrist/MPM_nonProcessed/axial_skullstripped/MNU-007_ses-01/img_152_normalized.npy\n",
      "Saved resized NPY: /media/sarvagya-pc/2TB HDD/Balgrist/MPM_nonProcessed/axial_skullstripped/MNU-007_ses-01/img_153_normalized.npy\n",
      "Saved PNG: /media/sarvagya-pc/2TB HDD/Balgrist/MPM_nonProcessed/axial_skullstripped/MNU-007_ses-01/img_153.png and NPY: /media/sarvagya-pc/2TB HDD/Balgrist/MPM_nonProcessed/axial_skullstripped/MNU-007_ses-01/img_153_normalized.npy\n",
      "Saved resized NPY: /media/sarvagya-pc/2TB HDD/Balgrist/MPM_nonProcessed/axial_skullstripped/MNU-007_ses-01/img_154_normalized.npy\n",
      "Saved PNG: /media/sarvagya-pc/2TB HDD/Balgrist/MPM_nonProcessed/axial_skullstripped/MNU-007_ses-01/img_154.png and NPY: /media/sarvagya-pc/2TB HDD/Balgrist/MPM_nonProcessed/axial_skullstripped/MNU-007_ses-01/img_154_normalized.npy\n",
      "Saved resized NPY: /media/sarvagya-pc/2TB HDD/Balgrist/MPM_nonProcessed/axial_skullstripped/MNU-007_ses-01/img_155_normalized.npy\n",
      "Saved PNG: /media/sarvagya-pc/2TB HDD/Balgrist/MPM_nonProcessed/axial_skullstripped/MNU-007_ses-01/img_155.png and NPY: /media/sarvagya-pc/2TB HDD/Balgrist/MPM_nonProcessed/axial_skullstripped/MNU-007_ses-01/img_155_normalized.npy\n",
      "Saved resized NPY: /media/sarvagya-pc/2TB HDD/Balgrist/MPM_nonProcessed/axial_skullstripped/MNU-007_ses-01/img_156_normalized.npy\n",
      "Saved PNG: /media/sarvagya-pc/2TB HDD/Balgrist/MPM_nonProcessed/axial_skullstripped/MNU-007_ses-01/img_156.png and NPY: /media/sarvagya-pc/2TB HDD/Balgrist/MPM_nonProcessed/axial_skullstripped/MNU-007_ses-01/img_156_normalized.npy\n",
      "Saved resized NPY: /media/sarvagya-pc/2TB HDD/Balgrist/MPM_nonProcessed/axial_skullstripped/MNU-007_ses-01/img_157_normalized.npy\n",
      "Saved PNG: /media/sarvagya-pc/2TB HDD/Balgrist/MPM_nonProcessed/axial_skullstripped/MNU-007_ses-01/img_157.png and NPY: /media/sarvagya-pc/2TB HDD/Balgrist/MPM_nonProcessed/axial_skullstripped/MNU-007_ses-01/img_157_normalized.npy\n",
      "Saved resized NPY: /media/sarvagya-pc/2TB HDD/Balgrist/MPM_nonProcessed/axial_skullstripped/MNU-007_ses-01/img_158_normalized.npy\n",
      "Saved PNG: /media/sarvagya-pc/2TB HDD/Balgrist/MPM_nonProcessed/axial_skullstripped/MNU-007_ses-01/img_158.png and NPY: /media/sarvagya-pc/2TB HDD/Balgrist/MPM_nonProcessed/axial_skullstripped/MNU-007_ses-01/img_158_normalized.npy\n",
      "Saved resized NPY: /media/sarvagya-pc/2TB HDD/Balgrist/MPM_nonProcessed/axial_skullstripped/MNU-007_ses-01/img_159_normalized.npy\n",
      "Saved PNG: /media/sarvagya-pc/2TB HDD/Balgrist/MPM_nonProcessed/axial_skullstripped/MNU-007_ses-01/img_159.png and NPY: /media/sarvagya-pc/2TB HDD/Balgrist/MPM_nonProcessed/axial_skullstripped/MNU-007_ses-01/img_159_normalized.npy\n",
      "Saved resized NPY: /media/sarvagya-pc/2TB HDD/Balgrist/MPM_nonProcessed/axial_skullstripped/MNU-007_ses-01/img_160_normalized.npy\n",
      "Saved PNG: /media/sarvagya-pc/2TB HDD/Balgrist/MPM_nonProcessed/axial_skullstripped/MNU-007_ses-01/img_160.png and NPY: /media/sarvagya-pc/2TB HDD/Balgrist/MPM_nonProcessed/axial_skullstripped/MNU-007_ses-01/img_160_normalized.npy\n",
      "Saved resized NPY: /media/sarvagya-pc/2TB HDD/Balgrist/MPM_nonProcessed/axial_skullstripped/MNU-007_ses-01/img_161_normalized.npy\n",
      "Saved PNG: /media/sarvagya-pc/2TB HDD/Balgrist/MPM_nonProcessed/axial_skullstripped/MNU-007_ses-01/img_161.png and NPY: /media/sarvagya-pc/2TB HDD/Balgrist/MPM_nonProcessed/axial_skullstripped/MNU-007_ses-01/img_161_normalized.npy\n",
      "Saved resized NPY: /media/sarvagya-pc/2TB HDD/Balgrist/MPM_nonProcessed/axial_skullstripped/MNU-007_ses-01/img_162_normalized.npy\n",
      "Saved PNG: /media/sarvagya-pc/2TB HDD/Balgrist/MPM_nonProcessed/axial_skullstripped/MNU-007_ses-01/img_162.png and NPY: /media/sarvagya-pc/2TB HDD/Balgrist/MPM_nonProcessed/axial_skullstripped/MNU-007_ses-01/img_162_normalized.npy\n",
      "Saved resized NPY: /media/sarvagya-pc/2TB HDD/Balgrist/MPM_nonProcessed/axial_skullstripped/MNU-007_ses-01/img_163_normalized.npy\n",
      "Saved PNG: /media/sarvagya-pc/2TB HDD/Balgrist/MPM_nonProcessed/axial_skullstripped/MNU-007_ses-01/img_163.png and NPY: /media/sarvagya-pc/2TB HDD/Balgrist/MPM_nonProcessed/axial_skullstripped/MNU-007_ses-01/img_163_normalized.npy\n",
      "Saved resized NPY: /media/sarvagya-pc/2TB HDD/Balgrist/MPM_nonProcessed/axial_skullstripped/MNU-007_ses-01/img_164_normalized.npy\n",
      "Saved PNG: /media/sarvagya-pc/2TB HDD/Balgrist/MPM_nonProcessed/axial_skullstripped/MNU-007_ses-01/img_164.png and NPY: /media/sarvagya-pc/2TB HDD/Balgrist/MPM_nonProcessed/axial_skullstripped/MNU-007_ses-01/img_164_normalized.npy\n",
      "Saved resized NPY: /media/sarvagya-pc/2TB HDD/Balgrist/MPM_nonProcessed/axial_skullstripped/MNU-007_ses-01/img_165_normalized.npy\n",
      "Saved PNG: /media/sarvagya-pc/2TB HDD/Balgrist/MPM_nonProcessed/axial_skullstripped/MNU-007_ses-01/img_165.png and NPY: /media/sarvagya-pc/2TB HDD/Balgrist/MPM_nonProcessed/axial_skullstripped/MNU-007_ses-01/img_165_normalized.npy\n",
      "Saved resized NPY: /media/sarvagya-pc/2TB HDD/Balgrist/MPM_nonProcessed/axial_skullstripped/MNU-007_ses-01/img_166_normalized.npy\n",
      "Saved PNG: /media/sarvagya-pc/2TB HDD/Balgrist/MPM_nonProcessed/axial_skullstripped/MNU-007_ses-01/img_166.png and NPY: /media/sarvagya-pc/2TB HDD/Balgrist/MPM_nonProcessed/axial_skullstripped/MNU-007_ses-01/img_166_normalized.npy\n",
      "Saved resized NPY: /media/sarvagya-pc/2TB HDD/Balgrist/MPM_nonProcessed/axial_skullstripped/MNU-007_ses-01/img_167_normalized.npy\n",
      "Saved PNG: /media/sarvagya-pc/2TB HDD/Balgrist/MPM_nonProcessed/axial_skullstripped/MNU-007_ses-01/img_167.png and NPY: /media/sarvagya-pc/2TB HDD/Balgrist/MPM_nonProcessed/axial_skullstripped/MNU-007_ses-01/img_167_normalized.npy\n",
      "Saved resized NPY: /media/sarvagya-pc/2TB HDD/Balgrist/MPM_nonProcessed/axial_skullstripped/MNU-007_ses-01/img_168_normalized.npy\n",
      "Saved PNG: /media/sarvagya-pc/2TB HDD/Balgrist/MPM_nonProcessed/axial_skullstripped/MNU-007_ses-01/img_168.png and NPY: /media/sarvagya-pc/2TB HDD/Balgrist/MPM_nonProcessed/axial_skullstripped/MNU-007_ses-01/img_168_normalized.npy\n",
      "Saved resized NPY: /media/sarvagya-pc/2TB HDD/Balgrist/MPM_nonProcessed/axial_skullstripped/MNU-007_ses-01/img_169_normalized.npy\n",
      "Saved PNG: /media/sarvagya-pc/2TB HDD/Balgrist/MPM_nonProcessed/axial_skullstripped/MNU-007_ses-01/img_169.png and NPY: /media/sarvagya-pc/2TB HDD/Balgrist/MPM_nonProcessed/axial_skullstripped/MNU-007_ses-01/img_169_normalized.npy\n",
      "Saved resized NPY: /media/sarvagya-pc/2TB HDD/Balgrist/MPM_nonProcessed/axial_skullstripped/MNU-007_ses-01/img_170_normalized.npy\n",
      "Saved PNG: /media/sarvagya-pc/2TB HDD/Balgrist/MPM_nonProcessed/axial_skullstripped/MNU-007_ses-01/img_170.png and NPY: /media/sarvagya-pc/2TB HDD/Balgrist/MPM_nonProcessed/axial_skullstripped/MNU-007_ses-01/img_170_normalized.npy\n",
      "Saved resized NPY: /media/sarvagya-pc/2TB HDD/Balgrist/MPM_nonProcessed/axial_skullstripped/MNU-007_ses-01/img_171_normalized.npy\n",
      "Saved PNG: /media/sarvagya-pc/2TB HDD/Balgrist/MPM_nonProcessed/axial_skullstripped/MNU-007_ses-01/img_171.png and NPY: /media/sarvagya-pc/2TB HDD/Balgrist/MPM_nonProcessed/axial_skullstripped/MNU-007_ses-01/img_171_normalized.npy\n",
      "Saved resized NPY: /media/sarvagya-pc/2TB HDD/Balgrist/MPM_nonProcessed/axial_skullstripped/MNU-007_ses-01/img_172_normalized.npy\n",
      "Saved PNG: /media/sarvagya-pc/2TB HDD/Balgrist/MPM_nonProcessed/axial_skullstripped/MNU-007_ses-01/img_172.png and NPY: /media/sarvagya-pc/2TB HDD/Balgrist/MPM_nonProcessed/axial_skullstripped/MNU-007_ses-01/img_172_normalized.npy\n",
      "Saved resized NPY: /media/sarvagya-pc/2TB HDD/Balgrist/MPM_nonProcessed/axial_skullstripped/MNU-007_ses-01/img_173_normalized.npy\n",
      "Saved PNG: /media/sarvagya-pc/2TB HDD/Balgrist/MPM_nonProcessed/axial_skullstripped/MNU-007_ses-01/img_173.png and NPY: /media/sarvagya-pc/2TB HDD/Balgrist/MPM_nonProcessed/axial_skullstripped/MNU-007_ses-01/img_173_normalized.npy\n",
      "Saved resized NPY: /media/sarvagya-pc/2TB HDD/Balgrist/MPM_nonProcessed/axial_skullstripped/MNU-007_ses-01/img_174_normalized.npy\n",
      "Saved PNG: /media/sarvagya-pc/2TB HDD/Balgrist/MPM_nonProcessed/axial_skullstripped/MNU-007_ses-01/img_174.png and NPY: /media/sarvagya-pc/2TB HDD/Balgrist/MPM_nonProcessed/axial_skullstripped/MNU-007_ses-01/img_174_normalized.npy\n",
      "Saved resized NPY: /media/sarvagya-pc/2TB HDD/Balgrist/MPM_nonProcessed/axial_skullstripped/MNU-007_ses-01/img_175_normalized.npy\n",
      "Saved PNG: /media/sarvagya-pc/2TB HDD/Balgrist/MPM_nonProcessed/axial_skullstripped/MNU-007_ses-01/img_175.png and NPY: /media/sarvagya-pc/2TB HDD/Balgrist/MPM_nonProcessed/axial_skullstripped/MNU-007_ses-01/img_175_normalized.npy\n",
      "Saved resized NPY: /media/sarvagya-pc/2TB HDD/Balgrist/MPM_nonProcessed/axial_skullstripped/MNU-007_ses-01/img_176_normalized.npy\n",
      "Saved PNG: /media/sarvagya-pc/2TB HDD/Balgrist/MPM_nonProcessed/axial_skullstripped/MNU-007_ses-01/img_176.png and NPY: /media/sarvagya-pc/2TB HDD/Balgrist/MPM_nonProcessed/axial_skullstripped/MNU-007_ses-01/img_176_normalized.npy\n",
      "Saved resized NPY: /media/sarvagya-pc/2TB HDD/Balgrist/MPM_nonProcessed/axial_skullstripped/MNU-007_ses-01/img_177_normalized.npy\n",
      "Saved PNG: /media/sarvagya-pc/2TB HDD/Balgrist/MPM_nonProcessed/axial_skullstripped/MNU-007_ses-01/img_177.png and NPY: /media/sarvagya-pc/2TB HDD/Balgrist/MPM_nonProcessed/axial_skullstripped/MNU-007_ses-01/img_177_normalized.npy\n",
      "Saved resized NPY: /media/sarvagya-pc/2TB HDD/Balgrist/MPM_nonProcessed/axial_skullstripped/MNU-007_ses-01/img_178_normalized.npy\n",
      "Saved PNG: /media/sarvagya-pc/2TB HDD/Balgrist/MPM_nonProcessed/axial_skullstripped/MNU-007_ses-01/img_178.png and NPY: /media/sarvagya-pc/2TB HDD/Balgrist/MPM_nonProcessed/axial_skullstripped/MNU-007_ses-01/img_178_normalized.npy\n",
      "Saved resized NPY: /media/sarvagya-pc/2TB HDD/Balgrist/MPM_nonProcessed/axial_skullstripped/MNU-007_ses-01/img_179_normalized.npy\n",
      "Saved PNG: /media/sarvagya-pc/2TB HDD/Balgrist/MPM_nonProcessed/axial_skullstripped/MNU-007_ses-01/img_179.png and NPY: /media/sarvagya-pc/2TB HDD/Balgrist/MPM_nonProcessed/axial_skullstripped/MNU-007_ses-01/img_179_normalized.npy\n",
      "Saved resized NPY: /media/sarvagya-pc/2TB HDD/Balgrist/MPM_nonProcessed/axial_skullstripped/MNU-007_ses-01/img_180_normalized.npy\n",
      "Saved PNG: /media/sarvagya-pc/2TB HDD/Balgrist/MPM_nonProcessed/axial_skullstripped/MNU-007_ses-01/img_180.png and NPY: /media/sarvagya-pc/2TB HDD/Balgrist/MPM_nonProcessed/axial_skullstripped/MNU-007_ses-01/img_180_normalized.npy\n",
      "Saved resized NPY: /media/sarvagya-pc/2TB HDD/Balgrist/MPM_nonProcessed/axial_skullstripped/MNU-007_ses-01/img_181_normalized.npy\n",
      "Saved PNG: /media/sarvagya-pc/2TB HDD/Balgrist/MPM_nonProcessed/axial_skullstripped/MNU-007_ses-01/img_181.png and NPY: /media/sarvagya-pc/2TB HDD/Balgrist/MPM_nonProcessed/axial_skullstripped/MNU-007_ses-01/img_181_normalized.npy\n",
      "Saved resized NPY: /media/sarvagya-pc/2TB HDD/Balgrist/MPM_nonProcessed/axial_skullstripped/MNU-007_ses-01/img_182_normalized.npy\n",
      "Saved PNG: /media/sarvagya-pc/2TB HDD/Balgrist/MPM_nonProcessed/axial_skullstripped/MNU-007_ses-01/img_182.png and NPY: /media/sarvagya-pc/2TB HDD/Balgrist/MPM_nonProcessed/axial_skullstripped/MNU-007_ses-01/img_182_normalized.npy\n",
      "Saved resized NPY: /media/sarvagya-pc/2TB HDD/Balgrist/MPM_nonProcessed/axial_skullstripped/MNU-007_ses-01/img_183_normalized.npy\n",
      "Saved PNG: /media/sarvagya-pc/2TB HDD/Balgrist/MPM_nonProcessed/axial_skullstripped/MNU-007_ses-01/img_183.png and NPY: /media/sarvagya-pc/2TB HDD/Balgrist/MPM_nonProcessed/axial_skullstripped/MNU-007_ses-01/img_183_normalized.npy\n",
      "Saved resized NPY: /media/sarvagya-pc/2TB HDD/Balgrist/MPM_nonProcessed/axial_skullstripped/MNU-007_ses-01/img_184_normalized.npy\n",
      "Saved PNG: /media/sarvagya-pc/2TB HDD/Balgrist/MPM_nonProcessed/axial_skullstripped/MNU-007_ses-01/img_184.png and NPY: /media/sarvagya-pc/2TB HDD/Balgrist/MPM_nonProcessed/axial_skullstripped/MNU-007_ses-01/img_184_normalized.npy\n",
      "Saved resized NPY: /media/sarvagya-pc/2TB HDD/Balgrist/MPM_nonProcessed/axial_skullstripped/MNU-007_ses-01/img_185_normalized.npy\n",
      "Saved PNG: /media/sarvagya-pc/2TB HDD/Balgrist/MPM_nonProcessed/axial_skullstripped/MNU-007_ses-01/img_185.png and NPY: /media/sarvagya-pc/2TB HDD/Balgrist/MPM_nonProcessed/axial_skullstripped/MNU-007_ses-01/img_185_normalized.npy\n",
      "Saved resized NPY: /media/sarvagya-pc/2TB HDD/Balgrist/MPM_nonProcessed/axial_skullstripped/MNU-007_ses-01/img_186_normalized.npy\n",
      "Saved PNG: /media/sarvagya-pc/2TB HDD/Balgrist/MPM_nonProcessed/axial_skullstripped/MNU-007_ses-01/img_186.png and NPY: /media/sarvagya-pc/2TB HDD/Balgrist/MPM_nonProcessed/axial_skullstripped/MNU-007_ses-01/img_186_normalized.npy\n",
      "Saved resized NPY: /media/sarvagya-pc/2TB HDD/Balgrist/MPM_nonProcessed/axial_skullstripped/MNU-007_ses-01/img_187_normalized.npy\n",
      "Saved PNG: /media/sarvagya-pc/2TB HDD/Balgrist/MPM_nonProcessed/axial_skullstripped/MNU-007_ses-01/img_187.png and NPY: /media/sarvagya-pc/2TB HDD/Balgrist/MPM_nonProcessed/axial_skullstripped/MNU-007_ses-01/img_187_normalized.npy\n",
      "Saved resized NPY: /media/sarvagya-pc/2TB HDD/Balgrist/MPM_nonProcessed/axial_skullstripped/MNU-007_ses-01/img_188_normalized.npy\n",
      "Saved PNG: /media/sarvagya-pc/2TB HDD/Balgrist/MPM_nonProcessed/axial_skullstripped/MNU-007_ses-01/img_188.png and NPY: /media/sarvagya-pc/2TB HDD/Balgrist/MPM_nonProcessed/axial_skullstripped/MNU-007_ses-01/img_188_normalized.npy\n",
      "Saved resized NPY: /media/sarvagya-pc/2TB HDD/Balgrist/MPM_nonProcessed/axial_skullstripped/MNU-007_ses-01/img_189_normalized.npy\n",
      "Saved PNG: /media/sarvagya-pc/2TB HDD/Balgrist/MPM_nonProcessed/axial_skullstripped/MNU-007_ses-01/img_189.png and NPY: /media/sarvagya-pc/2TB HDD/Balgrist/MPM_nonProcessed/axial_skullstripped/MNU-007_ses-01/img_189_normalized.npy\n",
      "Saved resized NPY: /media/sarvagya-pc/2TB HDD/Balgrist/MPM_nonProcessed/axial_skullstripped/MNU-007_ses-01/img_190_normalized.npy\n",
      "Saved PNG: /media/sarvagya-pc/2TB HDD/Balgrist/MPM_nonProcessed/axial_skullstripped/MNU-007_ses-01/img_190.png and NPY: /media/sarvagya-pc/2TB HDD/Balgrist/MPM_nonProcessed/axial_skullstripped/MNU-007_ses-01/img_190_normalized.npy\n",
      "Saved resized NPY: /media/sarvagya-pc/2TB HDD/Balgrist/MPM_nonProcessed/axial_skullstripped/MNU-007_ses-01/img_191_normalized.npy\n",
      "Saved PNG: /media/sarvagya-pc/2TB HDD/Balgrist/MPM_nonProcessed/axial_skullstripped/MNU-007_ses-01/img_191.png and NPY: /media/sarvagya-pc/2TB HDD/Balgrist/MPM_nonProcessed/axial_skullstripped/MNU-007_ses-01/img_191_normalized.npy\n",
      "Saved resized NPY: /media/sarvagya-pc/2TB HDD/Balgrist/MPM_nonProcessed/axial_skullstripped/MNU-007_ses-01/img_192_normalized.npy\n",
      "Saved PNG: /media/sarvagya-pc/2TB HDD/Balgrist/MPM_nonProcessed/axial_skullstripped/MNU-007_ses-01/img_192.png and NPY: /media/sarvagya-pc/2TB HDD/Balgrist/MPM_nonProcessed/axial_skullstripped/MNU-007_ses-01/img_192_normalized.npy\n",
      "Saved resized NPY: /media/sarvagya-pc/2TB HDD/Balgrist/MPM_nonProcessed/axial_skullstripped/MNU-007_ses-01/img_193_normalized.npy\n",
      "Saved PNG: /media/sarvagya-pc/2TB HDD/Balgrist/MPM_nonProcessed/axial_skullstripped/MNU-007_ses-01/img_193.png and NPY: /media/sarvagya-pc/2TB HDD/Balgrist/MPM_nonProcessed/axial_skullstripped/MNU-007_ses-01/img_193_normalized.npy\n",
      "Saved resized NPY: /media/sarvagya-pc/2TB HDD/Balgrist/MPM_nonProcessed/axial_skullstripped/MNU-007_ses-01/img_194_normalized.npy\n",
      "Saved PNG: /media/sarvagya-pc/2TB HDD/Balgrist/MPM_nonProcessed/axial_skullstripped/MNU-007_ses-01/img_194.png and NPY: /media/sarvagya-pc/2TB HDD/Balgrist/MPM_nonProcessed/axial_skullstripped/MNU-007_ses-01/img_194_normalized.npy\n",
      "Saved resized NPY: /media/sarvagya-pc/2TB HDD/Balgrist/MPM_nonProcessed/axial_skullstripped/MNU-007_ses-01/img_195_normalized.npy\n",
      "Saved PNG: /media/sarvagya-pc/2TB HDD/Balgrist/MPM_nonProcessed/axial_skullstripped/MNU-007_ses-01/img_195.png and NPY: /media/sarvagya-pc/2TB HDD/Balgrist/MPM_nonProcessed/axial_skullstripped/MNU-007_ses-01/img_195_normalized.npy\n",
      "Saved resized NPY: /media/sarvagya-pc/2TB HDD/Balgrist/MPM_nonProcessed/axial_skullstripped/MNU-007_ses-01/img_196_normalized.npy\n",
      "Saved PNG: /media/sarvagya-pc/2TB HDD/Balgrist/MPM_nonProcessed/axial_skullstripped/MNU-007_ses-01/img_196.png and NPY: /media/sarvagya-pc/2TB HDD/Balgrist/MPM_nonProcessed/axial_skullstripped/MNU-007_ses-01/img_196_normalized.npy\n",
      "Saved resized NPY: /media/sarvagya-pc/2TB HDD/Balgrist/MPM_nonProcessed/axial_skullstripped/MNU-007_ses-01/img_197_normalized.npy\n",
      "Saved PNG: /media/sarvagya-pc/2TB HDD/Balgrist/MPM_nonProcessed/axial_skullstripped/MNU-007_ses-01/img_197.png and NPY: /media/sarvagya-pc/2TB HDD/Balgrist/MPM_nonProcessed/axial_skullstripped/MNU-007_ses-01/img_197_normalized.npy\n",
      "Saved resized NPY: /media/sarvagya-pc/2TB HDD/Balgrist/MPM_nonProcessed/axial_skullstripped/MNU-007_ses-01/img_198_normalized.npy\n",
      "Saved PNG: /media/sarvagya-pc/2TB HDD/Balgrist/MPM_nonProcessed/axial_skullstripped/MNU-007_ses-01/img_198.png and NPY: /media/sarvagya-pc/2TB HDD/Balgrist/MPM_nonProcessed/axial_skullstripped/MNU-007_ses-01/img_198_normalized.npy\n",
      "Saved resized NPY: /media/sarvagya-pc/2TB HDD/Balgrist/MPM_nonProcessed/axial_skullstripped/MNU-007_ses-01/img_199_normalized.npy\n",
      "Saved PNG: /media/sarvagya-pc/2TB HDD/Balgrist/MPM_nonProcessed/axial_skullstripped/MNU-007_ses-01/img_199.png and NPY: /media/sarvagya-pc/2TB HDD/Balgrist/MPM_nonProcessed/axial_skullstripped/MNU-007_ses-01/img_199_normalized.npy\n",
      "Saved resized NPY: /media/sarvagya-pc/2TB HDD/Balgrist/MPM_nonProcessed/axial_skullstripped/MNU-007_ses-01/img_200_normalized.npy\n",
      "Saved PNG: /media/sarvagya-pc/2TB HDD/Balgrist/MPM_nonProcessed/axial_skullstripped/MNU-007_ses-01/img_200.png and NPY: /media/sarvagya-pc/2TB HDD/Balgrist/MPM_nonProcessed/axial_skullstripped/MNU-007_ses-01/img_200_normalized.npy\n",
      "Saved resized NPY: /media/sarvagya-pc/2TB HDD/Balgrist/MPM_nonProcessed/axial_skullstripped/MNU-007_ses-01/img_201_normalized.npy\n",
      "Saved PNG: /media/sarvagya-pc/2TB HDD/Balgrist/MPM_nonProcessed/axial_skullstripped/MNU-007_ses-01/img_201.png and NPY: /media/sarvagya-pc/2TB HDD/Balgrist/MPM_nonProcessed/axial_skullstripped/MNU-007_ses-01/img_201_normalized.npy\n",
      "Saved resized NPY: /media/sarvagya-pc/2TB HDD/Balgrist/MPM_nonProcessed/axial_skullstripped/MNU-007_ses-01/img_202_normalized.npy\n",
      "Saved PNG: /media/sarvagya-pc/2TB HDD/Balgrist/MPM_nonProcessed/axial_skullstripped/MNU-007_ses-01/img_202.png and NPY: /media/sarvagya-pc/2TB HDD/Balgrist/MPM_nonProcessed/axial_skullstripped/MNU-007_ses-01/img_202_normalized.npy\n",
      "Saved resized NPY: /media/sarvagya-pc/2TB HDD/Balgrist/MPM_nonProcessed/axial_skullstripped/MNU-007_ses-01/img_203_normalized.npy\n",
      "Saved PNG: /media/sarvagya-pc/2TB HDD/Balgrist/MPM_nonProcessed/axial_skullstripped/MNU-007_ses-01/img_203.png and NPY: /media/sarvagya-pc/2TB HDD/Balgrist/MPM_nonProcessed/axial_skullstripped/MNU-007_ses-01/img_203_normalized.npy\n",
      "Saved resized NPY: /media/sarvagya-pc/2TB HDD/Balgrist/MPM_nonProcessed/axial_skullstripped/MNU-007_ses-01/img_204_normalized.npy\n",
      "Saved PNG: /media/sarvagya-pc/2TB HDD/Balgrist/MPM_nonProcessed/axial_skullstripped/MNU-007_ses-01/img_204.png and NPY: /media/sarvagya-pc/2TB HDD/Balgrist/MPM_nonProcessed/axial_skullstripped/MNU-007_ses-01/img_204_normalized.npy\n",
      "Saved resized NPY: /media/sarvagya-pc/2TB HDD/Balgrist/MPM_nonProcessed/axial_skullstripped/MNU-007_ses-01/img_205_normalized.npy\n",
      "Saved PNG: /media/sarvagya-pc/2TB HDD/Balgrist/MPM_nonProcessed/axial_skullstripped/MNU-007_ses-01/img_205.png and NPY: /media/sarvagya-pc/2TB HDD/Balgrist/MPM_nonProcessed/axial_skullstripped/MNU-007_ses-01/img_205_normalized.npy\n",
      "Saved resized NPY: /media/sarvagya-pc/2TB HDD/Balgrist/MPM_nonProcessed/axial_skullstripped/MNU-007_ses-01/img_206_normalized.npy\n",
      "Saved PNG: /media/sarvagya-pc/2TB HDD/Balgrist/MPM_nonProcessed/axial_skullstripped/MNU-007_ses-01/img_206.png and NPY: /media/sarvagya-pc/2TB HDD/Balgrist/MPM_nonProcessed/axial_skullstripped/MNU-007_ses-01/img_206_normalized.npy\n",
      "Saved resized NPY: /media/sarvagya-pc/2TB HDD/Balgrist/MPM_nonProcessed/axial_skullstripped/MNU-007_ses-01/img_207_normalized.npy\n",
      "Saved PNG: /media/sarvagya-pc/2TB HDD/Balgrist/MPM_nonProcessed/axial_skullstripped/MNU-007_ses-01/img_207.png and NPY: /media/sarvagya-pc/2TB HDD/Balgrist/MPM_nonProcessed/axial_skullstripped/MNU-007_ses-01/img_207_normalized.npy\n",
      "Saved resized NPY: /media/sarvagya-pc/2TB HDD/Balgrist/MPM_nonProcessed/axial_skullstripped/MNU-007_ses-01/img_208_normalized.npy\n",
      "Saved PNG: /media/sarvagya-pc/2TB HDD/Balgrist/MPM_nonProcessed/axial_skullstripped/MNU-007_ses-01/img_208.png and NPY: /media/sarvagya-pc/2TB HDD/Balgrist/MPM_nonProcessed/axial_skullstripped/MNU-007_ses-01/img_208_normalized.npy\n",
      "Saved resized NPY: /media/sarvagya-pc/2TB HDD/Balgrist/MPM_nonProcessed/axial_skullstripped/MNU-007_ses-01/img_209_normalized.npy\n",
      "Saved PNG: /media/sarvagya-pc/2TB HDD/Balgrist/MPM_nonProcessed/axial_skullstripped/MNU-007_ses-01/img_209.png and NPY: /media/sarvagya-pc/2TB HDD/Balgrist/MPM_nonProcessed/axial_skullstripped/MNU-007_ses-01/img_209_normalized.npy\n",
      "Saved resized NPY: /media/sarvagya-pc/2TB HDD/Balgrist/MPM_nonProcessed/axial_skullstripped/MNU-007_ses-01/img_210_normalized.npy\n",
      "Saved PNG: /media/sarvagya-pc/2TB HDD/Balgrist/MPM_nonProcessed/axial_skullstripped/MNU-007_ses-01/img_210.png and NPY: /media/sarvagya-pc/2TB HDD/Balgrist/MPM_nonProcessed/axial_skullstripped/MNU-007_ses-01/img_210_normalized.npy\n",
      "Saved resized NPY: /media/sarvagya-pc/2TB HDD/Balgrist/MPM_nonProcessed/axial_skullstripped/MNU-007_ses-01/img_211_normalized.npy\n",
      "Saved PNG: /media/sarvagya-pc/2TB HDD/Balgrist/MPM_nonProcessed/axial_skullstripped/MNU-007_ses-01/img_211.png and NPY: /media/sarvagya-pc/2TB HDD/Balgrist/MPM_nonProcessed/axial_skullstripped/MNU-007_ses-01/img_211_normalized.npy\n",
      "Saved resized NPY: /media/sarvagya-pc/2TB HDD/Balgrist/MPM_nonProcessed/axial_skullstripped/MNU-007_ses-01/img_212_normalized.npy\n",
      "Saved PNG: /media/sarvagya-pc/2TB HDD/Balgrist/MPM_nonProcessed/axial_skullstripped/MNU-007_ses-01/img_212.png and NPY: /media/sarvagya-pc/2TB HDD/Balgrist/MPM_nonProcessed/axial_skullstripped/MNU-007_ses-01/img_212_normalized.npy\n",
      "Saved resized NPY: /media/sarvagya-pc/2TB HDD/Balgrist/MPM_nonProcessed/axial_skullstripped/MNU-007_ses-01/img_213_normalized.npy\n",
      "Saved PNG: /media/sarvagya-pc/2TB HDD/Balgrist/MPM_nonProcessed/axial_skullstripped/MNU-007_ses-01/img_213.png and NPY: /media/sarvagya-pc/2TB HDD/Balgrist/MPM_nonProcessed/axial_skullstripped/MNU-007_ses-01/img_213_normalized.npy\n",
      "Saved resized NPY: /media/sarvagya-pc/2TB HDD/Balgrist/MPM_nonProcessed/axial_skullstripped/MNU-007_ses-01/img_214_normalized.npy\n",
      "Saved PNG: /media/sarvagya-pc/2TB HDD/Balgrist/MPM_nonProcessed/axial_skullstripped/MNU-007_ses-01/img_214.png and NPY: /media/sarvagya-pc/2TB HDD/Balgrist/MPM_nonProcessed/axial_skullstripped/MNU-007_ses-01/img_214_normalized.npy\n",
      "Saved resized NPY: /media/sarvagya-pc/2TB HDD/Balgrist/MPM_nonProcessed/axial_skullstripped/MNU-007_ses-01/img_215_normalized.npy\n",
      "Saved PNG: /media/sarvagya-pc/2TB HDD/Balgrist/MPM_nonProcessed/axial_skullstripped/MNU-007_ses-01/img_215.png and NPY: /media/sarvagya-pc/2TB HDD/Balgrist/MPM_nonProcessed/axial_skullstripped/MNU-007_ses-01/img_215_normalized.npy\n",
      "Saved resized NPY: /media/sarvagya-pc/2TB HDD/Balgrist/MPM_nonProcessed/axial_skullstripped/MNU-007_ses-01/img_216_normalized.npy\n",
      "Saved PNG: /media/sarvagya-pc/2TB HDD/Balgrist/MPM_nonProcessed/axial_skullstripped/MNU-007_ses-01/img_216.png and NPY: /media/sarvagya-pc/2TB HDD/Balgrist/MPM_nonProcessed/axial_skullstripped/MNU-007_ses-01/img_216_normalized.npy\n",
      "Saved resized NPY: /media/sarvagya-pc/2TB HDD/Balgrist/MPM_nonProcessed/axial_skullstripped/MNU-007_ses-01/img_217_normalized.npy\n",
      "Saved PNG: /media/sarvagya-pc/2TB HDD/Balgrist/MPM_nonProcessed/axial_skullstripped/MNU-007_ses-01/img_217.png and NPY: /media/sarvagya-pc/2TB HDD/Balgrist/MPM_nonProcessed/axial_skullstripped/MNU-007_ses-01/img_217_normalized.npy\n",
      "Saved resized NPY: /media/sarvagya-pc/2TB HDD/Balgrist/MPM_nonProcessed/axial_skullstripped/MNU-007_ses-01/img_218_normalized.npy\n",
      "Saved PNG: /media/sarvagya-pc/2TB HDD/Balgrist/MPM_nonProcessed/axial_skullstripped/MNU-007_ses-01/img_218.png and NPY: /media/sarvagya-pc/2TB HDD/Balgrist/MPM_nonProcessed/axial_skullstripped/MNU-007_ses-01/img_218_normalized.npy\n",
      "Saved resized NPY: /media/sarvagya-pc/2TB HDD/Balgrist/MPM_nonProcessed/axial_skullstripped/MNU-007_ses-01/img_219_normalized.npy\n",
      "Saved PNG: /media/sarvagya-pc/2TB HDD/Balgrist/MPM_nonProcessed/axial_skullstripped/MNU-007_ses-01/img_219.png and NPY: /media/sarvagya-pc/2TB HDD/Balgrist/MPM_nonProcessed/axial_skullstripped/MNU-007_ses-01/img_219_normalized.npy\n",
      "(224, 256, 176)\n",
      "BSL-002_ses-02\n",
      "Saved resized NPY: /media/sarvagya-pc/2TB HDD/Balgrist/MPM_nonProcessed/axial_skullstripped/BSL-002_ses-02/img_133_normalized.npy\n",
      "Saved PNG: /media/sarvagya-pc/2TB HDD/Balgrist/MPM_nonProcessed/axial_skullstripped/BSL-002_ses-02/img_133.png and NPY: /media/sarvagya-pc/2TB HDD/Balgrist/MPM_nonProcessed/axial_skullstripped/BSL-002_ses-02/img_133_normalized.npy\n",
      "Saved resized NPY: /media/sarvagya-pc/2TB HDD/Balgrist/MPM_nonProcessed/axial_skullstripped/BSL-002_ses-02/img_134_normalized.npy\n",
      "Saved PNG: /media/sarvagya-pc/2TB HDD/Balgrist/MPM_nonProcessed/axial_skullstripped/BSL-002_ses-02/img_134.png and NPY: /media/sarvagya-pc/2TB HDD/Balgrist/MPM_nonProcessed/axial_skullstripped/BSL-002_ses-02/img_134_normalized.npy\n",
      "Saved resized NPY: /media/sarvagya-pc/2TB HDD/Balgrist/MPM_nonProcessed/axial_skullstripped/BSL-002_ses-02/img_135_normalized.npy\n",
      "Saved PNG: /media/sarvagya-pc/2TB HDD/Balgrist/MPM_nonProcessed/axial_skullstripped/BSL-002_ses-02/img_135.png and NPY: /media/sarvagya-pc/2TB HDD/Balgrist/MPM_nonProcessed/axial_skullstripped/BSL-002_ses-02/img_135_normalized.npy\n",
      "Saved resized NPY: /media/sarvagya-pc/2TB HDD/Balgrist/MPM_nonProcessed/axial_skullstripped/BSL-002_ses-02/img_136_normalized.npy\n",
      "Saved PNG: /media/sarvagya-pc/2TB HDD/Balgrist/MPM_nonProcessed/axial_skullstripped/BSL-002_ses-02/img_136.png and NPY: /media/sarvagya-pc/2TB HDD/Balgrist/MPM_nonProcessed/axial_skullstripped/BSL-002_ses-02/img_136_normalized.npy\n",
      "Saved resized NPY: /media/sarvagya-pc/2TB HDD/Balgrist/MPM_nonProcessed/axial_skullstripped/BSL-002_ses-02/img_137_normalized.npy\n",
      "Saved PNG: /media/sarvagya-pc/2TB HDD/Balgrist/MPM_nonProcessed/axial_skullstripped/BSL-002_ses-02/img_137.png and NPY: /media/sarvagya-pc/2TB HDD/Balgrist/MPM_nonProcessed/axial_skullstripped/BSL-002_ses-02/img_137_normalized.npy\n",
      "Saved resized NPY: /media/sarvagya-pc/2TB HDD/Balgrist/MPM_nonProcessed/axial_skullstripped/BSL-002_ses-02/img_138_normalized.npy\n",
      "Saved PNG: /media/sarvagya-pc/2TB HDD/Balgrist/MPM_nonProcessed/axial_skullstripped/BSL-002_ses-02/img_138.png and NPY: /media/sarvagya-pc/2TB HDD/Balgrist/MPM_nonProcessed/axial_skullstripped/BSL-002_ses-02/img_138_normalized.npy\n",
      "Saved resized NPY: /media/sarvagya-pc/2TB HDD/Balgrist/MPM_nonProcessed/axial_skullstripped/BSL-002_ses-02/img_139_normalized.npy\n",
      "Saved PNG: /media/sarvagya-pc/2TB HDD/Balgrist/MPM_nonProcessed/axial_skullstripped/BSL-002_ses-02/img_139.png and NPY: /media/sarvagya-pc/2TB HDD/Balgrist/MPM_nonProcessed/axial_skullstripped/BSL-002_ses-02/img_139_normalized.npy\n",
      "Saved resized NPY: /media/sarvagya-pc/2TB HDD/Balgrist/MPM_nonProcessed/axial_skullstripped/BSL-002_ses-02/img_140_normalized.npy\n",
      "Saved PNG: /media/sarvagya-pc/2TB HDD/Balgrist/MPM_nonProcessed/axial_skullstripped/BSL-002_ses-02/img_140.png and NPY: /media/sarvagya-pc/2TB HDD/Balgrist/MPM_nonProcessed/axial_skullstripped/BSL-002_ses-02/img_140_normalized.npy\n",
      "Saved resized NPY: /media/sarvagya-pc/2TB HDD/Balgrist/MPM_nonProcessed/axial_skullstripped/BSL-002_ses-02/img_141_normalized.npy\n",
      "Saved PNG: /media/sarvagya-pc/2TB HDD/Balgrist/MPM_nonProcessed/axial_skullstripped/BSL-002_ses-02/img_141.png and NPY: /media/sarvagya-pc/2TB HDD/Balgrist/MPM_nonProcessed/axial_skullstripped/BSL-002_ses-02/img_141_normalized.npy\n",
      "Saved resized NPY: /media/sarvagya-pc/2TB HDD/Balgrist/MPM_nonProcessed/axial_skullstripped/BSL-002_ses-02/img_142_normalized.npy\n",
      "Saved PNG: /media/sarvagya-pc/2TB HDD/Balgrist/MPM_nonProcessed/axial_skullstripped/BSL-002_ses-02/img_142.png and NPY: /media/sarvagya-pc/2TB HDD/Balgrist/MPM_nonProcessed/axial_skullstripped/BSL-002_ses-02/img_142_normalized.npy\n",
      "Saved resized NPY: /media/sarvagya-pc/2TB HDD/Balgrist/MPM_nonProcessed/axial_skullstripped/BSL-002_ses-02/img_143_normalized.npy\n",
      "Saved PNG: /media/sarvagya-pc/2TB HDD/Balgrist/MPM_nonProcessed/axial_skullstripped/BSL-002_ses-02/img_143.png and NPY: /media/sarvagya-pc/2TB HDD/Balgrist/MPM_nonProcessed/axial_skullstripped/BSL-002_ses-02/img_143_normalized.npy\n",
      "Saved resized NPY: /media/sarvagya-pc/2TB HDD/Balgrist/MPM_nonProcessed/axial_skullstripped/BSL-002_ses-02/img_144_normalized.npy\n",
      "Saved PNG: /media/sarvagya-pc/2TB HDD/Balgrist/MPM_nonProcessed/axial_skullstripped/BSL-002_ses-02/img_144.png and NPY: /media/sarvagya-pc/2TB HDD/Balgrist/MPM_nonProcessed/axial_skullstripped/BSL-002_ses-02/img_144_normalized.npy\n",
      "Saved resized NPY: /media/sarvagya-pc/2TB HDD/Balgrist/MPM_nonProcessed/axial_skullstripped/BSL-002_ses-02/img_145_normalized.npy\n",
      "Saved PNG: /media/sarvagya-pc/2TB HDD/Balgrist/MPM_nonProcessed/axial_skullstripped/BSL-002_ses-02/img_145.png and NPY: /media/sarvagya-pc/2TB HDD/Balgrist/MPM_nonProcessed/axial_skullstripped/BSL-002_ses-02/img_145_normalized.npy\n",
      "Saved resized NPY: /media/sarvagya-pc/2TB HDD/Balgrist/MPM_nonProcessed/axial_skullstripped/BSL-002_ses-02/img_146_normalized.npy\n",
      "Saved PNG: /media/sarvagya-pc/2TB HDD/Balgrist/MPM_nonProcessed/axial_skullstripped/BSL-002_ses-02/img_146.png and NPY: /media/sarvagya-pc/2TB HDD/Balgrist/MPM_nonProcessed/axial_skullstripped/BSL-002_ses-02/img_146_normalized.npy\n",
      "Saved resized NPY: /media/sarvagya-pc/2TB HDD/Balgrist/MPM_nonProcessed/axial_skullstripped/BSL-002_ses-02/img_147_normalized.npy\n",
      "Saved PNG: /media/sarvagya-pc/2TB HDD/Balgrist/MPM_nonProcessed/axial_skullstripped/BSL-002_ses-02/img_147.png and NPY: /media/sarvagya-pc/2TB HDD/Balgrist/MPM_nonProcessed/axial_skullstripped/BSL-002_ses-02/img_147_normalized.npy\n",
      "Saved resized NPY: /media/sarvagya-pc/2TB HDD/Balgrist/MPM_nonProcessed/axial_skullstripped/BSL-002_ses-02/img_148_normalized.npy\n",
      "Saved PNG: /media/sarvagya-pc/2TB HDD/Balgrist/MPM_nonProcessed/axial_skullstripped/BSL-002_ses-02/img_148.png and NPY: /media/sarvagya-pc/2TB HDD/Balgrist/MPM_nonProcessed/axial_skullstripped/BSL-002_ses-02/img_148_normalized.npy\n",
      "Saved resized NPY: /media/sarvagya-pc/2TB HDD/Balgrist/MPM_nonProcessed/axial_skullstripped/BSL-002_ses-02/img_149_normalized.npy\n",
      "Saved PNG: /media/sarvagya-pc/2TB HDD/Balgrist/MPM_nonProcessed/axial_skullstripped/BSL-002_ses-02/img_149.png and NPY: /media/sarvagya-pc/2TB HDD/Balgrist/MPM_nonProcessed/axial_skullstripped/BSL-002_ses-02/img_149_normalized.npy\n",
      "Saved resized NPY: /media/sarvagya-pc/2TB HDD/Balgrist/MPM_nonProcessed/axial_skullstripped/BSL-002_ses-02/img_150_normalized.npy\n",
      "Saved PNG: /media/sarvagya-pc/2TB HDD/Balgrist/MPM_nonProcessed/axial_skullstripped/BSL-002_ses-02/img_150.png and NPY: /media/sarvagya-pc/2TB HDD/Balgrist/MPM_nonProcessed/axial_skullstripped/BSL-002_ses-02/img_150_normalized.npy\n",
      "Saved resized NPY: /media/sarvagya-pc/2TB HDD/Balgrist/MPM_nonProcessed/axial_skullstripped/BSL-002_ses-02/img_151_normalized.npy\n",
      "Saved PNG: /media/sarvagya-pc/2TB HDD/Balgrist/MPM_nonProcessed/axial_skullstripped/BSL-002_ses-02/img_151.png and NPY: /media/sarvagya-pc/2TB HDD/Balgrist/MPM_nonProcessed/axial_skullstripped/BSL-002_ses-02/img_151_normalized.npy\n",
      "Saved resized NPY: /media/sarvagya-pc/2TB HDD/Balgrist/MPM_nonProcessed/axial_skullstripped/BSL-002_ses-02/img_152_normalized.npy\n",
      "Saved PNG: /media/sarvagya-pc/2TB HDD/Balgrist/MPM_nonProcessed/axial_skullstripped/BSL-002_ses-02/img_152.png and NPY: /media/sarvagya-pc/2TB HDD/Balgrist/MPM_nonProcessed/axial_skullstripped/BSL-002_ses-02/img_152_normalized.npy\n",
      "Saved resized NPY: /media/sarvagya-pc/2TB HDD/Balgrist/MPM_nonProcessed/axial_skullstripped/BSL-002_ses-02/img_153_normalized.npy\n",
      "Saved PNG: /media/sarvagya-pc/2TB HDD/Balgrist/MPM_nonProcessed/axial_skullstripped/BSL-002_ses-02/img_153.png and NPY: /media/sarvagya-pc/2TB HDD/Balgrist/MPM_nonProcessed/axial_skullstripped/BSL-002_ses-02/img_153_normalized.npy\n",
      "Saved resized NPY: /media/sarvagya-pc/2TB HDD/Balgrist/MPM_nonProcessed/axial_skullstripped/BSL-002_ses-02/img_154_normalized.npy\n",
      "Saved PNG: /media/sarvagya-pc/2TB HDD/Balgrist/MPM_nonProcessed/axial_skullstripped/BSL-002_ses-02/img_154.png and NPY: /media/sarvagya-pc/2TB HDD/Balgrist/MPM_nonProcessed/axial_skullstripped/BSL-002_ses-02/img_154_normalized.npy\n",
      "Saved resized NPY: /media/sarvagya-pc/2TB HDD/Balgrist/MPM_nonProcessed/axial_skullstripped/BSL-002_ses-02/img_155_normalized.npy\n",
      "Saved PNG: /media/sarvagya-pc/2TB HDD/Balgrist/MPM_nonProcessed/axial_skullstripped/BSL-002_ses-02/img_155.png and NPY: /media/sarvagya-pc/2TB HDD/Balgrist/MPM_nonProcessed/axial_skullstripped/BSL-002_ses-02/img_155_normalized.npy\n",
      "Saved resized NPY: /media/sarvagya-pc/2TB HDD/Balgrist/MPM_nonProcessed/axial_skullstripped/BSL-002_ses-02/img_156_normalized.npy\n",
      "Saved PNG: /media/sarvagya-pc/2TB HDD/Balgrist/MPM_nonProcessed/axial_skullstripped/BSL-002_ses-02/img_156.png and NPY: /media/sarvagya-pc/2TB HDD/Balgrist/MPM_nonProcessed/axial_skullstripped/BSL-002_ses-02/img_156_normalized.npy\n",
      "Saved resized NPY: /media/sarvagya-pc/2TB HDD/Balgrist/MPM_nonProcessed/axial_skullstripped/BSL-002_ses-02/img_157_normalized.npy\n",
      "Saved PNG: /media/sarvagya-pc/2TB HDD/Balgrist/MPM_nonProcessed/axial_skullstripped/BSL-002_ses-02/img_157.png and NPY: /media/sarvagya-pc/2TB HDD/Balgrist/MPM_nonProcessed/axial_skullstripped/BSL-002_ses-02/img_157_normalized.npy\n",
      "Saved resized NPY: /media/sarvagya-pc/2TB HDD/Balgrist/MPM_nonProcessed/axial_skullstripped/BSL-002_ses-02/img_158_normalized.npy\n",
      "Saved PNG: /media/sarvagya-pc/2TB HDD/Balgrist/MPM_nonProcessed/axial_skullstripped/BSL-002_ses-02/img_158.png and NPY: /media/sarvagya-pc/2TB HDD/Balgrist/MPM_nonProcessed/axial_skullstripped/BSL-002_ses-02/img_158_normalized.npy\n",
      "Saved resized NPY: /media/sarvagya-pc/2TB HDD/Balgrist/MPM_nonProcessed/axial_skullstripped/BSL-002_ses-02/img_159_normalized.npy\n",
      "Saved PNG: /media/sarvagya-pc/2TB HDD/Balgrist/MPM_nonProcessed/axial_skullstripped/BSL-002_ses-02/img_159.png and NPY: /media/sarvagya-pc/2TB HDD/Balgrist/MPM_nonProcessed/axial_skullstripped/BSL-002_ses-02/img_159_normalized.npy\n",
      "Saved resized NPY: /media/sarvagya-pc/2TB HDD/Balgrist/MPM_nonProcessed/axial_skullstripped/BSL-002_ses-02/img_160_normalized.npy\n",
      "Saved PNG: /media/sarvagya-pc/2TB HDD/Balgrist/MPM_nonProcessed/axial_skullstripped/BSL-002_ses-02/img_160.png and NPY: /media/sarvagya-pc/2TB HDD/Balgrist/MPM_nonProcessed/axial_skullstripped/BSL-002_ses-02/img_160_normalized.npy\n",
      "Saved resized NPY: /media/sarvagya-pc/2TB HDD/Balgrist/MPM_nonProcessed/axial_skullstripped/BSL-002_ses-02/img_161_normalized.npy\n",
      "Saved PNG: /media/sarvagya-pc/2TB HDD/Balgrist/MPM_nonProcessed/axial_skullstripped/BSL-002_ses-02/img_161.png and NPY: /media/sarvagya-pc/2TB HDD/Balgrist/MPM_nonProcessed/axial_skullstripped/BSL-002_ses-02/img_161_normalized.npy\n",
      "Saved resized NPY: /media/sarvagya-pc/2TB HDD/Balgrist/MPM_nonProcessed/axial_skullstripped/BSL-002_ses-02/img_162_normalized.npy\n",
      "Saved PNG: /media/sarvagya-pc/2TB HDD/Balgrist/MPM_nonProcessed/axial_skullstripped/BSL-002_ses-02/img_162.png and NPY: /media/sarvagya-pc/2TB HDD/Balgrist/MPM_nonProcessed/axial_skullstripped/BSL-002_ses-02/img_162_normalized.npy\n",
      "Saved resized NPY: /media/sarvagya-pc/2TB HDD/Balgrist/MPM_nonProcessed/axial_skullstripped/BSL-002_ses-02/img_163_normalized.npy\n",
      "Saved PNG: /media/sarvagya-pc/2TB HDD/Balgrist/MPM_nonProcessed/axial_skullstripped/BSL-002_ses-02/img_163.png and NPY: /media/sarvagya-pc/2TB HDD/Balgrist/MPM_nonProcessed/axial_skullstripped/BSL-002_ses-02/img_163_normalized.npy\n",
      "Saved resized NPY: /media/sarvagya-pc/2TB HDD/Balgrist/MPM_nonProcessed/axial_skullstripped/BSL-002_ses-02/img_164_normalized.npy\n",
      "Saved PNG: /media/sarvagya-pc/2TB HDD/Balgrist/MPM_nonProcessed/axial_skullstripped/BSL-002_ses-02/img_164.png and NPY: /media/sarvagya-pc/2TB HDD/Balgrist/MPM_nonProcessed/axial_skullstripped/BSL-002_ses-02/img_164_normalized.npy\n",
      "Saved resized NPY: /media/sarvagya-pc/2TB HDD/Balgrist/MPM_nonProcessed/axial_skullstripped/BSL-002_ses-02/img_165_normalized.npy\n",
      "Saved PNG: /media/sarvagya-pc/2TB HDD/Balgrist/MPM_nonProcessed/axial_skullstripped/BSL-002_ses-02/img_165.png and NPY: /media/sarvagya-pc/2TB HDD/Balgrist/MPM_nonProcessed/axial_skullstripped/BSL-002_ses-02/img_165_normalized.npy\n",
      "Saved resized NPY: /media/sarvagya-pc/2TB HDD/Balgrist/MPM_nonProcessed/axial_skullstripped/BSL-002_ses-02/img_166_normalized.npy\n",
      "Saved PNG: /media/sarvagya-pc/2TB HDD/Balgrist/MPM_nonProcessed/axial_skullstripped/BSL-002_ses-02/img_166.png and NPY: /media/sarvagya-pc/2TB HDD/Balgrist/MPM_nonProcessed/axial_skullstripped/BSL-002_ses-02/img_166_normalized.npy\n",
      "Saved resized NPY: /media/sarvagya-pc/2TB HDD/Balgrist/MPM_nonProcessed/axial_skullstripped/BSL-002_ses-02/img_167_normalized.npy\n",
      "Saved PNG: /media/sarvagya-pc/2TB HDD/Balgrist/MPM_nonProcessed/axial_skullstripped/BSL-002_ses-02/img_167.png and NPY: /media/sarvagya-pc/2TB HDD/Balgrist/MPM_nonProcessed/axial_skullstripped/BSL-002_ses-02/img_167_normalized.npy\n",
      "Saved resized NPY: /media/sarvagya-pc/2TB HDD/Balgrist/MPM_nonProcessed/axial_skullstripped/BSL-002_ses-02/img_168_normalized.npy\n",
      "Saved PNG: /media/sarvagya-pc/2TB HDD/Balgrist/MPM_nonProcessed/axial_skullstripped/BSL-002_ses-02/img_168.png and NPY: /media/sarvagya-pc/2TB HDD/Balgrist/MPM_nonProcessed/axial_skullstripped/BSL-002_ses-02/img_168_normalized.npy\n",
      "Saved resized NPY: /media/sarvagya-pc/2TB HDD/Balgrist/MPM_nonProcessed/axial_skullstripped/BSL-002_ses-02/img_169_normalized.npy\n",
      "Saved PNG: /media/sarvagya-pc/2TB HDD/Balgrist/MPM_nonProcessed/axial_skullstripped/BSL-002_ses-02/img_169.png and NPY: /media/sarvagya-pc/2TB HDD/Balgrist/MPM_nonProcessed/axial_skullstripped/BSL-002_ses-02/img_169_normalized.npy\n",
      "Saved resized NPY: /media/sarvagya-pc/2TB HDD/Balgrist/MPM_nonProcessed/axial_skullstripped/BSL-002_ses-02/img_170_normalized.npy\n",
      "Saved PNG: /media/sarvagya-pc/2TB HDD/Balgrist/MPM_nonProcessed/axial_skullstripped/BSL-002_ses-02/img_170.png and NPY: /media/sarvagya-pc/2TB HDD/Balgrist/MPM_nonProcessed/axial_skullstripped/BSL-002_ses-02/img_170_normalized.npy\n",
      "Saved resized NPY: /media/sarvagya-pc/2TB HDD/Balgrist/MPM_nonProcessed/axial_skullstripped/BSL-002_ses-02/img_171_normalized.npy\n",
      "Saved PNG: /media/sarvagya-pc/2TB HDD/Balgrist/MPM_nonProcessed/axial_skullstripped/BSL-002_ses-02/img_171.png and NPY: /media/sarvagya-pc/2TB HDD/Balgrist/MPM_nonProcessed/axial_skullstripped/BSL-002_ses-02/img_171_normalized.npy\n",
      "Saved resized NPY: /media/sarvagya-pc/2TB HDD/Balgrist/MPM_nonProcessed/axial_skullstripped/BSL-002_ses-02/img_172_normalized.npy\n",
      "Saved PNG: /media/sarvagya-pc/2TB HDD/Balgrist/MPM_nonProcessed/axial_skullstripped/BSL-002_ses-02/img_172.png and NPY: /media/sarvagya-pc/2TB HDD/Balgrist/MPM_nonProcessed/axial_skullstripped/BSL-002_ses-02/img_172_normalized.npy\n",
      "Saved resized NPY: /media/sarvagya-pc/2TB HDD/Balgrist/MPM_nonProcessed/axial_skullstripped/BSL-002_ses-02/img_173_normalized.npy\n",
      "Saved PNG: /media/sarvagya-pc/2TB HDD/Balgrist/MPM_nonProcessed/axial_skullstripped/BSL-002_ses-02/img_173.png and NPY: /media/sarvagya-pc/2TB HDD/Balgrist/MPM_nonProcessed/axial_skullstripped/BSL-002_ses-02/img_173_normalized.npy\n",
      "Saved resized NPY: /media/sarvagya-pc/2TB HDD/Balgrist/MPM_nonProcessed/axial_skullstripped/BSL-002_ses-02/img_174_normalized.npy\n",
      "Saved PNG: /media/sarvagya-pc/2TB HDD/Balgrist/MPM_nonProcessed/axial_skullstripped/BSL-002_ses-02/img_174.png and NPY: /media/sarvagya-pc/2TB HDD/Balgrist/MPM_nonProcessed/axial_skullstripped/BSL-002_ses-02/img_174_normalized.npy\n",
      "Saved resized NPY: /media/sarvagya-pc/2TB HDD/Balgrist/MPM_nonProcessed/axial_skullstripped/BSL-002_ses-02/img_175_normalized.npy\n",
      "Saved PNG: /media/sarvagya-pc/2TB HDD/Balgrist/MPM_nonProcessed/axial_skullstripped/BSL-002_ses-02/img_175.png and NPY: /media/sarvagya-pc/2TB HDD/Balgrist/MPM_nonProcessed/axial_skullstripped/BSL-002_ses-02/img_175_normalized.npy\n",
      "Saved resized NPY: /media/sarvagya-pc/2TB HDD/Balgrist/MPM_nonProcessed/axial_skullstripped/BSL-002_ses-02/img_176_normalized.npy\n",
      "Saved PNG: /media/sarvagya-pc/2TB HDD/Balgrist/MPM_nonProcessed/axial_skullstripped/BSL-002_ses-02/img_176.png and NPY: /media/sarvagya-pc/2TB HDD/Balgrist/MPM_nonProcessed/axial_skullstripped/BSL-002_ses-02/img_176_normalized.npy\n",
      "Saved resized NPY: /media/sarvagya-pc/2TB HDD/Balgrist/MPM_nonProcessed/axial_skullstripped/BSL-002_ses-02/img_177_normalized.npy\n",
      "Saved PNG: /media/sarvagya-pc/2TB HDD/Balgrist/MPM_nonProcessed/axial_skullstripped/BSL-002_ses-02/img_177.png and NPY: /media/sarvagya-pc/2TB HDD/Balgrist/MPM_nonProcessed/axial_skullstripped/BSL-002_ses-02/img_177_normalized.npy\n",
      "Saved resized NPY: /media/sarvagya-pc/2TB HDD/Balgrist/MPM_nonProcessed/axial_skullstripped/BSL-002_ses-02/img_178_normalized.npy\n",
      "Saved PNG: /media/sarvagya-pc/2TB HDD/Balgrist/MPM_nonProcessed/axial_skullstripped/BSL-002_ses-02/img_178.png and NPY: /media/sarvagya-pc/2TB HDD/Balgrist/MPM_nonProcessed/axial_skullstripped/BSL-002_ses-02/img_178_normalized.npy\n",
      "Saved resized NPY: /media/sarvagya-pc/2TB HDD/Balgrist/MPM_nonProcessed/axial_skullstripped/BSL-002_ses-02/img_179_normalized.npy\n",
      "Saved PNG: /media/sarvagya-pc/2TB HDD/Balgrist/MPM_nonProcessed/axial_skullstripped/BSL-002_ses-02/img_179.png and NPY: /media/sarvagya-pc/2TB HDD/Balgrist/MPM_nonProcessed/axial_skullstripped/BSL-002_ses-02/img_179_normalized.npy\n",
      "Saved resized NPY: /media/sarvagya-pc/2TB HDD/Balgrist/MPM_nonProcessed/axial_skullstripped/BSL-002_ses-02/img_180_normalized.npy\n",
      "Saved PNG: /media/sarvagya-pc/2TB HDD/Balgrist/MPM_nonProcessed/axial_skullstripped/BSL-002_ses-02/img_180.png and NPY: /media/sarvagya-pc/2TB HDD/Balgrist/MPM_nonProcessed/axial_skullstripped/BSL-002_ses-02/img_180_normalized.npy\n",
      "Saved resized NPY: /media/sarvagya-pc/2TB HDD/Balgrist/MPM_nonProcessed/axial_skullstripped/BSL-002_ses-02/img_181_normalized.npy\n",
      "Saved PNG: /media/sarvagya-pc/2TB HDD/Balgrist/MPM_nonProcessed/axial_skullstripped/BSL-002_ses-02/img_181.png and NPY: /media/sarvagya-pc/2TB HDD/Balgrist/MPM_nonProcessed/axial_skullstripped/BSL-002_ses-02/img_181_normalized.npy\n",
      "Saved resized NPY: /media/sarvagya-pc/2TB HDD/Balgrist/MPM_nonProcessed/axial_skullstripped/BSL-002_ses-02/img_182_normalized.npy\n",
      "Saved PNG: /media/sarvagya-pc/2TB HDD/Balgrist/MPM_nonProcessed/axial_skullstripped/BSL-002_ses-02/img_182.png and NPY: /media/sarvagya-pc/2TB HDD/Balgrist/MPM_nonProcessed/axial_skullstripped/BSL-002_ses-02/img_182_normalized.npy\n",
      "Saved resized NPY: /media/sarvagya-pc/2TB HDD/Balgrist/MPM_nonProcessed/axial_skullstripped/BSL-002_ses-02/img_183_normalized.npy\n",
      "Saved PNG: /media/sarvagya-pc/2TB HDD/Balgrist/MPM_nonProcessed/axial_skullstripped/BSL-002_ses-02/img_183.png and NPY: /media/sarvagya-pc/2TB HDD/Balgrist/MPM_nonProcessed/axial_skullstripped/BSL-002_ses-02/img_183_normalized.npy\n",
      "Saved resized NPY: /media/sarvagya-pc/2TB HDD/Balgrist/MPM_nonProcessed/axial_skullstripped/BSL-002_ses-02/img_184_normalized.npy\n",
      "Saved PNG: /media/sarvagya-pc/2TB HDD/Balgrist/MPM_nonProcessed/axial_skullstripped/BSL-002_ses-02/img_184.png and NPY: /media/sarvagya-pc/2TB HDD/Balgrist/MPM_nonProcessed/axial_skullstripped/BSL-002_ses-02/img_184_normalized.npy\n",
      "Saved resized NPY: /media/sarvagya-pc/2TB HDD/Balgrist/MPM_nonProcessed/axial_skullstripped/BSL-002_ses-02/img_185_normalized.npy\n",
      "Saved PNG: /media/sarvagya-pc/2TB HDD/Balgrist/MPM_nonProcessed/axial_skullstripped/BSL-002_ses-02/img_185.png and NPY: /media/sarvagya-pc/2TB HDD/Balgrist/MPM_nonProcessed/axial_skullstripped/BSL-002_ses-02/img_185_normalized.npy\n",
      "Saved resized NPY: /media/sarvagya-pc/2TB HDD/Balgrist/MPM_nonProcessed/axial_skullstripped/BSL-002_ses-02/img_186_normalized.npy\n",
      "Saved PNG: /media/sarvagya-pc/2TB HDD/Balgrist/MPM_nonProcessed/axial_skullstripped/BSL-002_ses-02/img_186.png and NPY: /media/sarvagya-pc/2TB HDD/Balgrist/MPM_nonProcessed/axial_skullstripped/BSL-002_ses-02/img_186_normalized.npy\n",
      "Saved resized NPY: /media/sarvagya-pc/2TB HDD/Balgrist/MPM_nonProcessed/axial_skullstripped/BSL-002_ses-02/img_187_normalized.npy\n",
      "Saved PNG: /media/sarvagya-pc/2TB HDD/Balgrist/MPM_nonProcessed/axial_skullstripped/BSL-002_ses-02/img_187.png and NPY: /media/sarvagya-pc/2TB HDD/Balgrist/MPM_nonProcessed/axial_skullstripped/BSL-002_ses-02/img_187_normalized.npy\n",
      "Saved resized NPY: /media/sarvagya-pc/2TB HDD/Balgrist/MPM_nonProcessed/axial_skullstripped/BSL-002_ses-02/img_188_normalized.npy\n",
      "Saved PNG: /media/sarvagya-pc/2TB HDD/Balgrist/MPM_nonProcessed/axial_skullstripped/BSL-002_ses-02/img_188.png and NPY: /media/sarvagya-pc/2TB HDD/Balgrist/MPM_nonProcessed/axial_skullstripped/BSL-002_ses-02/img_188_normalized.npy\n",
      "Saved resized NPY: /media/sarvagya-pc/2TB HDD/Balgrist/MPM_nonProcessed/axial_skullstripped/BSL-002_ses-02/img_189_normalized.npy\n",
      "Saved PNG: /media/sarvagya-pc/2TB HDD/Balgrist/MPM_nonProcessed/axial_skullstripped/BSL-002_ses-02/img_189.png and NPY: /media/sarvagya-pc/2TB HDD/Balgrist/MPM_nonProcessed/axial_skullstripped/BSL-002_ses-02/img_189_normalized.npy\n",
      "Saved resized NPY: /media/sarvagya-pc/2TB HDD/Balgrist/MPM_nonProcessed/axial_skullstripped/BSL-002_ses-02/img_190_normalized.npy\n",
      "Saved PNG: /media/sarvagya-pc/2TB HDD/Balgrist/MPM_nonProcessed/axial_skullstripped/BSL-002_ses-02/img_190.png and NPY: /media/sarvagya-pc/2TB HDD/Balgrist/MPM_nonProcessed/axial_skullstripped/BSL-002_ses-02/img_190_normalized.npy\n",
      "Saved resized NPY: /media/sarvagya-pc/2TB HDD/Balgrist/MPM_nonProcessed/axial_skullstripped/BSL-002_ses-02/img_191_normalized.npy\n",
      "Saved PNG: /media/sarvagya-pc/2TB HDD/Balgrist/MPM_nonProcessed/axial_skullstripped/BSL-002_ses-02/img_191.png and NPY: /media/sarvagya-pc/2TB HDD/Balgrist/MPM_nonProcessed/axial_skullstripped/BSL-002_ses-02/img_191_normalized.npy\n",
      "Saved resized NPY: /media/sarvagya-pc/2TB HDD/Balgrist/MPM_nonProcessed/axial_skullstripped/BSL-002_ses-02/img_192_normalized.npy\n",
      "Saved PNG: /media/sarvagya-pc/2TB HDD/Balgrist/MPM_nonProcessed/axial_skullstripped/BSL-002_ses-02/img_192.png and NPY: /media/sarvagya-pc/2TB HDD/Balgrist/MPM_nonProcessed/axial_skullstripped/BSL-002_ses-02/img_192_normalized.npy\n",
      "Saved resized NPY: /media/sarvagya-pc/2TB HDD/Balgrist/MPM_nonProcessed/axial_skullstripped/BSL-002_ses-02/img_193_normalized.npy\n",
      "Saved PNG: /media/sarvagya-pc/2TB HDD/Balgrist/MPM_nonProcessed/axial_skullstripped/BSL-002_ses-02/img_193.png and NPY: /media/sarvagya-pc/2TB HDD/Balgrist/MPM_nonProcessed/axial_skullstripped/BSL-002_ses-02/img_193_normalized.npy\n",
      "Saved resized NPY: /media/sarvagya-pc/2TB HDD/Balgrist/MPM_nonProcessed/axial_skullstripped/BSL-002_ses-02/img_194_normalized.npy\n",
      "Saved PNG: /media/sarvagya-pc/2TB HDD/Balgrist/MPM_nonProcessed/axial_skullstripped/BSL-002_ses-02/img_194.png and NPY: /media/sarvagya-pc/2TB HDD/Balgrist/MPM_nonProcessed/axial_skullstripped/BSL-002_ses-02/img_194_normalized.npy\n",
      "Saved resized NPY: /media/sarvagya-pc/2TB HDD/Balgrist/MPM_nonProcessed/axial_skullstripped/BSL-002_ses-02/img_195_normalized.npy\n",
      "Saved PNG: /media/sarvagya-pc/2TB HDD/Balgrist/MPM_nonProcessed/axial_skullstripped/BSL-002_ses-02/img_195.png and NPY: /media/sarvagya-pc/2TB HDD/Balgrist/MPM_nonProcessed/axial_skullstripped/BSL-002_ses-02/img_195_normalized.npy\n",
      "Saved resized NPY: /media/sarvagya-pc/2TB HDD/Balgrist/MPM_nonProcessed/axial_skullstripped/BSL-002_ses-02/img_196_normalized.npy\n",
      "Saved PNG: /media/sarvagya-pc/2TB HDD/Balgrist/MPM_nonProcessed/axial_skullstripped/BSL-002_ses-02/img_196.png and NPY: /media/sarvagya-pc/2TB HDD/Balgrist/MPM_nonProcessed/axial_skullstripped/BSL-002_ses-02/img_196_normalized.npy\n",
      "Saved resized NPY: /media/sarvagya-pc/2TB HDD/Balgrist/MPM_nonProcessed/axial_skullstripped/BSL-002_ses-02/img_197_normalized.npy\n",
      "Saved PNG: /media/sarvagya-pc/2TB HDD/Balgrist/MPM_nonProcessed/axial_skullstripped/BSL-002_ses-02/img_197.png and NPY: /media/sarvagya-pc/2TB HDD/Balgrist/MPM_nonProcessed/axial_skullstripped/BSL-002_ses-02/img_197_normalized.npy\n",
      "Saved resized NPY: /media/sarvagya-pc/2TB HDD/Balgrist/MPM_nonProcessed/axial_skullstripped/BSL-002_ses-02/img_198_normalized.npy\n",
      "Saved PNG: /media/sarvagya-pc/2TB HDD/Balgrist/MPM_nonProcessed/axial_skullstripped/BSL-002_ses-02/img_198.png and NPY: /media/sarvagya-pc/2TB HDD/Balgrist/MPM_nonProcessed/axial_skullstripped/BSL-002_ses-02/img_198_normalized.npy\n",
      "Saved resized NPY: /media/sarvagya-pc/2TB HDD/Balgrist/MPM_nonProcessed/axial_skullstripped/BSL-002_ses-02/img_199_normalized.npy\n",
      "Saved PNG: /media/sarvagya-pc/2TB HDD/Balgrist/MPM_nonProcessed/axial_skullstripped/BSL-002_ses-02/img_199.png and NPY: /media/sarvagya-pc/2TB HDD/Balgrist/MPM_nonProcessed/axial_skullstripped/BSL-002_ses-02/img_199_normalized.npy\n",
      "Saved resized NPY: /media/sarvagya-pc/2TB HDD/Balgrist/MPM_nonProcessed/axial_skullstripped/BSL-002_ses-02/img_200_normalized.npy\n",
      "Saved PNG: /media/sarvagya-pc/2TB HDD/Balgrist/MPM_nonProcessed/axial_skullstripped/BSL-002_ses-02/img_200.png and NPY: /media/sarvagya-pc/2TB HDD/Balgrist/MPM_nonProcessed/axial_skullstripped/BSL-002_ses-02/img_200_normalized.npy\n",
      "Saved resized NPY: /media/sarvagya-pc/2TB HDD/Balgrist/MPM_nonProcessed/axial_skullstripped/BSL-002_ses-02/img_201_normalized.npy\n",
      "Saved PNG: /media/sarvagya-pc/2TB HDD/Balgrist/MPM_nonProcessed/axial_skullstripped/BSL-002_ses-02/img_201.png and NPY: /media/sarvagya-pc/2TB HDD/Balgrist/MPM_nonProcessed/axial_skullstripped/BSL-002_ses-02/img_201_normalized.npy\n",
      "Saved resized NPY: /media/sarvagya-pc/2TB HDD/Balgrist/MPM_nonProcessed/axial_skullstripped/BSL-002_ses-02/img_202_normalized.npy\n",
      "Saved PNG: /media/sarvagya-pc/2TB HDD/Balgrist/MPM_nonProcessed/axial_skullstripped/BSL-002_ses-02/img_202.png and NPY: /media/sarvagya-pc/2TB HDD/Balgrist/MPM_nonProcessed/axial_skullstripped/BSL-002_ses-02/img_202_normalized.npy\n",
      "Saved resized NPY: /media/sarvagya-pc/2TB HDD/Balgrist/MPM_nonProcessed/axial_skullstripped/BSL-002_ses-02/img_203_normalized.npy\n",
      "Saved PNG: /media/sarvagya-pc/2TB HDD/Balgrist/MPM_nonProcessed/axial_skullstripped/BSL-002_ses-02/img_203.png and NPY: /media/sarvagya-pc/2TB HDD/Balgrist/MPM_nonProcessed/axial_skullstripped/BSL-002_ses-02/img_203_normalized.npy\n",
      "Saved resized NPY: /media/sarvagya-pc/2TB HDD/Balgrist/MPM_nonProcessed/axial_skullstripped/BSL-002_ses-02/img_204_normalized.npy\n",
      "Saved PNG: /media/sarvagya-pc/2TB HDD/Balgrist/MPM_nonProcessed/axial_skullstripped/BSL-002_ses-02/img_204.png and NPY: /media/sarvagya-pc/2TB HDD/Balgrist/MPM_nonProcessed/axial_skullstripped/BSL-002_ses-02/img_204_normalized.npy\n",
      "Saved resized NPY: /media/sarvagya-pc/2TB HDD/Balgrist/MPM_nonProcessed/axial_skullstripped/BSL-002_ses-02/img_205_normalized.npy\n",
      "Saved PNG: /media/sarvagya-pc/2TB HDD/Balgrist/MPM_nonProcessed/axial_skullstripped/BSL-002_ses-02/img_205.png and NPY: /media/sarvagya-pc/2TB HDD/Balgrist/MPM_nonProcessed/axial_skullstripped/BSL-002_ses-02/img_205_normalized.npy\n",
      "Saved resized NPY: /media/sarvagya-pc/2TB HDD/Balgrist/MPM_nonProcessed/axial_skullstripped/BSL-002_ses-02/img_206_normalized.npy\n",
      "Saved PNG: /media/sarvagya-pc/2TB HDD/Balgrist/MPM_nonProcessed/axial_skullstripped/BSL-002_ses-02/img_206.png and NPY: /media/sarvagya-pc/2TB HDD/Balgrist/MPM_nonProcessed/axial_skullstripped/BSL-002_ses-02/img_206_normalized.npy\n",
      "Saved resized NPY: /media/sarvagya-pc/2TB HDD/Balgrist/MPM_nonProcessed/axial_skullstripped/BSL-002_ses-02/img_207_normalized.npy\n",
      "Saved PNG: /media/sarvagya-pc/2TB HDD/Balgrist/MPM_nonProcessed/axial_skullstripped/BSL-002_ses-02/img_207.png and NPY: /media/sarvagya-pc/2TB HDD/Balgrist/MPM_nonProcessed/axial_skullstripped/BSL-002_ses-02/img_207_normalized.npy\n",
      "Saved resized NPY: /media/sarvagya-pc/2TB HDD/Balgrist/MPM_nonProcessed/axial_skullstripped/BSL-002_ses-02/img_208_normalized.npy\n",
      "Saved PNG: /media/sarvagya-pc/2TB HDD/Balgrist/MPM_nonProcessed/axial_skullstripped/BSL-002_ses-02/img_208.png and NPY: /media/sarvagya-pc/2TB HDD/Balgrist/MPM_nonProcessed/axial_skullstripped/BSL-002_ses-02/img_208_normalized.npy\n",
      "Saved resized NPY: /media/sarvagya-pc/2TB HDD/Balgrist/MPM_nonProcessed/axial_skullstripped/BSL-002_ses-02/img_209_normalized.npy\n",
      "Saved PNG: /media/sarvagya-pc/2TB HDD/Balgrist/MPM_nonProcessed/axial_skullstripped/BSL-002_ses-02/img_209.png and NPY: /media/sarvagya-pc/2TB HDD/Balgrist/MPM_nonProcessed/axial_skullstripped/BSL-002_ses-02/img_209_normalized.npy\n",
      "Saved resized NPY: /media/sarvagya-pc/2TB HDD/Balgrist/MPM_nonProcessed/axial_skullstripped/BSL-002_ses-02/img_210_normalized.npy\n",
      "Saved PNG: /media/sarvagya-pc/2TB HDD/Balgrist/MPM_nonProcessed/axial_skullstripped/BSL-002_ses-02/img_210.png and NPY: /media/sarvagya-pc/2TB HDD/Balgrist/MPM_nonProcessed/axial_skullstripped/BSL-002_ses-02/img_210_normalized.npy\n",
      "Saved resized NPY: /media/sarvagya-pc/2TB HDD/Balgrist/MPM_nonProcessed/axial_skullstripped/BSL-002_ses-02/img_211_normalized.npy\n",
      "Saved PNG: /media/sarvagya-pc/2TB HDD/Balgrist/MPM_nonProcessed/axial_skullstripped/BSL-002_ses-02/img_211.png and NPY: /media/sarvagya-pc/2TB HDD/Balgrist/MPM_nonProcessed/axial_skullstripped/BSL-002_ses-02/img_211_normalized.npy\n",
      "Saved resized NPY: /media/sarvagya-pc/2TB HDD/Balgrist/MPM_nonProcessed/axial_skullstripped/BSL-002_ses-02/img_212_normalized.npy\n",
      "Saved PNG: /media/sarvagya-pc/2TB HDD/Balgrist/MPM_nonProcessed/axial_skullstripped/BSL-002_ses-02/img_212.png and NPY: /media/sarvagya-pc/2TB HDD/Balgrist/MPM_nonProcessed/axial_skullstripped/BSL-002_ses-02/img_212_normalized.npy\n",
      "Saved resized NPY: /media/sarvagya-pc/2TB HDD/Balgrist/MPM_nonProcessed/axial_skullstripped/BSL-002_ses-02/img_213_normalized.npy\n",
      "Saved PNG: /media/sarvagya-pc/2TB HDD/Balgrist/MPM_nonProcessed/axial_skullstripped/BSL-002_ses-02/img_213.png and NPY: /media/sarvagya-pc/2TB HDD/Balgrist/MPM_nonProcessed/axial_skullstripped/BSL-002_ses-02/img_213_normalized.npy\n",
      "Saved resized NPY: /media/sarvagya-pc/2TB HDD/Balgrist/MPM_nonProcessed/axial_skullstripped/BSL-002_ses-02/img_214_normalized.npy\n",
      "Saved PNG: /media/sarvagya-pc/2TB HDD/Balgrist/MPM_nonProcessed/axial_skullstripped/BSL-002_ses-02/img_214.png and NPY: /media/sarvagya-pc/2TB HDD/Balgrist/MPM_nonProcessed/axial_skullstripped/BSL-002_ses-02/img_214_normalized.npy\n",
      "Saved resized NPY: /media/sarvagya-pc/2TB HDD/Balgrist/MPM_nonProcessed/axial_skullstripped/BSL-002_ses-02/img_215_normalized.npy\n",
      "Saved PNG: /media/sarvagya-pc/2TB HDD/Balgrist/MPM_nonProcessed/axial_skullstripped/BSL-002_ses-02/img_215.png and NPY: /media/sarvagya-pc/2TB HDD/Balgrist/MPM_nonProcessed/axial_skullstripped/BSL-002_ses-02/img_215_normalized.npy\n",
      "Saved resized NPY: /media/sarvagya-pc/2TB HDD/Balgrist/MPM_nonProcessed/axial_skullstripped/BSL-002_ses-02/img_216_normalized.npy\n",
      "Saved PNG: /media/sarvagya-pc/2TB HDD/Balgrist/MPM_nonProcessed/axial_skullstripped/BSL-002_ses-02/img_216.png and NPY: /media/sarvagya-pc/2TB HDD/Balgrist/MPM_nonProcessed/axial_skullstripped/BSL-002_ses-02/img_216_normalized.npy\n",
      "Saved resized NPY: /media/sarvagya-pc/2TB HDD/Balgrist/MPM_nonProcessed/axial_skullstripped/BSL-002_ses-02/img_217_normalized.npy\n",
      "Saved PNG: /media/sarvagya-pc/2TB HDD/Balgrist/MPM_nonProcessed/axial_skullstripped/BSL-002_ses-02/img_217.png and NPY: /media/sarvagya-pc/2TB HDD/Balgrist/MPM_nonProcessed/axial_skullstripped/BSL-002_ses-02/img_217_normalized.npy\n",
      "Saved resized NPY: /media/sarvagya-pc/2TB HDD/Balgrist/MPM_nonProcessed/axial_skullstripped/BSL-002_ses-02/img_218_normalized.npy\n",
      "Saved PNG: /media/sarvagya-pc/2TB HDD/Balgrist/MPM_nonProcessed/axial_skullstripped/BSL-002_ses-02/img_218.png and NPY: /media/sarvagya-pc/2TB HDD/Balgrist/MPM_nonProcessed/axial_skullstripped/BSL-002_ses-02/img_218_normalized.npy\n",
      "Saved resized NPY: /media/sarvagya-pc/2TB HDD/Balgrist/MPM_nonProcessed/axial_skullstripped/BSL-002_ses-02/img_219_normalized.npy\n",
      "Saved PNG: /media/sarvagya-pc/2TB HDD/Balgrist/MPM_nonProcessed/axial_skullstripped/BSL-002_ses-02/img_219.png and NPY: /media/sarvagya-pc/2TB HDD/Balgrist/MPM_nonProcessed/axial_skullstripped/BSL-002_ses-02/img_219_normalized.npy\n",
      "(224, 256, 176)\n",
      "ZRH-004_ses-03\n",
      "Saved resized NPY: /media/sarvagya-pc/2TB HDD/Balgrist/MPM_nonProcessed/axial_skullstripped/ZRH-004_ses-03/img_133_normalized.npy\n",
      "Saved PNG: /media/sarvagya-pc/2TB HDD/Balgrist/MPM_nonProcessed/axial_skullstripped/ZRH-004_ses-03/img_133.png and NPY: /media/sarvagya-pc/2TB HDD/Balgrist/MPM_nonProcessed/axial_skullstripped/ZRH-004_ses-03/img_133_normalized.npy\n",
      "Saved resized NPY: /media/sarvagya-pc/2TB HDD/Balgrist/MPM_nonProcessed/axial_skullstripped/ZRH-004_ses-03/img_134_normalized.npy\n",
      "Saved PNG: /media/sarvagya-pc/2TB HDD/Balgrist/MPM_nonProcessed/axial_skullstripped/ZRH-004_ses-03/img_134.png and NPY: /media/sarvagya-pc/2TB HDD/Balgrist/MPM_nonProcessed/axial_skullstripped/ZRH-004_ses-03/img_134_normalized.npy\n",
      "Saved resized NPY: /media/sarvagya-pc/2TB HDD/Balgrist/MPM_nonProcessed/axial_skullstripped/ZRH-004_ses-03/img_135_normalized.npy\n",
      "Saved PNG: /media/sarvagya-pc/2TB HDD/Balgrist/MPM_nonProcessed/axial_skullstripped/ZRH-004_ses-03/img_135.png and NPY: /media/sarvagya-pc/2TB HDD/Balgrist/MPM_nonProcessed/axial_skullstripped/ZRH-004_ses-03/img_135_normalized.npy\n",
      "Saved resized NPY: /media/sarvagya-pc/2TB HDD/Balgrist/MPM_nonProcessed/axial_skullstripped/ZRH-004_ses-03/img_136_normalized.npy\n",
      "Saved PNG: /media/sarvagya-pc/2TB HDD/Balgrist/MPM_nonProcessed/axial_skullstripped/ZRH-004_ses-03/img_136.png and NPY: /media/sarvagya-pc/2TB HDD/Balgrist/MPM_nonProcessed/axial_skullstripped/ZRH-004_ses-03/img_136_normalized.npy\n",
      "Saved resized NPY: /media/sarvagya-pc/2TB HDD/Balgrist/MPM_nonProcessed/axial_skullstripped/ZRH-004_ses-03/img_137_normalized.npy\n",
      "Saved PNG: /media/sarvagya-pc/2TB HDD/Balgrist/MPM_nonProcessed/axial_skullstripped/ZRH-004_ses-03/img_137.png and NPY: /media/sarvagya-pc/2TB HDD/Balgrist/MPM_nonProcessed/axial_skullstripped/ZRH-004_ses-03/img_137_normalized.npy\n",
      "Saved resized NPY: /media/sarvagya-pc/2TB HDD/Balgrist/MPM_nonProcessed/axial_skullstripped/ZRH-004_ses-03/img_138_normalized.npy\n",
      "Saved PNG: /media/sarvagya-pc/2TB HDD/Balgrist/MPM_nonProcessed/axial_skullstripped/ZRH-004_ses-03/img_138.png and NPY: /media/sarvagya-pc/2TB HDD/Balgrist/MPM_nonProcessed/axial_skullstripped/ZRH-004_ses-03/img_138_normalized.npy\n",
      "Saved resized NPY: /media/sarvagya-pc/2TB HDD/Balgrist/MPM_nonProcessed/axial_skullstripped/ZRH-004_ses-03/img_139_normalized.npy\n",
      "Saved PNG: /media/sarvagya-pc/2TB HDD/Balgrist/MPM_nonProcessed/axial_skullstripped/ZRH-004_ses-03/img_139.png and NPY: /media/sarvagya-pc/2TB HDD/Balgrist/MPM_nonProcessed/axial_skullstripped/ZRH-004_ses-03/img_139_normalized.npy\n",
      "Saved resized NPY: /media/sarvagya-pc/2TB HDD/Balgrist/MPM_nonProcessed/axial_skullstripped/ZRH-004_ses-03/img_140_normalized.npy\n",
      "Saved PNG: /media/sarvagya-pc/2TB HDD/Balgrist/MPM_nonProcessed/axial_skullstripped/ZRH-004_ses-03/img_140.png and NPY: /media/sarvagya-pc/2TB HDD/Balgrist/MPM_nonProcessed/axial_skullstripped/ZRH-004_ses-03/img_140_normalized.npy\n",
      "Saved resized NPY: /media/sarvagya-pc/2TB HDD/Balgrist/MPM_nonProcessed/axial_skullstripped/ZRH-004_ses-03/img_141_normalized.npy\n",
      "Saved PNG: /media/sarvagya-pc/2TB HDD/Balgrist/MPM_nonProcessed/axial_skullstripped/ZRH-004_ses-03/img_141.png and NPY: /media/sarvagya-pc/2TB HDD/Balgrist/MPM_nonProcessed/axial_skullstripped/ZRH-004_ses-03/img_141_normalized.npy\n",
      "Saved resized NPY: /media/sarvagya-pc/2TB HDD/Balgrist/MPM_nonProcessed/axial_skullstripped/ZRH-004_ses-03/img_142_normalized.npy\n",
      "Saved PNG: /media/sarvagya-pc/2TB HDD/Balgrist/MPM_nonProcessed/axial_skullstripped/ZRH-004_ses-03/img_142.png and NPY: /media/sarvagya-pc/2TB HDD/Balgrist/MPM_nonProcessed/axial_skullstripped/ZRH-004_ses-03/img_142_normalized.npy\n",
      "Saved resized NPY: /media/sarvagya-pc/2TB HDD/Balgrist/MPM_nonProcessed/axial_skullstripped/ZRH-004_ses-03/img_143_normalized.npy\n",
      "Saved PNG: /media/sarvagya-pc/2TB HDD/Balgrist/MPM_nonProcessed/axial_skullstripped/ZRH-004_ses-03/img_143.png and NPY: /media/sarvagya-pc/2TB HDD/Balgrist/MPM_nonProcessed/axial_skullstripped/ZRH-004_ses-03/img_143_normalized.npy\n",
      "Saved resized NPY: /media/sarvagya-pc/2TB HDD/Balgrist/MPM_nonProcessed/axial_skullstripped/ZRH-004_ses-03/img_144_normalized.npy\n",
      "Saved PNG: /media/sarvagya-pc/2TB HDD/Balgrist/MPM_nonProcessed/axial_skullstripped/ZRH-004_ses-03/img_144.png and NPY: /media/sarvagya-pc/2TB HDD/Balgrist/MPM_nonProcessed/axial_skullstripped/ZRH-004_ses-03/img_144_normalized.npy\n",
      "Saved resized NPY: /media/sarvagya-pc/2TB HDD/Balgrist/MPM_nonProcessed/axial_skullstripped/ZRH-004_ses-03/img_145_normalized.npy\n",
      "Saved PNG: /media/sarvagya-pc/2TB HDD/Balgrist/MPM_nonProcessed/axial_skullstripped/ZRH-004_ses-03/img_145.png and NPY: /media/sarvagya-pc/2TB HDD/Balgrist/MPM_nonProcessed/axial_skullstripped/ZRH-004_ses-03/img_145_normalized.npy\n",
      "Saved resized NPY: /media/sarvagya-pc/2TB HDD/Balgrist/MPM_nonProcessed/axial_skullstripped/ZRH-004_ses-03/img_146_normalized.npy\n",
      "Saved PNG: /media/sarvagya-pc/2TB HDD/Balgrist/MPM_nonProcessed/axial_skullstripped/ZRH-004_ses-03/img_146.png and NPY: /media/sarvagya-pc/2TB HDD/Balgrist/MPM_nonProcessed/axial_skullstripped/ZRH-004_ses-03/img_146_normalized.npy\n",
      "Saved resized NPY: /media/sarvagya-pc/2TB HDD/Balgrist/MPM_nonProcessed/axial_skullstripped/ZRH-004_ses-03/img_147_normalized.npy\n",
      "Saved PNG: /media/sarvagya-pc/2TB HDD/Balgrist/MPM_nonProcessed/axial_skullstripped/ZRH-004_ses-03/img_147.png and NPY: /media/sarvagya-pc/2TB HDD/Balgrist/MPM_nonProcessed/axial_skullstripped/ZRH-004_ses-03/img_147_normalized.npy\n",
      "Saved resized NPY: /media/sarvagya-pc/2TB HDD/Balgrist/MPM_nonProcessed/axial_skullstripped/ZRH-004_ses-03/img_148_normalized.npy\n",
      "Saved PNG: /media/sarvagya-pc/2TB HDD/Balgrist/MPM_nonProcessed/axial_skullstripped/ZRH-004_ses-03/img_148.png and NPY: /media/sarvagya-pc/2TB HDD/Balgrist/MPM_nonProcessed/axial_skullstripped/ZRH-004_ses-03/img_148_normalized.npy\n",
      "Saved resized NPY: /media/sarvagya-pc/2TB HDD/Balgrist/MPM_nonProcessed/axial_skullstripped/ZRH-004_ses-03/img_149_normalized.npy\n",
      "Saved PNG: /media/sarvagya-pc/2TB HDD/Balgrist/MPM_nonProcessed/axial_skullstripped/ZRH-004_ses-03/img_149.png and NPY: /media/sarvagya-pc/2TB HDD/Balgrist/MPM_nonProcessed/axial_skullstripped/ZRH-004_ses-03/img_149_normalized.npy\n",
      "Saved resized NPY: /media/sarvagya-pc/2TB HDD/Balgrist/MPM_nonProcessed/axial_skullstripped/ZRH-004_ses-03/img_150_normalized.npy\n",
      "Saved PNG: /media/sarvagya-pc/2TB HDD/Balgrist/MPM_nonProcessed/axial_skullstripped/ZRH-004_ses-03/img_150.png and NPY: /media/sarvagya-pc/2TB HDD/Balgrist/MPM_nonProcessed/axial_skullstripped/ZRH-004_ses-03/img_150_normalized.npy\n",
      "Saved resized NPY: /media/sarvagya-pc/2TB HDD/Balgrist/MPM_nonProcessed/axial_skullstripped/ZRH-004_ses-03/img_151_normalized.npy\n",
      "Saved PNG: /media/sarvagya-pc/2TB HDD/Balgrist/MPM_nonProcessed/axial_skullstripped/ZRH-004_ses-03/img_151.png and NPY: /media/sarvagya-pc/2TB HDD/Balgrist/MPM_nonProcessed/axial_skullstripped/ZRH-004_ses-03/img_151_normalized.npy\n",
      "Saved resized NPY: /media/sarvagya-pc/2TB HDD/Balgrist/MPM_nonProcessed/axial_skullstripped/ZRH-004_ses-03/img_152_normalized.npy\n",
      "Saved PNG: /media/sarvagya-pc/2TB HDD/Balgrist/MPM_nonProcessed/axial_skullstripped/ZRH-004_ses-03/img_152.png and NPY: /media/sarvagya-pc/2TB HDD/Balgrist/MPM_nonProcessed/axial_skullstripped/ZRH-004_ses-03/img_152_normalized.npy\n",
      "Saved resized NPY: /media/sarvagya-pc/2TB HDD/Balgrist/MPM_nonProcessed/axial_skullstripped/ZRH-004_ses-03/img_153_normalized.npy\n",
      "Saved PNG: /media/sarvagya-pc/2TB HDD/Balgrist/MPM_nonProcessed/axial_skullstripped/ZRH-004_ses-03/img_153.png and NPY: /media/sarvagya-pc/2TB HDD/Balgrist/MPM_nonProcessed/axial_skullstripped/ZRH-004_ses-03/img_153_normalized.npy\n",
      "Saved resized NPY: /media/sarvagya-pc/2TB HDD/Balgrist/MPM_nonProcessed/axial_skullstripped/ZRH-004_ses-03/img_154_normalized.npy\n",
      "Saved PNG: /media/sarvagya-pc/2TB HDD/Balgrist/MPM_nonProcessed/axial_skullstripped/ZRH-004_ses-03/img_154.png and NPY: /media/sarvagya-pc/2TB HDD/Balgrist/MPM_nonProcessed/axial_skullstripped/ZRH-004_ses-03/img_154_normalized.npy\n",
      "Saved resized NPY: /media/sarvagya-pc/2TB HDD/Balgrist/MPM_nonProcessed/axial_skullstripped/ZRH-004_ses-03/img_155_normalized.npy\n",
      "Saved PNG: /media/sarvagya-pc/2TB HDD/Balgrist/MPM_nonProcessed/axial_skullstripped/ZRH-004_ses-03/img_155.png and NPY: /media/sarvagya-pc/2TB HDD/Balgrist/MPM_nonProcessed/axial_skullstripped/ZRH-004_ses-03/img_155_normalized.npy\n",
      "Saved resized NPY: /media/sarvagya-pc/2TB HDD/Balgrist/MPM_nonProcessed/axial_skullstripped/ZRH-004_ses-03/img_156_normalized.npy\n",
      "Saved PNG: /media/sarvagya-pc/2TB HDD/Balgrist/MPM_nonProcessed/axial_skullstripped/ZRH-004_ses-03/img_156.png and NPY: /media/sarvagya-pc/2TB HDD/Balgrist/MPM_nonProcessed/axial_skullstripped/ZRH-004_ses-03/img_156_normalized.npy\n",
      "Saved resized NPY: /media/sarvagya-pc/2TB HDD/Balgrist/MPM_nonProcessed/axial_skullstripped/ZRH-004_ses-03/img_157_normalized.npy\n",
      "Saved PNG: /media/sarvagya-pc/2TB HDD/Balgrist/MPM_nonProcessed/axial_skullstripped/ZRH-004_ses-03/img_157.png and NPY: /media/sarvagya-pc/2TB HDD/Balgrist/MPM_nonProcessed/axial_skullstripped/ZRH-004_ses-03/img_157_normalized.npy\n",
      "Saved resized NPY: /media/sarvagya-pc/2TB HDD/Balgrist/MPM_nonProcessed/axial_skullstripped/ZRH-004_ses-03/img_158_normalized.npy\n",
      "Saved PNG: /media/sarvagya-pc/2TB HDD/Balgrist/MPM_nonProcessed/axial_skullstripped/ZRH-004_ses-03/img_158.png and NPY: /media/sarvagya-pc/2TB HDD/Balgrist/MPM_nonProcessed/axial_skullstripped/ZRH-004_ses-03/img_158_normalized.npy\n",
      "Saved resized NPY: /media/sarvagya-pc/2TB HDD/Balgrist/MPM_nonProcessed/axial_skullstripped/ZRH-004_ses-03/img_159_normalized.npy\n",
      "Saved PNG: /media/sarvagya-pc/2TB HDD/Balgrist/MPM_nonProcessed/axial_skullstripped/ZRH-004_ses-03/img_159.png and NPY: /media/sarvagya-pc/2TB HDD/Balgrist/MPM_nonProcessed/axial_skullstripped/ZRH-004_ses-03/img_159_normalized.npy\n",
      "Saved resized NPY: /media/sarvagya-pc/2TB HDD/Balgrist/MPM_nonProcessed/axial_skullstripped/ZRH-004_ses-03/img_160_normalized.npy\n",
      "Saved PNG: /media/sarvagya-pc/2TB HDD/Balgrist/MPM_nonProcessed/axial_skullstripped/ZRH-004_ses-03/img_160.png and NPY: /media/sarvagya-pc/2TB HDD/Balgrist/MPM_nonProcessed/axial_skullstripped/ZRH-004_ses-03/img_160_normalized.npy\n",
      "Saved resized NPY: /media/sarvagya-pc/2TB HDD/Balgrist/MPM_nonProcessed/axial_skullstripped/ZRH-004_ses-03/img_161_normalized.npy\n",
      "Saved PNG: /media/sarvagya-pc/2TB HDD/Balgrist/MPM_nonProcessed/axial_skullstripped/ZRH-004_ses-03/img_161.png and NPY: /media/sarvagya-pc/2TB HDD/Balgrist/MPM_nonProcessed/axial_skullstripped/ZRH-004_ses-03/img_161_normalized.npy\n",
      "Saved resized NPY: /media/sarvagya-pc/2TB HDD/Balgrist/MPM_nonProcessed/axial_skullstripped/ZRH-004_ses-03/img_162_normalized.npy\n",
      "Saved PNG: /media/sarvagya-pc/2TB HDD/Balgrist/MPM_nonProcessed/axial_skullstripped/ZRH-004_ses-03/img_162.png and NPY: /media/sarvagya-pc/2TB HDD/Balgrist/MPM_nonProcessed/axial_skullstripped/ZRH-004_ses-03/img_162_normalized.npy\n",
      "Saved resized NPY: /media/sarvagya-pc/2TB HDD/Balgrist/MPM_nonProcessed/axial_skullstripped/ZRH-004_ses-03/img_163_normalized.npy\n",
      "Saved PNG: /media/sarvagya-pc/2TB HDD/Balgrist/MPM_nonProcessed/axial_skullstripped/ZRH-004_ses-03/img_163.png and NPY: /media/sarvagya-pc/2TB HDD/Balgrist/MPM_nonProcessed/axial_skullstripped/ZRH-004_ses-03/img_163_normalized.npy\n",
      "Saved resized NPY: /media/sarvagya-pc/2TB HDD/Balgrist/MPM_nonProcessed/axial_skullstripped/ZRH-004_ses-03/img_164_normalized.npy\n",
      "Saved PNG: /media/sarvagya-pc/2TB HDD/Balgrist/MPM_nonProcessed/axial_skullstripped/ZRH-004_ses-03/img_164.png and NPY: /media/sarvagya-pc/2TB HDD/Balgrist/MPM_nonProcessed/axial_skullstripped/ZRH-004_ses-03/img_164_normalized.npy\n",
      "Saved resized NPY: /media/sarvagya-pc/2TB HDD/Balgrist/MPM_nonProcessed/axial_skullstripped/ZRH-004_ses-03/img_165_normalized.npy\n",
      "Saved PNG: /media/sarvagya-pc/2TB HDD/Balgrist/MPM_nonProcessed/axial_skullstripped/ZRH-004_ses-03/img_165.png and NPY: /media/sarvagya-pc/2TB HDD/Balgrist/MPM_nonProcessed/axial_skullstripped/ZRH-004_ses-03/img_165_normalized.npy\n",
      "Saved resized NPY: /media/sarvagya-pc/2TB HDD/Balgrist/MPM_nonProcessed/axial_skullstripped/ZRH-004_ses-03/img_166_normalized.npy\n",
      "Saved PNG: /media/sarvagya-pc/2TB HDD/Balgrist/MPM_nonProcessed/axial_skullstripped/ZRH-004_ses-03/img_166.png and NPY: /media/sarvagya-pc/2TB HDD/Balgrist/MPM_nonProcessed/axial_skullstripped/ZRH-004_ses-03/img_166_normalized.npy\n",
      "Saved resized NPY: /media/sarvagya-pc/2TB HDD/Balgrist/MPM_nonProcessed/axial_skullstripped/ZRH-004_ses-03/img_167_normalized.npy\n",
      "Saved PNG: /media/sarvagya-pc/2TB HDD/Balgrist/MPM_nonProcessed/axial_skullstripped/ZRH-004_ses-03/img_167.png and NPY: /media/sarvagya-pc/2TB HDD/Balgrist/MPM_nonProcessed/axial_skullstripped/ZRH-004_ses-03/img_167_normalized.npy\n",
      "Saved resized NPY: /media/sarvagya-pc/2TB HDD/Balgrist/MPM_nonProcessed/axial_skullstripped/ZRH-004_ses-03/img_168_normalized.npy\n",
      "Saved PNG: /media/sarvagya-pc/2TB HDD/Balgrist/MPM_nonProcessed/axial_skullstripped/ZRH-004_ses-03/img_168.png and NPY: /media/sarvagya-pc/2TB HDD/Balgrist/MPM_nonProcessed/axial_skullstripped/ZRH-004_ses-03/img_168_normalized.npy\n",
      "Saved resized NPY: /media/sarvagya-pc/2TB HDD/Balgrist/MPM_nonProcessed/axial_skullstripped/ZRH-004_ses-03/img_169_normalized.npy\n",
      "Saved PNG: /media/sarvagya-pc/2TB HDD/Balgrist/MPM_nonProcessed/axial_skullstripped/ZRH-004_ses-03/img_169.png and NPY: /media/sarvagya-pc/2TB HDD/Balgrist/MPM_nonProcessed/axial_skullstripped/ZRH-004_ses-03/img_169_normalized.npy\n",
      "Saved resized NPY: /media/sarvagya-pc/2TB HDD/Balgrist/MPM_nonProcessed/axial_skullstripped/ZRH-004_ses-03/img_170_normalized.npy\n",
      "Saved PNG: /media/sarvagya-pc/2TB HDD/Balgrist/MPM_nonProcessed/axial_skullstripped/ZRH-004_ses-03/img_170.png and NPY: /media/sarvagya-pc/2TB HDD/Balgrist/MPM_nonProcessed/axial_skullstripped/ZRH-004_ses-03/img_170_normalized.npy\n",
      "Saved resized NPY: /media/sarvagya-pc/2TB HDD/Balgrist/MPM_nonProcessed/axial_skullstripped/ZRH-004_ses-03/img_171_normalized.npy\n",
      "Saved PNG: /media/sarvagya-pc/2TB HDD/Balgrist/MPM_nonProcessed/axial_skullstripped/ZRH-004_ses-03/img_171.png and NPY: /media/sarvagya-pc/2TB HDD/Balgrist/MPM_nonProcessed/axial_skullstripped/ZRH-004_ses-03/img_171_normalized.npy\n",
      "Saved resized NPY: /media/sarvagya-pc/2TB HDD/Balgrist/MPM_nonProcessed/axial_skullstripped/ZRH-004_ses-03/img_172_normalized.npy\n",
      "Saved PNG: /media/sarvagya-pc/2TB HDD/Balgrist/MPM_nonProcessed/axial_skullstripped/ZRH-004_ses-03/img_172.png and NPY: /media/sarvagya-pc/2TB HDD/Balgrist/MPM_nonProcessed/axial_skullstripped/ZRH-004_ses-03/img_172_normalized.npy\n",
      "Saved resized NPY: /media/sarvagya-pc/2TB HDD/Balgrist/MPM_nonProcessed/axial_skullstripped/ZRH-004_ses-03/img_173_normalized.npy\n",
      "Saved PNG: /media/sarvagya-pc/2TB HDD/Balgrist/MPM_nonProcessed/axial_skullstripped/ZRH-004_ses-03/img_173.png and NPY: /media/sarvagya-pc/2TB HDD/Balgrist/MPM_nonProcessed/axial_skullstripped/ZRH-004_ses-03/img_173_normalized.npy\n",
      "Saved resized NPY: /media/sarvagya-pc/2TB HDD/Balgrist/MPM_nonProcessed/axial_skullstripped/ZRH-004_ses-03/img_174_normalized.npy\n",
      "Saved PNG: /media/sarvagya-pc/2TB HDD/Balgrist/MPM_nonProcessed/axial_skullstripped/ZRH-004_ses-03/img_174.png and NPY: /media/sarvagya-pc/2TB HDD/Balgrist/MPM_nonProcessed/axial_skullstripped/ZRH-004_ses-03/img_174_normalized.npy\n",
      "Saved resized NPY: /media/sarvagya-pc/2TB HDD/Balgrist/MPM_nonProcessed/axial_skullstripped/ZRH-004_ses-03/img_175_normalized.npy\n",
      "Saved PNG: /media/sarvagya-pc/2TB HDD/Balgrist/MPM_nonProcessed/axial_skullstripped/ZRH-004_ses-03/img_175.png and NPY: /media/sarvagya-pc/2TB HDD/Balgrist/MPM_nonProcessed/axial_skullstripped/ZRH-004_ses-03/img_175_normalized.npy\n",
      "Saved resized NPY: /media/sarvagya-pc/2TB HDD/Balgrist/MPM_nonProcessed/axial_skullstripped/ZRH-004_ses-03/img_176_normalized.npy\n",
      "Saved PNG: /media/sarvagya-pc/2TB HDD/Balgrist/MPM_nonProcessed/axial_skullstripped/ZRH-004_ses-03/img_176.png and NPY: /media/sarvagya-pc/2TB HDD/Balgrist/MPM_nonProcessed/axial_skullstripped/ZRH-004_ses-03/img_176_normalized.npy\n",
      "Saved resized NPY: /media/sarvagya-pc/2TB HDD/Balgrist/MPM_nonProcessed/axial_skullstripped/ZRH-004_ses-03/img_177_normalized.npy\n",
      "Saved PNG: /media/sarvagya-pc/2TB HDD/Balgrist/MPM_nonProcessed/axial_skullstripped/ZRH-004_ses-03/img_177.png and NPY: /media/sarvagya-pc/2TB HDD/Balgrist/MPM_nonProcessed/axial_skullstripped/ZRH-004_ses-03/img_177_normalized.npy\n",
      "Saved resized NPY: /media/sarvagya-pc/2TB HDD/Balgrist/MPM_nonProcessed/axial_skullstripped/ZRH-004_ses-03/img_178_normalized.npy\n",
      "Saved PNG: /media/sarvagya-pc/2TB HDD/Balgrist/MPM_nonProcessed/axial_skullstripped/ZRH-004_ses-03/img_178.png and NPY: /media/sarvagya-pc/2TB HDD/Balgrist/MPM_nonProcessed/axial_skullstripped/ZRH-004_ses-03/img_178_normalized.npy\n",
      "Saved resized NPY: /media/sarvagya-pc/2TB HDD/Balgrist/MPM_nonProcessed/axial_skullstripped/ZRH-004_ses-03/img_179_normalized.npy\n",
      "Saved PNG: /media/sarvagya-pc/2TB HDD/Balgrist/MPM_nonProcessed/axial_skullstripped/ZRH-004_ses-03/img_179.png and NPY: /media/sarvagya-pc/2TB HDD/Balgrist/MPM_nonProcessed/axial_skullstripped/ZRH-004_ses-03/img_179_normalized.npy\n",
      "Saved resized NPY: /media/sarvagya-pc/2TB HDD/Balgrist/MPM_nonProcessed/axial_skullstripped/ZRH-004_ses-03/img_180_normalized.npy\n",
      "Saved PNG: /media/sarvagya-pc/2TB HDD/Balgrist/MPM_nonProcessed/axial_skullstripped/ZRH-004_ses-03/img_180.png and NPY: /media/sarvagya-pc/2TB HDD/Balgrist/MPM_nonProcessed/axial_skullstripped/ZRH-004_ses-03/img_180_normalized.npy\n",
      "Saved resized NPY: /media/sarvagya-pc/2TB HDD/Balgrist/MPM_nonProcessed/axial_skullstripped/ZRH-004_ses-03/img_181_normalized.npy\n",
      "Saved PNG: /media/sarvagya-pc/2TB HDD/Balgrist/MPM_nonProcessed/axial_skullstripped/ZRH-004_ses-03/img_181.png and NPY: /media/sarvagya-pc/2TB HDD/Balgrist/MPM_nonProcessed/axial_skullstripped/ZRH-004_ses-03/img_181_normalized.npy\n",
      "Saved resized NPY: /media/sarvagya-pc/2TB HDD/Balgrist/MPM_nonProcessed/axial_skullstripped/ZRH-004_ses-03/img_182_normalized.npy\n",
      "Saved PNG: /media/sarvagya-pc/2TB HDD/Balgrist/MPM_nonProcessed/axial_skullstripped/ZRH-004_ses-03/img_182.png and NPY: /media/sarvagya-pc/2TB HDD/Balgrist/MPM_nonProcessed/axial_skullstripped/ZRH-004_ses-03/img_182_normalized.npy\n",
      "Saved resized NPY: /media/sarvagya-pc/2TB HDD/Balgrist/MPM_nonProcessed/axial_skullstripped/ZRH-004_ses-03/img_183_normalized.npy\n",
      "Saved PNG: /media/sarvagya-pc/2TB HDD/Balgrist/MPM_nonProcessed/axial_skullstripped/ZRH-004_ses-03/img_183.png and NPY: /media/sarvagya-pc/2TB HDD/Balgrist/MPM_nonProcessed/axial_skullstripped/ZRH-004_ses-03/img_183_normalized.npy\n",
      "Saved resized NPY: /media/sarvagya-pc/2TB HDD/Balgrist/MPM_nonProcessed/axial_skullstripped/ZRH-004_ses-03/img_184_normalized.npy\n",
      "Saved PNG: /media/sarvagya-pc/2TB HDD/Balgrist/MPM_nonProcessed/axial_skullstripped/ZRH-004_ses-03/img_184.png and NPY: /media/sarvagya-pc/2TB HDD/Balgrist/MPM_nonProcessed/axial_skullstripped/ZRH-004_ses-03/img_184_normalized.npy\n",
      "Saved resized NPY: /media/sarvagya-pc/2TB HDD/Balgrist/MPM_nonProcessed/axial_skullstripped/ZRH-004_ses-03/img_185_normalized.npy\n",
      "Saved PNG: /media/sarvagya-pc/2TB HDD/Balgrist/MPM_nonProcessed/axial_skullstripped/ZRH-004_ses-03/img_185.png and NPY: /media/sarvagya-pc/2TB HDD/Balgrist/MPM_nonProcessed/axial_skullstripped/ZRH-004_ses-03/img_185_normalized.npy\n",
      "Saved resized NPY: /media/sarvagya-pc/2TB HDD/Balgrist/MPM_nonProcessed/axial_skullstripped/ZRH-004_ses-03/img_186_normalized.npy\n",
      "Saved PNG: /media/sarvagya-pc/2TB HDD/Balgrist/MPM_nonProcessed/axial_skullstripped/ZRH-004_ses-03/img_186.png and NPY: /media/sarvagya-pc/2TB HDD/Balgrist/MPM_nonProcessed/axial_skullstripped/ZRH-004_ses-03/img_186_normalized.npy\n",
      "Saved resized NPY: /media/sarvagya-pc/2TB HDD/Balgrist/MPM_nonProcessed/axial_skullstripped/ZRH-004_ses-03/img_187_normalized.npy\n",
      "Saved PNG: /media/sarvagya-pc/2TB HDD/Balgrist/MPM_nonProcessed/axial_skullstripped/ZRH-004_ses-03/img_187.png and NPY: /media/sarvagya-pc/2TB HDD/Balgrist/MPM_nonProcessed/axial_skullstripped/ZRH-004_ses-03/img_187_normalized.npy\n",
      "Saved resized NPY: /media/sarvagya-pc/2TB HDD/Balgrist/MPM_nonProcessed/axial_skullstripped/ZRH-004_ses-03/img_188_normalized.npy\n",
      "Saved PNG: /media/sarvagya-pc/2TB HDD/Balgrist/MPM_nonProcessed/axial_skullstripped/ZRH-004_ses-03/img_188.png and NPY: /media/sarvagya-pc/2TB HDD/Balgrist/MPM_nonProcessed/axial_skullstripped/ZRH-004_ses-03/img_188_normalized.npy\n",
      "Saved resized NPY: /media/sarvagya-pc/2TB HDD/Balgrist/MPM_nonProcessed/axial_skullstripped/ZRH-004_ses-03/img_189_normalized.npy\n",
      "Saved PNG: /media/sarvagya-pc/2TB HDD/Balgrist/MPM_nonProcessed/axial_skullstripped/ZRH-004_ses-03/img_189.png and NPY: /media/sarvagya-pc/2TB HDD/Balgrist/MPM_nonProcessed/axial_skullstripped/ZRH-004_ses-03/img_189_normalized.npy\n",
      "Saved resized NPY: /media/sarvagya-pc/2TB HDD/Balgrist/MPM_nonProcessed/axial_skullstripped/ZRH-004_ses-03/img_190_normalized.npy\n",
      "Saved PNG: /media/sarvagya-pc/2TB HDD/Balgrist/MPM_nonProcessed/axial_skullstripped/ZRH-004_ses-03/img_190.png and NPY: /media/sarvagya-pc/2TB HDD/Balgrist/MPM_nonProcessed/axial_skullstripped/ZRH-004_ses-03/img_190_normalized.npy\n",
      "Saved resized NPY: /media/sarvagya-pc/2TB HDD/Balgrist/MPM_nonProcessed/axial_skullstripped/ZRH-004_ses-03/img_191_normalized.npy\n",
      "Saved PNG: /media/sarvagya-pc/2TB HDD/Balgrist/MPM_nonProcessed/axial_skullstripped/ZRH-004_ses-03/img_191.png and NPY: /media/sarvagya-pc/2TB HDD/Balgrist/MPM_nonProcessed/axial_skullstripped/ZRH-004_ses-03/img_191_normalized.npy\n",
      "Saved resized NPY: /media/sarvagya-pc/2TB HDD/Balgrist/MPM_nonProcessed/axial_skullstripped/ZRH-004_ses-03/img_192_normalized.npy\n",
      "Saved PNG: /media/sarvagya-pc/2TB HDD/Balgrist/MPM_nonProcessed/axial_skullstripped/ZRH-004_ses-03/img_192.png and NPY: /media/sarvagya-pc/2TB HDD/Balgrist/MPM_nonProcessed/axial_skullstripped/ZRH-004_ses-03/img_192_normalized.npy\n",
      "Saved resized NPY: /media/sarvagya-pc/2TB HDD/Balgrist/MPM_nonProcessed/axial_skullstripped/ZRH-004_ses-03/img_193_normalized.npy\n",
      "Saved PNG: /media/sarvagya-pc/2TB HDD/Balgrist/MPM_nonProcessed/axial_skullstripped/ZRH-004_ses-03/img_193.png and NPY: /media/sarvagya-pc/2TB HDD/Balgrist/MPM_nonProcessed/axial_skullstripped/ZRH-004_ses-03/img_193_normalized.npy\n",
      "Saved resized NPY: /media/sarvagya-pc/2TB HDD/Balgrist/MPM_nonProcessed/axial_skullstripped/ZRH-004_ses-03/img_194_normalized.npy\n",
      "Saved PNG: /media/sarvagya-pc/2TB HDD/Balgrist/MPM_nonProcessed/axial_skullstripped/ZRH-004_ses-03/img_194.png and NPY: /media/sarvagya-pc/2TB HDD/Balgrist/MPM_nonProcessed/axial_skullstripped/ZRH-004_ses-03/img_194_normalized.npy\n",
      "Saved resized NPY: /media/sarvagya-pc/2TB HDD/Balgrist/MPM_nonProcessed/axial_skullstripped/ZRH-004_ses-03/img_195_normalized.npy\n",
      "Saved PNG: /media/sarvagya-pc/2TB HDD/Balgrist/MPM_nonProcessed/axial_skullstripped/ZRH-004_ses-03/img_195.png and NPY: /media/sarvagya-pc/2TB HDD/Balgrist/MPM_nonProcessed/axial_skullstripped/ZRH-004_ses-03/img_195_normalized.npy\n",
      "Saved resized NPY: /media/sarvagya-pc/2TB HDD/Balgrist/MPM_nonProcessed/axial_skullstripped/ZRH-004_ses-03/img_196_normalized.npy\n",
      "Saved PNG: /media/sarvagya-pc/2TB HDD/Balgrist/MPM_nonProcessed/axial_skullstripped/ZRH-004_ses-03/img_196.png and NPY: /media/sarvagya-pc/2TB HDD/Balgrist/MPM_nonProcessed/axial_skullstripped/ZRH-004_ses-03/img_196_normalized.npy\n",
      "Saved resized NPY: /media/sarvagya-pc/2TB HDD/Balgrist/MPM_nonProcessed/axial_skullstripped/ZRH-004_ses-03/img_197_normalized.npy\n",
      "Saved PNG: /media/sarvagya-pc/2TB HDD/Balgrist/MPM_nonProcessed/axial_skullstripped/ZRH-004_ses-03/img_197.png and NPY: /media/sarvagya-pc/2TB HDD/Balgrist/MPM_nonProcessed/axial_skullstripped/ZRH-004_ses-03/img_197_normalized.npy\n",
      "Saved resized NPY: /media/sarvagya-pc/2TB HDD/Balgrist/MPM_nonProcessed/axial_skullstripped/ZRH-004_ses-03/img_198_normalized.npy\n",
      "Saved PNG: /media/sarvagya-pc/2TB HDD/Balgrist/MPM_nonProcessed/axial_skullstripped/ZRH-004_ses-03/img_198.png and NPY: /media/sarvagya-pc/2TB HDD/Balgrist/MPM_nonProcessed/axial_skullstripped/ZRH-004_ses-03/img_198_normalized.npy\n",
      "Saved resized NPY: /media/sarvagya-pc/2TB HDD/Balgrist/MPM_nonProcessed/axial_skullstripped/ZRH-004_ses-03/img_199_normalized.npy\n",
      "Saved PNG: /media/sarvagya-pc/2TB HDD/Balgrist/MPM_nonProcessed/axial_skullstripped/ZRH-004_ses-03/img_199.png and NPY: /media/sarvagya-pc/2TB HDD/Balgrist/MPM_nonProcessed/axial_skullstripped/ZRH-004_ses-03/img_199_normalized.npy\n",
      "Saved resized NPY: /media/sarvagya-pc/2TB HDD/Balgrist/MPM_nonProcessed/axial_skullstripped/ZRH-004_ses-03/img_200_normalized.npy\n",
      "Saved PNG: /media/sarvagya-pc/2TB HDD/Balgrist/MPM_nonProcessed/axial_skullstripped/ZRH-004_ses-03/img_200.png and NPY: /media/sarvagya-pc/2TB HDD/Balgrist/MPM_nonProcessed/axial_skullstripped/ZRH-004_ses-03/img_200_normalized.npy\n",
      "Saved resized NPY: /media/sarvagya-pc/2TB HDD/Balgrist/MPM_nonProcessed/axial_skullstripped/ZRH-004_ses-03/img_201_normalized.npy\n",
      "Saved PNG: /media/sarvagya-pc/2TB HDD/Balgrist/MPM_nonProcessed/axial_skullstripped/ZRH-004_ses-03/img_201.png and NPY: /media/sarvagya-pc/2TB HDD/Balgrist/MPM_nonProcessed/axial_skullstripped/ZRH-004_ses-03/img_201_normalized.npy\n",
      "Saved resized NPY: /media/sarvagya-pc/2TB HDD/Balgrist/MPM_nonProcessed/axial_skullstripped/ZRH-004_ses-03/img_202_normalized.npy\n",
      "Saved PNG: /media/sarvagya-pc/2TB HDD/Balgrist/MPM_nonProcessed/axial_skullstripped/ZRH-004_ses-03/img_202.png and NPY: /media/sarvagya-pc/2TB HDD/Balgrist/MPM_nonProcessed/axial_skullstripped/ZRH-004_ses-03/img_202_normalized.npy\n",
      "Saved resized NPY: /media/sarvagya-pc/2TB HDD/Balgrist/MPM_nonProcessed/axial_skullstripped/ZRH-004_ses-03/img_203_normalized.npy\n",
      "Saved PNG: /media/sarvagya-pc/2TB HDD/Balgrist/MPM_nonProcessed/axial_skullstripped/ZRH-004_ses-03/img_203.png and NPY: /media/sarvagya-pc/2TB HDD/Balgrist/MPM_nonProcessed/axial_skullstripped/ZRH-004_ses-03/img_203_normalized.npy\n",
      "Saved resized NPY: /media/sarvagya-pc/2TB HDD/Balgrist/MPM_nonProcessed/axial_skullstripped/ZRH-004_ses-03/img_204_normalized.npy\n",
      "Saved PNG: /media/sarvagya-pc/2TB HDD/Balgrist/MPM_nonProcessed/axial_skullstripped/ZRH-004_ses-03/img_204.png and NPY: /media/sarvagya-pc/2TB HDD/Balgrist/MPM_nonProcessed/axial_skullstripped/ZRH-004_ses-03/img_204_normalized.npy\n",
      "Saved resized NPY: /media/sarvagya-pc/2TB HDD/Balgrist/MPM_nonProcessed/axial_skullstripped/ZRH-004_ses-03/img_205_normalized.npy\n",
      "Saved PNG: /media/sarvagya-pc/2TB HDD/Balgrist/MPM_nonProcessed/axial_skullstripped/ZRH-004_ses-03/img_205.png and NPY: /media/sarvagya-pc/2TB HDD/Balgrist/MPM_nonProcessed/axial_skullstripped/ZRH-004_ses-03/img_205_normalized.npy\n",
      "Saved resized NPY: /media/sarvagya-pc/2TB HDD/Balgrist/MPM_nonProcessed/axial_skullstripped/ZRH-004_ses-03/img_206_normalized.npy\n",
      "Saved PNG: /media/sarvagya-pc/2TB HDD/Balgrist/MPM_nonProcessed/axial_skullstripped/ZRH-004_ses-03/img_206.png and NPY: /media/sarvagya-pc/2TB HDD/Balgrist/MPM_nonProcessed/axial_skullstripped/ZRH-004_ses-03/img_206_normalized.npy\n",
      "Saved resized NPY: /media/sarvagya-pc/2TB HDD/Balgrist/MPM_nonProcessed/axial_skullstripped/ZRH-004_ses-03/img_207_normalized.npy\n",
      "Saved PNG: /media/sarvagya-pc/2TB HDD/Balgrist/MPM_nonProcessed/axial_skullstripped/ZRH-004_ses-03/img_207.png and NPY: /media/sarvagya-pc/2TB HDD/Balgrist/MPM_nonProcessed/axial_skullstripped/ZRH-004_ses-03/img_207_normalized.npy\n",
      "Saved resized NPY: /media/sarvagya-pc/2TB HDD/Balgrist/MPM_nonProcessed/axial_skullstripped/ZRH-004_ses-03/img_208_normalized.npy\n",
      "Saved PNG: /media/sarvagya-pc/2TB HDD/Balgrist/MPM_nonProcessed/axial_skullstripped/ZRH-004_ses-03/img_208.png and NPY: /media/sarvagya-pc/2TB HDD/Balgrist/MPM_nonProcessed/axial_skullstripped/ZRH-004_ses-03/img_208_normalized.npy\n",
      "Saved resized NPY: /media/sarvagya-pc/2TB HDD/Balgrist/MPM_nonProcessed/axial_skullstripped/ZRH-004_ses-03/img_209_normalized.npy\n",
      "Saved PNG: /media/sarvagya-pc/2TB HDD/Balgrist/MPM_nonProcessed/axial_skullstripped/ZRH-004_ses-03/img_209.png and NPY: /media/sarvagya-pc/2TB HDD/Balgrist/MPM_nonProcessed/axial_skullstripped/ZRH-004_ses-03/img_209_normalized.npy\n",
      "Saved resized NPY: /media/sarvagya-pc/2TB HDD/Balgrist/MPM_nonProcessed/axial_skullstripped/ZRH-004_ses-03/img_210_normalized.npy\n",
      "Saved PNG: /media/sarvagya-pc/2TB HDD/Balgrist/MPM_nonProcessed/axial_skullstripped/ZRH-004_ses-03/img_210.png and NPY: /media/sarvagya-pc/2TB HDD/Balgrist/MPM_nonProcessed/axial_skullstripped/ZRH-004_ses-03/img_210_normalized.npy\n",
      "Saved resized NPY: /media/sarvagya-pc/2TB HDD/Balgrist/MPM_nonProcessed/axial_skullstripped/ZRH-004_ses-03/img_211_normalized.npy\n",
      "Saved PNG: /media/sarvagya-pc/2TB HDD/Balgrist/MPM_nonProcessed/axial_skullstripped/ZRH-004_ses-03/img_211.png and NPY: /media/sarvagya-pc/2TB HDD/Balgrist/MPM_nonProcessed/axial_skullstripped/ZRH-004_ses-03/img_211_normalized.npy\n",
      "Saved resized NPY: /media/sarvagya-pc/2TB HDD/Balgrist/MPM_nonProcessed/axial_skullstripped/ZRH-004_ses-03/img_212_normalized.npy\n",
      "Saved PNG: /media/sarvagya-pc/2TB HDD/Balgrist/MPM_nonProcessed/axial_skullstripped/ZRH-004_ses-03/img_212.png and NPY: /media/sarvagya-pc/2TB HDD/Balgrist/MPM_nonProcessed/axial_skullstripped/ZRH-004_ses-03/img_212_normalized.npy\n",
      "Saved resized NPY: /media/sarvagya-pc/2TB HDD/Balgrist/MPM_nonProcessed/axial_skullstripped/ZRH-004_ses-03/img_213_normalized.npy\n",
      "Saved PNG: /media/sarvagya-pc/2TB HDD/Balgrist/MPM_nonProcessed/axial_skullstripped/ZRH-004_ses-03/img_213.png and NPY: /media/sarvagya-pc/2TB HDD/Balgrist/MPM_nonProcessed/axial_skullstripped/ZRH-004_ses-03/img_213_normalized.npy\n",
      "Saved resized NPY: /media/sarvagya-pc/2TB HDD/Balgrist/MPM_nonProcessed/axial_skullstripped/ZRH-004_ses-03/img_214_normalized.npy\n",
      "Saved PNG: /media/sarvagya-pc/2TB HDD/Balgrist/MPM_nonProcessed/axial_skullstripped/ZRH-004_ses-03/img_214.png and NPY: /media/sarvagya-pc/2TB HDD/Balgrist/MPM_nonProcessed/axial_skullstripped/ZRH-004_ses-03/img_214_normalized.npy\n",
      "Saved resized NPY: /media/sarvagya-pc/2TB HDD/Balgrist/MPM_nonProcessed/axial_skullstripped/ZRH-004_ses-03/img_215_normalized.npy\n",
      "Saved PNG: /media/sarvagya-pc/2TB HDD/Balgrist/MPM_nonProcessed/axial_skullstripped/ZRH-004_ses-03/img_215.png and NPY: /media/sarvagya-pc/2TB HDD/Balgrist/MPM_nonProcessed/axial_skullstripped/ZRH-004_ses-03/img_215_normalized.npy\n",
      "Saved resized NPY: /media/sarvagya-pc/2TB HDD/Balgrist/MPM_nonProcessed/axial_skullstripped/ZRH-004_ses-03/img_216_normalized.npy\n",
      "Saved PNG: /media/sarvagya-pc/2TB HDD/Balgrist/MPM_nonProcessed/axial_skullstripped/ZRH-004_ses-03/img_216.png and NPY: /media/sarvagya-pc/2TB HDD/Balgrist/MPM_nonProcessed/axial_skullstripped/ZRH-004_ses-03/img_216_normalized.npy\n",
      "Saved resized NPY: /media/sarvagya-pc/2TB HDD/Balgrist/MPM_nonProcessed/axial_skullstripped/ZRH-004_ses-03/img_217_normalized.npy\n",
      "Saved PNG: /media/sarvagya-pc/2TB HDD/Balgrist/MPM_nonProcessed/axial_skullstripped/ZRH-004_ses-03/img_217.png and NPY: /media/sarvagya-pc/2TB HDD/Balgrist/MPM_nonProcessed/axial_skullstripped/ZRH-004_ses-03/img_217_normalized.npy\n",
      "Saved resized NPY: /media/sarvagya-pc/2TB HDD/Balgrist/MPM_nonProcessed/axial_skullstripped/ZRH-004_ses-03/img_218_normalized.npy\n",
      "Saved PNG: /media/sarvagya-pc/2TB HDD/Balgrist/MPM_nonProcessed/axial_skullstripped/ZRH-004_ses-03/img_218.png and NPY: /media/sarvagya-pc/2TB HDD/Balgrist/MPM_nonProcessed/axial_skullstripped/ZRH-004_ses-03/img_218_normalized.npy\n",
      "Saved resized NPY: /media/sarvagya-pc/2TB HDD/Balgrist/MPM_nonProcessed/axial_skullstripped/ZRH-004_ses-03/img_219_normalized.npy\n",
      "Saved PNG: /media/sarvagya-pc/2TB HDD/Balgrist/MPM_nonProcessed/axial_skullstripped/ZRH-004_ses-03/img_219.png and NPY: /media/sarvagya-pc/2TB HDD/Balgrist/MPM_nonProcessed/axial_skullstripped/ZRH-004_ses-03/img_219_normalized.npy\n",
      "(256, 256, 176)\n",
      "NTL-009_ses-03\n",
      "Saved resized NPY: /media/sarvagya-pc/2TB HDD/Balgrist/MPM_nonProcessed/axial_skullstripped/NTL-009_ses-03/img_133_normalized.npy\n",
      "Saved PNG: /media/sarvagya-pc/2TB HDD/Balgrist/MPM_nonProcessed/axial_skullstripped/NTL-009_ses-03/img_133.png and NPY: /media/sarvagya-pc/2TB HDD/Balgrist/MPM_nonProcessed/axial_skullstripped/NTL-009_ses-03/img_133_normalized.npy\n",
      "Saved resized NPY: /media/sarvagya-pc/2TB HDD/Balgrist/MPM_nonProcessed/axial_skullstripped/NTL-009_ses-03/img_134_normalized.npy\n",
      "Saved PNG: /media/sarvagya-pc/2TB HDD/Balgrist/MPM_nonProcessed/axial_skullstripped/NTL-009_ses-03/img_134.png and NPY: /media/sarvagya-pc/2TB HDD/Balgrist/MPM_nonProcessed/axial_skullstripped/NTL-009_ses-03/img_134_normalized.npy\n",
      "Saved resized NPY: /media/sarvagya-pc/2TB HDD/Balgrist/MPM_nonProcessed/axial_skullstripped/NTL-009_ses-03/img_135_normalized.npy\n",
      "Saved PNG: /media/sarvagya-pc/2TB HDD/Balgrist/MPM_nonProcessed/axial_skullstripped/NTL-009_ses-03/img_135.png and NPY: /media/sarvagya-pc/2TB HDD/Balgrist/MPM_nonProcessed/axial_skullstripped/NTL-009_ses-03/img_135_normalized.npy\n",
      "Saved resized NPY: /media/sarvagya-pc/2TB HDD/Balgrist/MPM_nonProcessed/axial_skullstripped/NTL-009_ses-03/img_136_normalized.npy\n",
      "Saved PNG: /media/sarvagya-pc/2TB HDD/Balgrist/MPM_nonProcessed/axial_skullstripped/NTL-009_ses-03/img_136.png and NPY: /media/sarvagya-pc/2TB HDD/Balgrist/MPM_nonProcessed/axial_skullstripped/NTL-009_ses-03/img_136_normalized.npy\n",
      "Saved resized NPY: /media/sarvagya-pc/2TB HDD/Balgrist/MPM_nonProcessed/axial_skullstripped/NTL-009_ses-03/img_137_normalized.npy\n",
      "Saved PNG: /media/sarvagya-pc/2TB HDD/Balgrist/MPM_nonProcessed/axial_skullstripped/NTL-009_ses-03/img_137.png and NPY: /media/sarvagya-pc/2TB HDD/Balgrist/MPM_nonProcessed/axial_skullstripped/NTL-009_ses-03/img_137_normalized.npy\n",
      "Saved resized NPY: /media/sarvagya-pc/2TB HDD/Balgrist/MPM_nonProcessed/axial_skullstripped/NTL-009_ses-03/img_138_normalized.npy\n",
      "Saved PNG: /media/sarvagya-pc/2TB HDD/Balgrist/MPM_nonProcessed/axial_skullstripped/NTL-009_ses-03/img_138.png and NPY: /media/sarvagya-pc/2TB HDD/Balgrist/MPM_nonProcessed/axial_skullstripped/NTL-009_ses-03/img_138_normalized.npy\n",
      "Saved resized NPY: /media/sarvagya-pc/2TB HDD/Balgrist/MPM_nonProcessed/axial_skullstripped/NTL-009_ses-03/img_139_normalized.npy\n",
      "Saved PNG: /media/sarvagya-pc/2TB HDD/Balgrist/MPM_nonProcessed/axial_skullstripped/NTL-009_ses-03/img_139.png and NPY: /media/sarvagya-pc/2TB HDD/Balgrist/MPM_nonProcessed/axial_skullstripped/NTL-009_ses-03/img_139_normalized.npy\n",
      "Saved resized NPY: /media/sarvagya-pc/2TB HDD/Balgrist/MPM_nonProcessed/axial_skullstripped/NTL-009_ses-03/img_140_normalized.npy\n",
      "Saved PNG: /media/sarvagya-pc/2TB HDD/Balgrist/MPM_nonProcessed/axial_skullstripped/NTL-009_ses-03/img_140.png and NPY: /media/sarvagya-pc/2TB HDD/Balgrist/MPM_nonProcessed/axial_skullstripped/NTL-009_ses-03/img_140_normalized.npy\n",
      "Saved resized NPY: /media/sarvagya-pc/2TB HDD/Balgrist/MPM_nonProcessed/axial_skullstripped/NTL-009_ses-03/img_141_normalized.npy\n",
      "Saved PNG: /media/sarvagya-pc/2TB HDD/Balgrist/MPM_nonProcessed/axial_skullstripped/NTL-009_ses-03/img_141.png and NPY: /media/sarvagya-pc/2TB HDD/Balgrist/MPM_nonProcessed/axial_skullstripped/NTL-009_ses-03/img_141_normalized.npy\n",
      "Saved resized NPY: /media/sarvagya-pc/2TB HDD/Balgrist/MPM_nonProcessed/axial_skullstripped/NTL-009_ses-03/img_142_normalized.npy\n",
      "Saved PNG: /media/sarvagya-pc/2TB HDD/Balgrist/MPM_nonProcessed/axial_skullstripped/NTL-009_ses-03/img_142.png and NPY: /media/sarvagya-pc/2TB HDD/Balgrist/MPM_nonProcessed/axial_skullstripped/NTL-009_ses-03/img_142_normalized.npy\n",
      "Saved resized NPY: /media/sarvagya-pc/2TB HDD/Balgrist/MPM_nonProcessed/axial_skullstripped/NTL-009_ses-03/img_143_normalized.npy\n",
      "Saved PNG: /media/sarvagya-pc/2TB HDD/Balgrist/MPM_nonProcessed/axial_skullstripped/NTL-009_ses-03/img_143.png and NPY: /media/sarvagya-pc/2TB HDD/Balgrist/MPM_nonProcessed/axial_skullstripped/NTL-009_ses-03/img_143_normalized.npy\n",
      "Saved resized NPY: /media/sarvagya-pc/2TB HDD/Balgrist/MPM_nonProcessed/axial_skullstripped/NTL-009_ses-03/img_144_normalized.npy\n",
      "Saved PNG: /media/sarvagya-pc/2TB HDD/Balgrist/MPM_nonProcessed/axial_skullstripped/NTL-009_ses-03/img_144.png and NPY: /media/sarvagya-pc/2TB HDD/Balgrist/MPM_nonProcessed/axial_skullstripped/NTL-009_ses-03/img_144_normalized.npy\n",
      "Saved resized NPY: /media/sarvagya-pc/2TB HDD/Balgrist/MPM_nonProcessed/axial_skullstripped/NTL-009_ses-03/img_145_normalized.npy\n",
      "Saved PNG: /media/sarvagya-pc/2TB HDD/Balgrist/MPM_nonProcessed/axial_skullstripped/NTL-009_ses-03/img_145.png and NPY: /media/sarvagya-pc/2TB HDD/Balgrist/MPM_nonProcessed/axial_skullstripped/NTL-009_ses-03/img_145_normalized.npy\n",
      "Saved resized NPY: /media/sarvagya-pc/2TB HDD/Balgrist/MPM_nonProcessed/axial_skullstripped/NTL-009_ses-03/img_146_normalized.npy\n",
      "Saved PNG: /media/sarvagya-pc/2TB HDD/Balgrist/MPM_nonProcessed/axial_skullstripped/NTL-009_ses-03/img_146.png and NPY: /media/sarvagya-pc/2TB HDD/Balgrist/MPM_nonProcessed/axial_skullstripped/NTL-009_ses-03/img_146_normalized.npy\n",
      "Saved resized NPY: /media/sarvagya-pc/2TB HDD/Balgrist/MPM_nonProcessed/axial_skullstripped/NTL-009_ses-03/img_147_normalized.npy\n",
      "Saved PNG: /media/sarvagya-pc/2TB HDD/Balgrist/MPM_nonProcessed/axial_skullstripped/NTL-009_ses-03/img_147.png and NPY: /media/sarvagya-pc/2TB HDD/Balgrist/MPM_nonProcessed/axial_skullstripped/NTL-009_ses-03/img_147_normalized.npy\n",
      "Saved resized NPY: /media/sarvagya-pc/2TB HDD/Balgrist/MPM_nonProcessed/axial_skullstripped/NTL-009_ses-03/img_148_normalized.npy\n",
      "Saved PNG: /media/sarvagya-pc/2TB HDD/Balgrist/MPM_nonProcessed/axial_skullstripped/NTL-009_ses-03/img_148.png and NPY: /media/sarvagya-pc/2TB HDD/Balgrist/MPM_nonProcessed/axial_skullstripped/NTL-009_ses-03/img_148_normalized.npy\n",
      "Saved resized NPY: /media/sarvagya-pc/2TB HDD/Balgrist/MPM_nonProcessed/axial_skullstripped/NTL-009_ses-03/img_149_normalized.npy\n",
      "Saved PNG: /media/sarvagya-pc/2TB HDD/Balgrist/MPM_nonProcessed/axial_skullstripped/NTL-009_ses-03/img_149.png and NPY: /media/sarvagya-pc/2TB HDD/Balgrist/MPM_nonProcessed/axial_skullstripped/NTL-009_ses-03/img_149_normalized.npy\n",
      "Saved resized NPY: /media/sarvagya-pc/2TB HDD/Balgrist/MPM_nonProcessed/axial_skullstripped/NTL-009_ses-03/img_150_normalized.npy\n",
      "Saved PNG: /media/sarvagya-pc/2TB HDD/Balgrist/MPM_nonProcessed/axial_skullstripped/NTL-009_ses-03/img_150.png and NPY: /media/sarvagya-pc/2TB HDD/Balgrist/MPM_nonProcessed/axial_skullstripped/NTL-009_ses-03/img_150_normalized.npy\n",
      "Saved resized NPY: /media/sarvagya-pc/2TB HDD/Balgrist/MPM_nonProcessed/axial_skullstripped/NTL-009_ses-03/img_151_normalized.npy\n",
      "Saved PNG: /media/sarvagya-pc/2TB HDD/Balgrist/MPM_nonProcessed/axial_skullstripped/NTL-009_ses-03/img_151.png and NPY: /media/sarvagya-pc/2TB HDD/Balgrist/MPM_nonProcessed/axial_skullstripped/NTL-009_ses-03/img_151_normalized.npy\n",
      "Saved resized NPY: /media/sarvagya-pc/2TB HDD/Balgrist/MPM_nonProcessed/axial_skullstripped/NTL-009_ses-03/img_152_normalized.npy\n",
      "Saved PNG: /media/sarvagya-pc/2TB HDD/Balgrist/MPM_nonProcessed/axial_skullstripped/NTL-009_ses-03/img_152.png and NPY: /media/sarvagya-pc/2TB HDD/Balgrist/MPM_nonProcessed/axial_skullstripped/NTL-009_ses-03/img_152_normalized.npy\n",
      "Saved resized NPY: /media/sarvagya-pc/2TB HDD/Balgrist/MPM_nonProcessed/axial_skullstripped/NTL-009_ses-03/img_153_normalized.npy\n",
      "Saved PNG: /media/sarvagya-pc/2TB HDD/Balgrist/MPM_nonProcessed/axial_skullstripped/NTL-009_ses-03/img_153.png and NPY: /media/sarvagya-pc/2TB HDD/Balgrist/MPM_nonProcessed/axial_skullstripped/NTL-009_ses-03/img_153_normalized.npy\n",
      "Saved resized NPY: /media/sarvagya-pc/2TB HDD/Balgrist/MPM_nonProcessed/axial_skullstripped/NTL-009_ses-03/img_154_normalized.npy\n",
      "Saved PNG: /media/sarvagya-pc/2TB HDD/Balgrist/MPM_nonProcessed/axial_skullstripped/NTL-009_ses-03/img_154.png and NPY: /media/sarvagya-pc/2TB HDD/Balgrist/MPM_nonProcessed/axial_skullstripped/NTL-009_ses-03/img_154_normalized.npy\n",
      "Saved resized NPY: /media/sarvagya-pc/2TB HDD/Balgrist/MPM_nonProcessed/axial_skullstripped/NTL-009_ses-03/img_155_normalized.npy\n",
      "Saved PNG: /media/sarvagya-pc/2TB HDD/Balgrist/MPM_nonProcessed/axial_skullstripped/NTL-009_ses-03/img_155.png and NPY: /media/sarvagya-pc/2TB HDD/Balgrist/MPM_nonProcessed/axial_skullstripped/NTL-009_ses-03/img_155_normalized.npy\n",
      "Saved resized NPY: /media/sarvagya-pc/2TB HDD/Balgrist/MPM_nonProcessed/axial_skullstripped/NTL-009_ses-03/img_156_normalized.npy\n",
      "Saved PNG: /media/sarvagya-pc/2TB HDD/Balgrist/MPM_nonProcessed/axial_skullstripped/NTL-009_ses-03/img_156.png and NPY: /media/sarvagya-pc/2TB HDD/Balgrist/MPM_nonProcessed/axial_skullstripped/NTL-009_ses-03/img_156_normalized.npy\n",
      "Saved resized NPY: /media/sarvagya-pc/2TB HDD/Balgrist/MPM_nonProcessed/axial_skullstripped/NTL-009_ses-03/img_157_normalized.npy\n",
      "Saved PNG: /media/sarvagya-pc/2TB HDD/Balgrist/MPM_nonProcessed/axial_skullstripped/NTL-009_ses-03/img_157.png and NPY: /media/sarvagya-pc/2TB HDD/Balgrist/MPM_nonProcessed/axial_skullstripped/NTL-009_ses-03/img_157_normalized.npy\n",
      "Saved resized NPY: /media/sarvagya-pc/2TB HDD/Balgrist/MPM_nonProcessed/axial_skullstripped/NTL-009_ses-03/img_158_normalized.npy\n",
      "Saved PNG: /media/sarvagya-pc/2TB HDD/Balgrist/MPM_nonProcessed/axial_skullstripped/NTL-009_ses-03/img_158.png and NPY: /media/sarvagya-pc/2TB HDD/Balgrist/MPM_nonProcessed/axial_skullstripped/NTL-009_ses-03/img_158_normalized.npy\n",
      "Saved resized NPY: /media/sarvagya-pc/2TB HDD/Balgrist/MPM_nonProcessed/axial_skullstripped/NTL-009_ses-03/img_159_normalized.npy\n",
      "Saved PNG: /media/sarvagya-pc/2TB HDD/Balgrist/MPM_nonProcessed/axial_skullstripped/NTL-009_ses-03/img_159.png and NPY: /media/sarvagya-pc/2TB HDD/Balgrist/MPM_nonProcessed/axial_skullstripped/NTL-009_ses-03/img_159_normalized.npy\n",
      "Saved resized NPY: /media/sarvagya-pc/2TB HDD/Balgrist/MPM_nonProcessed/axial_skullstripped/NTL-009_ses-03/img_160_normalized.npy\n",
      "Saved PNG: /media/sarvagya-pc/2TB HDD/Balgrist/MPM_nonProcessed/axial_skullstripped/NTL-009_ses-03/img_160.png and NPY: /media/sarvagya-pc/2TB HDD/Balgrist/MPM_nonProcessed/axial_skullstripped/NTL-009_ses-03/img_160_normalized.npy\n",
      "Saved resized NPY: /media/sarvagya-pc/2TB HDD/Balgrist/MPM_nonProcessed/axial_skullstripped/NTL-009_ses-03/img_161_normalized.npy\n",
      "Saved PNG: /media/sarvagya-pc/2TB HDD/Balgrist/MPM_nonProcessed/axial_skullstripped/NTL-009_ses-03/img_161.png and NPY: /media/sarvagya-pc/2TB HDD/Balgrist/MPM_nonProcessed/axial_skullstripped/NTL-009_ses-03/img_161_normalized.npy\n",
      "Saved resized NPY: /media/sarvagya-pc/2TB HDD/Balgrist/MPM_nonProcessed/axial_skullstripped/NTL-009_ses-03/img_162_normalized.npy\n",
      "Saved PNG: /media/sarvagya-pc/2TB HDD/Balgrist/MPM_nonProcessed/axial_skullstripped/NTL-009_ses-03/img_162.png and NPY: /media/sarvagya-pc/2TB HDD/Balgrist/MPM_nonProcessed/axial_skullstripped/NTL-009_ses-03/img_162_normalized.npy\n",
      "Saved resized NPY: /media/sarvagya-pc/2TB HDD/Balgrist/MPM_nonProcessed/axial_skullstripped/NTL-009_ses-03/img_163_normalized.npy\n",
      "Saved PNG: /media/sarvagya-pc/2TB HDD/Balgrist/MPM_nonProcessed/axial_skullstripped/NTL-009_ses-03/img_163.png and NPY: /media/sarvagya-pc/2TB HDD/Balgrist/MPM_nonProcessed/axial_skullstripped/NTL-009_ses-03/img_163_normalized.npy\n",
      "Saved resized NPY: /media/sarvagya-pc/2TB HDD/Balgrist/MPM_nonProcessed/axial_skullstripped/NTL-009_ses-03/img_164_normalized.npy\n",
      "Saved PNG: /media/sarvagya-pc/2TB HDD/Balgrist/MPM_nonProcessed/axial_skullstripped/NTL-009_ses-03/img_164.png and NPY: /media/sarvagya-pc/2TB HDD/Balgrist/MPM_nonProcessed/axial_skullstripped/NTL-009_ses-03/img_164_normalized.npy\n",
      "Saved resized NPY: /media/sarvagya-pc/2TB HDD/Balgrist/MPM_nonProcessed/axial_skullstripped/NTL-009_ses-03/img_165_normalized.npy\n",
      "Saved PNG: /media/sarvagya-pc/2TB HDD/Balgrist/MPM_nonProcessed/axial_skullstripped/NTL-009_ses-03/img_165.png and NPY: /media/sarvagya-pc/2TB HDD/Balgrist/MPM_nonProcessed/axial_skullstripped/NTL-009_ses-03/img_165_normalized.npy\n",
      "Saved resized NPY: /media/sarvagya-pc/2TB HDD/Balgrist/MPM_nonProcessed/axial_skullstripped/NTL-009_ses-03/img_166_normalized.npy\n",
      "Saved PNG: /media/sarvagya-pc/2TB HDD/Balgrist/MPM_nonProcessed/axial_skullstripped/NTL-009_ses-03/img_166.png and NPY: /media/sarvagya-pc/2TB HDD/Balgrist/MPM_nonProcessed/axial_skullstripped/NTL-009_ses-03/img_166_normalized.npy\n",
      "Saved resized NPY: /media/sarvagya-pc/2TB HDD/Balgrist/MPM_nonProcessed/axial_skullstripped/NTL-009_ses-03/img_167_normalized.npy\n",
      "Saved PNG: /media/sarvagya-pc/2TB HDD/Balgrist/MPM_nonProcessed/axial_skullstripped/NTL-009_ses-03/img_167.png and NPY: /media/sarvagya-pc/2TB HDD/Balgrist/MPM_nonProcessed/axial_skullstripped/NTL-009_ses-03/img_167_normalized.npy\n",
      "Saved resized NPY: /media/sarvagya-pc/2TB HDD/Balgrist/MPM_nonProcessed/axial_skullstripped/NTL-009_ses-03/img_168_normalized.npy\n",
      "Saved PNG: /media/sarvagya-pc/2TB HDD/Balgrist/MPM_nonProcessed/axial_skullstripped/NTL-009_ses-03/img_168.png and NPY: /media/sarvagya-pc/2TB HDD/Balgrist/MPM_nonProcessed/axial_skullstripped/NTL-009_ses-03/img_168_normalized.npy\n",
      "Saved resized NPY: /media/sarvagya-pc/2TB HDD/Balgrist/MPM_nonProcessed/axial_skullstripped/NTL-009_ses-03/img_169_normalized.npy\n",
      "Saved PNG: /media/sarvagya-pc/2TB HDD/Balgrist/MPM_nonProcessed/axial_skullstripped/NTL-009_ses-03/img_169.png and NPY: /media/sarvagya-pc/2TB HDD/Balgrist/MPM_nonProcessed/axial_skullstripped/NTL-009_ses-03/img_169_normalized.npy\n",
      "Saved resized NPY: /media/sarvagya-pc/2TB HDD/Balgrist/MPM_nonProcessed/axial_skullstripped/NTL-009_ses-03/img_170_normalized.npy\n",
      "Saved PNG: /media/sarvagya-pc/2TB HDD/Balgrist/MPM_nonProcessed/axial_skullstripped/NTL-009_ses-03/img_170.png and NPY: /media/sarvagya-pc/2TB HDD/Balgrist/MPM_nonProcessed/axial_skullstripped/NTL-009_ses-03/img_170_normalized.npy\n",
      "Saved resized NPY: /media/sarvagya-pc/2TB HDD/Balgrist/MPM_nonProcessed/axial_skullstripped/NTL-009_ses-03/img_171_normalized.npy\n",
      "Saved PNG: /media/sarvagya-pc/2TB HDD/Balgrist/MPM_nonProcessed/axial_skullstripped/NTL-009_ses-03/img_171.png and NPY: /media/sarvagya-pc/2TB HDD/Balgrist/MPM_nonProcessed/axial_skullstripped/NTL-009_ses-03/img_171_normalized.npy\n",
      "Saved resized NPY: /media/sarvagya-pc/2TB HDD/Balgrist/MPM_nonProcessed/axial_skullstripped/NTL-009_ses-03/img_172_normalized.npy\n",
      "Saved PNG: /media/sarvagya-pc/2TB HDD/Balgrist/MPM_nonProcessed/axial_skullstripped/NTL-009_ses-03/img_172.png and NPY: /media/sarvagya-pc/2TB HDD/Balgrist/MPM_nonProcessed/axial_skullstripped/NTL-009_ses-03/img_172_normalized.npy\n",
      "Saved resized NPY: /media/sarvagya-pc/2TB HDD/Balgrist/MPM_nonProcessed/axial_skullstripped/NTL-009_ses-03/img_173_normalized.npy\n",
      "Saved PNG: /media/sarvagya-pc/2TB HDD/Balgrist/MPM_nonProcessed/axial_skullstripped/NTL-009_ses-03/img_173.png and NPY: /media/sarvagya-pc/2TB HDD/Balgrist/MPM_nonProcessed/axial_skullstripped/NTL-009_ses-03/img_173_normalized.npy\n",
      "Saved resized NPY: /media/sarvagya-pc/2TB HDD/Balgrist/MPM_nonProcessed/axial_skullstripped/NTL-009_ses-03/img_174_normalized.npy\n",
      "Saved PNG: /media/sarvagya-pc/2TB HDD/Balgrist/MPM_nonProcessed/axial_skullstripped/NTL-009_ses-03/img_174.png and NPY: /media/sarvagya-pc/2TB HDD/Balgrist/MPM_nonProcessed/axial_skullstripped/NTL-009_ses-03/img_174_normalized.npy\n",
      "Saved resized NPY: /media/sarvagya-pc/2TB HDD/Balgrist/MPM_nonProcessed/axial_skullstripped/NTL-009_ses-03/img_175_normalized.npy\n",
      "Saved PNG: /media/sarvagya-pc/2TB HDD/Balgrist/MPM_nonProcessed/axial_skullstripped/NTL-009_ses-03/img_175.png and NPY: /media/sarvagya-pc/2TB HDD/Balgrist/MPM_nonProcessed/axial_skullstripped/NTL-009_ses-03/img_175_normalized.npy\n",
      "Saved resized NPY: /media/sarvagya-pc/2TB HDD/Balgrist/MPM_nonProcessed/axial_skullstripped/NTL-009_ses-03/img_176_normalized.npy\n",
      "Saved PNG: /media/sarvagya-pc/2TB HDD/Balgrist/MPM_nonProcessed/axial_skullstripped/NTL-009_ses-03/img_176.png and NPY: /media/sarvagya-pc/2TB HDD/Balgrist/MPM_nonProcessed/axial_skullstripped/NTL-009_ses-03/img_176_normalized.npy\n",
      "Saved resized NPY: /media/sarvagya-pc/2TB HDD/Balgrist/MPM_nonProcessed/axial_skullstripped/NTL-009_ses-03/img_177_normalized.npy\n",
      "Saved PNG: /media/sarvagya-pc/2TB HDD/Balgrist/MPM_nonProcessed/axial_skullstripped/NTL-009_ses-03/img_177.png and NPY: /media/sarvagya-pc/2TB HDD/Balgrist/MPM_nonProcessed/axial_skullstripped/NTL-009_ses-03/img_177_normalized.npy\n",
      "Saved resized NPY: /media/sarvagya-pc/2TB HDD/Balgrist/MPM_nonProcessed/axial_skullstripped/NTL-009_ses-03/img_178_normalized.npy\n",
      "Saved PNG: /media/sarvagya-pc/2TB HDD/Balgrist/MPM_nonProcessed/axial_skullstripped/NTL-009_ses-03/img_178.png and NPY: /media/sarvagya-pc/2TB HDD/Balgrist/MPM_nonProcessed/axial_skullstripped/NTL-009_ses-03/img_178_normalized.npy\n",
      "Saved resized NPY: /media/sarvagya-pc/2TB HDD/Balgrist/MPM_nonProcessed/axial_skullstripped/NTL-009_ses-03/img_179_normalized.npy\n",
      "Saved PNG: /media/sarvagya-pc/2TB HDD/Balgrist/MPM_nonProcessed/axial_skullstripped/NTL-009_ses-03/img_179.png and NPY: /media/sarvagya-pc/2TB HDD/Balgrist/MPM_nonProcessed/axial_skullstripped/NTL-009_ses-03/img_179_normalized.npy\n",
      "Saved resized NPY: /media/sarvagya-pc/2TB HDD/Balgrist/MPM_nonProcessed/axial_skullstripped/NTL-009_ses-03/img_180_normalized.npy\n",
      "Saved PNG: /media/sarvagya-pc/2TB HDD/Balgrist/MPM_nonProcessed/axial_skullstripped/NTL-009_ses-03/img_180.png and NPY: /media/sarvagya-pc/2TB HDD/Balgrist/MPM_nonProcessed/axial_skullstripped/NTL-009_ses-03/img_180_normalized.npy\n",
      "Saved resized NPY: /media/sarvagya-pc/2TB HDD/Balgrist/MPM_nonProcessed/axial_skullstripped/NTL-009_ses-03/img_181_normalized.npy\n",
      "Saved PNG: /media/sarvagya-pc/2TB HDD/Balgrist/MPM_nonProcessed/axial_skullstripped/NTL-009_ses-03/img_181.png and NPY: /media/sarvagya-pc/2TB HDD/Balgrist/MPM_nonProcessed/axial_skullstripped/NTL-009_ses-03/img_181_normalized.npy\n",
      "Saved resized NPY: /media/sarvagya-pc/2TB HDD/Balgrist/MPM_nonProcessed/axial_skullstripped/NTL-009_ses-03/img_182_normalized.npy\n",
      "Saved PNG: /media/sarvagya-pc/2TB HDD/Balgrist/MPM_nonProcessed/axial_skullstripped/NTL-009_ses-03/img_182.png and NPY: /media/sarvagya-pc/2TB HDD/Balgrist/MPM_nonProcessed/axial_skullstripped/NTL-009_ses-03/img_182_normalized.npy\n",
      "Saved resized NPY: /media/sarvagya-pc/2TB HDD/Balgrist/MPM_nonProcessed/axial_skullstripped/NTL-009_ses-03/img_183_normalized.npy\n",
      "Saved PNG: /media/sarvagya-pc/2TB HDD/Balgrist/MPM_nonProcessed/axial_skullstripped/NTL-009_ses-03/img_183.png and NPY: /media/sarvagya-pc/2TB HDD/Balgrist/MPM_nonProcessed/axial_skullstripped/NTL-009_ses-03/img_183_normalized.npy\n",
      "Saved resized NPY: /media/sarvagya-pc/2TB HDD/Balgrist/MPM_nonProcessed/axial_skullstripped/NTL-009_ses-03/img_184_normalized.npy\n",
      "Saved PNG: /media/sarvagya-pc/2TB HDD/Balgrist/MPM_nonProcessed/axial_skullstripped/NTL-009_ses-03/img_184.png and NPY: /media/sarvagya-pc/2TB HDD/Balgrist/MPM_nonProcessed/axial_skullstripped/NTL-009_ses-03/img_184_normalized.npy\n",
      "Saved resized NPY: /media/sarvagya-pc/2TB HDD/Balgrist/MPM_nonProcessed/axial_skullstripped/NTL-009_ses-03/img_185_normalized.npy\n",
      "Saved PNG: /media/sarvagya-pc/2TB HDD/Balgrist/MPM_nonProcessed/axial_skullstripped/NTL-009_ses-03/img_185.png and NPY: /media/sarvagya-pc/2TB HDD/Balgrist/MPM_nonProcessed/axial_skullstripped/NTL-009_ses-03/img_185_normalized.npy\n",
      "Saved resized NPY: /media/sarvagya-pc/2TB HDD/Balgrist/MPM_nonProcessed/axial_skullstripped/NTL-009_ses-03/img_186_normalized.npy\n",
      "Saved PNG: /media/sarvagya-pc/2TB HDD/Balgrist/MPM_nonProcessed/axial_skullstripped/NTL-009_ses-03/img_186.png and NPY: /media/sarvagya-pc/2TB HDD/Balgrist/MPM_nonProcessed/axial_skullstripped/NTL-009_ses-03/img_186_normalized.npy\n",
      "Saved resized NPY: /media/sarvagya-pc/2TB HDD/Balgrist/MPM_nonProcessed/axial_skullstripped/NTL-009_ses-03/img_187_normalized.npy\n",
      "Saved PNG: /media/sarvagya-pc/2TB HDD/Balgrist/MPM_nonProcessed/axial_skullstripped/NTL-009_ses-03/img_187.png and NPY: /media/sarvagya-pc/2TB HDD/Balgrist/MPM_nonProcessed/axial_skullstripped/NTL-009_ses-03/img_187_normalized.npy\n",
      "Saved resized NPY: /media/sarvagya-pc/2TB HDD/Balgrist/MPM_nonProcessed/axial_skullstripped/NTL-009_ses-03/img_188_normalized.npy\n",
      "Saved PNG: /media/sarvagya-pc/2TB HDD/Balgrist/MPM_nonProcessed/axial_skullstripped/NTL-009_ses-03/img_188.png and NPY: /media/sarvagya-pc/2TB HDD/Balgrist/MPM_nonProcessed/axial_skullstripped/NTL-009_ses-03/img_188_normalized.npy\n",
      "Saved resized NPY: /media/sarvagya-pc/2TB HDD/Balgrist/MPM_nonProcessed/axial_skullstripped/NTL-009_ses-03/img_189_normalized.npy\n",
      "Saved PNG: /media/sarvagya-pc/2TB HDD/Balgrist/MPM_nonProcessed/axial_skullstripped/NTL-009_ses-03/img_189.png and NPY: /media/sarvagya-pc/2TB HDD/Balgrist/MPM_nonProcessed/axial_skullstripped/NTL-009_ses-03/img_189_normalized.npy\n",
      "Saved resized NPY: /media/sarvagya-pc/2TB HDD/Balgrist/MPM_nonProcessed/axial_skullstripped/NTL-009_ses-03/img_190_normalized.npy\n",
      "Saved PNG: /media/sarvagya-pc/2TB HDD/Balgrist/MPM_nonProcessed/axial_skullstripped/NTL-009_ses-03/img_190.png and NPY: /media/sarvagya-pc/2TB HDD/Balgrist/MPM_nonProcessed/axial_skullstripped/NTL-009_ses-03/img_190_normalized.npy\n",
      "Saved resized NPY: /media/sarvagya-pc/2TB HDD/Balgrist/MPM_nonProcessed/axial_skullstripped/NTL-009_ses-03/img_191_normalized.npy\n",
      "Saved PNG: /media/sarvagya-pc/2TB HDD/Balgrist/MPM_nonProcessed/axial_skullstripped/NTL-009_ses-03/img_191.png and NPY: /media/sarvagya-pc/2TB HDD/Balgrist/MPM_nonProcessed/axial_skullstripped/NTL-009_ses-03/img_191_normalized.npy\n",
      "Saved resized NPY: /media/sarvagya-pc/2TB HDD/Balgrist/MPM_nonProcessed/axial_skullstripped/NTL-009_ses-03/img_192_normalized.npy\n",
      "Saved PNG: /media/sarvagya-pc/2TB HDD/Balgrist/MPM_nonProcessed/axial_skullstripped/NTL-009_ses-03/img_192.png and NPY: /media/sarvagya-pc/2TB HDD/Balgrist/MPM_nonProcessed/axial_skullstripped/NTL-009_ses-03/img_192_normalized.npy\n",
      "Saved resized NPY: /media/sarvagya-pc/2TB HDD/Balgrist/MPM_nonProcessed/axial_skullstripped/NTL-009_ses-03/img_193_normalized.npy\n",
      "Saved PNG: /media/sarvagya-pc/2TB HDD/Balgrist/MPM_nonProcessed/axial_skullstripped/NTL-009_ses-03/img_193.png and NPY: /media/sarvagya-pc/2TB HDD/Balgrist/MPM_nonProcessed/axial_skullstripped/NTL-009_ses-03/img_193_normalized.npy\n",
      "Saved resized NPY: /media/sarvagya-pc/2TB HDD/Balgrist/MPM_nonProcessed/axial_skullstripped/NTL-009_ses-03/img_194_normalized.npy\n",
      "Saved PNG: /media/sarvagya-pc/2TB HDD/Balgrist/MPM_nonProcessed/axial_skullstripped/NTL-009_ses-03/img_194.png and NPY: /media/sarvagya-pc/2TB HDD/Balgrist/MPM_nonProcessed/axial_skullstripped/NTL-009_ses-03/img_194_normalized.npy\n",
      "Saved resized NPY: /media/sarvagya-pc/2TB HDD/Balgrist/MPM_nonProcessed/axial_skullstripped/NTL-009_ses-03/img_195_normalized.npy\n",
      "Saved PNG: /media/sarvagya-pc/2TB HDD/Balgrist/MPM_nonProcessed/axial_skullstripped/NTL-009_ses-03/img_195.png and NPY: /media/sarvagya-pc/2TB HDD/Balgrist/MPM_nonProcessed/axial_skullstripped/NTL-009_ses-03/img_195_normalized.npy\n",
      "Saved resized NPY: /media/sarvagya-pc/2TB HDD/Balgrist/MPM_nonProcessed/axial_skullstripped/NTL-009_ses-03/img_196_normalized.npy\n",
      "Saved PNG: /media/sarvagya-pc/2TB HDD/Balgrist/MPM_nonProcessed/axial_skullstripped/NTL-009_ses-03/img_196.png and NPY: /media/sarvagya-pc/2TB HDD/Balgrist/MPM_nonProcessed/axial_skullstripped/NTL-009_ses-03/img_196_normalized.npy\n",
      "Saved resized NPY: /media/sarvagya-pc/2TB HDD/Balgrist/MPM_nonProcessed/axial_skullstripped/NTL-009_ses-03/img_197_normalized.npy\n",
      "Saved PNG: /media/sarvagya-pc/2TB HDD/Balgrist/MPM_nonProcessed/axial_skullstripped/NTL-009_ses-03/img_197.png and NPY: /media/sarvagya-pc/2TB HDD/Balgrist/MPM_nonProcessed/axial_skullstripped/NTL-009_ses-03/img_197_normalized.npy\n",
      "Saved resized NPY: /media/sarvagya-pc/2TB HDD/Balgrist/MPM_nonProcessed/axial_skullstripped/NTL-009_ses-03/img_198_normalized.npy\n",
      "Saved PNG: /media/sarvagya-pc/2TB HDD/Balgrist/MPM_nonProcessed/axial_skullstripped/NTL-009_ses-03/img_198.png and NPY: /media/sarvagya-pc/2TB HDD/Balgrist/MPM_nonProcessed/axial_skullstripped/NTL-009_ses-03/img_198_normalized.npy\n",
      "Saved resized NPY: /media/sarvagya-pc/2TB HDD/Balgrist/MPM_nonProcessed/axial_skullstripped/NTL-009_ses-03/img_199_normalized.npy\n",
      "Saved PNG: /media/sarvagya-pc/2TB HDD/Balgrist/MPM_nonProcessed/axial_skullstripped/NTL-009_ses-03/img_199.png and NPY: /media/sarvagya-pc/2TB HDD/Balgrist/MPM_nonProcessed/axial_skullstripped/NTL-009_ses-03/img_199_normalized.npy\n",
      "Saved resized NPY: /media/sarvagya-pc/2TB HDD/Balgrist/MPM_nonProcessed/axial_skullstripped/NTL-009_ses-03/img_200_normalized.npy\n",
      "Saved PNG: /media/sarvagya-pc/2TB HDD/Balgrist/MPM_nonProcessed/axial_skullstripped/NTL-009_ses-03/img_200.png and NPY: /media/sarvagya-pc/2TB HDD/Balgrist/MPM_nonProcessed/axial_skullstripped/NTL-009_ses-03/img_200_normalized.npy\n",
      "Saved resized NPY: /media/sarvagya-pc/2TB HDD/Balgrist/MPM_nonProcessed/axial_skullstripped/NTL-009_ses-03/img_201_normalized.npy\n",
      "Saved PNG: /media/sarvagya-pc/2TB HDD/Balgrist/MPM_nonProcessed/axial_skullstripped/NTL-009_ses-03/img_201.png and NPY: /media/sarvagya-pc/2TB HDD/Balgrist/MPM_nonProcessed/axial_skullstripped/NTL-009_ses-03/img_201_normalized.npy\n",
      "Saved resized NPY: /media/sarvagya-pc/2TB HDD/Balgrist/MPM_nonProcessed/axial_skullstripped/NTL-009_ses-03/img_202_normalized.npy\n",
      "Saved PNG: /media/sarvagya-pc/2TB HDD/Balgrist/MPM_nonProcessed/axial_skullstripped/NTL-009_ses-03/img_202.png and NPY: /media/sarvagya-pc/2TB HDD/Balgrist/MPM_nonProcessed/axial_skullstripped/NTL-009_ses-03/img_202_normalized.npy\n",
      "Saved resized NPY: /media/sarvagya-pc/2TB HDD/Balgrist/MPM_nonProcessed/axial_skullstripped/NTL-009_ses-03/img_203_normalized.npy\n",
      "Saved PNG: /media/sarvagya-pc/2TB HDD/Balgrist/MPM_nonProcessed/axial_skullstripped/NTL-009_ses-03/img_203.png and NPY: /media/sarvagya-pc/2TB HDD/Balgrist/MPM_nonProcessed/axial_skullstripped/NTL-009_ses-03/img_203_normalized.npy\n",
      "Saved resized NPY: /media/sarvagya-pc/2TB HDD/Balgrist/MPM_nonProcessed/axial_skullstripped/NTL-009_ses-03/img_204_normalized.npy\n",
      "Saved PNG: /media/sarvagya-pc/2TB HDD/Balgrist/MPM_nonProcessed/axial_skullstripped/NTL-009_ses-03/img_204.png and NPY: /media/sarvagya-pc/2TB HDD/Balgrist/MPM_nonProcessed/axial_skullstripped/NTL-009_ses-03/img_204_normalized.npy\n",
      "Saved resized NPY: /media/sarvagya-pc/2TB HDD/Balgrist/MPM_nonProcessed/axial_skullstripped/NTL-009_ses-03/img_205_normalized.npy\n",
      "Saved PNG: /media/sarvagya-pc/2TB HDD/Balgrist/MPM_nonProcessed/axial_skullstripped/NTL-009_ses-03/img_205.png and NPY: /media/sarvagya-pc/2TB HDD/Balgrist/MPM_nonProcessed/axial_skullstripped/NTL-009_ses-03/img_205_normalized.npy\n",
      "Saved resized NPY: /media/sarvagya-pc/2TB HDD/Balgrist/MPM_nonProcessed/axial_skullstripped/NTL-009_ses-03/img_206_normalized.npy\n",
      "Saved PNG: /media/sarvagya-pc/2TB HDD/Balgrist/MPM_nonProcessed/axial_skullstripped/NTL-009_ses-03/img_206.png and NPY: /media/sarvagya-pc/2TB HDD/Balgrist/MPM_nonProcessed/axial_skullstripped/NTL-009_ses-03/img_206_normalized.npy\n",
      "Saved resized NPY: /media/sarvagya-pc/2TB HDD/Balgrist/MPM_nonProcessed/axial_skullstripped/NTL-009_ses-03/img_207_normalized.npy\n",
      "Saved PNG: /media/sarvagya-pc/2TB HDD/Balgrist/MPM_nonProcessed/axial_skullstripped/NTL-009_ses-03/img_207.png and NPY: /media/sarvagya-pc/2TB HDD/Balgrist/MPM_nonProcessed/axial_skullstripped/NTL-009_ses-03/img_207_normalized.npy\n",
      "Saved resized NPY: /media/sarvagya-pc/2TB HDD/Balgrist/MPM_nonProcessed/axial_skullstripped/NTL-009_ses-03/img_208_normalized.npy\n",
      "Saved PNG: /media/sarvagya-pc/2TB HDD/Balgrist/MPM_nonProcessed/axial_skullstripped/NTL-009_ses-03/img_208.png and NPY: /media/sarvagya-pc/2TB HDD/Balgrist/MPM_nonProcessed/axial_skullstripped/NTL-009_ses-03/img_208_normalized.npy\n",
      "Saved resized NPY: /media/sarvagya-pc/2TB HDD/Balgrist/MPM_nonProcessed/axial_skullstripped/NTL-009_ses-03/img_209_normalized.npy\n",
      "Saved PNG: /media/sarvagya-pc/2TB HDD/Balgrist/MPM_nonProcessed/axial_skullstripped/NTL-009_ses-03/img_209.png and NPY: /media/sarvagya-pc/2TB HDD/Balgrist/MPM_nonProcessed/axial_skullstripped/NTL-009_ses-03/img_209_normalized.npy\n",
      "Saved resized NPY: /media/sarvagya-pc/2TB HDD/Balgrist/MPM_nonProcessed/axial_skullstripped/NTL-009_ses-03/img_210_normalized.npy\n",
      "Saved PNG: /media/sarvagya-pc/2TB HDD/Balgrist/MPM_nonProcessed/axial_skullstripped/NTL-009_ses-03/img_210.png and NPY: /media/sarvagya-pc/2TB HDD/Balgrist/MPM_nonProcessed/axial_skullstripped/NTL-009_ses-03/img_210_normalized.npy\n",
      "Saved resized NPY: /media/sarvagya-pc/2TB HDD/Balgrist/MPM_nonProcessed/axial_skullstripped/NTL-009_ses-03/img_211_normalized.npy\n",
      "Saved PNG: /media/sarvagya-pc/2TB HDD/Balgrist/MPM_nonProcessed/axial_skullstripped/NTL-009_ses-03/img_211.png and NPY: /media/sarvagya-pc/2TB HDD/Balgrist/MPM_nonProcessed/axial_skullstripped/NTL-009_ses-03/img_211_normalized.npy\n",
      "Saved resized NPY: /media/sarvagya-pc/2TB HDD/Balgrist/MPM_nonProcessed/axial_skullstripped/NTL-009_ses-03/img_212_normalized.npy\n",
      "Saved PNG: /media/sarvagya-pc/2TB HDD/Balgrist/MPM_nonProcessed/axial_skullstripped/NTL-009_ses-03/img_212.png and NPY: /media/sarvagya-pc/2TB HDD/Balgrist/MPM_nonProcessed/axial_skullstripped/NTL-009_ses-03/img_212_normalized.npy\n",
      "Saved resized NPY: /media/sarvagya-pc/2TB HDD/Balgrist/MPM_nonProcessed/axial_skullstripped/NTL-009_ses-03/img_213_normalized.npy\n",
      "Saved PNG: /media/sarvagya-pc/2TB HDD/Balgrist/MPM_nonProcessed/axial_skullstripped/NTL-009_ses-03/img_213.png and NPY: /media/sarvagya-pc/2TB HDD/Balgrist/MPM_nonProcessed/axial_skullstripped/NTL-009_ses-03/img_213_normalized.npy\n",
      "Saved resized NPY: /media/sarvagya-pc/2TB HDD/Balgrist/MPM_nonProcessed/axial_skullstripped/NTL-009_ses-03/img_214_normalized.npy\n",
      "Saved PNG: /media/sarvagya-pc/2TB HDD/Balgrist/MPM_nonProcessed/axial_skullstripped/NTL-009_ses-03/img_214.png and NPY: /media/sarvagya-pc/2TB HDD/Balgrist/MPM_nonProcessed/axial_skullstripped/NTL-009_ses-03/img_214_normalized.npy\n",
      "Saved resized NPY: /media/sarvagya-pc/2TB HDD/Balgrist/MPM_nonProcessed/axial_skullstripped/NTL-009_ses-03/img_215_normalized.npy\n",
      "Saved PNG: /media/sarvagya-pc/2TB HDD/Balgrist/MPM_nonProcessed/axial_skullstripped/NTL-009_ses-03/img_215.png and NPY: /media/sarvagya-pc/2TB HDD/Balgrist/MPM_nonProcessed/axial_skullstripped/NTL-009_ses-03/img_215_normalized.npy\n",
      "Saved resized NPY: /media/sarvagya-pc/2TB HDD/Balgrist/MPM_nonProcessed/axial_skullstripped/NTL-009_ses-03/img_216_normalized.npy\n",
      "Saved PNG: /media/sarvagya-pc/2TB HDD/Balgrist/MPM_nonProcessed/axial_skullstripped/NTL-009_ses-03/img_216.png and NPY: /media/sarvagya-pc/2TB HDD/Balgrist/MPM_nonProcessed/axial_skullstripped/NTL-009_ses-03/img_216_normalized.npy\n",
      "Saved resized NPY: /media/sarvagya-pc/2TB HDD/Balgrist/MPM_nonProcessed/axial_skullstripped/NTL-009_ses-03/img_217_normalized.npy\n",
      "Saved PNG: /media/sarvagya-pc/2TB HDD/Balgrist/MPM_nonProcessed/axial_skullstripped/NTL-009_ses-03/img_217.png and NPY: /media/sarvagya-pc/2TB HDD/Balgrist/MPM_nonProcessed/axial_skullstripped/NTL-009_ses-03/img_217_normalized.npy\n",
      "Saved resized NPY: /media/sarvagya-pc/2TB HDD/Balgrist/MPM_nonProcessed/axial_skullstripped/NTL-009_ses-03/img_218_normalized.npy\n",
      "Saved PNG: /media/sarvagya-pc/2TB HDD/Balgrist/MPM_nonProcessed/axial_skullstripped/NTL-009_ses-03/img_218.png and NPY: /media/sarvagya-pc/2TB HDD/Balgrist/MPM_nonProcessed/axial_skullstripped/NTL-009_ses-03/img_218_normalized.npy\n",
      "Saved resized NPY: /media/sarvagya-pc/2TB HDD/Balgrist/MPM_nonProcessed/axial_skullstripped/NTL-009_ses-03/img_219_normalized.npy\n",
      "Saved PNG: /media/sarvagya-pc/2TB HDD/Balgrist/MPM_nonProcessed/axial_skullstripped/NTL-009_ses-03/img_219.png and NPY: /media/sarvagya-pc/2TB HDD/Balgrist/MPM_nonProcessed/axial_skullstripped/NTL-009_ses-03/img_219_normalized.npy\n"
     ]
    }
   ],
   "source": [
    "# folder = \"/media/sarvagya-pc/2TB HDD/Balgrist/MPM_nonProcessed\"\n",
    "# files = glob(folder+\"/*_skullstripped.nii.gz\")\n",
    "# print(files)\n",
    "# for file in files:\n",
    "#     # print(file)\n",
    "#     data = nb.load(file).get_fdata()\n",
    "#     brain_mask = data > 0\n",
    "#     print(data.shape)\n",
    "#     brain_only_data = data * brain_mask\n",
    "#     folder_img = file.split('/')[-1].split('.')[0].split(\"_\")[1]+'_'+file.split('/')[-1].split('.')[0].split(\"_\")[2]\n",
    "#     # print(folder_img)\n",
    "#     save_folder = folder+'/axial_skullstripped/'+folder_img\n",
    "#     if os.path.exists(save_folder):\n",
    "#         pass\n",
    "#     else:\n",
    "#         print(folder_img)\n",
    "#         os.makedirs(save_folder)\n",
    "\n",
    "#         target_shape = (224, 176)\n",
    "\n",
    "#         # Assuming 'data' contains your NIfTI image data\n",
    "#         for i in range(133, 220, 1):\n",
    "#             test_image = brain_only_data[:, i, :]\n",
    "\n",
    "#             # Convert grayscale to RGB if needed for model input\n",
    "#             test_image_rgb = skimage.color.gray2rgb(test_image)\n",
    "\n",
    "#             # Normalize to [0, 1] for deep learning model input\n",
    "#             test_image_normalized = (test_image_rgb - np.min(test_image_rgb)) / (np.max(test_image_rgb) - np.min(test_image_rgb))\n",
    "\n",
    "#             # Calculate zoom factors to resize to the target shape\n",
    "#             zoom_factors = (\n",
    "#                 target_shape[0] / test_image_normalized.shape[0],\n",
    "#                 target_shape[1] / test_image_normalized.shape[1],\n",
    "#                 1  # No zoom on the RGB channels\n",
    "#             )\n",
    "\n",
    "#             # Resize the normalized image\n",
    "#             resized_image = zoom(test_image_normalized, zoom_factors, order=1)  # `order=1` for bilinear interpolation\n",
    "\n",
    "#             # Save as .npy for deep learning\n",
    "#             np.save(save_folder + f\"/img_{i:03}_normalized.npy\", resized_image)\n",
    "\n",
    "#             print(f\"Saved resized NPY: {save_f8ikjm knxolder}/img_{i:03}_normalized.npy\")\n",
    "#                 # Scale to [0, 255] and convert to uint8 for PNG saving\n",
    "#             test_image_png = (test_image_normalized * 255).astype(np.uint8)\n",
    "\n",
    "#             # Convert to PIL Image and resize\n",
    "#             test_image_png = Image.fromarray(test_image_png).resize((176, 224))\n",
    "\n",
    "#             # Save the image as PNG\n",
    "#             save_path = save_folder + f\"/img_{i:03}.png\"\n",
    "#             test_image_png.save(save_path)\n",
    "\n",
    "#             print(f\"Saved PNG: {save_path} and NPY: {save_folder}/img_{i:03}_normalized.npy\")\n"
   ]
  },
  {
   "cell_type": "code",
   "execution_count": 30,
   "metadata": {},
   "outputs": [],
   "source": [
    "# Load the skull-stripped image\n",
    "skull_stripped_img = nb.load(\"/media/sarvagya-pc/2TB HDD/Balgrist/MPM_nonProcessed/sub_BSL-002_ses-01_map_MTsat_skullstripped.nii.gz\")\n",
    "skull_stripped_data = skull_stripped_img.get_fdata()\n",
    "\n",
    "# Create a binary mask where non-zero values indicate brain region\n",
    "brain_mask = skull_stripped_data > 0"
   ]
  },
  {
   "cell_type": "code",
   "execution_count": 31,
   "metadata": {},
   "outputs": [],
   "source": [
    "brain_only_data = skull_stripped_data * brain_mask"
   ]
  },
  {
   "cell_type": "code",
   "execution_count": 32,
   "metadata": {},
   "outputs": [
    {
     "data": {
      "text/plain": [
       "(224, 256, 176)"
      ]
     },
     "execution_count": 32,
     "metadata": {},
     "output_type": "execute_result"
    }
   ],
   "source": [
    "brain_only_data.shape"
   ]
  },
  {
   "cell_type": "code",
   "execution_count": 45,
   "metadata": {},
   "outputs": [
    {
     "data": {
      "application/javascript": "/* Put everything inside the global mpl namespace */\n/* global mpl */\nwindow.mpl = {};\n\nmpl.get_websocket_type = function () {\n    if (typeof WebSocket !== 'undefined') {\n        return WebSocket;\n    } else if (typeof MozWebSocket !== 'undefined') {\n        return MozWebSocket;\n    } else {\n        alert(\n            'Your browser does not have WebSocket support. ' +\n                'Please try Chrome, Safari or Firefox ≥ 6. ' +\n                'Firefox 4 and 5 are also supported but you ' +\n                'have to enable WebSockets in about:config.'\n        );\n    }\n};\n\nmpl.figure = function (figure_id, websocket, ondownload, parent_element) {\n    this.id = figure_id;\n\n    this.ws = websocket;\n\n    this.supports_binary = this.ws.binaryType !== undefined;\n\n    if (!this.supports_binary) {\n        var warnings = document.getElementById('mpl-warnings');\n        if (warnings) {\n            warnings.style.display = 'block';\n            warnings.textContent =\n                'This browser does not support binary websocket messages. ' +\n                'Performance may be slow.';\n        }\n    }\n\n    this.imageObj = new Image();\n\n    this.context = undefined;\n    this.message = undefined;\n    this.canvas = undefined;\n    this.rubberband_canvas = undefined;\n    this.rubberband_context = undefined;\n    this.format_dropdown = undefined;\n\n    this.image_mode = 'full';\n\n    this.root = document.createElement('div');\n    this.root.setAttribute('style', 'display: inline-block');\n    this._root_extra_style(this.root);\n\n    parent_element.appendChild(this.root);\n\n    this._init_header(this);\n    this._init_canvas(this);\n    this._init_toolbar(this);\n\n    var fig = this;\n\n    this.waiting = false;\n\n    this.ws.onopen = function () {\n        fig.send_message('supports_binary', { value: fig.supports_binary });\n        fig.send_message('send_image_mode', {});\n        if (fig.ratio !== 1) {\n            fig.send_message('set_device_pixel_ratio', {\n                device_pixel_ratio: fig.ratio,\n            });\n        }\n        fig.send_message('refresh', {});\n    };\n\n    this.imageObj.onload = function () {\n        if (fig.image_mode === 'full') {\n            // Full images could contain transparency (where diff images\n            // almost always do), so we need to clear the canvas so that\n            // there is no ghosting.\n            fig.context.clearRect(0, 0, fig.canvas.width, fig.canvas.height);\n        }\n        fig.context.drawImage(fig.imageObj, 0, 0);\n    };\n\n    this.imageObj.onunload = function () {\n        fig.ws.close();\n    };\n\n    this.ws.onmessage = this._make_on_message_function(this);\n\n    this.ondownload = ondownload;\n};\n\nmpl.figure.prototype._init_header = function () {\n    var titlebar = document.createElement('div');\n    titlebar.classList =\n        'ui-dialog-titlebar ui-widget-header ui-corner-all ui-helper-clearfix';\n    var titletext = document.createElement('div');\n    titletext.classList = 'ui-dialog-title';\n    titletext.setAttribute(\n        'style',\n        'width: 100%; text-align: center; padding: 3px;'\n    );\n    titlebar.appendChild(titletext);\n    this.root.appendChild(titlebar);\n    this.header = titletext;\n};\n\nmpl.figure.prototype._canvas_extra_style = function (_canvas_div) {};\n\nmpl.figure.prototype._root_extra_style = function (_canvas_div) {};\n\nmpl.figure.prototype._init_canvas = function () {\n    var fig = this;\n\n    var canvas_div = (this.canvas_div = document.createElement('div'));\n    canvas_div.setAttribute('tabindex', '0');\n    canvas_div.setAttribute(\n        'style',\n        'border: 1px solid #ddd;' +\n            'box-sizing: content-box;' +\n            'clear: both;' +\n            'min-height: 1px;' +\n            'min-width: 1px;' +\n            'outline: 0;' +\n            'overflow: hidden;' +\n            'position: relative;' +\n            'resize: both;' +\n            'z-index: 2;'\n    );\n\n    function on_keyboard_event_closure(name) {\n        return function (event) {\n            return fig.key_event(event, name);\n        };\n    }\n\n    canvas_div.addEventListener(\n        'keydown',\n        on_keyboard_event_closure('key_press')\n    );\n    canvas_div.addEventListener(\n        'keyup',\n        on_keyboard_event_closure('key_release')\n    );\n\n    this._canvas_extra_style(canvas_div);\n    this.root.appendChild(canvas_div);\n\n    var canvas = (this.canvas = document.createElement('canvas'));\n    canvas.classList.add('mpl-canvas');\n    canvas.setAttribute(\n        'style',\n        'box-sizing: content-box;' +\n            'pointer-events: none;' +\n            'position: relative;' +\n            'z-index: 0;'\n    );\n\n    this.context = canvas.getContext('2d');\n\n    var backingStore =\n        this.context.backingStorePixelRatio ||\n        this.context.webkitBackingStorePixelRatio ||\n        this.context.mozBackingStorePixelRatio ||\n        this.context.msBackingStorePixelRatio ||\n        this.context.oBackingStorePixelRatio ||\n        this.context.backingStorePixelRatio ||\n        1;\n\n    this.ratio = (window.devicePixelRatio || 1) / backingStore;\n\n    var rubberband_canvas = (this.rubberband_canvas = document.createElement(\n        'canvas'\n    ));\n    rubberband_canvas.setAttribute(\n        'style',\n        'box-sizing: content-box;' +\n            'left: 0;' +\n            'pointer-events: none;' +\n            'position: absolute;' +\n            'top: 0;' +\n            'z-index: 1;'\n    );\n\n    // Apply a ponyfill if ResizeObserver is not implemented by browser.\n    if (this.ResizeObserver === undefined) {\n        if (window.ResizeObserver !== undefined) {\n            this.ResizeObserver = window.ResizeObserver;\n        } else {\n            var obs = _JSXTOOLS_RESIZE_OBSERVER({});\n            this.ResizeObserver = obs.ResizeObserver;\n        }\n    }\n\n    this.resizeObserverInstance = new this.ResizeObserver(function (entries) {\n        // There's no need to resize if the WebSocket is not connected:\n        // - If it is still connecting, then we will get an initial resize from\n        //   Python once it connects.\n        // - If it has disconnected, then resizing will clear the canvas and\n        //   never get anything back to refill it, so better to not resize and\n        //   keep something visible.\n        if (fig.ws.readyState != 1) {\n            return;\n        }\n        var nentries = entries.length;\n        for (var i = 0; i < nentries; i++) {\n            var entry = entries[i];\n            var width, height;\n            if (entry.contentBoxSize) {\n                if (entry.contentBoxSize instanceof Array) {\n                    // Chrome 84 implements new version of spec.\n                    width = entry.contentBoxSize[0].inlineSize;\n                    height = entry.contentBoxSize[0].blockSize;\n                } else {\n                    // Firefox implements old version of spec.\n                    width = entry.contentBoxSize.inlineSize;\n                    height = entry.contentBoxSize.blockSize;\n                }\n            } else {\n                // Chrome <84 implements even older version of spec.\n                width = entry.contentRect.width;\n                height = entry.contentRect.height;\n            }\n\n            // Keep the size of the canvas and rubber band canvas in sync with\n            // the canvas container.\n            if (entry.devicePixelContentBoxSize) {\n                // Chrome 84 implements new version of spec.\n                canvas.setAttribute(\n                    'width',\n                    entry.devicePixelContentBoxSize[0].inlineSize\n                );\n                canvas.setAttribute(\n                    'height',\n                    entry.devicePixelContentBoxSize[0].blockSize\n                );\n            } else {\n                canvas.setAttribute('width', width * fig.ratio);\n                canvas.setAttribute('height', height * fig.ratio);\n            }\n            /* This rescales the canvas back to display pixels, so that it\n             * appears correct on HiDPI screens. */\n            canvas.style.width = width + 'px';\n            canvas.style.height = height + 'px';\n\n            rubberband_canvas.setAttribute('width', width);\n            rubberband_canvas.setAttribute('height', height);\n\n            // And update the size in Python. We ignore the initial 0/0 size\n            // that occurs as the element is placed into the DOM, which should\n            // otherwise not happen due to the minimum size styling.\n            if (width != 0 && height != 0) {\n                fig.request_resize(width, height);\n            }\n        }\n    });\n    this.resizeObserverInstance.observe(canvas_div);\n\n    function on_mouse_event_closure(name) {\n        /* User Agent sniffing is bad, but WebKit is busted:\n         * https://bugs.webkit.org/show_bug.cgi?id=144526\n         * https://bugs.webkit.org/show_bug.cgi?id=181818\n         * The worst that happens here is that they get an extra browser\n         * selection when dragging, if this check fails to catch them.\n         */\n        var UA = navigator.userAgent;\n        var isWebKit = /AppleWebKit/.test(UA) && !/Chrome/.test(UA);\n        if(isWebKit) {\n            return function (event) {\n                /* This prevents the web browser from automatically changing to\n                 * the text insertion cursor when the button is pressed. We\n                 * want to control all of the cursor setting manually through\n                 * the 'cursor' event from matplotlib */\n                event.preventDefault()\n                return fig.mouse_event(event, name);\n            };\n        } else {\n            return function (event) {\n                return fig.mouse_event(event, name);\n            };\n        }\n    }\n\n    canvas_div.addEventListener(\n        'mousedown',\n        on_mouse_event_closure('button_press')\n    );\n    canvas_div.addEventListener(\n        'mouseup',\n        on_mouse_event_closure('button_release')\n    );\n    canvas_div.addEventListener(\n        'dblclick',\n        on_mouse_event_closure('dblclick')\n    );\n    // Throttle sequential mouse events to 1 every 20ms.\n    canvas_div.addEventListener(\n        'mousemove',\n        on_mouse_event_closure('motion_notify')\n    );\n\n    canvas_div.addEventListener(\n        'mouseenter',\n        on_mouse_event_closure('figure_enter')\n    );\n    canvas_div.addEventListener(\n        'mouseleave',\n        on_mouse_event_closure('figure_leave')\n    );\n\n    canvas_div.addEventListener('wheel', function (event) {\n        if (event.deltaY < 0) {\n            event.step = 1;\n        } else {\n            event.step = -1;\n        }\n        on_mouse_event_closure('scroll')(event);\n    });\n\n    canvas_div.appendChild(canvas);\n    canvas_div.appendChild(rubberband_canvas);\n\n    this.rubberband_context = rubberband_canvas.getContext('2d');\n    this.rubberband_context.strokeStyle = '#000000';\n\n    this._resize_canvas = function (width, height, forward) {\n        if (forward) {\n            canvas_div.style.width = width + 'px';\n            canvas_div.style.height = height + 'px';\n        }\n    };\n\n    // Disable right mouse context menu.\n    canvas_div.addEventListener('contextmenu', function (_e) {\n        event.preventDefault();\n        return false;\n    });\n\n    function set_focus() {\n        canvas.focus();\n        canvas_div.focus();\n    }\n\n    window.setTimeout(set_focus, 100);\n};\n\nmpl.figure.prototype._init_toolbar = function () {\n    var fig = this;\n\n    var toolbar = document.createElement('div');\n    toolbar.classList = 'mpl-toolbar';\n    this.root.appendChild(toolbar);\n\n    function on_click_closure(name) {\n        return function (_event) {\n            return fig.toolbar_button_onclick(name);\n        };\n    }\n\n    function on_mouseover_closure(tooltip) {\n        return function (event) {\n            if (!event.currentTarget.disabled) {\n                return fig.toolbar_button_onmouseover(tooltip);\n            }\n        };\n    }\n\n    fig.buttons = {};\n    var buttonGroup = document.createElement('div');\n    buttonGroup.classList = 'mpl-button-group';\n    for (var toolbar_ind in mpl.toolbar_items) {\n        var name = mpl.toolbar_items[toolbar_ind][0];\n        var tooltip = mpl.toolbar_items[toolbar_ind][1];\n        var image = mpl.toolbar_items[toolbar_ind][2];\n        var method_name = mpl.toolbar_items[toolbar_ind][3];\n\n        if (!name) {\n            /* Instead of a spacer, we start a new button group. */\n            if (buttonGroup.hasChildNodes()) {\n                toolbar.appendChild(buttonGroup);\n            }\n            buttonGroup = document.createElement('div');\n            buttonGroup.classList = 'mpl-button-group';\n            continue;\n        }\n\n        var button = (fig.buttons[name] = document.createElement('button'));\n        button.classList = 'mpl-widget';\n        button.setAttribute('role', 'button');\n        button.setAttribute('aria-disabled', 'false');\n        button.addEventListener('click', on_click_closure(method_name));\n        button.addEventListener('mouseover', on_mouseover_closure(tooltip));\n\n        var icon_img = document.createElement('img');\n        icon_img.src = '_images/' + image + '.png';\n        icon_img.srcset = '_images/' + image + '_large.png 2x';\n        icon_img.alt = tooltip;\n        button.appendChild(icon_img);\n\n        buttonGroup.appendChild(button);\n    }\n\n    if (buttonGroup.hasChildNodes()) {\n        toolbar.appendChild(buttonGroup);\n    }\n\n    var fmt_picker = document.createElement('select');\n    fmt_picker.classList = 'mpl-widget';\n    toolbar.appendChild(fmt_picker);\n    this.format_dropdown = fmt_picker;\n\n    for (var ind in mpl.extensions) {\n        var fmt = mpl.extensions[ind];\n        var option = document.createElement('option');\n        option.selected = fmt === mpl.default_extension;\n        option.innerHTML = fmt;\n        fmt_picker.appendChild(option);\n    }\n\n    var status_bar = document.createElement('span');\n    status_bar.classList = 'mpl-message';\n    toolbar.appendChild(status_bar);\n    this.message = status_bar;\n};\n\nmpl.figure.prototype.request_resize = function (x_pixels, y_pixels) {\n    // Request matplotlib to resize the figure. Matplotlib will then trigger a resize in the client,\n    // which will in turn request a refresh of the image.\n    this.send_message('resize', { width: x_pixels, height: y_pixels });\n};\n\nmpl.figure.prototype.send_message = function (type, properties) {\n    properties['type'] = type;\n    properties['figure_id'] = this.id;\n    this.ws.send(JSON.stringify(properties));\n};\n\nmpl.figure.prototype.send_draw_message = function () {\n    if (!this.waiting) {\n        this.waiting = true;\n        this.ws.send(JSON.stringify({ type: 'draw', figure_id: this.id }));\n    }\n};\n\nmpl.figure.prototype.handle_save = function (fig, _msg) {\n    var format_dropdown = fig.format_dropdown;\n    var format = format_dropdown.options[format_dropdown.selectedIndex].value;\n    fig.ondownload(fig, format);\n};\n\nmpl.figure.prototype.handle_resize = function (fig, msg) {\n    var size = msg['size'];\n    if (size[0] !== fig.canvas.width || size[1] !== fig.canvas.height) {\n        fig._resize_canvas(size[0], size[1], msg['forward']);\n        fig.send_message('refresh', {});\n    }\n};\n\nmpl.figure.prototype.handle_rubberband = function (fig, msg) {\n    var x0 = msg['x0'] / fig.ratio;\n    var y0 = (fig.canvas.height - msg['y0']) / fig.ratio;\n    var x1 = msg['x1'] / fig.ratio;\n    var y1 = (fig.canvas.height - msg['y1']) / fig.ratio;\n    x0 = Math.floor(x0) + 0.5;\n    y0 = Math.floor(y0) + 0.5;\n    x1 = Math.floor(x1) + 0.5;\n    y1 = Math.floor(y1) + 0.5;\n    var min_x = Math.min(x0, x1);\n    var min_y = Math.min(y0, y1);\n    var width = Math.abs(x1 - x0);\n    var height = Math.abs(y1 - y0);\n\n    fig.rubberband_context.clearRect(\n        0,\n        0,\n        fig.canvas.width / fig.ratio,\n        fig.canvas.height / fig.ratio\n    );\n\n    fig.rubberband_context.strokeRect(min_x, min_y, width, height);\n};\n\nmpl.figure.prototype.handle_figure_label = function (fig, msg) {\n    // Updates the figure title.\n    fig.header.textContent = msg['label'];\n};\n\nmpl.figure.prototype.handle_cursor = function (fig, msg) {\n    fig.canvas_div.style.cursor = msg['cursor'];\n};\n\nmpl.figure.prototype.handle_message = function (fig, msg) {\n    fig.message.textContent = msg['message'];\n};\n\nmpl.figure.prototype.handle_draw = function (fig, _msg) {\n    // Request the server to send over a new figure.\n    fig.send_draw_message();\n};\n\nmpl.figure.prototype.handle_image_mode = function (fig, msg) {\n    fig.image_mode = msg['mode'];\n};\n\nmpl.figure.prototype.handle_history_buttons = function (fig, msg) {\n    for (var key in msg) {\n        if (!(key in fig.buttons)) {\n            continue;\n        }\n        fig.buttons[key].disabled = !msg[key];\n        fig.buttons[key].setAttribute('aria-disabled', !msg[key]);\n    }\n};\n\nmpl.figure.prototype.handle_navigate_mode = function (fig, msg) {\n    if (msg['mode'] === 'PAN') {\n        fig.buttons['Pan'].classList.add('active');\n        fig.buttons['Zoom'].classList.remove('active');\n    } else if (msg['mode'] === 'ZOOM') {\n        fig.buttons['Pan'].classList.remove('active');\n        fig.buttons['Zoom'].classList.add('active');\n    } else {\n        fig.buttons['Pan'].classList.remove('active');\n        fig.buttons['Zoom'].classList.remove('active');\n    }\n};\n\nmpl.figure.prototype.updated_canvas_event = function () {\n    // Called whenever the canvas gets updated.\n    this.send_message('ack', {});\n};\n\n// A function to construct a web socket function for onmessage handling.\n// Called in the figure constructor.\nmpl.figure.prototype._make_on_message_function = function (fig) {\n    return function socket_on_message(evt) {\n        if (evt.data instanceof Blob) {\n            var img = evt.data;\n            if (img.type !== 'image/png') {\n                /* FIXME: We get \"Resource interpreted as Image but\n                 * transferred with MIME type text/plain:\" errors on\n                 * Chrome.  But how to set the MIME type?  It doesn't seem\n                 * to be part of the websocket stream */\n                img.type = 'image/png';\n            }\n\n            /* Free the memory for the previous frames */\n            if (fig.imageObj.src) {\n                (window.URL || window.webkitURL).revokeObjectURL(\n                    fig.imageObj.src\n                );\n            }\n\n            fig.imageObj.src = (window.URL || window.webkitURL).createObjectURL(\n                img\n            );\n            fig.updated_canvas_event();\n            fig.waiting = false;\n            return;\n        } else if (\n            typeof evt.data === 'string' &&\n            evt.data.slice(0, 21) === 'data:image/png;base64'\n        ) {\n            fig.imageObj.src = evt.data;\n            fig.updated_canvas_event();\n            fig.waiting = false;\n            return;\n        }\n\n        var msg = JSON.parse(evt.data);\n        var msg_type = msg['type'];\n\n        // Call the  \"handle_{type}\" callback, which takes\n        // the figure and JSON message as its only arguments.\n        try {\n            var callback = fig['handle_' + msg_type];\n        } catch (e) {\n            console.log(\n                \"No handler for the '\" + msg_type + \"' message type: \",\n                msg\n            );\n            return;\n        }\n\n        if (callback) {\n            try {\n                // console.log(\"Handling '\" + msg_type + \"' message: \", msg);\n                callback(fig, msg);\n            } catch (e) {\n                console.log(\n                    \"Exception inside the 'handler_\" + msg_type + \"' callback:\",\n                    e,\n                    e.stack,\n                    msg\n                );\n            }\n        }\n    };\n};\n\nfunction getModifiers(event) {\n    var mods = [];\n    if (event.ctrlKey) {\n        mods.push('ctrl');\n    }\n    if (event.altKey) {\n        mods.push('alt');\n    }\n    if (event.shiftKey) {\n        mods.push('shift');\n    }\n    if (event.metaKey) {\n        mods.push('meta');\n    }\n    return mods;\n}\n\n/*\n * return a copy of an object with only non-object keys\n * we need this to avoid circular references\n * https://stackoverflow.com/a/24161582/3208463\n */\nfunction simpleKeys(original) {\n    return Object.keys(original).reduce(function (obj, key) {\n        if (typeof original[key] !== 'object') {\n            obj[key] = original[key];\n        }\n        return obj;\n    }, {});\n}\n\nmpl.figure.prototype.mouse_event = function (event, name) {\n    if (name === 'button_press') {\n        this.canvas.focus();\n        this.canvas_div.focus();\n    }\n\n    // from https://stackoverflow.com/q/1114465\n    var boundingRect = this.canvas.getBoundingClientRect();\n    var x = (event.clientX - boundingRect.left) * this.ratio;\n    var y = (event.clientY - boundingRect.top) * this.ratio;\n\n    this.send_message(name, {\n        x: x,\n        y: y,\n        button: event.button,\n        step: event.step,\n        modifiers: getModifiers(event),\n        guiEvent: simpleKeys(event),\n    });\n\n    return false;\n};\n\nmpl.figure.prototype._key_event_extra = function (_event, _name) {\n    // Handle any extra behaviour associated with a key event\n};\n\nmpl.figure.prototype.key_event = function (event, name) {\n    // Prevent repeat events\n    if (name === 'key_press') {\n        if (event.key === this._key) {\n            return;\n        } else {\n            this._key = event.key;\n        }\n    }\n    if (name === 'key_release') {\n        this._key = null;\n    }\n\n    var value = '';\n    if (event.ctrlKey && event.key !== 'Control') {\n        value += 'ctrl+';\n    }\n    else if (event.altKey && event.key !== 'Alt') {\n        value += 'alt+';\n    }\n    else if (event.shiftKey && event.key !== 'Shift') {\n        value += 'shift+';\n    }\n\n    value += 'k' + event.key;\n\n    this._key_event_extra(event, name);\n\n    this.send_message(name, { key: value, guiEvent: simpleKeys(event) });\n    return false;\n};\n\nmpl.figure.prototype.toolbar_button_onclick = function (name) {\n    if (name === 'download') {\n        this.handle_save(this, null);\n    } else {\n        this.send_message('toolbar_button', { name: name });\n    }\n};\n\nmpl.figure.prototype.toolbar_button_onmouseover = function (tooltip) {\n    this.message.textContent = tooltip;\n};\n\n///////////////// REMAINING CONTENT GENERATED BY embed_js.py /////////////////\n// prettier-ignore\nvar _JSXTOOLS_RESIZE_OBSERVER=function(A){var t,i=new WeakMap,n=new WeakMap,a=new WeakMap,r=new WeakMap,o=new Set;function s(e){if(!(this instanceof s))throw new TypeError(\"Constructor requires 'new' operator\");i.set(this,e)}function h(){throw new TypeError(\"Function is not a constructor\")}function c(e,t,i,n){e=0 in arguments?Number(arguments[0]):0,t=1 in arguments?Number(arguments[1]):0,i=2 in arguments?Number(arguments[2]):0,n=3 in arguments?Number(arguments[3]):0,this.right=(this.x=this.left=e)+(this.width=i),this.bottom=(this.y=this.top=t)+(this.height=n),Object.freeze(this)}function d(){t=requestAnimationFrame(d);var s=new WeakMap,p=new Set;o.forEach((function(t){r.get(t).forEach((function(i){var r=t instanceof window.SVGElement,o=a.get(t),d=r?0:parseFloat(o.paddingTop),f=r?0:parseFloat(o.paddingRight),l=r?0:parseFloat(o.paddingBottom),u=r?0:parseFloat(o.paddingLeft),g=r?0:parseFloat(o.borderTopWidth),m=r?0:parseFloat(o.borderRightWidth),w=r?0:parseFloat(o.borderBottomWidth),b=u+f,F=d+l,v=(r?0:parseFloat(o.borderLeftWidth))+m,W=g+w,y=r?0:t.offsetHeight-W-t.clientHeight,E=r?0:t.offsetWidth-v-t.clientWidth,R=b+v,z=F+W,M=r?t.width:parseFloat(o.width)-R-E,O=r?t.height:parseFloat(o.height)-z-y;if(n.has(t)){var k=n.get(t);if(k[0]===M&&k[1]===O)return}n.set(t,[M,O]);var S=Object.create(h.prototype);S.target=t,S.contentRect=new c(u,d,M,O),s.has(i)||(s.set(i,[]),p.add(i)),s.get(i).push(S)}))})),p.forEach((function(e){i.get(e).call(e,s.get(e),e)}))}return s.prototype.observe=function(i){if(i instanceof window.Element){r.has(i)||(r.set(i,new Set),o.add(i),a.set(i,window.getComputedStyle(i)));var n=r.get(i);n.has(this)||n.add(this),cancelAnimationFrame(t),t=requestAnimationFrame(d)}},s.prototype.unobserve=function(i){if(i instanceof window.Element&&r.has(i)){var n=r.get(i);n.has(this)&&(n.delete(this),n.size||(r.delete(i),o.delete(i))),n.size||r.delete(i),o.size||cancelAnimationFrame(t)}},A.DOMRectReadOnly=c,A.ResizeObserver=s,A.ResizeObserverEntry=h,A}; // eslint-disable-line\nmpl.toolbar_items = [[\"Home\", \"Reset original view\", \"fa fa-home\", \"home\"], [\"Back\", \"Back to previous view\", \"fa fa-arrow-left\", \"back\"], [\"Forward\", \"Forward to next view\", \"fa fa-arrow-right\", \"forward\"], [\"\", \"\", \"\", \"\"], [\"Pan\", \"Left button pans, Right button zooms\\nx/y fixes axis, CTRL fixes aspect\", \"fa fa-arrows\", \"pan\"], [\"Zoom\", \"Zoom to rectangle\\nx/y fixes axis\", \"fa fa-square-o\", \"zoom\"], [\"\", \"\", \"\", \"\"], [\"Download\", \"Download plot\", \"fa fa-floppy-o\", \"download\"]];\n\nmpl.extensions = [\"eps\", \"jpeg\", \"pgf\", \"pdf\", \"png\", \"ps\", \"raw\", \"svg\", \"tif\", \"webp\"];\n\nmpl.default_extension = \"png\";/* global mpl */\n\nvar comm_websocket_adapter = function (comm) {\n    // Create a \"websocket\"-like object which calls the given IPython comm\n    // object with the appropriate methods. Currently this is a non binary\n    // socket, so there is still some room for performance tuning.\n    var ws = {};\n\n    ws.binaryType = comm.kernel.ws.binaryType;\n    ws.readyState = comm.kernel.ws.readyState;\n    function updateReadyState(_event) {\n        if (comm.kernel.ws) {\n            ws.readyState = comm.kernel.ws.readyState;\n        } else {\n            ws.readyState = 3; // Closed state.\n        }\n    }\n    comm.kernel.ws.addEventListener('open', updateReadyState);\n    comm.kernel.ws.addEventListener('close', updateReadyState);\n    comm.kernel.ws.addEventListener('error', updateReadyState);\n\n    ws.close = function () {\n        comm.close();\n    };\n    ws.send = function (m) {\n        //console.log('sending', m);\n        comm.send(m);\n    };\n    // Register the callback with on_msg.\n    comm.on_msg(function (msg) {\n        //console.log('receiving', msg['content']['data'], msg);\n        var data = msg['content']['data'];\n        if (data['blob'] !== undefined) {\n            data = {\n                data: new Blob(msg['buffers'], { type: data['blob'] }),\n            };\n        }\n        // Pass the mpl event to the overridden (by mpl) onmessage function.\n        ws.onmessage(data);\n    });\n    return ws;\n};\n\nmpl.mpl_figure_comm = function (comm, msg) {\n    // This is the function which gets called when the mpl process\n    // starts-up an IPython Comm through the \"matplotlib\" channel.\n\n    var id = msg.content.data.id;\n    // Get hold of the div created by the display call when the Comm\n    // socket was opened in Python.\n    var element = document.getElementById(id);\n    var ws_proxy = comm_websocket_adapter(comm);\n\n    function ondownload(figure, _format) {\n        window.open(figure.canvas.toDataURL());\n    }\n\n    var fig = new mpl.figure(id, ws_proxy, ondownload, element);\n\n    // Call onopen now - mpl needs it, as it is assuming we've passed it a real\n    // web socket which is closed, not our websocket->open comm proxy.\n    ws_proxy.onopen();\n\n    fig.parent_element = element;\n    fig.cell_info = mpl.find_output_cell(\"<div id='\" + id + \"'></div>\");\n    if (!fig.cell_info) {\n        console.error('Failed to find cell for figure', id, fig);\n        return;\n    }\n    fig.cell_info[0].output_area.element.on(\n        'cleared',\n        { fig: fig },\n        fig._remove_fig_handler\n    );\n};\n\nmpl.figure.prototype.handle_close = function (fig, msg) {\n    var width = fig.canvas.width / fig.ratio;\n    fig.cell_info[0].output_area.element.off(\n        'cleared',\n        fig._remove_fig_handler\n    );\n    fig.resizeObserverInstance.unobserve(fig.canvas_div);\n\n    // Update the output cell to use the data from the current canvas.\n    fig.push_to_output();\n    var dataURL = fig.canvas.toDataURL();\n    // Re-enable the keyboard manager in IPython - without this line, in FF,\n    // the notebook keyboard shortcuts fail.\n    IPython.keyboard_manager.enable();\n    fig.parent_element.innerHTML =\n        '<img src=\"' + dataURL + '\" width=\"' + width + '\">';\n    fig.close_ws(fig, msg);\n};\n\nmpl.figure.prototype.close_ws = function (fig, msg) {\n    fig.send_message('closing', msg);\n    // fig.ws.close()\n};\n\nmpl.figure.prototype.push_to_output = function (_remove_interactive) {\n    // Turn the data on the canvas into data in the output cell.\n    var width = this.canvas.width / this.ratio;\n    var dataURL = this.canvas.toDataURL();\n    this.cell_info[1]['text/html'] =\n        '<img src=\"' + dataURL + '\" width=\"' + width + '\">';\n};\n\nmpl.figure.prototype.updated_canvas_event = function () {\n    // Tell IPython that the notebook contents must change.\n    IPython.notebook.set_dirty(true);\n    this.send_message('ack', {});\n    var fig = this;\n    // Wait a second, then push the new image to the DOM so\n    // that it is saved nicely (might be nice to debounce this).\n    setTimeout(function () {\n        fig.push_to_output();\n    }, 1000);\n};\n\nmpl.figure.prototype._init_toolbar = function () {\n    var fig = this;\n\n    var toolbar = document.createElement('div');\n    toolbar.classList = 'btn-toolbar';\n    this.root.appendChild(toolbar);\n\n    function on_click_closure(name) {\n        return function (_event) {\n            return fig.toolbar_button_onclick(name);\n        };\n    }\n\n    function on_mouseover_closure(tooltip) {\n        return function (event) {\n            if (!event.currentTarget.disabled) {\n                return fig.toolbar_button_onmouseover(tooltip);\n            }\n        };\n    }\n\n    fig.buttons = {};\n    var buttonGroup = document.createElement('div');\n    buttonGroup.classList = 'btn-group';\n    var button;\n    for (var toolbar_ind in mpl.toolbar_items) {\n        var name = mpl.toolbar_items[toolbar_ind][0];\n        var tooltip = mpl.toolbar_items[toolbar_ind][1];\n        var image = mpl.toolbar_items[toolbar_ind][2];\n        var method_name = mpl.toolbar_items[toolbar_ind][3];\n\n        if (!name) {\n            /* Instead of a spacer, we start a new button group. */\n            if (buttonGroup.hasChildNodes()) {\n                toolbar.appendChild(buttonGroup);\n            }\n            buttonGroup = document.createElement('div');\n            buttonGroup.classList = 'btn-group';\n            continue;\n        }\n\n        button = fig.buttons[name] = document.createElement('button');\n        button.classList = 'btn btn-default';\n        button.href = '#';\n        button.title = name;\n        button.innerHTML = '<i class=\"fa ' + image + ' fa-lg\"></i>';\n        button.addEventListener('click', on_click_closure(method_name));\n        button.addEventListener('mouseover', on_mouseover_closure(tooltip));\n        buttonGroup.appendChild(button);\n    }\n\n    if (buttonGroup.hasChildNodes()) {\n        toolbar.appendChild(buttonGroup);\n    }\n\n    // Add the status bar.\n    var status_bar = document.createElement('span');\n    status_bar.classList = 'mpl-message pull-right';\n    toolbar.appendChild(status_bar);\n    this.message = status_bar;\n\n    // Add the close button to the window.\n    var buttongrp = document.createElement('div');\n    buttongrp.classList = 'btn-group inline pull-right';\n    button = document.createElement('button');\n    button.classList = 'btn btn-mini btn-primary';\n    button.href = '#';\n    button.title = 'Stop Interaction';\n    button.innerHTML = '<i class=\"fa fa-power-off icon-remove icon-large\"></i>';\n    button.addEventListener('click', function (_evt) {\n        fig.handle_close(fig, {});\n    });\n    button.addEventListener(\n        'mouseover',\n        on_mouseover_closure('Stop Interaction')\n    );\n    buttongrp.appendChild(button);\n    var titlebar = this.root.querySelector('.ui-dialog-titlebar');\n    titlebar.insertBefore(buttongrp, titlebar.firstChild);\n};\n\nmpl.figure.prototype._remove_fig_handler = function (event) {\n    var fig = event.data.fig;\n    if (event.target !== this) {\n        // Ignore bubbled events from children.\n        return;\n    }\n    fig.close_ws(fig, {});\n};\n\nmpl.figure.prototype._root_extra_style = function (el) {\n    el.style.boxSizing = 'content-box'; // override notebook setting of border-box.\n};\n\nmpl.figure.prototype._canvas_extra_style = function (el) {\n    // this is important to make the div 'focusable\n    el.setAttribute('tabindex', 0);\n    // reach out to IPython and tell the keyboard manager to turn it's self\n    // off when our div gets focus\n\n    // location in version 3\n    if (IPython.notebook.keyboard_manager) {\n        IPython.notebook.keyboard_manager.register_events(el);\n    } else {\n        // location in version 2\n        IPython.keyboard_manager.register_events(el);\n    }\n};\n\nmpl.figure.prototype._key_event_extra = function (event, _name) {\n    // Check for shift+enter\n    if (event.shiftKey && event.which === 13) {\n        this.canvas_div.blur();\n        // select the cell after this one\n        var index = IPython.notebook.find_cell_index(this.cell_info[0]);\n        IPython.notebook.select(index + 1);\n    }\n};\n\nmpl.figure.prototype.handle_save = function (fig, _msg) {\n    fig.ondownload(fig, null);\n};\n\nmpl.find_output_cell = function (html_output) {\n    // Return the cell and output element which can be found *uniquely* in the notebook.\n    // Note - this is a bit hacky, but it is done because the \"notebook_saving.Notebook\"\n    // IPython event is triggered only after the cells have been serialised, which for\n    // our purposes (turning an active figure into a static one), is too late.\n    var cells = IPython.notebook.get_cells();\n    var ncells = cells.length;\n    for (var i = 0; i < ncells; i++) {\n        var cell = cells[i];\n        if (cell.cell_type === 'code') {\n            for (var j = 0; j < cell.output_area.outputs.length; j++) {\n                var data = cell.output_area.outputs[j];\n                if (data.data) {\n                    // IPython >= 3 moved mimebundle to data attribute of output\n                    data = data.data;\n                }\n                if (data['text/html'] === html_output) {\n                    return [cell, data, j];\n                }\n            }\n        }\n    }\n};\n\n// Register the function which deals with the matplotlib target/channel.\n// The kernel may be null if the page has been refreshed.\nif (IPython.notebook.kernel !== null) {\n    IPython.notebook.kernel.comm_manager.register_target(\n        'matplotlib',\n        mpl.mpl_figure_comm\n    );\n}\n",
      "text/plain": [
       "<IPython.core.display.Javascript object>"
      ]
     },
     "metadata": {},
     "output_type": "display_data"
    },
    {
     "data": {
      "text/html": [
       "<div id='24a6b059-8e6d-44f6-ad57-91f7b9690f1f'></div>"
      ],
      "text/plain": [
       "<IPython.core.display.HTML object>"
      ]
     },
     "metadata": {},
     "output_type": "display_data"
    }
   ],
   "source": [
    "plt.imshow(brain_only_data[:,155,:])\n",
    "plt.show()\n",
    "\n",
    "# def format_coord(x, y):\n",
    "#     # Display pixel value on hover\n",
    "#     x, y = int(x + 0.5), int(y + 0.5)\n",
    "#     if 0 <= x < slice_data.shape[1] and 0 <= y < slice_data.shape[0]:\n",
    "#         return f\"x={x}, y={y}, value={slice_data[y, x]:.2f}\"\n",
    "#     else:\n",
    "#         return f\"x={x}, y={y}\"\n",
    "\n",
    "# ax.format_coord = format_coord  # Set custom hover text\n",
    "# plt.colorbar(brain_only_data[:,155,:], ax=ax)  # Add color bar for intensity reference\n",
    "# plt.show()"
   ]
  },
  {
   "cell_type": "code",
   "execution_count": 58,
   "metadata": {},
   "outputs": [
    {
     "data": {
      "application/vnd.plotly.v1+json": {
       "config": {
        "plotlyServerURL": "https://plot.ly"
       },
       "data": [
        {
         "hovertemplate": "x: %{x}<br>y: %{y}<extra></extra>",
         "name": "0",
         "source": "data:image/png;base64,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",
         "type": "image",
         "xaxis": "x",
         "yaxis": "y"
        }
       ],
       "layout": {
        "coloraxis": {
         "showscale": true
        },
        "margin": {
         "t": 60
        },
        "template": {
         "data": {
          "bar": [
           {
            "error_x": {
             "color": "#2a3f5f"
            },
            "error_y": {
             "color": "#2a3f5f"
            },
            "marker": {
             "line": {
              "color": "#E5ECF6",
              "width": 0.5
             },
             "pattern": {
              "fillmode": "overlay",
              "size": 10,
              "solidity": 0.2
             }
            },
            "type": "bar"
           }
          ],
          "barpolar": [
           {
            "marker": {
             "line": {
              "color": "#E5ECF6",
              "width": 0.5
             },
             "pattern": {
              "fillmode": "overlay",
              "size": 10,
              "solidity": 0.2
             }
            },
            "type": "barpolar"
           }
          ],
          "carpet": [
           {
            "aaxis": {
             "endlinecolor": "#2a3f5f",
             "gridcolor": "white",
             "linecolor": "white",
             "minorgridcolor": "white",
             "startlinecolor": "#2a3f5f"
            },
            "baxis": {
             "endlinecolor": "#2a3f5f",
             "gridcolor": "white",
             "linecolor": "white",
             "minorgridcolor": "white",
             "startlinecolor": "#2a3f5f"
            },
            "type": "carpet"
           }
          ],
          "choropleth": [
           {
            "colorbar": {
             "outlinewidth": 0,
             "ticks": ""
            },
            "type": "choropleth"
           }
          ],
          "contour": [
           {
            "colorbar": {
             "outlinewidth": 0,
             "ticks": ""
            },
            "colorscale": [
             [
              0,
              "#0d0887"
             ],
             [
              0.1111111111111111,
              "#46039f"
             ],
             [
              0.2222222222222222,
              "#7201a8"
             ],
             [
              0.3333333333333333,
              "#9c179e"
             ],
             [
              0.4444444444444444,
              "#bd3786"
             ],
             [
              0.5555555555555556,
              "#d8576b"
             ],
             [
              0.6666666666666666,
              "#ed7953"
             ],
             [
              0.7777777777777778,
              "#fb9f3a"
             ],
             [
              0.8888888888888888,
              "#fdca26"
             ],
             [
              1,
              "#f0f921"
             ]
            ],
            "type": "contour"
           }
          ],
          "contourcarpet": [
           {
            "colorbar": {
             "outlinewidth": 0,
             "ticks": ""
            },
            "type": "contourcarpet"
           }
          ],
          "heatmap": [
           {
            "colorbar": {
             "outlinewidth": 0,
             "ticks": ""
            },
            "colorscale": [
             [
              0,
              "#0d0887"
             ],
             [
              0.1111111111111111,
              "#46039f"
             ],
             [
              0.2222222222222222,
              "#7201a8"
             ],
             [
              0.3333333333333333,
              "#9c179e"
             ],
             [
              0.4444444444444444,
              "#bd3786"
             ],
             [
              0.5555555555555556,
              "#d8576b"
             ],
             [
              0.6666666666666666,
              "#ed7953"
             ],
             [
              0.7777777777777778,
              "#fb9f3a"
             ],
             [
              0.8888888888888888,
              "#fdca26"
             ],
             [
              1,
              "#f0f921"
             ]
            ],
            "type": "heatmap"
           }
          ],
          "heatmapgl": [
           {
            "colorbar": {
             "outlinewidth": 0,
             "ticks": ""
            },
            "colorscale": [
             [
              0,
              "#0d0887"
             ],
             [
              0.1111111111111111,
              "#46039f"
             ],
             [
              0.2222222222222222,
              "#7201a8"
             ],
             [
              0.3333333333333333,
              "#9c179e"
             ],
             [
              0.4444444444444444,
              "#bd3786"
             ],
             [
              0.5555555555555556,
              "#d8576b"
             ],
             [
              0.6666666666666666,
              "#ed7953"
             ],
             [
              0.7777777777777778,
              "#fb9f3a"
             ],
             [
              0.8888888888888888,
              "#fdca26"
             ],
             [
              1,
              "#f0f921"
             ]
            ],
            "type": "heatmapgl"
           }
          ],
          "histogram": [
           {
            "marker": {
             "pattern": {
              "fillmode": "overlay",
              "size": 10,
              "solidity": 0.2
             }
            },
            "type": "histogram"
           }
          ],
          "histogram2d": [
           {
            "colorbar": {
             "outlinewidth": 0,
             "ticks": ""
            },
            "colorscale": [
             [
              0,
              "#0d0887"
             ],
             [
              0.1111111111111111,
              "#46039f"
             ],
             [
              0.2222222222222222,
              "#7201a8"
             ],
             [
              0.3333333333333333,
              "#9c179e"
             ],
             [
              0.4444444444444444,
              "#bd3786"
             ],
             [
              0.5555555555555556,
              "#d8576b"
             ],
             [
              0.6666666666666666,
              "#ed7953"
             ],
             [
              0.7777777777777778,
              "#fb9f3a"
             ],
             [
              0.8888888888888888,
              "#fdca26"
             ],
             [
              1,
              "#f0f921"
             ]
            ],
            "type": "histogram2d"
           }
          ],
          "histogram2dcontour": [
           {
            "colorbar": {
             "outlinewidth": 0,
             "ticks": ""
            },
            "colorscale": [
             [
              0,
              "#0d0887"
             ],
             [
              0.1111111111111111,
              "#46039f"
             ],
             [
              0.2222222222222222,
              "#7201a8"
             ],
             [
              0.3333333333333333,
              "#9c179e"
             ],
             [
              0.4444444444444444,
              "#bd3786"
             ],
             [
              0.5555555555555556,
              "#d8576b"
             ],
             [
              0.6666666666666666,
              "#ed7953"
             ],
             [
              0.7777777777777778,
              "#fb9f3a"
             ],
             [
              0.8888888888888888,
              "#fdca26"
             ],
             [
              1,
              "#f0f921"
             ]
            ],
            "type": "histogram2dcontour"
           }
          ],
          "mesh3d": [
           {
            "colorbar": {
             "outlinewidth": 0,
             "ticks": ""
            },
            "type": "mesh3d"
           }
          ],
          "parcoords": [
           {
            "line": {
             "colorbar": {
              "outlinewidth": 0,
              "ticks": ""
             }
            },
            "type": "parcoords"
           }
          ],
          "pie": [
           {
            "automargin": true,
            "type": "pie"
           }
          ],
          "scatter": [
           {
            "fillpattern": {
             "fillmode": "overlay",
             "size": 10,
             "solidity": 0.2
            },
            "type": "scatter"
           }
          ],
          "scatter3d": [
           {
            "line": {
             "colorbar": {
              "outlinewidth": 0,
              "ticks": ""
             }
            },
            "marker": {
             "colorbar": {
              "outlinewidth": 0,
              "ticks": ""
             }
            },
            "type": "scatter3d"
           }
          ],
          "scattercarpet": [
           {
            "marker": {
             "colorbar": {
              "outlinewidth": 0,
              "ticks": ""
             }
            },
            "type": "scattercarpet"
           }
          ],
          "scattergeo": [
           {
            "marker": {
             "colorbar": {
              "outlinewidth": 0,
              "ticks": ""
             }
            },
            "type": "scattergeo"
           }
          ],
          "scattergl": [
           {
            "marker": {
             "colorbar": {
              "outlinewidth": 0,
              "ticks": ""
             }
            },
            "type": "scattergl"
           }
          ],
          "scattermapbox": [
           {
            "marker": {
             "colorbar": {
              "outlinewidth": 0,
              "ticks": ""
             }
            },
            "type": "scattermapbox"
           }
          ],
          "scatterpolar": [
           {
            "marker": {
             "colorbar": {
              "outlinewidth": 0,
              "ticks": ""
             }
            },
            "type": "scatterpolar"
           }
          ],
          "scatterpolargl": [
           {
            "marker": {
             "colorbar": {
              "outlinewidth": 0,
              "ticks": ""
             }
            },
            "type": "scatterpolargl"
           }
          ],
          "scatterternary": [
           {
            "marker": {
             "colorbar": {
              "outlinewidth": 0,
              "ticks": ""
             }
            },
            "type": "scatterternary"
           }
          ],
          "surface": [
           {
            "colorbar": {
             "outlinewidth": 0,
             "ticks": ""
            },
            "colorscale": [
             [
              0,
              "#0d0887"
             ],
             [
              0.1111111111111111,
              "#46039f"
             ],
             [
              0.2222222222222222,
              "#7201a8"
             ],
             [
              0.3333333333333333,
              "#9c179e"
             ],
             [
              0.4444444444444444,
              "#bd3786"
             ],
             [
              0.5555555555555556,
              "#d8576b"
             ],
             [
              0.6666666666666666,
              "#ed7953"
             ],
             [
              0.7777777777777778,
              "#fb9f3a"
             ],
             [
              0.8888888888888888,
              "#fdca26"
             ],
             [
              1,
              "#f0f921"
             ]
            ],
            "type": "surface"
           }
          ],
          "table": [
           {
            "cells": {
             "fill": {
              "color": "#EBF0F8"
             },
             "line": {
              "color": "white"
             }
            },
            "header": {
             "fill": {
              "color": "#C8D4E3"
             },
             "line": {
              "color": "white"
             }
            },
            "type": "table"
           }
          ]
         },
         "layout": {
          "annotationdefaults": {
           "arrowcolor": "#2a3f5f",
           "arrowhead": 0,
           "arrowwidth": 1
          },
          "autotypenumbers": "strict",
          "coloraxis": {
           "colorbar": {
            "outlinewidth": 0,
            "ticks": ""
           }
          },
          "colorscale": {
           "diverging": [
            [
             0,
             "#8e0152"
            ],
            [
             0.1,
             "#c51b7d"
            ],
            [
             0.2,
             "#de77ae"
            ],
            [
             0.3,
             "#f1b6da"
            ],
            [
             0.4,
             "#fde0ef"
            ],
            [
             0.5,
             "#f7f7f7"
            ],
            [
             0.6,
             "#e6f5d0"
            ],
            [
             0.7,
             "#b8e186"
            ],
            [
             0.8,
             "#7fbc41"
            ],
            [
             0.9,
             "#4d9221"
            ],
            [
             1,
             "#276419"
            ]
           ],
           "sequential": [
            [
             0,
             "#0d0887"
            ],
            [
             0.1111111111111111,
             "#46039f"
            ],
            [
             0.2222222222222222,
             "#7201a8"
            ],
            [
             0.3333333333333333,
             "#9c179e"
            ],
            [
             0.4444444444444444,
             "#bd3786"
            ],
            [
             0.5555555555555556,
             "#d8576b"
            ],
            [
             0.6666666666666666,
             "#ed7953"
            ],
            [
             0.7777777777777778,
             "#fb9f3a"
            ],
            [
             0.8888888888888888,
             "#fdca26"
            ],
            [
             1,
             "#f0f921"
            ]
           ],
           "sequentialminus": [
            [
             0,
             "#0d0887"
            ],
            [
             0.1111111111111111,
             "#46039f"
            ],
            [
             0.2222222222222222,
             "#7201a8"
            ],
            [
             0.3333333333333333,
             "#9c179e"
            ],
            [
             0.4444444444444444,
             "#bd3786"
            ],
            [
             0.5555555555555556,
             "#d8576b"
            ],
            [
             0.6666666666666666,
             "#ed7953"
            ],
            [
             0.7777777777777778,
             "#fb9f3a"
            ],
            [
             0.8888888888888888,
             "#fdca26"
            ],
            [
             1,
             "#f0f921"
            ]
           ]
          },
          "colorway": [
           "#636efa",
           "#EF553B",
           "#00cc96",
           "#ab63fa",
           "#FFA15A",
           "#19d3f3",
           "#FF6692",
           "#B6E880",
           "#FF97FF",
           "#FECB52"
          ],
          "font": {
           "color": "#2a3f5f"
          },
          "geo": {
           "bgcolor": "white",
           "lakecolor": "white",
           "landcolor": "#E5ECF6",
           "showlakes": true,
           "showland": true,
           "subunitcolor": "white"
          },
          "hoverlabel": {
           "align": "left"
          },
          "hovermode": "closest",
          "mapbox": {
           "style": "light"
          },
          "paper_bgcolor": "white",
          "plot_bgcolor": "#E5ECF6",
          "polar": {
           "angularaxis": {
            "gridcolor": "white",
            "linecolor": "white",
            "ticks": ""
           },
           "bgcolor": "#E5ECF6",
           "radialaxis": {
            "gridcolor": "white",
            "linecolor": "white",
            "ticks": ""
           }
          },
          "scene": {
           "xaxis": {
            "backgroundcolor": "#E5ECF6",
            "gridcolor": "white",
            "gridwidth": 2,
            "linecolor": "white",
            "showbackground": true,
            "ticks": "",
            "zerolinecolor": "white"
           },
           "yaxis": {
            "backgroundcolor": "#E5ECF6",
            "gridcolor": "white",
            "gridwidth": 2,
            "linecolor": "white",
            "showbackground": true,
            "ticks": "",
            "zerolinecolor": "white"
           },
           "zaxis": {
            "backgroundcolor": "#E5ECF6",
            "gridcolor": "white",
            "gridwidth": 2,
            "linecolor": "white",
            "showbackground": true,
            "ticks": "",
            "zerolinecolor": "white"
           }
          },
          "shapedefaults": {
           "line": {
            "color": "#2a3f5f"
           }
          },
          "ternary": {
           "aaxis": {
            "gridcolor": "white",
            "linecolor": "white",
            "ticks": ""
           },
           "baxis": {
            "gridcolor": "white",
            "linecolor": "white",
            "ticks": ""
           },
           "bgcolor": "#E5ECF6",
           "caxis": {
            "gridcolor": "white",
            "linecolor": "white",
            "ticks": ""
           }
          },
          "title": {
           "x": 0.05
          },
          "xaxis": {
           "automargin": true,
           "gridcolor": "white",
           "linecolor": "white",
           "ticks": "",
           "title": {
            "standoff": 15
           },
           "zerolinecolor": "white",
           "zerolinewidth": 2
          },
          "yaxis": {
           "automargin": true,
           "gridcolor": "white",
           "linecolor": "white",
           "ticks": "",
           "title": {
            "standoff": 15
           },
           "zerolinecolor": "white",
           "zerolinewidth": 2
          }
         }
        },
        "xaxis": {
         "anchor": "y",
         "domain": [
          0,
          1
         ]
        },
        "yaxis": {
         "anchor": "x",
         "domain": [
          0,
          1
         ]
        }
       }
      }
     },
     "metadata": {},
     "output_type": "display_data"
    }
   ],
   "source": [
    "img = np.load(\"/media/sarvagya-pc/2TB HDD/Balgrist/MPM_nonProcessed/axial_skullstripped/BSL-002_ses-02/img_133_normalized.npy\")\n",
    "# fig = px.imshow(brain_only_data[:,200,:])\n",
    "fig = px.imshow(img)\n",
    "fig.update_layout(coloraxis_showscale=True)  # Optional: show intensity scale\n",
    "fig.show()"
   ]
  },
  {
   "cell_type": "code",
   "execution_count": 2,
   "metadata": {},
   "outputs": [],
   "source": [
    "data = nb.load(\"/home/sarvagya-pc/Desktop/segmentation/sub-10_ses-01_acq-lumbarMEGRE3D_desc-crop_T2starw.nii\").get_fdata()"
   ]
  },
  {
   "cell_type": "code",
   "execution_count": 13,
   "metadata": {},
   "outputs": [
    {
     "name": "stdout",
     "output_type": "stream",
     "text": [
      "(120, 120, 3)\n",
      "(120, 120, 3)\n",
      "(120, 120, 3)\n",
      "(120, 120, 3)\n",
      "(120, 120, 3)\n",
      "(120, 120, 3)\n",
      "(120, 120, 3)\n",
      "(120, 120, 3)\n",
      "(120, 120, 3)\n",
      "(120, 120, 3)\n",
      "(120, 120, 3)\n",
      "(120, 120, 3)\n",
      "(120, 120, 3)\n",
      "(120, 120, 3)\n",
      "(120, 120, 3)\n",
      "(120, 120, 3)\n",
      "(120, 120, 3)\n",
      "(120, 120, 3)\n",
      "(120, 120, 3)\n",
      "(120, 120, 3)\n"
     ]
    }
   ],
   "source": [
    "for i in range(data.shape[2]):\n",
    "    img = data[:,:,i]\n",
    "    img = np.rot90(img)\n",
    "    test_image_rgb = skimage.color.gray2rgb(img)\n",
    "    # np.save(\"/home/sarvagya-pc/Desktop/segmentation/imgs\" + f\"/img_{i:03}.npy\", test_image_rgb)\n",
    "    test_image_normalized = (test_image_rgb - np.min(test_image_rgb)) / (np.max(test_image_rgb) - np.min(test_image_rgb))\n",
    "    test_image_png = (test_image_normalized * 255).astype(np.uint8)\n",
    "    test_image_png = Image.fromarray(test_image_png)\n",
    "    \n",
    "    save_path = \"/home/sarvagya-pc/Desktop/segmentation/imgs\" + f\"/img_{i:03}.png\"\n",
    "    test_image_png.save(save_path)\n",
    "    print(test_image_rgb.shape)"
   ]
  },
  {
   "cell_type": "code",
   "execution_count": null,
   "metadata": {},
   "outputs": [],
   "source": []
  }
 ],
 "metadata": {
  "kernelspec": {
   "display_name": "sarvagya_env",
   "language": "python",
   "name": "python3"
  },
  "language_info": {
   "codemirror_mode": {
    "name": "ipython",
    "version": 3
   },
   "file_extension": ".py",
   "mimetype": "text/x-python",
   "name": "python",
   "nbconvert_exporter": "python",
   "pygments_lexer": "ipython3",
   "version": "3.10.15"
  }
 },
 "nbformat": 4,
 "nbformat_minor": 2
}
