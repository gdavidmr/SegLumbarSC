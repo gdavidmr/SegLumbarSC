{
 "cells": [
  {
   "cell_type": "code",
   "execution_count": 2,
   "metadata": {},
   "outputs": [],
   "source": [
    "import torch\n",
    "import torchvision.models as models\n",
    "from torch import nn"
   ]
  },
  {
   "cell_type": "code",
   "execution_count": 4,
   "metadata": {},
   "outputs": [],
   "source": [
    "model = models.resnet50(pretrained=True)\n",
    "\n",
    "# Find indexes of ReLU layers\n",
    "# relu_indexes = [i for i, layer in enumerate(model.modules()) if isinstance(layer, torch.nn.ReLU)]"
   ]
  },
  {
   "cell_type": "code",
   "execution_count": 6,
   "metadata": {},
   "outputs": [],
   "source": [
    "relu_name = []\n",
    "for name, module in model.named_modules():\n",
    "    if \"relu\" in name:\n",
    "        relu_name.append(name)\n",
    "        "
   ]
  },
  {
   "cell_type": "code",
   "execution_count": 7,
   "metadata": {},
   "outputs": [
    {
     "data": {
      "text/plain": [
       "['relu',\n",
       " 'layer1.0.relu',\n",
       " 'layer1.1.relu',\n",
       " 'layer1.2.relu',\n",
       " 'layer2.0.relu',\n",
       " 'layer2.1.relu',\n",
       " 'layer2.2.relu',\n",
       " 'layer2.3.relu',\n",
       " 'layer3.0.relu',\n",
       " 'layer3.1.relu',\n",
       " 'layer3.2.relu',\n",
       " 'layer3.3.relu',\n",
       " 'layer3.4.relu',\n",
       " 'layer3.5.relu',\n",
       " 'layer4.0.relu',\n",
       " 'layer4.1.relu',\n",
       " 'layer4.2.relu']"
      ]
     },
     "execution_count": 7,
     "metadata": {},
     "output_type": "execute_result"
    }
   ],
   "source": [
    "relu_name"
   ]
  },
  {
   "cell_type": "code",
   "execution_count": 8,
   "metadata": {},
   "outputs": [],
   "source": [
    "\n",
    "def truncate_model_to_relu(model, target_relu_name):\n",
    "    new_model = nn.Sequential()\n",
    "    found_target = False\n",
    "\n",
    "    def recursive_add(module, prefix=''):\n",
    "        nonlocal found_target\n",
    "        for name, child in module.named_children():\n",
    "            full_name = f\"{prefix}_{name}\" if prefix else name\n",
    "            if isinstance(child, nn.ReLU) and full_name.replace('_', '.') == target_relu_name:\n",
    "                new_model.add_module(full_name, child)\n",
    "                found_target = True\n",
    "                return\n",
    "            elif isinstance(child, nn.Sequential) or len(list(child.children())) > 0:\n",
    "                new_module = nn.Sequential()\n",
    "                new_model.add_module(full_name, new_module)\n",
    "                recursive_add(child, full_name)\n",
    "                if found_target:\n",
    "                    return\n",
    "            else:\n",
    "                new_model.add_module(full_name, child)\n",
    "            \n",
    "            if found_target:\n",
    "                return\n",
    "\n",
    "    recursive_add(model)\n",
    "    return new_model"
   ]
  },
  {
   "cell_type": "code",
   "execution_count": 13,
   "metadata": {},
   "outputs": [],
   "source": [
    "truncated_model = truncate_model_to_relu(model, relu_name[1])"
   ]
  },
  {
   "cell_type": "code",
   "execution_count": 14,
   "metadata": {},
   "outputs": [
    {
     "data": {
      "text/plain": [
       "Sequential(\n",
       "  (conv1): Conv2d(3, 64, kernel_size=(7, 7), stride=(2, 2), padding=(3, 3), bias=False)\n",
       "  (bn1): BatchNorm2d(64, eps=1e-05, momentum=0.1, affine=True, track_running_stats=True)\n",
       "  (relu): ReLU(inplace=True)\n",
       "  (maxpool): MaxPool2d(kernel_size=3, stride=2, padding=1, dilation=1, ceil_mode=False)\n",
       "  (layer1): Sequential()\n",
       "  (layer1_0): Sequential()\n",
       "  (layer1_0_conv1): Conv2d(64, 64, kernel_size=(1, 1), stride=(1, 1), bias=False)\n",
       "  (layer1_0_bn1): BatchNorm2d(64, eps=1e-05, momentum=0.1, affine=True, track_running_stats=True)\n",
       "  (layer1_0_conv2): Conv2d(64, 64, kernel_size=(3, 3), stride=(1, 1), padding=(1, 1), bias=False)\n",
       "  (layer1_0_bn2): BatchNorm2d(64, eps=1e-05, momentum=0.1, affine=True, track_running_stats=True)\n",
       "  (layer1_0_conv3): Conv2d(64, 256, kernel_size=(1, 1), stride=(1, 1), bias=False)\n",
       "  (layer1_0_bn3): BatchNorm2d(256, eps=1e-05, momentum=0.1, affine=True, track_running_stats=True)\n",
       "  (layer1_0_relu): ReLU(inplace=True)\n",
       ")"
      ]
     },
     "execution_count": 14,
     "metadata": {},
     "output_type": "execute_result"
    }
   ],
   "source": [
    "truncated_model"
   ]
  },
  {
   "cell_type": "code",
   "execution_count": null,
   "metadata": {},
   "outputs": [],
   "source": []
  }
 ],
 "metadata": {
  "kernelspec": {
   "display_name": "sarvagya_env",
   "language": "python",
   "name": "python3"
  },
  "language_info": {
   "codemirror_mode": {
    "name": "ipython",
    "version": 3
   },
   "file_extension": ".py",
   "mimetype": "text/x-python",
   "name": "python",
   "nbconvert_exporter": "python",
   "pygments_lexer": "ipython3",
   "version": "3.12.7"
  }
 },
 "nbformat": 4,
 "nbformat_minor": 2
}
