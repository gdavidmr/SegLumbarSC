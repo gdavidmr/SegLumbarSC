{
 "cells": [
  {
   "cell_type": "code",
   "execution_count": 2,
   "metadata": {},
   "outputs": [],
   "source": [
    "import numpy as np\n",
    "import nibabel as nb\n",
    "import os\n",
    "import glob\n",
    "import pandas as pd\n",
    "import matplotlib.pyplot as plt"
   ]
  },
  {
   "cell_type": "code",
   "execution_count": 4,
   "metadata": {},
   "outputs": [
    {
     "name": "stdout",
     "output_type": "stream",
     "text": [
      "['sub-77', 'sub-78', 'sub-79', 'sub-80', 'sub-81', 'sub-82']\n"
     ]
    }
   ],
   "source": [
    "# folder_subs = \"/media/sarvagya-pc/2TB HDD/Balgrist/GM_mask/01_data/\"\n",
    "folder_subs = \"seg_outputs/sct_deepseg_totalspineseg_output\"\n",
    "subs = sorted(os.listdir(folder_subs))\n",
    "print(subs)\n",
    "# subs.pop(0)\n",
    "# subs.pop(0)"
   ]
  },
  {
   "cell_type": "code",
   "execution_count": 5,
   "metadata": {},
   "outputs": [],
   "source": [
    "# to_remove = ['sub-73', 'sub-74', 'sub-75', 'sub-76', 'sub-77']\n",
    "# for item in to_remove:\n",
    "#     if item in subs:\n",
    "#         subs.remove(item)"
   ]
  },
  {
   "cell_type": "code",
   "execution_count": 8,
   "metadata": {},
   "outputs": [
    {
     "name": "stdout",
     "output_type": "stream",
     "text": [
      "6\n"
     ]
    }
   ],
   "source": [
    "count=0\n",
    "for sub in subs:\n",
    "    sessions = sorted([ses for ses in os.listdir(folder_subs+'/'+sub) if \"ses-01\" in ses])\n",
    "    for ses in sessions:\n",
    "        count+=1\n",
    "print(count)"
   ]
  },
  {
   "cell_type": "code",
   "execution_count": 18,
   "metadata": {},
   "outputs": [
    {
     "name": "stdout",
     "output_type": "stream",
     "text": [
      "['/home/sarvagya-pc/Desktop/Balgrist_neuroimg/seg_outputs/sct_deepseg_totalspineseg_output_0.25/sub-77/ses-01/sub-77_ses-01_acq-lumbarMEGRE3D_desc-crop_seg-SctDeepSegTotalSeg_label-SC_mask_step1_cord.nii']\n",
      "['/home/sarvagya-pc/Desktop/Balgrist_neuroimg/seg_outputs/sct_deepseg_totalspineseg_output_0.25/sub-78/ses-01/sub-78_ses-01_acq-lumbarMEGRE3D_desc-crop_seg-SctDeepSegTotalSeg_label-SC_mask_step1_cord.nii']\n",
      "['/home/sarvagya-pc/Desktop/Balgrist_neuroimg/seg_outputs/sct_deepseg_totalspineseg_output_0.25/sub-79/ses-01/sub-79_ses-01_acq-lumbarMEGRE3D_desc-crop_seg-SctDeepSegTotalSeg_label-SC_mask_step1_cord.nii']\n",
      "['/home/sarvagya-pc/Desktop/Balgrist_neuroimg/seg_outputs/sct_deepseg_totalspineseg_output_0.25/sub-80/ses-01/sub-80_ses-01_acq-lumbarMEGRE3D_desc-crop_seg-SctDeepSegTotalSeg_label-SC_mask_step1_cord.nii']\n",
      "['/home/sarvagya-pc/Desktop/Balgrist_neuroimg/seg_outputs/sct_deepseg_totalspineseg_output_0.25/sub-81/ses-01/sub-81_ses-01_acq-lumbarMEGRE3D_desc-crop_seg-SctDeepSegTotalSeg_label-SC_mask_step1_cord.nii']\n",
      "['/home/sarvagya-pc/Desktop/Balgrist_neuroimg/seg_outputs/sct_deepseg_totalspineseg_output_0.25/sub-82/ses-01/sub-82_ses-01_acq-lumbarMEGRE3D_desc-crop_seg-SctDeepSegTotalSeg_label-SC_mask_step1_cord.nii']\n",
      "['seg_outputs/sct_deepseg_totalspineseg_output/sub-77/ses-01/sub-77_ses-01_acq-lumbarMEGRE3D_desc-crop_seg-SctDeepSegTotalSeg_label-SC_mask_step1_cord.nii']\n",
      "['seg_outputs/sct_deepseg_totalspineseg_output/sub-78/ses-01/sub-78_ses-01_acq-lumbarMEGRE3D_desc-crop_seg-SctDeepSegTotalSeg_label-SC_mask_step1_cord.nii']\n",
      "['seg_outputs/sct_deepseg_totalspineseg_output/sub-79/ses-01/sub-79_ses-01_acq-lumbarMEGRE3D_desc-crop_seg-SctDeepSegTotalSeg_label-SC_mask_step1_cord.nii']\n",
      "['seg_outputs/sct_deepseg_totalspineseg_output/sub-80/ses-01/sub-80_ses-01_acq-lumbarMEGRE3D_desc-crop_seg-SctDeepSegTotalSeg_label-SC_mask_step1_cord.nii']\n",
      "['seg_outputs/sct_deepseg_totalspineseg_output/sub-81/ses-01/sub-81_ses-01_acq-lumbarMEGRE3D_desc-crop_seg-SctDeepSegTotalSeg_label-SC_mask_step1_cord.nii']\n",
      "['seg_outputs/sct_deepseg_totalspineseg_output/sub-82/ses-01/sub-82_ses-01_acq-lumbarMEGRE3D_desc-crop_seg-SctDeepSegTotalSeg_label-SC_mask_step1_cord.nii']\n"
     ]
    }
   ],
   "source": [
    "mat_totalspineseg_area_0_25 = np.zeros((count,20))\n",
    "mat_totalspineseg_area_0_5 = np.zeros((count,20))\n",
    "mat_totalspineseg_area_0_75 = np.zeros((count,20))\n",
    "sub_count = 0\n",
    "for sub in subs:\n",
    "    sessions = sorted([ses for ses in os.listdir(folder_subs+'/'+sub) if \"ses-01\" in ses])\n",
    "    for ses in sessions:\n",
    "        # file_deepseg = glob.glob(\"/home/neuroimaging/Desktop/Sarvagya_work/GM_mask/\"+sub+\"/\"+ses+\"/anat/seg_outputs/sct_deepseg/*.nii\")\n",
    "        # deep_seg = nb.load(file_deepseg[0])\n",
    "        file_totalspineseg_0_25 = glob.glob(\"/home/sarvagya-pc/Desktop/Balgrist_neuroimg/seg_outputs/sct_deepseg_totalspineseg_output_0.25/\"+sub+\"/\"+ses+\"/*step1_cord.nii\")\n",
    "        print(file_totalspineseg_0_25)\n",
    "        totalspineseg_0_25 = nb.load(file_totalspineseg_0_25[0])\n",
    "        file_ground_truth = glob.glob(\"/media/sarvagya-pc/2TB HDD/Balgrist/GM_mask/for_test/\"+sub+\"/\"+ses+\"/anat/*desc-crop_seg-manual_label-SC_mask.nii\")\n",
    "        ground_truth = nb.load(file_ground_truth[0])\n",
    "        for i in range(20):\n",
    "            # area_deep_seg = 0.25*np.sum(np.ndarray.flatten(deep_seg.get_fdata()[:,:,i]))\n",
    "            # mat_deep_seg_area[sub_count,i] = area_deep_seg\n",
    "            area_totalspineseg_0_25 = 0.25*np.sum(np.ndarray.flatten(totalspineseg_0_25.get_fdata()[:,:,i]))\n",
    "            mat_totalspineseg_area_0_25[sub_count, i] = area_totalspineseg_0_25\n",
    "        sub_count+=1\n",
    "\n",
    "sub_count = 0\n",
    "for sub in subs:\n",
    "    sessions = sorted([ses for ses in os.listdir(folder_subs+'/'+sub) if \"ses-01\" in ses])\n",
    "    for ses in sessions:\n",
    "        file_totalspineseg_0_5 = glob.glob(folder_subs+'/'+sub+\"/\"+ses+\"/*step1_cord.nii\")\n",
    "        print(file_totalspineseg_0_5)\n",
    "        totalspineseg_0_5 = nb.load(file_totalspineseg_0_5[0])\n",
    "        # file_ground_truth = glob.glob(folder_subs+sub+\"/\"+ses+\"/anat/*desc-crop_seg-manual_label-SC_mask.nii\")\n",
    "        file_ground_truth = glob.glob(\"/media/sarvagya-pc/2TB HDD/Balgrist/GM_mask/for_test/\"+sub+\"/\"+ses+\"/anat/*desc-crop_seg-manual_label-SC_mask.nii\")\n",
    "        ground_truth = nb.load(file_ground_truth[0])\n",
    "        for i in range(20):\n",
    "            area_totalspineseg_0_5 = 0.25*np.sum(np.ndarray.flatten(totalspineseg_0_5.get_fdata()[:,:,i]))\n",
    "            mat_totalspineseg_area_0_5[sub_count, i] = area_totalspineseg_0_5\n",
    "        sub_count+=1\n",
    "\n",
    "sub_count = 0\n",
    "for sub in subs:\n",
    "    sessions = sorted([ses for ses in os.listdir(folder_subs+'/'+sub) if \"ses-01\" in ses])\n",
    "    for ses in sessions:\n",
    "        file_totalspineseg_0_75 = glob.glob(\"seg_outputs/sct_deepseg_totalspineseg_output_0.75/\"+sub+\"/\"+ses+\"/*step1_cord.nii\")\n",
    "        totalspineseg_0_75 = nb.load(file_totalspineseg_0_75[0])\n",
    "        # file_ground_truth = glob.glob(folder_subs+sub+\"/\"+ses+\"/anat/*desc-crop_seg-manual_label-SC_mask.nii\")\n",
    "        file_ground_truth = glob.glob(\"/media/sarvagya-pc/2TB HDD/Balgrist/GM_mask/for_test/\"+sub+\"/\"+ses+\"/anat/*desc-crop_seg-manual_label-SC_mask.nii\")\n",
    "        ground_truth = nb.load(file_ground_truth[0])\n",
    "        for i in range(20):\n",
    "            area_totalspineseg_0_75 = 0.25*np.sum(np.ndarray.flatten(totalspineseg_0_75.get_fdata()[:,:,i]))\n",
    "            mat_totalspineseg_area_0_75[sub_count, i] = area_totalspineseg_0_75\n",
    "        sub_count+=1"
   ]
  },
  {
   "cell_type": "code",
   "execution_count": 19,
   "metadata": {},
   "outputs": [],
   "source": [
    "df = pd.DataFrame(mat_totalspineseg_area_0_25)\n",
    "df.to_csv(\"area_totalspineseg_0_25.csv\", header=False, index=False)\n",
    "\n",
    "df = pd.DataFrame(mat_totalspineseg_area_0_5)\n",
    "df.to_csv(\"area_totalspineseg_0_5.csv\", header=False, index=False)\n",
    "\n",
    "df = pd.DataFrame(mat_totalspineseg_area_0_75)\n",
    "df.to_csv(\"area_totalspineseg_0_75.csv\", header=False, index=False)"
   ]
  },
  {
   "cell_type": "code",
   "execution_count": 9,
   "metadata": {},
   "outputs": [
    {
     "data": {
      "text/plain": [
       "array([[ 0.        ,  0.        ,  0.        , ..., 62.        ,\n",
       "        50.25      , 54.5       ],\n",
       "       [ 0.        ,  0.        ,  0.        , ..., 57.60131489,\n",
       "        57.10043389, 53.3438264 ],\n",
       "       [ 0.        ,  0.        ,  0.        , ..., 53.75      ,\n",
       "        53.25      , 58.        ],\n",
       "       ...,\n",
       "       [ 0.        ,  0.        ,  0.        , ..., 38.75      ,\n",
       "        34.25      , 31.5       ],\n",
       "       [ 0.        ,  0.        ,  0.        , ..., 55.        ,\n",
       "        51.75      , 49.5       ],\n",
       "       [ 0.        ,  0.        ,  0.        , ..., 44.25      ,\n",
       "        41.75      , 38.75      ]])"
      ]
     },
     "execution_count": 9,
     "metadata": {},
     "output_type": "execute_result"
    }
   ],
   "source": [
    "mat_ground_truth_area"
   ]
  },
  {
   "cell_type": "code",
   "execution_count": null,
   "metadata": {},
   "outputs": [],
   "source": []
  }
 ],
 "metadata": {
  "kernelspec": {
   "display_name": "sarvagya_env",
   "language": "python",
   "name": "python3"
  },
  "language_info": {
   "codemirror_mode": {
    "name": "ipython",
    "version": 3
   },
   "file_extension": ".py",
   "mimetype": "text/x-python",
   "name": "python",
   "nbconvert_exporter": "python",
   "pygments_lexer": "ipython3",
   "version": "3.10.15"
  }
 },
 "nbformat": 4,
 "nbformat_minor": 2
}
